{
  "nbformat": 4,
  "nbformat_minor": 0,
  "metadata": {
    "kernelspec": {
      "display_name": "Python 3",
      "language": "python",
      "name": "python3"
    },
    "language_info": {
      "codemirror_mode": {
        "name": "ipython",
        "version": 3
      },
      "file_extension": ".py",
      "mimetype": "text/x-python",
      "name": "python",
      "nbconvert_exporter": "python",
      "pygments_lexer": "ipython3",
      "version": "3.6.5"
    },
    "colab": {
      "name": "اولین.برنامه.شما.ipynb",
      "provenance": [],
      "include_colab_link": true
    }
  },
  "cells": [
    {
      "cell_type": "markdown",
      "metadata": {
        "id": "view-in-github",
        "colab_type": "text"
      },
      "source": [
        "<a href=\"https://colab.research.google.com/github/nsrmhjl/ptDtSc/blob/main/%D8%A7%D9%88%D9%84%DB%8C%D9%86_%D8%A8%D8%B1%D9%86%D8%A7%D9%85%D9%87_%D8%B4%D9%85%D8%A7.ipynb\" target=\"_parent\"><img src=\"https://colab.research.google.com/assets/colab-badge.svg\" alt=\"Open In Colab\"/></a>"
      ]
    },
    {
      "cell_type": "markdown",
      "metadata": {
        "id": "49fUFF6DKA1p"
      },
      "source": [
        "<h2 align=center>سلام دنیا</h3>"
      ]
    },
    {
      "cell_type": "markdown",
      "metadata": {
        "id": "j4nwwMXIKA1q"
      },
      "source": [
        "<p align=right>نوع مقدار آمده در سلول زیر را تعیین کنید:ـ <p/>"
      ]
    },
    {
      "cell_type": "code",
      "metadata": {
        "id": "djhPJ8AtKA1q"
      },
      "source": [
        "\"Hello World\""
      ],
      "execution_count": null,
      "outputs": []
    },
    {
      "cell_type": "markdown",
      "metadata": {
        "id": "D9s8qj30KA1t"
      },
      "source": [
        "<h2 align=center>تغییر نوع </h3> "
      ]
    },
    {
      "cell_type": "markdown",
      "metadata": {
        "id": "i17So9CTKA1u"
      },
      "source": [
        "<p align=right>نوع مقدار آمده در سلول زیر را به کمک دستور</p> \n",
        "\n",
        "<code>type</code> \n",
        "\n",
        "<p align=rigth>تعیین کنید<p/>"
      ]
    },
    {
      "cell_type": "code",
      "metadata": {
        "id": "DkKl3nNcKA1u"
      },
      "source": [
        "\"1.1\""
      ],
      "execution_count": null,
      "outputs": []
    },
    {
      "cell_type": "markdown",
      "metadata": {
        "id": "orV94_LIKA1w"
      },
      "source": [
        "<h2 align=center>آیا یک عدد همیشه عدد باقی می ماند \n",
        "</h2> "
      ]
    },
    {
      "cell_type": "markdown",
      "metadata": {
        "id": "T5i-azoWKA1w"
      },
      "source": [
        "<p align = right>مقدار زیر را به یک \n",
        "\n",
        "<code>int</code> \n",
        "\n",
        "<p align = right>وبعد به \n",
        "\n",
        "<code>bool</code>\n",
        "\n",
        "<p align= right> تبدیل کنید"
      ]
    },
    {
      "cell_type": "code",
      "metadata": {
        "id": "VrdxrU9aKA1x"
      },
      "source": [
        "\"1\""
      ],
      "execution_count": null,
      "outputs": []
    }
  ]
}