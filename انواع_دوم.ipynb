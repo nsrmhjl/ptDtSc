{
  "nbformat": 4,
  "nbformat_minor": 0,
  "metadata": {
    "kernelspec": {
      "display_name": "Python 3",
      "language": "python",
      "name": "python3"
    },
    "language_info": {
      "codemirror_mode": {
        "name": "ipython",
        "version": 3
      },
      "file_extension": ".py",
      "mimetype": "text/x-python",
      "name": "python",
      "nbconvert_exporter": "python",
      "pygments_lexer": "ipython3",
      "version": "3.6.8"
    },
    "colab": {
      "name": "انواع.دوم.ipynb",
      "provenance": [],
      "collapsed_sections": [],
      "include_colab_link": true
    }
  },
  "cells": [
    {
      "cell_type": "markdown",
      "metadata": {
        "id": "view-in-github",
        "colab_type": "text"
      },
      "source": [
        "<a href=\"https://colab.research.google.com/github/nsrmhjl/ptDtSc/blob/main/%D8%A7%D9%86%D9%88%D8%A7%D8%B9_%D8%AF%D9%88%D9%85.ipynb\" target=\"_parent\"><img src=\"https://colab.research.google.com/assets/colab-badge.svg\" alt=\"Open In Colab\"/></a>"
      ]
    },
    {
      "cell_type": "markdown",
      "metadata": {
        "id": "sgDru3Qj7049"
      },
      "source": [
        "#<h1 align= right><font color='blue'>پایتون - نوشتن اولین کد پایتون</font></h1>"
      ]
    },
    {
      "cell_type": "markdown",
      "metadata": {
        "id": "mzrYAiNb7049"
      },
      "source": [
        "<p align = right><strong>خوش آمدید!ـ</strong>این دفتر یادداشت به شما پایه های زبان برنامه نویسی پایتون را می آموزد گرچه اطلاعاتی که در اینجا ارائه شده بسیار ابتدایی است ، همزمان پایه ای مهم برای خواندن و نوشتن کد پایتون به شما می دهد. در پایان این دفتر یادداشت شما پایه های پایتون را می آموزید و این شامل نوشتن دستورات پایه ای ، درک بعضی از انواع و همچنین نحوه انجام عملیات بر روی آنها می شود.ـ</p> "
      ]
    },
    {
      "cell_type": "markdown",
      "metadata": {
        "id": "dROgHQpq704-"
      },
      "source": [
        "##<h2 align=right><font color='blue'>به دنیا در زبان پایتون سلام کنید</font></h2>"
      ]
    },
    {
      "cell_type": "markdown",
      "metadata": {
        "id": "KRHqX95S704_"
      },
      "source": [
        "<p align=right>مرسوم است که به هنگام آموختن یک زبان برنامه نویسی جدید از عبارت سلام دنیا به عنوان مثال استفاده شود. با وجود سادگی ، این کد تک خطی اطمینان می دهد که ما می دانیم چگونه یک رشته را در خروجی چاپ کنیم و نیز یک فرمان را در درون یک سلول دفتر یادداشت اجرا نماییم <p/>"
      ]
    },
    {
      "cell_type": "markdown",
      "metadata": {
        "id": "kVg2LiEF704_"
      },
      "source": [
        "<hr>\n",
        "<p align=right>\n",
        "<strong>نکته!ـ</strong> برای اجرای کد پایتون در سلول زیر ، آن سلول را انتخاب کرده و سپس دکمه های \n",
        " \n",
        " <kbd>Shift</kbd> + <kbd>Enter</kbd>.\n",
        "\n",
        "<p align=right>\n",
        "را فشار دهید\n",
        "</p>\n",
        "<hr/>\n"
      ]
    },
    {
      "cell_type": "code",
      "metadata": {
        "id": "Jo1T7IgX704_"
      },
      "source": [
        "# اولین خروجی پایتون را امتحان کنید\n",
        "\n",
        "print('Hello, Python!')"
      ],
      "execution_count": null,
      "outputs": []
    },
    {
      "cell_type": "markdown",
      "metadata": {
        "id": "qmdAyUaY705D"
      },
      "source": [
        "<p align=right> بعد از اجرای سلول بالایی باید ببینید که پایتون \n",
        "\n",
        "<code>Hello, Python!</code>\n",
        "\n",
        "<p align=right> را پرینت می کند. تبریک به خاطر اجرای اولین کد شما در پایتون!ـ"
      ]
    },
    {
      "cell_type": "markdown",
      "metadata": {
        "id": "cImF5Z0Y705D"
      },
      "source": [
        "<hr/>\n",
        " <p align = right><strong>نکته!ـ</strong>\n",
        "\n",
        " <code>print()</code>\n",
        "\n",
        "<p align = right> یک تابع است. شما رشته \n",
        "\n",
        "<code>'Hello, Python!'</code>\n",
        "\n",
        "<p align = right> را به عنوان یک برهان به آن می دهید تا پایتون را هدایت کنید \n",
        "که چه چیزی را چاپ کند.ـ\n",
        "<hr/>"
      ]
    },
    {
      "cell_type": "markdown",
      "metadata": {
        "id": "CtZK6JQE705D"
      },
      "source": [
        "###<h3 align=right><font color='blue'> ما از چه ورژنی از پایتون استفاده می کنیم؟ </font></h3>"
      ]
    },
    {
      "cell_type": "markdown",
      "metadata": {
        "id": "43Fp753e705E"
      },
      "source": [
        "<p align = right>\n",
        "دو ورژن متداول از پایتون در حال استفاده هستند: پایتون ۲ و پایتون ۳ . انجمن پایتون تصمیم گرفته است که از پایتون ۲ به سمت پایتون ۳ حرکت نماید و بسیاری از کتابخانه های متداول پایتون اعلام کرده اند که دیگر از پایتون ۲ پشتیبانی نخواهند کرد.ـ</p>\n",
        "<p align = right> از آنجا که که آینده متعلق به پایتون ۳ است، در این دوره ما تنها از این ورژن استفاده خواهیم کرد. چگونه بفهمیم که کدام ورژن از پایتون در حال اجراست ؟ می توانیم مستقیما از پایتون سوال کنیم. با اجرا کردن دستور زیر:ـ\n"
      ]
    },
    {
      "cell_type": "code",
      "metadata": {
        "id": "rSyRIFZa705E"
      },
      "source": [
        "# Check the Python Version\n",
        "\n",
        "import sys\n",
        "print(sys.version)"
      ],
      "execution_count": null,
      "outputs": []
    },
    {
      "cell_type": "markdown",
      "metadata": {
        "id": "DzLFgcEb705G"
      },
      "source": [
        "<p align = right> <strong>نکته!ـ</strong> \n",
        "\n",
        "<code>sys</code>\n",
        "\n",
        "<p align = right>یک قسمت درونی در پایتون است که حاوی متغییر ها و عملیات های مختص سیستم از جمله ورژن پایتون مورد استفاده می باشد. قبل از آنکه از آن استفاده کنیم باید آن را \n",
        "\n",
        "<code>import</code>\n",
        "\n",
        "<p align = right> نماییم\n",
        "<hr/>"
      ]
    },
    {
      "cell_type": "markdown",
      "metadata": {
        "id": "7uDn9BRL705G"
      },
      "source": [
        "###<h3 align=right><font color='blue'>نوشتن یادداشت در پایتون</font></h3>"
      ]
    },
    {
      "cell_type": "markdown",
      "metadata": {
        "id": "umc7b84b705H"
      },
      "source": [
        "\n",
        "<p align=right>علاوه بر نوشتن کد، به یاد داشته باشید که این همیشه ایده خوبی است که بر روی کد خود یادداشت بگذارید. این به دیگران کمک می کند که در یابند شما قصد انجام چه کاری را داشته اید (دلیل اینکه شما یک قسمت خاص کد را نوشته اید چه بوده است) نه تنها این به <strong>دیگران</strong> کمک می کند که کد شما را درک کنند، همچنین می تواند به عنوان یک یادآور برای شما هنگامی که هفته ها یا ماه ها بعد به آن باز می گردید عمل نماید.ـ\n",
        "\n",
        "<p align=right>برای آنکه در پایتون بر روی کد یادداشت بگذارید، از علامت عدد \n",
        "\n",
        "<code>#</code>\n",
        "\n",
        "<p align=right>پیش از یادداشت خود استفاده نمایید. وقتی شما کد را اجرا می نمایید، پایتون هر آن چیزی را که پس از علامت نوشته شده است را نادیده می گیرد"
      ]
    },
    {
      "cell_type": "code",
      "metadata": {
        "id": "i5w5ZpvM705H"
      },
      "source": [
        "# Practice on writing comments\n",
        "\n",
        "print('Hello, Python!') # This line prints a string\n",
        "# print('Hi')"
      ],
      "execution_count": null,
      "outputs": []
    },
    {
      "cell_type": "markdown",
      "metadata": {
        "id": "ZXx3NxER705J"
      },
      "source": [
        "<p align = right> بعد از اجرای سلول بالا شماا در می یابید که <p>\n",
        "<code>This line prints a string</code>\n",
        "<p align = right> در خروجی نمایش داده نشده است، اینبه آن دلیل است که این عبارت یک یادداشت است و به همین دلیل در پایتون نادیده گرفته می شود </p>\n",
        "\n",
        "<p align = right> خط دوم نیز اجرا نمی شود زیرا به صورت یادداشت در آمده است. از آنجا که این خط از یک توضیح نبوده و در واقع کد است، در اینجا اصطلاحا می گوییم که برنامه نویس خط دوم کد را به صورت یادداشت خارج نموده یا </p>\n",
        "<em>commented out</em> \n",
        "<p align = right> در آورده است</p>\n"
      ]
    },
    {
      "cell_type": "markdown",
      "metadata": {
        "id": "Adguqobw705K"
      },
      "source": [
        "###<h3 align = right><font color='blue'>پیغام خطا در پایتون</font></h3>"
      ]
    },
    {
      "cell_type": "markdown",
      "metadata": {
        "id": "aZrZvW-A705K"
      },
      "source": [
        "<p align = right>هر کسی اشتباه می کند. برای انواع بسیار زیادی از اشتباهات، پایتون به شما با نمایش یک پیغام خطا اطلاع می دهد که اشتباه کرده اید. این مهم است که پیغام خطا را به دقت بخوانید تا بدانید کجا اشتباه کرده اید و چگونه آن را اصلاح نمایید.ـ</p>\n",
        "\n",
        "<p align = right> به عنوان مثال اگر شما </p>\n",
        "<code> print</code>\n",
        "<p align = right> را</p>\n",
        "<code> frint</code>\n",
        "<p align = right> تایپ کنید، پایتون به شما یک پیغام خطا نشان می دهد. امتحان کنید:ـ</p>"
      ]
    },
    {
      "cell_type": "code",
      "metadata": {
        "id": "w_GKs5Rv705K"
      },
      "source": [
        "# Print string as error message\n",
        "\n",
        "frint(\"Hello, Python!\")"
      ],
      "execution_count": null,
      "outputs": []
    },
    {
      "cell_type": "markdown",
      "metadata": {
        "id": "o_KXTV9L705O"
      },
      "source": [
        "<p align = right> پیغام خطا به شما می گوید:ـ</p>\n",
        "<ol>\n",
        "<li align = right> خطا در کجا رخ داده که در سلول های بزرگ کاربردی تر است.ـ</li>\n",
        "<li align = right> چه نوع خطایی است </li>\n",
        "</ol>\n",
        "<p align = right> در اینجا پایتون سعی می کند که کد را اجرا نماید. اما نمی تواند آن را پیدا کند چون یک تابع در درون پایتون نبوده و همچنین قبلا توسط ما تعریف نشده است. </p>"
      ]
    },
    {
      "cell_type": "markdown",
      "metadata": {
        "id": "F6Y9Dbib705O"
      },
      "source": [
        "\n",
        "<p align = right>شما در می یابید که اگر اشتباه متفاوتی مرتکب شوید، مثلا فراموش کنید که رشته را ببندید، پیغام خطای متفاوتی دریافت می کنید یعنی </p>\n",
        "<code>SyntaxError</code>\n",
        "<p align = right>امتحان کنید</p>"
      ]
    },
    {
      "cell_type": "code",
      "metadata": {
        "id": "Vh-EPlkr705O"
      },
      "source": [
        "# Try to see build in error message\n",
        "\n",
        "print(\"Hello, Python!)"
      ],
      "execution_count": null,
      "outputs": []
    },
    {
      "cell_type": "markdown",
      "metadata": {
        "id": "3TrPCRUe705S"
      },
      "source": [
        "###<h3 align =right><font color = 'blue'>آیا پایتون راجع به اشتباه شما پیش از آنکه کد را اجراع کند می داند؟</font></h3>"
      ]
    },
    {
      "cell_type": "markdown",
      "metadata": {
        "id": "4xcRIJ3S705S"
      },
      "source": [
        "\n",
        "<p align = right> پایتون جزو زبان هایی است که اصطلاحا آنها را </p>\n",
        "<em>interpreted languages</em>\n",
        "<p align = right> می نامند</p>\n",
        "<p align = right> دسته دیگر زبان های برنامه نویسی یعنی </p>\n",
        "<em>compiled languages</em>\n",
        "<p align = right>تمام برنامه شما را در هنگام گرد آوری یا </p><em>cmpile</em><p align = right> بازبینی می کنند و می توانند به شما در باره بسیاری از خطا ها در کد، پیش از اجرای برنامه هشدار دهند. در مقابل پایتون کد شما را در هنگام اجرا باز بینی می کند. پایتون اجرای کل برنامه را در هنگام شناسایی یک خطا متوقف می کند مگر آنکه این خطا توسط برنامه نویس پیشبینی و مدیریت شده باشد.ـ</p>"
      ]
    },
    {
      "cell_type": "markdown",
      "metadata": {
        "id": "0JRFqzsB705T"
      },
      "source": [
        "<p align = right> سعی کنید کد زیر را اجرا نمایید تا ببینید چه اتفاقی می افتد</p>"
      ]
    },
    {
      "cell_type": "code",
      "metadata": {
        "id": "b44VbyPt705T"
      },
      "source": [
        "# Print string and error to see the running order\n",
        "\n",
        "print(\"This will be printed\")\n",
        "frint(\"This will cause an error\")\n",
        "print(\"This will NOT be printed\")"
      ],
      "execution_count": null,
      "outputs": []
    },
    {
      "cell_type": "markdown",
      "metadata": {
        "id": "c7NEgz0t705V"
      },
      "source": [
        "<h3 align = right>تمرین: اولین برنامه شما</h3>"
      ]
    },
    {
      "cell_type": "markdown",
      "metadata": {
        "id": "fOhLKovZ705V"
      },
      "source": [
        "<p align = right> نسل های زیادی از برنامه نویسان شغل برنامه نویسی خود را با تایپ </p><p>\"Hello, world!\"</p><p align = right> آغاز نموده اند. در سلول زیر از تابع </p><code>print()</code><p align = right> استفاده کنید تا این عبارت را چاپ نمایید.ـ "
      ]
    },
    {
      "cell_type": "code",
      "metadata": {
        "id": "4mHEHKPl705V"
      },
      "source": [
        "# Write your code below and press Shift+Enter to execute \n"
      ],
      "execution_count": null,
      "outputs": []
    },
    {
      "cell_type": "markdown",
      "metadata": {
        "id": "7hx5wxuh705Y"
      },
      "source": [
        "\n",
        "<p align = right>  کلیک کنید تا پاسخ را ببینید</p><p align = right>__اینجا__</p>\n",
        "<!-- \n",
        "\n",
        "print(\"Hello, world!\")\n",
        "\n",
        "-->\n"
      ]
    },
    {
      "cell_type": "markdown",
      "metadata": {
        "id": "YoPLNeBS705Y"
      },
      "source": [
        "<p align = right> حالا بیاید کد شما را با یاد داشتی ارتقا دهیم. در سلول زیر عبارت </p><code>Hello, world!</code><p align = right> را پرینت نمایید و آن را با عبارت </p><code>Print the traditional hello world</code><p align=right> یادداشت گذاری نمایید. همه این کارها را در یک خط کد انجام دهید.ـ"
      ]
    },
    {
      "cell_type": "code",
      "metadata": {
        "id": "crisODlJ705Z"
      },
      "source": [
        "# Write your code below and press Shift+Enter to execute \n",
        " "
      ],
      "execution_count": null,
      "outputs": []
    },
    {
      "cell_type": "markdown",
      "metadata": {
        "id": "65SW6leD705b"
      },
      "source": [
        "<p align = right>  کلیک کنید تا پاسخ را ببینید</p><p align = right>__اینجا__</p>\n",
        "<!-- Your answer is below:\n",
        "\n",
        "print(\"Hello, world!\") # Print the traditional hello world\n",
        "\n",
        "-->\n"
      ]
    },
    {
      "cell_type": "markdown",
      "metadata": {
        "id": "y0ze4hGK705b"
      },
      "source": [
        "<hr>"
      ]
    },
    {
      "cell_type": "markdown",
      "metadata": {
        "id": "PCjkkFTN705b"
      },
      "source": [
        "##<h2 align=\"right\"><font color = 'blue'>انواع اشیا در پایتون</font></h2>"
      ]
    },
    {
      "cell_type": "markdown",
      "metadata": {
        "id": "qcYiTy83705c"
      },
      "source": [
        "<p align = right>پایتون یک زبان برنامه نویسی شیئ گرا است. در پایتون انواع زیادی از اشیا وجود دارند. بییید از انواع متداول شروع کنیم: <i>رشته کلمات</i>, <i>اعداد تام</i> و <i>اعداد حقیقی</i><p align = right> هر موقع شما در پایتون متن می نگارید از <i>رشته کلمات</i> استفاده می کنید.ـ<p align = right>مهمترین انواع اعداد در آن سو <i>اعداد تام</i> یا </p><p>integers</p><p align = right>مانند ۱- ، ۰ ، ۱۰۰ و<i> اعداد حقیقی </i> یا </p><p>floats</p><p align = right> مانند ۳/۱۴ ، ۴۲/۰- هستند.ـ"
      ]
    },
    {
      "cell_type": "markdown",
      "metadata": {
        "id": "R-1F8-bQ705c"
      },
      "source": [
        "![TypesObjects.png](data:image/png;base64,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)"
      ]
    },
    {
      "cell_type": "markdown",
      "metadata": {
        "id": "FX3QSYUs705c"
      },
      "source": [
        "<p align = right>سلول های زیر حاوی چند مثال هستند</p>"
      ]
    },
    {
      "cell_type": "code",
      "metadata": {
        "id": "v8Ca9fkQ705d"
      },
      "source": [
        "# Integer\n",
        "\n",
        "11"
      ],
      "execution_count": null,
      "outputs": []
    },
    {
      "cell_type": "code",
      "metadata": {
        "id": "v6y8SGuI705e"
      },
      "source": [
        "# Float\n",
        "\n",
        "2.14"
      ],
      "execution_count": null,
      "outputs": []
    },
    {
      "cell_type": "code",
      "metadata": {
        "id": "1DFKPUBS705g"
      },
      "source": [
        "# String\n",
        "\n",
        "\"Hello, Python 101!\""
      ],
      "execution_count": null,
      "outputs": []
    },
    {
      "cell_type": "markdown",
      "metadata": {
        "id": "4z8rsoZb705i"
      },
      "source": [
        "<p align = right> شما می توانید پایتون را وادارید تا نوع عبارت را با استفاده از تابع </p><code>type()</code><p align =right>به شما اطلاع دهد. شما در خواهید یافت که پایتون اعداد تام را با</p><code>int</code><p align = right>اعداد حقیقی را با </p><code>float</code><p align = right> و رشته کلمات را با </p><code>str</code><p align = right>نشان می دهد</p>"
      ]
    },
    {
      "cell_type": "code",
      "metadata": {
        "id": "gm1NqRsb705i"
      },
      "source": [
        "# Type of 12\n",
        "\n",
        "type(12)"
      ],
      "execution_count": null,
      "outputs": []
    },
    {
      "cell_type": "code",
      "metadata": {
        "id": "pMwxlVrz705k"
      },
      "source": [
        "# Type of 2.14\n",
        "\n",
        "type(2.14)"
      ],
      "execution_count": null,
      "outputs": []
    },
    {
      "cell_type": "code",
      "metadata": {
        "id": "-LL_8MY3705l"
      },
      "source": [
        "# Type of \"Hello, Python 101!\"\n",
        "\n",
        "type(\"Hello, Python 101!\")"
      ],
      "execution_count": null,
      "outputs": []
    },
    {
      "cell_type": "markdown",
      "metadata": {
        "id": "sQsMj03J705n"
      },
      "source": [
        "<p align = right> در سلول زیر از تابع</p><code>type()</code><p align = right>استفاده کنید تا نوع شیئ در مورد </p><code>12.0</code><p align = right>را دریابید</p>"
      ]
    },
    {
      "cell_type": "code",
      "metadata": {
        "id": "vmJf7H_t705n"
      },
      "source": [
        "# Write your code below. Don't forget to press Shift+Enter to execute the cell\n"
      ],
      "execution_count": null,
      "outputs": []
    },
    {
      "cell_type": "markdown",
      "metadata": {
        "id": "Fp6bcYQT705p"
      },
      "source": [
        "<p align = right>  کلیک کنید تا پاسخ را ببینید</p><p align = right>__اینجا__</p>\n",
        "\n",
        "<!-- Your answer is below:\n",
        "\n",
        "type(12.0)\n",
        "\n",
        "-->"
      ]
    },
    {
      "cell_type": "markdown",
      "metadata": {
        "id": "KybfuJJ4705q"
      },
      "source": [
        "###<h3 align = right><font color='blue'>اعداد تام</h3>"
      ]
    },
    {
      "cell_type": "markdown",
      "metadata": {
        "id": "VBCow88g705q"
      },
      "source": [
        "<p align = right> اینجا مثال هایی از اعداد تام را می بیند. اعداد تام می توانند علامت مثبت یا منفی داشته باشند.ـ</p>"
      ]
    },
    {
      "cell_type": "markdown",
      "metadata": {
        "id": "j91Yo6Z5705r"
      },
      "source": [
        "![TypesInt.png](data:image/png;base64,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)"
      ]
    },
    {
      "cell_type": "markdown",
      "metadata": {
        "id": "C7eB2W-B705r"
      },
      "source": [
        "<p align = right> ما می توانیم این اصل را با استفاده از تابع</p><code>type()</code><p align = right>بیازماییم"
      ]
    },
    {
      "cell_type": "code",
      "metadata": {
        "id": "7xkVYjdL705r"
      },
      "source": [
        "# Print the type of -1\n",
        "\n",
        "type(-1)"
      ],
      "execution_count": null,
      "outputs": []
    },
    {
      "cell_type": "code",
      "metadata": {
        "id": "gUhZAJ7l705u"
      },
      "source": [
        "# Print the type of 4\n",
        "\n",
        "type(4)"
      ],
      "execution_count": null,
      "outputs": []
    },
    {
      "cell_type": "code",
      "metadata": {
        "id": "0U-6cz0C705v"
      },
      "source": [
        "# Print the type of 0\n",
        "\n",
        "type(0)"
      ],
      "execution_count": null,
      "outputs": []
    },
    {
      "cell_type": "markdown",
      "metadata": {
        "id": "Caaa_z4c705x"
      },
      "source": [
        "###<h3 align = right><font color = 'blue'>اعداد حقیقی</font></h3> "
      ]
    },
    {
      "cell_type": "markdown",
      "metadata": {
        "id": "0AwBnUqm705x"
      },
      "source": [
        "<code>float</code>\n",
        "<p align =right> اعداد حقیقی را نمایندگی می کنند. آنها در بر گیرنده اعداد تام نیز هستند اما همچنین اعداد اعشاری را نیز شامل می شوند. هنگامی که ماشین ها اعداد اعشاری را نمایش می دهند محدودیت هایی وجود دارد. اما اعداد دارای ممیز در بیشتر موارد نمایشی کاربردی هستند. شما می توانید راجع به ممیز در محیط نرم افزاری که در آن کار می کنید اطلاعاتی به دست بیاورید. این کار را می توانید به کمک </p><code>sys.float_info</code><p align = right>انجام دهید.  این دستور همچنین به شما می گوید که بزرگترین و کوچکترین عددی که می توان نمایش داد چیست. اینجا نیز چند مثال با تابع</p><code>type()</code><p align = right> آورده شده است.ـ"
      ]
    },
    {
      "cell_type": "code",
      "metadata": {
        "id": "XfKjX4gL705x"
      },
      "source": [
        "# Print the type of 1.0\n",
        "\n",
        "type(1.0) # Notice that 1 is an int, and 1.0 is a float"
      ],
      "execution_count": null,
      "outputs": []
    },
    {
      "cell_type": "code",
      "metadata": {
        "id": "t-kFuBMi705z"
      },
      "source": [
        "# Print the type of 0.5\n",
        "\n",
        "type(0.5)"
      ],
      "execution_count": null,
      "outputs": []
    },
    {
      "cell_type": "code",
      "metadata": {
        "id": "hYIHW-F_7050"
      },
      "source": [
        "# Print the type of 0.56\n",
        "\n",
        "type(0.56)"
      ],
      "execution_count": null,
      "outputs": []
    },
    {
      "cell_type": "code",
      "metadata": {
        "id": "6Q0M96LA7053"
      },
      "source": [
        "# System settings about float type\n",
        "import sys\n",
        "sys.float_info"
      ],
      "execution_count": null,
      "outputs": []
    },
    {
      "cell_type": "markdown",
      "metadata": {
        "id": "TwZ6k78_7055"
      },
      "source": [
        "###<h3 align = right><font color = blue>تبدیل یک نوع شیئ به نوعی دیگر</font><h3>"
      ]
    },
    {
      "cell_type": "markdown",
      "metadata": {
        "id": "tCSKl6Ov7055"
      },
      "source": [
        "<p align = right>شما می توانید نوع شیئ را در پایتون تغییر دهید. به این کار</p>\n",
        "<p>typecasting</p>\n",
        "<p align = right>می گویند. شما می توانید یک عدد تام را به یک عدد حقیقی تبدیل کنید به عنوان مثال ۲ را به ۲/۰.ـ بیایید امتحان کنیم:ـ</p>"
      ]
    },
    {
      "cell_type": "code",
      "metadata": {
        "id": "riLwUMO87056"
      },
      "source": [
        "# Verify that this is an integer\n",
        "\n",
        "type(2)"
      ],
      "execution_count": null,
      "outputs": []
    },
    {
      "cell_type": "markdown",
      "metadata": {
        "id": "gqtrvHYu7058"
      },
      "source": [
        "####<h4 align = right><font color = blue>تبدیل اعداد تام به اعداد حقیقی</font></h4>\n"
      ]
    },
    {
      "cell_type": "code",
      "metadata": {
        "id": "mCSE73E37058"
      },
      "source": [
        "float(2)"
      ],
      "execution_count": null,
      "outputs": []
    },
    {
      "cell_type": "code",
      "metadata": {
        "id": "9FKm03uf705-"
      },
      "source": [
        "# Convert integer 2 to a float and check its type\n",
        "\n",
        "type(float(2))"
      ],
      "execution_count": null,
      "outputs": []
    },
    {
      "cell_type": "markdown",
      "metadata": {
        "id": "uqkSnRCD705_"
      },
      "source": [
        "<p align = right>هنگامی که ما یک عدد تام را به عدد حقیقی تبدیل می کنیم، ما در واقع مقدار آن را تغییر نمی دهیم. اما اگر عدد حقیقی را به عدد تام تبدیل کنیم، مقداری از اطلاعات را از دست می دهیم. به عنوان مثال، اگر عدد ۱/۱ را به عدد تام تبدیل کنیم، عدد ۱ نصیبمان می شود و اطلاعات پس از ممیز را از دست می دهیم.ـ</p>"
      ]
    },
    {
      "cell_type": "code",
      "metadata": {
        "id": "-zHtuQcc705_"
      },
      "source": [
        "# Casting 1.1 to integer will result in loss of information\n",
        "\n",
        "int(1.1)"
      ],
      "execution_count": null,
      "outputs": []
    },
    {
      "cell_type": "markdown",
      "metadata": {
        "id": "69yaHlMa706B"
      },
      "source": [
        "####<h4 align = right><font color = blue>تبدیل از رشته کلمات به اعداد تام و اعداد حقیقی</font></h>"
      ]
    },
    {
      "cell_type": "markdown",
      "metadata": {
        "id": "nIdveqg1706B"
      },
      "source": [
        "<p align = right>بعضی مواقع ما با رشته کلماتی مواجه هستیم که درون آنها عدد وجود دارد.- در این صورت ما می توانیم آن عدد را به عدد تام تبدیل کنیم. با استفاده از تابع:ـ</p><code>int()</code>"
      ]
    },
    {
      "cell_type": "code",
      "metadata": {
        "id": "gSgI0dTc706C"
      },
      "source": [
        "# Convert a string into an integer\n",
        "\n",
        "int('1')"
      ],
      "execution_count": null,
      "outputs": []
    },
    {
      "cell_type": "markdown",
      "metadata": {
        "id": "I3Fa0Pav706D"
      },
      "source": [
        "<p align = right>اما اگر شما خواسته باشید رشته کلماتی را تبدیل کنید که با تعریف عدد جور در نمی آیند، یک پیغام خطا دریافت می کنید. سلول زیر را اجرا کنید:ـ</p>"
      ]
    },
    {
      "cell_type": "code",
      "metadata": {
        "id": "71iKVVaG706D"
      },
      "source": [
        "# Convert a string into an integer with error\n",
        "\n",
        "int('1 or 2 people')"
      ],
      "execution_count": null,
      "outputs": []
    },
    {
      "cell_type": "markdown",
      "metadata": {
        "id": "k0xd_fQa706F"
      },
      "source": [
        "<p align = right>شما همچنین می توانید رشته کلماتی را که حاوی عدد اعشاری هستند به اعداد حقیقی تبدیل کنید:ـ</p>"
      ]
    },
    {
      "cell_type": "code",
      "metadata": {
        "id": "8WO6SO9C706F"
      },
      "source": [
        "# Convert the string \"1.2\" into a float\n",
        "\n",
        "float('1.2')"
      ],
      "execution_count": null,
      "outputs": []
    },
    {
      "cell_type": "markdown",
      "metadata": {
        "id": "RXP6Do6ee0nA"
      },
      "source": [
        "<hr/>\n",
        "<p align = right>نکته: به یاد داشته باشید که رشته کلمات می توانند با  علامت نقل قول تکی </p><code>'1.2'</code><p align = right> و یا دوتایی </p><code>\"1.2\"</code><p align = right>نمایش داده شوند</p><p align = right>اما شما نمی توانید این دو را با هم ترکیب کنید</p><code>\"1.2'</code>\n",
        "<hr/>\n"
      ]
    },
    {
      "cell_type": "markdown",
      "metadata": {
        "id": "vRxhjjsP706H"
      },
      "source": [
        "####<h4 align = right><font color = blue>تبدیل اعداد به رشته کلمات</font></h4>"
      ]
    },
    {
      "cell_type": "markdown",
      "metadata": {
        "id": "wHB_M5Dh706H"
      },
      "source": [
        "<p align = right>اگر ما می توانیم رشته کلمات را به اعداد تبدیل کنیم، طبیعتا می توانیم اعداد را به رشته کلمات تبدیل نماییم.ـ</p>"
      ]
    },
    {
      "cell_type": "code",
      "metadata": {
        "id": "N-2_C8sZ706H"
      },
      "source": [
        "# Convert an integer to a string\n",
        "\n",
        "str(1)"
      ],
      "execution_count": null,
      "outputs": []
    },
    {
      "cell_type": "code",
      "metadata": {
        "id": "8EE3Fy--706L"
      },
      "source": [
        "# Convert a float to a string\n",
        "\n",
        "str(1.2)"
      ],
      "execution_count": null,
      "outputs": []
    },
    {
      "cell_type": "markdown",
      "metadata": {
        "id": "OqJppWZ8706M"
      },
      "source": [
        "###<h3 align=right><font color = blue>نوع داده دوتایی</font></h3>"
      ]
    },
    {
      "cell_type": "markdown",
      "metadata": {
        "id": "oNCe-jBC706N"
      },
      "source": [
        "<p align = right><i>دوتایی</i> یک نوع داده مهم دیگر در پایتون است . یک شی از نوع <i>دوتایی</i> می تواند یکی از دو مقدار </p><code>True</code><p align = right>یا</p><code>False</code><p align = right>را به خود اختصاص دهد</p>"
      ]
    },
    {
      "cell_type": "code",
      "metadata": {
        "id": "f03rfBPx706N"
      },
      "source": [
        "# Value true\n",
        "\n",
        "True"
      ],
      "execution_count": null,
      "outputs": []
    },
    {
      "cell_type": "markdown",
      "metadata": {
        "id": "QOzwxYxh706Q"
      },
      "source": [
        "<p align = right>توجه داشته باشید که مقدار </p><code>True</code><p align = right>یک حرف تی بزرگ دارد همین امر در خصوص مقدار </p><code>False</code><p align = right>نیز صحت دارد یعنی شما باید از یک حرف اف بزرگ استفاده کنید.ـ</p>"
      ]
    },
    {
      "cell_type": "code",
      "metadata": {
        "id": "DCD0QER_706Q"
      },
      "source": [
        "# Value false\n",
        "\n",
        "False"
      ],
      "execution_count": null,
      "outputs": []
    },
    {
      "cell_type": "markdown",
      "metadata": {
        "id": "qBxd_-P_706S"
      },
      "source": [
        "<p align = right> هنگامی که از پایتون بخواهید که نوع شیء دو تایی را نمایش دهد مقدار </p><code>bool</code><p align = right>را نمایش خواهد داد که نشان دهنده <i>دوتایی</i> است.ـ"
      ]
    },
    {
      "cell_type": "code",
      "metadata": {
        "id": "5xFfEu-O706S"
      },
      "source": [
        "# Type of True\n",
        "\n",
        "type(True)"
      ],
      "execution_count": null,
      "outputs": []
    },
    {
      "cell_type": "code",
      "metadata": {
        "id": "HcpOjzER706U"
      },
      "source": [
        "# Type of False\n",
        "\n",
        "type(False)"
      ],
      "execution_count": null,
      "outputs": []
    },
    {
      "cell_type": "markdown",
      "metadata": {
        "id": "fvVO_Hsf706W"
      },
      "source": [
        "<p align = right>ما می توانیم شیء دو تایی را به اشیاء دیگر تبدیل کنیم اگر ما شیء دو تایی با مقدار </p><code>True</code><p align = right> را به یک عدد تام یا حقیقی تبدیل کنیم عدد یک نمایش داده می شود و اگر </p><code>False</code><p align = right>را به عدد تام و یا حقیقی تبدیل کنیم عدد صفر نمایش داده می شود. به طور مشابه اگر عدد یک را به دوتایی تبدیل کنیم مقدار </p><code>True</code><p align = right>را دریافت می کنید و اگر عدد صفر را به دوتایی تبدیل کنید مقدار </p><code>False</code><p align = right>نمایش داده می شود. خودتان امتحان کنید:ـ</p>"
      ]
    },
    {
      "cell_type": "code",
      "metadata": {
        "id": "K54iSfls706W"
      },
      "source": [
        "# Convert True to int\n",
        "\n",
        "int(True)"
      ],
      "execution_count": null,
      "outputs": []
    },
    {
      "cell_type": "code",
      "metadata": {
        "id": "8qSyTqPM706X"
      },
      "source": [
        "# Convert 1 to boolean\n",
        "\n",
        "bool(1)"
      ],
      "execution_count": null,
      "outputs": []
    },
    {
      "cell_type": "code",
      "metadata": {
        "id": "gTOCfPXo706Y"
      },
      "source": [
        "# Convert 0 to boolean\n",
        "\n",
        "bool(0)"
      ],
      "execution_count": null,
      "outputs": []
    },
    {
      "cell_type": "code",
      "metadata": {
        "id": "jepO60QF706a"
      },
      "source": [
        "# Convert True to float\n",
        "\n",
        "float(True)"
      ],
      "execution_count": null,
      "outputs": []
    },
    {
      "cell_type": "markdown",
      "metadata": {
        "id": "u63knafA706c"
      },
      "source": [
        "###<h3 align = right><font color = blue>تمرین ها : انواع</font></h3>"
      ]
    },
    {
      "cell_type": "markdown",
      "metadata": {
        "id": "Yda8ghon706c"
      },
      "source": [
        "<p align = right>نوع داده حاصل تقسیم شش بر دو چیست؟</p>"
      ]
    },
    {
      "cell_type": "code",
      "metadata": {
        "id": "uu5JFqY7706c"
      },
      "source": [
        "# Write your code below. Don't forget to press Shift+Enter to execute the cell\n"
      ],
      "execution_count": null,
      "outputs": []
    },
    {
      "cell_type": "markdown",
      "metadata": {
        "id": "j9QnVK1u706d"
      },
      "source": [
        "<p align = right>کلیک کنید تا پاسخ را ببینید</p><p align = right>__اینجا__</p>\n",
        "\n",
        "<!-- Your answer is below:\n",
        "type(6/2) # float\n",
        "-->"
      ]
    },
    {
      "cell_type": "markdown",
      "metadata": {
        "id": "iUrdLR7J706e"
      },
      "source": [
        "<p align = right>نوع داده در مورد حاصل عملیات</p><code>6//2</code><p align = right>چیست؟ به علامت // دقت کنید.ـ</p>"
      ]
    },
    {
      "cell_type": "code",
      "metadata": {
        "id": "-RDY00L4706e"
      },
      "source": [
        "# Write your code below. Don't forget to press Shift+Enter to execute the cell\n"
      ],
      "execution_count": null,
      "outputs": []
    },
    {
      "cell_type": "markdown",
      "metadata": {
        "id": "eMqqMRvR706g"
      },
      "source": [
        "<p align = right>کلیک کنید تا پاسخ را ببینید</p><p align = right>__اینجا__</p>\n",
        "\n",
        "<!-- Your answer is below:\n",
        "type(6//2) # int, as the double slashes stand for integer division \n",
        "-->"
      ]
    },
    {
      "cell_type": "markdown",
      "metadata": {
        "id": "fTWAmvVz706h"
      },
      "source": [
        "<hr>"
      ]
    },
    {
      "cell_type": "markdown",
      "metadata": {
        "id": "0fvdTw6f706h"
      },
      "source": [
        "##<h2 align = right><font color = blue>عبارت ها و متغییر ها</font><h2>"
      ]
    },
    {
      "cell_type": "markdown",
      "metadata": {
        "id": "MmhvUA2q706h"
      },
      "source": [
        "###<div dir = rtl><h3><font color = blue>عبارت ها یا expressions</font><h3></div>"
      ]
    },
    {
      "cell_type": "markdown",
      "metadata": {
        "id": "h2zv9g2R706h"
      },
      "source": [
        "<p align = right>عبارت ها در پایتون می تواند شامل عملیات هایی در بین انواع مشابه باشد مثلا بین اعداد حقیقی و تام برای نمونه می توان از عملیات پایه ریاضی مانند جمع و تفریق چند عدد نام برد.ـ</p>"
      ]
    },
    {
      "cell_type": "code",
      "metadata": {
        "id": "9N9Xexog706i"
      },
      "source": [
        "# Addition operation expression\n",
        "\n",
        "43 + 60 + 16 + 41"
      ],
      "execution_count": null,
      "outputs": []
    },
    {
      "cell_type": "markdown",
      "metadata": {
        "id": "Dn4IHa7X706l"
      },
      "source": [
        "<div dir = rtl>\n",
        "<p>ما می توانیم عملیات تفریق را با استفاده از علامت  منفی انجام دهیم. در مورد مثال زیر حاصل یک عدد منفی است:</p>\n",
        "</div>"
      ]
    },
    {
      "cell_type": "code",
      "metadata": {
        "id": "ba3lADqz706m"
      },
      "source": [
        "# Subtraction operation expression\n",
        "\n",
        "50 - 60"
      ],
      "execution_count": null,
      "outputs": []
    },
    {
      "cell_type": "markdown",
      "metadata": {
        "id": "Tn3ex4eN706o"
      },
      "source": [
        "<div dir = rtl>\n",
        "<p>ما می توانیم ضرب را با استفاده از علامت ستاره انجام دهیم:</p>\n",
        "</div>"
      ]
    },
    {
      "cell_type": "code",
      "metadata": {
        "id": "KcAdqSV5706o"
      },
      "source": [
        "# Multiplication operation expression\n",
        "\n",
        "5 * 5"
      ],
      "execution_count": null,
      "outputs": []
    },
    {
      "cell_type": "markdown",
      "metadata": {
        "id": "MiBiEQc1706p"
      },
      "source": [
        "<div dir = rtl>\n",
        "<p>ما می توانیم تقسیم را با استفاده از علامت خط مورب یا forwad slash انجام دهیم:</p>\n",
        "</div>"
      ]
    },
    {
      "cell_type": "code",
      "metadata": {
        "id": "6vcb4zbq706q"
      },
      "source": [
        "# Division operation expression\n",
        "\n",
        "25 / 5"
      ],
      "execution_count": null,
      "outputs": []
    },
    {
      "cell_type": "code",
      "metadata": {
        "id": "ZI1OiOkv706r"
      },
      "source": [
        "# Division operation expression\n",
        "\n",
        "25 / 6"
      ],
      "execution_count": null,
      "outputs": []
    },
    {
      "cell_type": "markdown",
      "metadata": {
        "id": "z1DuUstl706t"
      },
      "source": [
        "<div dir = rtl>\n",
        "<p>همانطور که در تمرین بالا مشاهده کردید، ما می توانیم از دو خط مورب پشت سر هم برای تقسیم با حاصل عدد تام استفاده نماییم که در این صورت حاصل به سمت نزدیک ترین عدد تام رند می شود:</p>\n",
        "</div>"
      ]
    },
    {
      "cell_type": "code",
      "metadata": {
        "id": "qFF2GQYc706u"
      },
      "source": [
        "# Integer division operation expression\n",
        "\n",
        "25 // 5"
      ],
      "execution_count": null,
      "outputs": []
    },
    {
      "cell_type": "code",
      "metadata": {
        "id": "i9OOkX61706v"
      },
      "source": [
        "# Integer division operation expression\n",
        "\n",
        "25 // 6"
      ],
      "execution_count": null,
      "outputs": []
    },
    {
      "cell_type": "markdown",
      "metadata": {
        "id": "bS-CNtod706w"
      },
      "source": [
        "###<div dir = rtl><h3><font color = blue>تمرین: عبارت ها</font></h3></div>"
      ]
    },
    {
      "cell_type": "markdown",
      "metadata": {
        "id": "XltOvU9u706w"
      },
      "source": [
        "<div dir = rtl>\n",
        "<p>بیایید عبارتی بنویسیم که تعداد ساعت های موجود در ۱۶۰ دقیقه را محاسبه نماید:</p>\n",
        "</div>"
      ]
    },
    {
      "cell_type": "code",
      "metadata": {
        "id": "svSwCOhe706x"
      },
      "source": [
        "# Write your code below. Don't forget to press Shift+Enter to execute the cell\n",
        "\n"
      ],
      "execution_count": null,
      "outputs": []
    },
    {
      "cell_type": "markdown",
      "metadata": {
        "id": "0t0_f374706y"
      },
      "source": [
        "<div dir = rtl>\n",
        "کلیک کنید تا پاسخ را ببینید __اینجا__\n",
        "</div>\n",
        "<!-- Your answer is below:\n",
        "160/60 \n",
        "# Or \n",
        "160//60\n",
        "-->"
      ]
    },
    {
      "cell_type": "markdown",
      "metadata": {
        "id": "3OIeZIZh706y"
      },
      "source": [
        "<div dir = rtl>\n",
        "<p>پایتون از قوانین پذیرفته شده در ریاضی در هنگام بررسی عبارت ها استفاده می کند. در مثال زیر، پایتون عدد ۳۰ را به حاصل ضرب یعنی ۱۲۰ اضافه می کند.</p>\n",
        "</div>\n"
      ]
    },
    {
      "cell_type": "code",
      "metadata": {
        "id": "oSzhypC2706z"
      },
      "source": [
        "# Mathematical expression\n",
        "\n",
        "30 + 2 * 60"
      ],
      "execution_count": null,
      "outputs": []
    },
    {
      "cell_type": "markdown",
      "metadata": {
        "id": "NMOLxdI67060"
      },
      "source": [
        "<div dir = rtl>\n",
        "<P>و دقیقا مانند ریاضی عبارت هایی که با پرانتز محصور شده اند دارای تقدم می باشند. در نتیجه در مثال زیر ۳۲ در ۶۰ ضرب می شود:</P>\n",
        "</div>"
      ]
    },
    {
      "cell_type": "code",
      "metadata": {
        "id": "x5ZczVVc7060"
      },
      "source": [
        "# Mathematical expression\n",
        "\n",
        "(30 + 2) * 60"
      ],
      "execution_count": null,
      "outputs": []
    },
    {
      "cell_type": "markdown",
      "metadata": {
        "id": "ziW-JrIv7061"
      },
      "source": [
        "<div dir = rtl><h3><font color = blue>متغیر ها یا variables</font></h3></div>"
      ]
    },
    {
      "cell_type": "markdown",
      "metadata": {
        "id": "gumrGdil7061"
      },
      "source": [
        "<div dir = rtl>\n",
        "<p>درست مانند هر زبان برنامه نویسی دیگری ما می توانیم مقادیری را در <i>متغییر ها</i> ذخیره نماییم تا بتوانیم بعدا از آنها استفاده کنیم به عنوان مثال:</p>\n",
        "</div>"
      ]
    },
    {
      "cell_type": "code",
      "metadata": {
        "id": "6PmSdcHP7061"
      },
      "source": [
        "# Store value into variable\n",
        "\n",
        "x = 43 + 60 + 16 + 41"
      ],
      "execution_count": null,
      "outputs": []
    },
    {
      "cell_type": "markdown",
      "metadata": {
        "id": "IpLs9uFH7062"
      },
      "source": [
        "<div dir = rtl>\n",
        "<P>برای دیدن مقدار <code>x</code>کافی است در سلول آن را در آخرین خط بنویسیم:</p>\n",
        "</div>"
      ]
    },
    {
      "cell_type": "code",
      "metadata": {
        "id": "MvfR0QGD7063"
      },
      "source": [
        "# Print out the value in variable\n",
        "\n",
        "x"
      ],
      "execution_count": null,
      "outputs": []
    },
    {
      "cell_type": "markdown",
      "metadata": {
        "id": "5e6MsT-I7064"
      },
      "source": [
        "<div dir = rtl>\n",
        "<P>ما همچنین می توانیم بر روی <code>x</code> عملیات انجام دهیم و نتیجه را در یک متغییر جدید ذخیره نماییم:</P>\n",
        "</div>\n"
      ]
    },
    {
      "cell_type": "code",
      "metadata": {
        "id": "H47S3RB97064"
      },
      "source": [
        "# Use another variable to store the result of the operation between variable and value\n",
        "\n",
        "y = x / 60\n",
        "y"
      ],
      "execution_count": null,
      "outputs": []
    },
    {
      "cell_type": "markdown",
      "metadata": {
        "id": "mUYFxI6X7065"
      },
      "source": [
        "<div dir = rtl>\n",
        "<P>اگر ما یک مقدار جدید در متغییر ذخیره نماییم، این مقدار جدید جایگزین مقدار قبلی می شود:</P>\n",
        "</div>\n"
      ]
    },
    {
      "cell_type": "code",
      "metadata": {
        "id": "KE-KVtrN7065",
        "colab": {
          "base_uri": "https://localhost:8080/",
          "height": 214
        },
        "outputId": "b49b8040-8330-4e9b-9cc2-67c404d3dd6d"
      },
      "source": [
        "# Overwrite variable with new value\n",
        "\n",
        "x = x / 60\n",
        "x"
      ],
      "execution_count": null,
      "outputs": [
        {
          "output_type": "error",
          "ename": "NameError",
          "evalue": "ignored",
          "traceback": [
            "\u001b[0;31m---------------------------------------------------------------------------\u001b[0m",
            "\u001b[0;31mNameError\u001b[0m                                 Traceback (most recent call last)",
            "\u001b[0;32m<ipython-input-1-3adab17c246f>\u001b[0m in \u001b[0;36m<module>\u001b[0;34m()\u001b[0m\n\u001b[1;32m      1\u001b[0m \u001b[0;31m# Overwrite variable with new value\u001b[0m\u001b[0;34m\u001b[0m\u001b[0;34m\u001b[0m\u001b[0;34m\u001b[0m\u001b[0m\n\u001b[1;32m      2\u001b[0m \u001b[0;34m\u001b[0m\u001b[0m\n\u001b[0;32m----> 3\u001b[0;31m \u001b[0mx\u001b[0m \u001b[0;34m=\u001b[0m \u001b[0mx\u001b[0m \u001b[0;34m/\u001b[0m \u001b[0;36m60\u001b[0m\u001b[0;34m\u001b[0m\u001b[0;34m\u001b[0m\u001b[0m\n\u001b[0m\u001b[1;32m      4\u001b[0m \u001b[0mx\u001b[0m\u001b[0;34m\u001b[0m\u001b[0;34m\u001b[0m\u001b[0m\n",
            "\u001b[0;31mNameError\u001b[0m: name 'x' is not defined"
          ]
        }
      ]
    },
    {
      "cell_type": "markdown",
      "metadata": {
        "id": "dgy0PMIU7066"
      },
      "source": [
        "<div dir = rtl>\n",
        "<P>این عادت خوبی است که از اسامی متغییرهای معنی دار استفاده کنیم تا شما و دیگران بتوانند در هنگام خواندن کد متوجه آن شوند:</P>\n",
        "</div>\n"
      ]
    },
    {
      "cell_type": "code",
      "metadata": {
        "id": "sbu_-g2G7066"
      },
      "source": [
        "# Name the variables meaningfully\n",
        "\n",
        "total_min = 43 + 42 + 57 # Total length of albums in minutes\n",
        "total_min"
      ],
      "execution_count": null,
      "outputs": []
    },
    {
      "cell_type": "code",
      "metadata": {
        "id": "V-ON6baV7067"
      },
      "source": [
        "# Name the variables meaningfully\n",
        "\n",
        "total_hours = total_min / 60 # Total length of albums in hours \n",
        "total_hours"
      ],
      "execution_count": null,
      "outputs": []
    },
    {
      "cell_type": "markdown",
      "metadata": {
        "id": "gBqcqmt5706-"
      },
      "source": [
        "<div dir = rtl>\n",
        "<P>در سلول بالایی ما طول زمانی سه آلبوم موسیقی بر حسب دقیقه راغ به هم اضافه کردیم. و آن را در متغییر <code>total_min</code>ذخیره کردیم. ما سپس این متغییر را بر ۶۰ تقسیم کردیم تا طول مدت زمان کل بر حسب ساعت <code>total_hours</code>به دست آید. شما همچنین می توانید این کار را در یک مرحله انجام دهید به شرطی که شما از پرانتز استفاده کنید تا طول آلبومهارا قبل از تقسیم بر ۶۰ به هم اضافه نمایید:</P>\n",
        "</div>\n"
      ]
    },
    {
      "cell_type": "code",
      "metadata": {
        "id": "ZZ_303C5706-"
      },
      "source": [
        "# Complicate expression\n",
        "\n",
        "total_hours = (43 + 42 + 57) / 60  # Total hours in a single expression\n",
        "total_hours"
      ],
      "execution_count": null,
      "outputs": []
    },
    {
      "cell_type": "markdown",
      "metadata": {
        "id": "ARxf3baw706_"
      },
      "source": [
        "<div dir = rtl>\n",
        "<P>اگر شما ترجیح می دهید جمع ساعت ها را به صورت یک عدد تام داشته باشید، می توانید علامت تقسیم اعشاری را با علامت تقسیم عدد تام یعنی <code>//</code> جایگزین نمایید.</P>\n",
        "</div>"
      ]
    },
    {
      "cell_type": "markdown",
      "metadata": {
        "id": "towYN28J707A"
      },
      "source": [
        "<div dir = rtl><h3><font color = blue>تمرین: عبارت ها و متغییر ها در پایتون</font></h3></div>"
      ]
    },
    {
      "cell_type": "markdown",
      "metadata": {
        "id": "sKzBJ4Tb707A"
      },
      "source": [
        "<div dir = rtl>\n",
        "<P>مقدار <code>x</code> در عبارت <code>x = 3 + 2 * 2</code>چیست؟</P>\n",
        "</div>\n"
      ]
    },
    {
      "cell_type": "code",
      "metadata": {
        "id": "hRz0CdTb707A"
      },
      "source": [
        "# Write your code below. Don't forget to press Shift+Enter to execute the cell\n"
      ],
      "execution_count": null,
      "outputs": []
    },
    {
      "cell_type": "markdown",
      "metadata": {
        "id": "NVqAk-aZ707B"
      },
      "source": [
        "<div dir = rtl>\n",
        "<P>کلیک کنید تا پاسخ را ببینید __اینجا__</P>\n",
        "</div>\n",
        "\n",
        "<!-- Your answer is below:\n",
        "7\n",
        "-->\n"
      ]
    },
    {
      "cell_type": "markdown",
      "metadata": {
        "id": "FJH_xI-F707C"
      },
      "source": [
        "<div dir = rtl>\n",
        "<P>مقدار <code>y</code> در عبارت <code>y = (3 + 2) * 2</code> چیست؟</P>\n",
        "</div>"
      ]
    },
    {
      "cell_type": "code",
      "metadata": {
        "id": "coEf6HrY707C"
      },
      "source": [
        "# Write your code below. Don't forget to press Shift+Enter to execute the cell\n"
      ],
      "execution_count": null,
      "outputs": []
    },
    {
      "cell_type": "markdown",
      "metadata": {
        "id": "y2lGwPvV707D"
      },
      "source": [
        "<div dir = rtl>\n",
        "<P>کلیک کنید تا پاسخ را ببینید __اینجا__</P>\n",
        "</div>\n",
        "\n",
        "<!-- Your answer is below:\n",
        "10\n",
        "-->"
      ]
    },
    {
      "cell_type": "markdown",
      "metadata": {
        "id": "zMZSmZtG707E"
      },
      "source": [
        "<div dir = rtl>\n",
        "<P>مقدار <code>z</code> در عبارت <code>z = x + y</code> چیست؟</P>\n",
        "</div>\n"
      ]
    },
    {
      "cell_type": "code",
      "metadata": {
        "id": "HWnpHWgf707E"
      },
      "source": [
        "# Write your code below. Don't forget to press Shift+Enter to execute the cell\n"
      ],
      "execution_count": null,
      "outputs": []
    }
  ]
}