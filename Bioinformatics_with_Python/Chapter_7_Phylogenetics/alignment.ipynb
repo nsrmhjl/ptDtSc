{
 "cells": [
  {
   "cell_type": "markdown",
   "metadata": {},
   "source": [
    "# Genome alignment\n"
   ]
  },
  {
   "cell_type": "code",
   "execution_count": null,
   "metadata": {},
   "outputs": [],
   "source": [
    "jupyter notebook --NotebookApp.allow_origin='https://colab.research.google.com' --port=8888 --NotebookApp.port_retries=0 --no-browser"
   ]
  },
  {
   "cell_type": "code",
   "execution_count": 2,
   "metadata": {},
   "outputs": [
    {
     "name": "stderr",
     "output_type": "stream",
     "text": [
      "ERROR: Could not find a version that satisfies the requirement trimal (from versions: none)\n",
      "ERROR: No matching distribution found for trimal\n"
     ]
    }
   ],
   "source": [
    "pip install pytrimal biopython dendropy"
   ]
  },
  {
   "cell_type": "code",
   "execution_count": null,
   "metadata": {},
   "outputs": [],
   "source": [
    "!apt-get install -qq -y mafft"
   ]
  },
  {
   "cell_type": "code",
   "execution_count": null,
   "metadata": {},
   "outputs": [],
   "source": [
    "!wget https://github.com/inab/trimal/archive/refs/tags/v1.4.1.tar.gz\n",
    "!tar -xf trimal.v1.2rev59.tar.gz\n",
    "%cd trimAl/source\n",
    "!make\n",
    "%cd ../.."
   ]
  },
  {
   "cell_type": "code",
   "execution_count": 2,
   "metadata": {},
   "outputs": [],
   "source": [
    "import os\n",
    "import dendropy\n",
    "from Bio.Align.Applications import MafftCommandline"
   ]
  },
  {
   "cell_type": "code",
   "execution_count": 5,
   "metadata": {},
   "outputs": [
    {
     "name": "stdout",
     "output_type": "stream",
     "text": [
      "mafft --localpair --maxiterate 10 --thread -1 --ep 0.123 --reorder sample.fasta\n"
     ]
    }
   ],
   "source": [
    "mafft_cline = MafftCommandline(input='sample.fasta', ep=0.123, reorder=True, maxiterate=1000, localpair=True, thread = -1)\n",
    "print(mafft_cline)\n",
    "stdout, stderr = mafft_cline()\n",
    "with open('align.fasta', 'w') as w:\n",
    "    w.write(stdout)"
   ]
  },
  {
   "cell_type": "markdown",
   "metadata": {},
   "source": [
    "to trim the output:\n",
    "http://trimal.cgenomics.org/getting_started_with_trimal_v1.2"
   ]
  },
  {
   "cell_type": "code",
   "execution_count": 3,
   "metadata": {},
   "outputs": [],
   "source": [
    "!./trimAl/source/trimal -automated1 -in align.fasta -out trim.fasta -fasta"
   ]
  },
  {
   "cell_type": "markdown",
   "metadata": {},
   "source": [
    "## Protein alignment"
   ]
  },
  {
   "cell_type": "code",
   "execution_count": 2,
   "metadata": {},
   "outputs": [],
   "source": [
    "from Bio.Align.Applications import MuscleCommandline"
   ]
  },
  {
   "cell_type": "code",
   "execution_count": 14,
   "metadata": {},
   "outputs": [
    {
     "name": "stdout",
     "output_type": "stream",
     "text": [
      "D:\\backup\\Git\\us\\ptDtSc\\Bioinformatics_with_Python\\Chapter_7_Phylogenetics\\muscle.exe -in NP_P.fasta\n",
      "D:\\backup\\Git\\us\\ptDtSc\\Bioinformatics_with_Python\\Chapter_7_Phylogenetics\\muscle.exe -in L_P.fasta\n",
      "D:\\backup\\Git\\us\\ptDtSc\\Bioinformatics_with_Python\\Chapter_7_Phylogenetics\\muscle.exe -in VP35_P.fasta\n",
      "D:\\backup\\Git\\us\\ptDtSc\\Bioinformatics_with_Python\\Chapter_7_Phylogenetics\\muscle.exe -in VP40_P.fasta\n"
     ]
    }
   ],
   "source": [
    "my_genes = ['NP', 'L', 'VP35', 'VP40']\n",
    "\n",
    "muscle_exe = r\"/mnt/d/backup/Git/us/ptDtSc/Bioinformatics_with_Python/Chapter_7_Phylogenetics/muscle.exe\"\n",
    "\n",
    "for gene in my_genes:\n",
    "    muscle_cline = MuscleCommandline(cmd=muscle_exe, input='%s_P.fasta' % gene)\n",
    "    print(muscle_cline)\n",
    "    stdout, stderr = muscle_cline()\n",
    "    with open('%s_P_align.fasta' % gene, 'w') as w:\n",
    "        w.write(stdout)"
   ]
  },
  {
   "cell_type": "code",
   "execution_count": 16,
   "metadata": {},
   "outputs": [],
   "source": [
    "from Bio import SeqIO\n",
    "from Bio.Seq import Seq\n",
    "from Bio.SeqRecord import SeqRecord\n",
    "# XXX vvv\n",
    "# from Bio.Alphabet import generic_protein\n",
    "\n",
    "for gene in my_genes:\n",
    "    gene_seqs = {}\n",
    "    unal_gene = SeqIO.parse('%s.fasta' % gene, 'fasta')\n",
    "    for rec in unal_gene:\n",
    "        gene_seqs[rec.id] = rec.seq\n",
    "\n",
    "    al_prot = SeqIO.parse('%s_P_align.fasta' % gene, 'fasta')\n",
    "    al_genes = []\n",
    "    for protein in al_prot:\n",
    "        my_id = protein.id\n",
    "        seq = ''\n",
    "        pos = 0\n",
    "        for c in protein.seq:\n",
    "            if c == '-':\n",
    "                seq += '---'\n",
    "            else:\n",
    "                seq += str(gene_seqs[my_id][pos:pos + 3])\n",
    "                pos += 3\n",
    "        al_genes.append(SeqRecord(Seq(seq), id=my_id))\n",
    "\n",
    "\n",
    "    SeqIO.write(al_genes, '%s_align.fasta' % gene, 'fasta')"
   ]
  }
 ],
 "metadata": {
  "kernelspec": {
   "display_name": "Python 3",
   "language": "python",
   "name": "python3"
  },
  "language_info": {
   "codemirror_mode": {
    "name": "ipython",
    "version": 3
   },
   "file_extension": ".py",
   "mimetype": "text/x-python",
   "name": "python",
   "nbconvert_exporter": "python",
   "pygments_lexer": "ipython3",
   "version": "3.6.9"
  },
  "orig_nbformat": 4,
  "vscode": {
   "interpreter": {
    "hash": "6b199708a8a367a754e59d199bd5ead14d4987a7a14841b8b6fed074981f6883"
   }
  }
 },
 "nbformat": 4,
 "nbformat_minor": 2
}
