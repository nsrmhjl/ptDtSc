{
  "cells": [
    {
      "cell_type": "markdown",
      "metadata": {
        "id": "CZn75AK4c67_"
      },
      "source": [
        "<h2>Preparing a dataset for phylogenetic analysis</h2>"
      ]
    },
    {
      "cell_type": "markdown",
      "metadata": {
        "id": "C7l2zy1fdB36"
      },
      "source": [
        "In this recipe, we will download and prepare the dataset to be used for our analysis. The dataset contains\n",
        "complete genomes of the Ebola virus. We will use DendroPy to download and prepare the data"
      ]
    },
    {
      "cell_type": "markdown",
      "metadata": {
        "id": "nGk_iAXudNgV"
      },
      "source": [
        "We will download complete genomes from GenBank; these genomes were collected from various\n",
        "Ebola outbreaks, including several from the 2014 outbreak."
      ]
    },
    {
      "cell_type": "markdown",
      "metadata": {
        "id": "sTRQza9UdWLS"
      },
      "source": [
        "To do this analysis, we will need to install dendropy."
      ]
    },
    {
      "cell_type": "code",
      "execution_count": 1,
      "metadata": {
        "colab": {
          "base_uri": "https://localhost:8080/"
        },
        "id": "wnHnzu4Acwqz",
        "outputId": "7aeb9583-8fb1-4880-a0c8-c51d2db794a1"
      },
      "outputs": [
        {
          "name": "stdout",
          "output_type": "stream",
          "text": [
            "Looking in indexes: https://pypi.org/simple, https://us-python.pkg.dev/colab-wheels/public/simple/\n",
            "Collecting dendropy\n",
            "  Downloading DendroPy-4.5.2.tar.gz (15.2 MB)\n",
            "\u001b[K     |████████████████████████████████| 15.2 MB 7.3 MB/s \n",
            "\u001b[?25hRequirement already satisfied: setuptools in /usr/local/lib/python3.7/dist-packages (from dendropy) (57.4.0)\n",
            "Building wheels for collected packages: dendropy\n",
            "  Building wheel for dendropy (setup.py) ... \u001b[?25l\u001b[?25hdone\n",
            "  Created wheel for dendropy: filename=DendroPy-4.5.2-py3-none-any.whl size=453171 sha256=f60f5f68a8b13febcafa3fc260a5334253fea92d1b9739fbf4b7b191d2067660\n",
            "  Stored in directory: /root/.cache/pip/wheels/9b/c9/0e/1955707a41b3995e9d64768cf8b9b41c74a75f2d6e8d16a61f\n",
            "Successfully built dendropy\n",
            "Installing collected packages: dendropy\n",
            "Successfully installed dendropy-4.5.2\n"
          ]
        }
      ],
      "source": [
        "pip install  dendropy"
      ]
    },
    {
      "cell_type": "markdown",
      "metadata": {
        "id": "ZnJNVIjNdgp3"
      },
      "source": [
        "First, let’s start by specifying our data sources using DendroPy, as follows:"
      ]
    },
    {
      "cell_type": "code",
      "execution_count": 5,
      "metadata": {
        "id": "BrgXH3g6dgIx"
      },
      "outputs": [],
      "source": [
        "import dendropy\n",
        "from dendropy.interop import genbank\n",
        "\n",
        "\n",
        "# Here, we have three functions: one to retrieve data from the most recent EBOV outbreak,\n",
        "# another to retrieve data from the previous EBOV outbreaks, and one to retrieve data from the\n",
        "# outbreaks of other species.\n",
        "\n",
        "# Note that the DendroPy GenBank interface provides several different ways to specify lists or\n",
        "# ranges of records to retrieve. Some lines are commented out. These include the code to download\n",
        "# more genomes. For our purpose, the subset that we will download is enough.\n",
        "\n",
        "def get_ebov_2014_sources():\n",
        "    #EBOV_2014\n",
        "    #yield 'EBOV_2014', genbank.GenBankDna(id_range=(233036, 233118), prefix='KM')\n",
        "    yield 'EBOV_2014', genbank.GenBankDna(id_range=(34549, 34563), prefix='KM0')\n",
        "    \n",
        "def get_other_ebov_sources():\n",
        "    #EBOV other\n",
        "    yield 'EBOV_1976', genbank.GenBankDna(ids=['AF272001', 'KC242801'])\n",
        "    yield 'EBOV_1995', genbank.GenBankDna(ids=['KC242796', 'KC242799'])\n",
        "    yield 'EBOV_2007', genbank.GenBankDna(id_range=(84, 90), prefix='KC2427')\n",
        "    \n",
        "def get_other_ebolavirus_sources():\n",
        "    #BDBV\n",
        "    yield 'BDBV', genbank.GenBankDna(id_range=(3, 6), prefix='KC54539')\n",
        "    yield 'BDBV', genbank.GenBankDna(ids=['FJ217161'])\n",
        "\n",
        "    #RESTV\n",
        "    yield 'RESTV', genbank.GenBankDna(ids=['AB050936', 'JX477165', 'JX477166', 'FJ621583', 'FJ621584', 'FJ621585']) \n",
        "\n",
        "    #SUDV\n",
        "    yield 'SUDV', genbank.GenBankDna(ids=['KC242783', 'AY729654', 'EU338380',\n",
        "                                          'JN638998', 'FJ968794', 'KC589025', 'JN638998'])\n",
        "    #yield 'SUDV', genbank.GenBankDna(id_range=(89, 92), prefix='KC5453')    \n",
        "\n",
        "    #TAFV\n",
        "    yield 'TAFV', genbank.GenBankDna(ids=['FJ217162'])"
      ]
    },
    {
      "cell_type": "markdown",
      "metadata": {
        "id": "RlImHN-3eBrY"
      },
      "source": [
        "Now, we will create a set of FASTA files; we will use these files here and in future recipes:"
      ]
    },
    {
      "cell_type": "markdown",
      "metadata": {
        "id": "XCq6VvUHePJy"
      },
      "source": [
        "We will generate several different FASTA files, which include either all genomes, just EBOV, or\n",
        "just EBOV samples from the 2014 outbreak.</br> In this chapter, we will mostly use the sample.\n",
        "fasta file with all genomes."
      ]
    },
    {
      "cell_type": "markdown",
      "metadata": {
        "id": "FUdX0_O8eX8L"
      },
      "source": [
        "Note the use of the dendropy functions to create FASTA files that are retrieved from GenBank\n",
        "records through conversion. The ID of each sequence in the FASTA file is produced by a lambda\n",
        "function that uses the species and the year, alongside the GenBank accession number.\n",
        "\n",
        "working with dendropy starter: https://dendropy.org/primer/genbank.html\n",
        "\n",
        "what is a CharacterMatrix object: https://dendropy.org/library/charmatrixmodel.html#dendropy.datamodel.charmatrixmodel.CharacterMatrix\n",
        "\n",
        "what is CharacterDataSequence object: https://dendropy.org/library/charmatrixmodel.html#dendropy.datamodel.charmatrixmodel.CharacterDataSequence"
      ]
    },
    {
      "cell_type": "code",
      "execution_count": 7,
      "metadata": {
        "id": "xmbvv7lqeCj_"
      },
      "outputs": [
        {
          "ename": "URLError",
          "evalue": "<urlopen error [WinError 10060] A connection attempt failed because the connected party did not properly respond after a period of time, or established connection failed because connected host has failed to respond>",
          "output_type": "error",
          "traceback": [
            "\u001b[1;31m---------------------------------------------------------------------------\u001b[0m",
            "\u001b[1;31mTimeoutError\u001b[0m                              Traceback (most recent call last)",
            "File \u001b[1;32mC:\\Program Files\\WindowsApps\\PythonSoftwareFoundation.Python.3.9_3.9.3568.0_x64__qbz5n2kfra8p0\\lib\\urllib\\request.py:1346\u001b[0m, in \u001b[0;36mAbstractHTTPHandler.do_open\u001b[1;34m(self, http_class, req, **http_conn_args)\u001b[0m\n\u001b[0;32m   1345\u001b[0m \u001b[39mtry\u001b[39;00m:\n\u001b[1;32m-> 1346\u001b[0m     h\u001b[39m.\u001b[39;49mrequest(req\u001b[39m.\u001b[39;49mget_method(), req\u001b[39m.\u001b[39;49mselector, req\u001b[39m.\u001b[39;49mdata, headers,\n\u001b[0;32m   1347\u001b[0m               encode_chunked\u001b[39m=\u001b[39;49mreq\u001b[39m.\u001b[39;49mhas_header(\u001b[39m'\u001b[39;49m\u001b[39mTransfer-encoding\u001b[39;49m\u001b[39m'\u001b[39;49m))\n\u001b[0;32m   1348\u001b[0m \u001b[39mexcept\u001b[39;00m \u001b[39mOSError\u001b[39;00m \u001b[39mas\u001b[39;00m err: \u001b[39m# timeout error\u001b[39;00m\n",
            "File \u001b[1;32mC:\\Program Files\\WindowsApps\\PythonSoftwareFoundation.Python.3.9_3.9.3568.0_x64__qbz5n2kfra8p0\\lib\\http\\client.py:1285\u001b[0m, in \u001b[0;36mHTTPConnection.request\u001b[1;34m(self, method, url, body, headers, encode_chunked)\u001b[0m\n\u001b[0;32m   1284\u001b[0m \u001b[39m\"\"\"Send a complete request to the server.\"\"\"\u001b[39;00m\n\u001b[1;32m-> 1285\u001b[0m \u001b[39mself\u001b[39;49m\u001b[39m.\u001b[39;49m_send_request(method, url, body, headers, encode_chunked)\n",
            "File \u001b[1;32mC:\\Program Files\\WindowsApps\\PythonSoftwareFoundation.Python.3.9_3.9.3568.0_x64__qbz5n2kfra8p0\\lib\\http\\client.py:1331\u001b[0m, in \u001b[0;36mHTTPConnection._send_request\u001b[1;34m(self, method, url, body, headers, encode_chunked)\u001b[0m\n\u001b[0;32m   1330\u001b[0m     body \u001b[39m=\u001b[39m _encode(body, \u001b[39m'\u001b[39m\u001b[39mbody\u001b[39m\u001b[39m'\u001b[39m)\n\u001b[1;32m-> 1331\u001b[0m \u001b[39mself\u001b[39;49m\u001b[39m.\u001b[39;49mendheaders(body, encode_chunked\u001b[39m=\u001b[39;49mencode_chunked)\n",
            "File \u001b[1;32mC:\\Program Files\\WindowsApps\\PythonSoftwareFoundation.Python.3.9_3.9.3568.0_x64__qbz5n2kfra8p0\\lib\\http\\client.py:1280\u001b[0m, in \u001b[0;36mHTTPConnection.endheaders\u001b[1;34m(self, message_body, encode_chunked)\u001b[0m\n\u001b[0;32m   1279\u001b[0m     \u001b[39mraise\u001b[39;00m CannotSendHeader()\n\u001b[1;32m-> 1280\u001b[0m \u001b[39mself\u001b[39;49m\u001b[39m.\u001b[39;49m_send_output(message_body, encode_chunked\u001b[39m=\u001b[39;49mencode_chunked)\n",
            "File \u001b[1;32mC:\\Program Files\\WindowsApps\\PythonSoftwareFoundation.Python.3.9_3.9.3568.0_x64__qbz5n2kfra8p0\\lib\\http\\client.py:1040\u001b[0m, in \u001b[0;36mHTTPConnection._send_output\u001b[1;34m(self, message_body, encode_chunked)\u001b[0m\n\u001b[0;32m   1039\u001b[0m \u001b[39mdel\u001b[39;00m \u001b[39mself\u001b[39m\u001b[39m.\u001b[39m_buffer[:]\n\u001b[1;32m-> 1040\u001b[0m \u001b[39mself\u001b[39;49m\u001b[39m.\u001b[39;49msend(msg)\n\u001b[0;32m   1042\u001b[0m \u001b[39mif\u001b[39;00m message_body \u001b[39mis\u001b[39;00m \u001b[39mnot\u001b[39;00m \u001b[39mNone\u001b[39;00m:\n\u001b[0;32m   1043\u001b[0m \n\u001b[0;32m   1044\u001b[0m     \u001b[39m# create a consistent interface to message_body\u001b[39;00m\n",
            "File \u001b[1;32mC:\\Program Files\\WindowsApps\\PythonSoftwareFoundation.Python.3.9_3.9.3568.0_x64__qbz5n2kfra8p0\\lib\\http\\client.py:980\u001b[0m, in \u001b[0;36mHTTPConnection.send\u001b[1;34m(self, data)\u001b[0m\n\u001b[0;32m    979\u001b[0m \u001b[39mif\u001b[39;00m \u001b[39mself\u001b[39m\u001b[39m.\u001b[39mauto_open:\n\u001b[1;32m--> 980\u001b[0m     \u001b[39mself\u001b[39;49m\u001b[39m.\u001b[39;49mconnect()\n\u001b[0;32m    981\u001b[0m \u001b[39melse\u001b[39;00m:\n",
            "File \u001b[1;32mC:\\Program Files\\WindowsApps\\PythonSoftwareFoundation.Python.3.9_3.9.3568.0_x64__qbz5n2kfra8p0\\lib\\http\\client.py:1454\u001b[0m, in \u001b[0;36mHTTPSConnection.connect\u001b[1;34m(self)\u001b[0m\n\u001b[0;32m   1452\u001b[0m     server_hostname \u001b[39m=\u001b[39m \u001b[39mself\u001b[39m\u001b[39m.\u001b[39mhost\n\u001b[1;32m-> 1454\u001b[0m \u001b[39mself\u001b[39m\u001b[39m.\u001b[39msock \u001b[39m=\u001b[39m \u001b[39mself\u001b[39;49m\u001b[39m.\u001b[39;49m_context\u001b[39m.\u001b[39;49mwrap_socket(\u001b[39mself\u001b[39;49m\u001b[39m.\u001b[39;49msock,\n\u001b[0;32m   1455\u001b[0m                                       server_hostname\u001b[39m=\u001b[39;49mserver_hostname)\n",
            "File \u001b[1;32mC:\\Program Files\\WindowsApps\\PythonSoftwareFoundation.Python.3.9_3.9.3568.0_x64__qbz5n2kfra8p0\\lib\\ssl.py:501\u001b[0m, in \u001b[0;36mSSLContext.wrap_socket\u001b[1;34m(self, sock, server_side, do_handshake_on_connect, suppress_ragged_eofs, server_hostname, session)\u001b[0m\n\u001b[0;32m    495\u001b[0m \u001b[39mdef\u001b[39;00m \u001b[39mwrap_socket\u001b[39m(\u001b[39mself\u001b[39m, sock, server_side\u001b[39m=\u001b[39m\u001b[39mFalse\u001b[39;00m,\n\u001b[0;32m    496\u001b[0m                 do_handshake_on_connect\u001b[39m=\u001b[39m\u001b[39mTrue\u001b[39;00m,\n\u001b[0;32m    497\u001b[0m                 suppress_ragged_eofs\u001b[39m=\u001b[39m\u001b[39mTrue\u001b[39;00m,\n\u001b[0;32m    498\u001b[0m                 server_hostname\u001b[39m=\u001b[39m\u001b[39mNone\u001b[39;00m, session\u001b[39m=\u001b[39m\u001b[39mNone\u001b[39;00m):\n\u001b[0;32m    499\u001b[0m     \u001b[39m# SSLSocket class handles server_hostname encoding before it calls\u001b[39;00m\n\u001b[0;32m    500\u001b[0m     \u001b[39m# ctx._wrap_socket()\u001b[39;00m\n\u001b[1;32m--> 501\u001b[0m     \u001b[39mreturn\u001b[39;00m \u001b[39mself\u001b[39;49m\u001b[39m.\u001b[39;49msslsocket_class\u001b[39m.\u001b[39;49m_create(\n\u001b[0;32m    502\u001b[0m         sock\u001b[39m=\u001b[39;49msock,\n\u001b[0;32m    503\u001b[0m         server_side\u001b[39m=\u001b[39;49mserver_side,\n\u001b[0;32m    504\u001b[0m         do_handshake_on_connect\u001b[39m=\u001b[39;49mdo_handshake_on_connect,\n\u001b[0;32m    505\u001b[0m         suppress_ragged_eofs\u001b[39m=\u001b[39;49msuppress_ragged_eofs,\n\u001b[0;32m    506\u001b[0m         server_hostname\u001b[39m=\u001b[39;49mserver_hostname,\n\u001b[0;32m    507\u001b[0m         context\u001b[39m=\u001b[39;49m\u001b[39mself\u001b[39;49m,\n\u001b[0;32m    508\u001b[0m         session\u001b[39m=\u001b[39;49msession\n\u001b[0;32m    509\u001b[0m     )\n",
            "File \u001b[1;32mC:\\Program Files\\WindowsApps\\PythonSoftwareFoundation.Python.3.9_3.9.3568.0_x64__qbz5n2kfra8p0\\lib\\ssl.py:1041\u001b[0m, in \u001b[0;36mSSLSocket._create\u001b[1;34m(cls, sock, server_side, do_handshake_on_connect, suppress_ragged_eofs, server_hostname, context, session)\u001b[0m\n\u001b[0;32m   1040\u001b[0m             \u001b[39mraise\u001b[39;00m \u001b[39mValueError\u001b[39;00m(\u001b[39m\"\u001b[39m\u001b[39mdo_handshake_on_connect should not be specified for non-blocking sockets\u001b[39m\u001b[39m\"\u001b[39m)\n\u001b[1;32m-> 1041\u001b[0m         \u001b[39mself\u001b[39;49m\u001b[39m.\u001b[39;49mdo_handshake()\n\u001b[0;32m   1042\u001b[0m \u001b[39mexcept\u001b[39;00m (\u001b[39mOSError\u001b[39;00m, \u001b[39mValueError\u001b[39;00m):\n",
            "File \u001b[1;32mC:\\Program Files\\WindowsApps\\PythonSoftwareFoundation.Python.3.9_3.9.3568.0_x64__qbz5n2kfra8p0\\lib\\ssl.py:1310\u001b[0m, in \u001b[0;36mSSLSocket.do_handshake\u001b[1;34m(self, block)\u001b[0m\n\u001b[0;32m   1309\u001b[0m         \u001b[39mself\u001b[39m\u001b[39m.\u001b[39msettimeout(\u001b[39mNone\u001b[39;00m)\n\u001b[1;32m-> 1310\u001b[0m     \u001b[39mself\u001b[39;49m\u001b[39m.\u001b[39;49m_sslobj\u001b[39m.\u001b[39;49mdo_handshake()\n\u001b[0;32m   1311\u001b[0m \u001b[39mfinally\u001b[39;00m:\n",
            "\u001b[1;31mTimeoutError\u001b[0m: [WinError 10060] A connection attempt failed because the connected party did not properly respond after a period of time, or established connection failed because connected host has failed to respond",
            "\nDuring handling of the above exception, another exception occurred:\n",
            "\u001b[1;31mURLError\u001b[0m                                  Traceback (most recent call last)",
            "\u001b[1;32md:\\backup\\Git\\us\\ptDtSc\\Bioinformatics with Python\\Chapter 7 (Phylogenetics)\\Exploration.ipynb Cell 11\u001b[0m in \u001b[0;36m<module>\u001b[1;34m\u001b[0m\n\u001b[0;32m      <a href='vscode-notebook-cell:/d%3A/backup/Git/us/ptDtSc/Bioinformatics%20with%20Python/Chapter%207%20%28Phylogenetics%29/Exploration.ipynb#X13sZmlsZQ%3D%3D?line=0'>1</a>\u001b[0m other \u001b[39m=\u001b[39m \u001b[39mopen\u001b[39m(\u001b[39m'\u001b[39m\u001b[39mother.fasta\u001b[39m\u001b[39m'\u001b[39m, \u001b[39m'\u001b[39m\u001b[39mw\u001b[39m\u001b[39m'\u001b[39m)\n\u001b[0;32m      <a href='vscode-notebook-cell:/d%3A/backup/Git/us/ptDtSc/Bioinformatics%20with%20Python/Chapter%207%20%28Phylogenetics%29/Exploration.ipynb#X13sZmlsZQ%3D%3D?line=1'>2</a>\u001b[0m sampled \u001b[39m=\u001b[39m \u001b[39mopen\u001b[39m(\u001b[39m'\u001b[39m\u001b[39msample.fasta\u001b[39m\u001b[39m'\u001b[39m, \u001b[39m'\u001b[39m\u001b[39mw\u001b[39m\u001b[39m'\u001b[39m)\n\u001b[1;32m----> <a href='vscode-notebook-cell:/d%3A/backup/Git/us/ptDtSc/Bioinformatics%20with%20Python/Chapter%207%20%28Phylogenetics%29/Exploration.ipynb#X13sZmlsZQ%3D%3D?line=3'>4</a>\u001b[0m \u001b[39mfor\u001b[39;00m species, recs \u001b[39min\u001b[39;00m get_other_ebolavirus_sources():\n\u001b[0;32m      <a href='vscode-notebook-cell:/d%3A/backup/Git/us/ptDtSc/Bioinformatics%20with%20Python/Chapter%207%20%28Phylogenetics%29/Exploration.ipynb#X13sZmlsZQ%3D%3D?line=4'>5</a>\u001b[0m     tn \u001b[39m=\u001b[39m dendropy\u001b[39m.\u001b[39mTaxonNamespace()\n\u001b[0;32m      <a href='vscode-notebook-cell:/d%3A/backup/Git/us/ptDtSc/Bioinformatics%20with%20Python/Chapter%207%20%28Phylogenetics%29/Exploration.ipynb#X13sZmlsZQ%3D%3D?line=5'>6</a>\u001b[0m     char_mat \u001b[39m=\u001b[39m recs\u001b[39m.\u001b[39mgenerate_char_matrix(taxon_namespace\u001b[39m=\u001b[39mtn,\n\u001b[0;32m      <a href='vscode-notebook-cell:/d%3A/backup/Git/us/ptDtSc/Bioinformatics%20with%20Python/Chapter%207%20%28Phylogenetics%29/Exploration.ipynb#X13sZmlsZQ%3D%3D?line=6'>7</a>\u001b[0m         gb_to_taxon_fn\u001b[39m=\u001b[39m\u001b[39mlambda\u001b[39;00m gb: tn\u001b[39m.\u001b[39mrequire_taxon(label\u001b[39m=\u001b[39m\u001b[39m'\u001b[39m\u001b[39m%s\u001b[39;00m\u001b[39m_\u001b[39m\u001b[39m%s\u001b[39;00m\u001b[39m'\u001b[39m \u001b[39m%\u001b[39m (species, gb\u001b[39m.\u001b[39maccession)))\n",
            "\u001b[1;32md:\\backup\\Git\\us\\ptDtSc\\Bioinformatics with Python\\Chapter 7 (Phylogenetics)\\Exploration.ipynb Cell 11\u001b[0m in \u001b[0;36mget_other_ebolavirus_sources\u001b[1;34m()\u001b[0m\n\u001b[0;32m     <a href='vscode-notebook-cell:/d%3A/backup/Git/us/ptDtSc/Bioinformatics%20with%20Python/Chapter%207%20%28Phylogenetics%29/Exploration.ipynb#X13sZmlsZQ%3D%3D?line=23'>24</a>\u001b[0m \u001b[39mdef\u001b[39;00m \u001b[39mget_other_ebolavirus_sources\u001b[39m():\n\u001b[0;32m     <a href='vscode-notebook-cell:/d%3A/backup/Git/us/ptDtSc/Bioinformatics%20with%20Python/Chapter%207%20%28Phylogenetics%29/Exploration.ipynb#X13sZmlsZQ%3D%3D?line=24'>25</a>\u001b[0m     \u001b[39m#BDBV\u001b[39;00m\n\u001b[1;32m---> <a href='vscode-notebook-cell:/d%3A/backup/Git/us/ptDtSc/Bioinformatics%20with%20Python/Chapter%207%20%28Phylogenetics%29/Exploration.ipynb#X13sZmlsZQ%3D%3D?line=25'>26</a>\u001b[0m     \u001b[39myield\u001b[39;00m \u001b[39m'\u001b[39m\u001b[39mBDBV\u001b[39m\u001b[39m'\u001b[39m, genbank\u001b[39m.\u001b[39;49mGenBankDna(id_range\u001b[39m=\u001b[39;49m(\u001b[39m3\u001b[39;49m, \u001b[39m6\u001b[39;49m), prefix\u001b[39m=\u001b[39;49m\u001b[39m'\u001b[39;49m\u001b[39mKC54539\u001b[39;49m\u001b[39m'\u001b[39;49m)\n\u001b[0;32m     <a href='vscode-notebook-cell:/d%3A/backup/Git/us/ptDtSc/Bioinformatics%20with%20Python/Chapter%207%20%28Phylogenetics%29/Exploration.ipynb#X13sZmlsZQ%3D%3D?line=26'>27</a>\u001b[0m     \u001b[39myield\u001b[39;00m \u001b[39m'\u001b[39m\u001b[39mBDBV\u001b[39m\u001b[39m'\u001b[39m, genbank\u001b[39m.\u001b[39mGenBankDna(ids\u001b[39m=\u001b[39m[\u001b[39m'\u001b[39m\u001b[39mFJ217161\u001b[39m\u001b[39m'\u001b[39m])\n\u001b[0;32m     <a href='vscode-notebook-cell:/d%3A/backup/Git/us/ptDtSc/Bioinformatics%20with%20Python/Chapter%207%20%28Phylogenetics%29/Exploration.ipynb#X13sZmlsZQ%3D%3D?line=28'>29</a>\u001b[0m     \u001b[39m#RESTV\u001b[39;00m\n",
            "File \u001b[1;32m~\\AppData\\Local\\Packages\\PythonSoftwareFoundation.Python.3.9_qbz5n2kfra8p0\\LocalCache\\local-packages\\Python39\\site-packages\\dendropy\\interop\\genbank.py:360\u001b[0m, in \u001b[0;36mGenBankDna.__init__\u001b[1;34m(self, ids, id_range, prefix, verify, email)\u001b[0m\n\u001b[0;32m    354\u001b[0m \u001b[39mdef\u001b[39;00m \u001b[39m__init__\u001b[39m(\u001b[39mself\u001b[39m,\n\u001b[0;32m    355\u001b[0m         ids\u001b[39m=\u001b[39m\u001b[39mNone\u001b[39;00m,\n\u001b[0;32m    356\u001b[0m         id_range\u001b[39m=\u001b[39m\u001b[39mNone\u001b[39;00m,\n\u001b[0;32m    357\u001b[0m         prefix\u001b[39m=\u001b[39m\u001b[39mNone\u001b[39;00m,\n\u001b[0;32m    358\u001b[0m         verify\u001b[39m=\u001b[39m\u001b[39mTrue\u001b[39;00m,\n\u001b[0;32m    359\u001b[0m         email\u001b[39m=\u001b[39m\u001b[39mNone\u001b[39;00m):\n\u001b[1;32m--> 360\u001b[0m     GenBankNucleotide\u001b[39m.\u001b[39;49m\u001b[39m__init__\u001b[39;49m(\u001b[39mself\u001b[39;49m,\n\u001b[0;32m    361\u001b[0m             ids\u001b[39m=\u001b[39;49mids,\n\u001b[0;32m    362\u001b[0m             id_range\u001b[39m=\u001b[39;49mid_range,\n\u001b[0;32m    363\u001b[0m             prefix\u001b[39m=\u001b[39;49mprefix,\n\u001b[0;32m    364\u001b[0m             verify\u001b[39m=\u001b[39;49mverify,\n\u001b[0;32m    365\u001b[0m             char_matrix_type\u001b[39m=\u001b[39;49mdendropy\u001b[39m.\u001b[39;49mDnaCharacterMatrix,\n\u001b[0;32m    366\u001b[0m             email\u001b[39m=\u001b[39;49memail)\n",
            "File \u001b[1;32m~\\AppData\\Local\\Packages\\PythonSoftwareFoundation.Python.3.9_qbz5n2kfra8p0\\LocalCache\\local-packages\\Python39\\site-packages\\dendropy\\interop\\genbank.py:343\u001b[0m, in \u001b[0;36mGenBankNucleotide.__init__\u001b[1;34m(self, ids, id_range, prefix, verify, char_matrix_type, email)\u001b[0m\n\u001b[0;32m    336\u001b[0m \u001b[39mdef\u001b[39;00m \u001b[39m__init__\u001b[39m(\u001b[39mself\u001b[39m,\n\u001b[0;32m    337\u001b[0m         ids\u001b[39m=\u001b[39m\u001b[39mNone\u001b[39;00m,\n\u001b[0;32m    338\u001b[0m         id_range\u001b[39m=\u001b[39m\u001b[39mNone\u001b[39;00m,\n\u001b[1;32m   (...)\u001b[0m\n\u001b[0;32m    341\u001b[0m         char_matrix_type\u001b[39m=\u001b[39m\u001b[39mNone\u001b[39;00m,\n\u001b[0;32m    342\u001b[0m         email\u001b[39m=\u001b[39m\u001b[39mNone\u001b[39;00m):\n\u001b[1;32m--> 343\u001b[0m     GenBankResourceStore\u001b[39m.\u001b[39;49m\u001b[39m__init__\u001b[39;49m(\u001b[39mself\u001b[39;49m,\n\u001b[0;32m    344\u001b[0m             db\u001b[39m=\u001b[39;49m\u001b[39m\"\u001b[39;49m\u001b[39mnucleotide\u001b[39;49m\u001b[39m\"\u001b[39;49m,\n\u001b[0;32m    345\u001b[0m             ids\u001b[39m=\u001b[39;49mids,\n\u001b[0;32m    346\u001b[0m             id_range\u001b[39m=\u001b[39;49mid_range,\n\u001b[0;32m    347\u001b[0m             prefix\u001b[39m=\u001b[39;49mprefix,\n\u001b[0;32m    348\u001b[0m             verify\u001b[39m=\u001b[39;49mverify,\n\u001b[0;32m    349\u001b[0m             email\u001b[39m=\u001b[39;49memail)\n\u001b[0;32m    350\u001b[0m     \u001b[39mself\u001b[39m\u001b[39m.\u001b[39mchar_matrix_type \u001b[39m=\u001b[39m char_matrix_type\n",
            "File \u001b[1;32m~\\AppData\\Local\\Packages\\PythonSoftwareFoundation.Python.3.9_qbz5n2kfra8p0\\LocalCache\\local-packages\\Python39\\site-packages\\dendropy\\interop\\genbank.py:133\u001b[0m, in \u001b[0;36mGenBankResourceStore.__init__\u001b[1;34m(self, db, ids, id_range, prefix, verify, email)\u001b[0m\n\u001b[0;32m    129\u001b[0m     \u001b[39mself\u001b[39m\u001b[39m.\u001b[39macquire(ids\u001b[39m=\u001b[39mids,\n\u001b[0;32m    130\u001b[0m             prefix\u001b[39m=\u001b[39mprefix,\n\u001b[0;32m    131\u001b[0m             verify\u001b[39m=\u001b[39mverify)\n\u001b[0;32m    132\u001b[0m \u001b[39mif\u001b[39;00m id_range \u001b[39mis\u001b[39;00m \u001b[39mnot\u001b[39;00m \u001b[39mNone\u001b[39;00m:\n\u001b[1;32m--> 133\u001b[0m     \u001b[39mself\u001b[39;49m\u001b[39m.\u001b[39;49macquire_range(\n\u001b[0;32m    134\u001b[0m             first\u001b[39m=\u001b[39;49mid_range[\u001b[39m0\u001b[39;49m],\n\u001b[0;32m    135\u001b[0m             last\u001b[39m=\u001b[39;49mid_range[\u001b[39m1\u001b[39;49m],\n\u001b[0;32m    136\u001b[0m             prefix\u001b[39m=\u001b[39;49mprefix,\n\u001b[0;32m    137\u001b[0m             verify\u001b[39m=\u001b[39;49mverify)\n",
            "File \u001b[1;32m~\\AppData\\Local\\Packages\\PythonSoftwareFoundation.Python.3.9_qbz5n2kfra8p0\\LocalCache\\local-packages\\Python39\\site-packages\\dendropy\\interop\\genbank.py:250\u001b[0m, in \u001b[0;36mGenBankResourceStore.acquire_range\u001b[1;34m(self, first, last, prefix, verify)\u001b[0m\n\u001b[0;32m    240\u001b[0m \u001b[39m\"\"\"\u001b[39;00m\n\u001b[0;32m    241\u001b[0m \u001b[39mAdds more data from GenBank.\u001b[39;00m\n\u001b[0;32m    242\u001b[0m \n\u001b[1;32m   (...)\u001b[0m\n\u001b[0;32m    247\u001b[0m \n\u001b[0;32m    248\u001b[0m \u001b[39m\"\"\"\u001b[39;00m\n\u001b[0;32m    249\u001b[0m ids \u001b[39m=\u001b[39m \u001b[39mrange\u001b[39m(first, last\u001b[39m+\u001b[39m\u001b[39m1\u001b[39m)\n\u001b[1;32m--> 250\u001b[0m \u001b[39mreturn\u001b[39;00m \u001b[39mself\u001b[39;49m\u001b[39m.\u001b[39;49macquire(\n\u001b[0;32m    251\u001b[0m         ids\u001b[39m=\u001b[39;49mids,\n\u001b[0;32m    252\u001b[0m         prefix\u001b[39m=\u001b[39;49mprefix,\n\u001b[0;32m    253\u001b[0m         verify\u001b[39m=\u001b[39;49mverify)\n",
            "File \u001b[1;32m~\\AppData\\Local\\Packages\\PythonSoftwareFoundation.Python.3.9_qbz5n2kfra8p0\\LocalCache\\local-packages\\Python39\\site-packages\\dendropy\\interop\\genbank.py:198\u001b[0m, in \u001b[0;36mGenBankResourceStore.acquire\u001b[1;34m(self, ids, prefix, verify)\u001b[0m\n\u001b[0;32m    189\u001b[0m \u001b[39m\"\"\"\u001b[39;00m\n\u001b[0;32m    190\u001b[0m \u001b[39mAdds more data from GenBank.\u001b[39;00m\n\u001b[0;32m    191\u001b[0m \n\u001b[1;32m   (...)\u001b[0m\n\u001b[0;32m    195\u001b[0m \n\u001b[0;32m    196\u001b[0m \u001b[39m\"\"\"\u001b[39;00m\n\u001b[0;32m    197\u001b[0m ids \u001b[39m=\u001b[39m GenBankResourceStore\u001b[39m.\u001b[39mprepare_ids(ids\u001b[39m=\u001b[39mids, prefix\u001b[39m=\u001b[39mprefix)\n\u001b[1;32m--> 198\u001b[0m xml_string \u001b[39m=\u001b[39m GenBankResourceStore\u001b[39m.\u001b[39;49mfetch_xml(db\u001b[39m=\u001b[39;49m\u001b[39mself\u001b[39;49m\u001b[39m.\u001b[39;49mdb,\n\u001b[0;32m    199\u001b[0m         ids\u001b[39m=\u001b[39;49mids,\n\u001b[0;32m    200\u001b[0m         prefix\u001b[39m=\u001b[39;49mprefix,\n\u001b[0;32m    201\u001b[0m         email\u001b[39m=\u001b[39;49m\u001b[39mself\u001b[39;49m\u001b[39m.\u001b[39;49memail,\n\u001b[0;32m    202\u001b[0m         as_stream\u001b[39m=\u001b[39;49m\u001b[39mFalse\u001b[39;49;00m)\n\u001b[0;32m    203\u001b[0m gb_recs \u001b[39m=\u001b[39m GenBankResourceStore\u001b[39m.\u001b[39mparse_xml(string\u001b[39m=\u001b[39mxml_string)\n\u001b[0;32m    204\u001b[0m accession_recs \u001b[39m=\u001b[39m {}\n",
            "File \u001b[1;32m~\\AppData\\Local\\Packages\\PythonSoftwareFoundation.Python.3.9_qbz5n2kfra8p0\\LocalCache\\local-packages\\Python39\\site-packages\\dendropy\\interop\\genbank.py:75\u001b[0m, in \u001b[0;36mGenBankResourceStore.fetch_xml\u001b[1;34m(db, ids, prefix, email, as_stream)\u001b[0m\n\u001b[0;32m     74\u001b[0m \u001b[39mdef\u001b[39;00m \u001b[39mfetch_xml\u001b[39m(db, ids, prefix\u001b[39m=\u001b[39m\u001b[39mNone\u001b[39;00m, email\u001b[39m=\u001b[39m\u001b[39mNone\u001b[39;00m, as_stream\u001b[39m=\u001b[39m\u001b[39mFalse\u001b[39;00m):\n\u001b[1;32m---> 75\u001b[0m     stream \u001b[39m=\u001b[39m entrez\u001b[39m.\u001b[39;49mefetch(db\u001b[39m=\u001b[39;49mdb,\n\u001b[0;32m     76\u001b[0m             ids\u001b[39m=\u001b[39;49mids,\n\u001b[0;32m     77\u001b[0m             rettype\u001b[39m=\u001b[39;49m\u001b[39m'\u001b[39;49m\u001b[39mgbc\u001b[39;49m\u001b[39m'\u001b[39;49m,\n\u001b[0;32m     78\u001b[0m             retmode\u001b[39m=\u001b[39;49m\u001b[39m'\u001b[39;49m\u001b[39mxml\u001b[39;49m\u001b[39m'\u001b[39;49m,\n\u001b[0;32m     79\u001b[0m             email\u001b[39m=\u001b[39;49memail)\n\u001b[0;32m     80\u001b[0m     \u001b[39mif\u001b[39;00m as_stream:\n\u001b[0;32m     81\u001b[0m         \u001b[39mreturn\u001b[39;00m stream\n",
            "File \u001b[1;32m~\\AppData\\Local\\Packages\\PythonSoftwareFoundation.Python.3.9_qbz5n2kfra8p0\\LocalCache\\local-packages\\Python39\\site-packages\\dendropy\\interop\\entrez.py:52\u001b[0m, in \u001b[0;36mefetch\u001b[1;34m(db, ids, rettype, retmode, email)\u001b[0m\n\u001b[0;32m     50\u001b[0m     params[\u001b[39m\"\u001b[39m\u001b[39memail\u001b[39m\u001b[39m\"\u001b[39m] \u001b[39m=\u001b[39m email\n\u001b[0;32m     51\u001b[0m query_url \u001b[39m=\u001b[39m ENTREZ_EUTILS_BASE_URL \u001b[39m+\u001b[39m \u001b[39m\"\u001b[39m\u001b[39m/efetch.fcgi?\u001b[39m\u001b[39m\"\u001b[39m \u001b[39m+\u001b[39m urlencode(params)\n\u001b[1;32m---> 52\u001b[0m response \u001b[39m=\u001b[39m urlopen(query_url)\n\u001b[0;32m     53\u001b[0m \u001b[39mreturn\u001b[39;00m response\n",
            "File \u001b[1;32mC:\\Program Files\\WindowsApps\\PythonSoftwareFoundation.Python.3.9_3.9.3568.0_x64__qbz5n2kfra8p0\\lib\\urllib\\request.py:214\u001b[0m, in \u001b[0;36murlopen\u001b[1;34m(url, data, timeout, cafile, capath, cadefault, context)\u001b[0m\n\u001b[0;32m    212\u001b[0m \u001b[39melse\u001b[39;00m:\n\u001b[0;32m    213\u001b[0m     opener \u001b[39m=\u001b[39m _opener\n\u001b[1;32m--> 214\u001b[0m \u001b[39mreturn\u001b[39;00m opener\u001b[39m.\u001b[39;49mopen(url, data, timeout)\n",
            "File \u001b[1;32mC:\\Program Files\\WindowsApps\\PythonSoftwareFoundation.Python.3.9_3.9.3568.0_x64__qbz5n2kfra8p0\\lib\\urllib\\request.py:523\u001b[0m, in \u001b[0;36mOpenerDirector.open\u001b[1;34m(self, fullurl, data, timeout)\u001b[0m\n\u001b[0;32m    521\u001b[0m \u001b[39mfor\u001b[39;00m processor \u001b[39min\u001b[39;00m \u001b[39mself\u001b[39m\u001b[39m.\u001b[39mprocess_response\u001b[39m.\u001b[39mget(protocol, []):\n\u001b[0;32m    522\u001b[0m     meth \u001b[39m=\u001b[39m \u001b[39mgetattr\u001b[39m(processor, meth_name)\n\u001b[1;32m--> 523\u001b[0m     response \u001b[39m=\u001b[39m meth(req, response)\n\u001b[0;32m    525\u001b[0m \u001b[39mreturn\u001b[39;00m response\n",
            "File \u001b[1;32mC:\\Program Files\\WindowsApps\\PythonSoftwareFoundation.Python.3.9_3.9.3568.0_x64__qbz5n2kfra8p0\\lib\\urllib\\request.py:632\u001b[0m, in \u001b[0;36mHTTPErrorProcessor.http_response\u001b[1;34m(self, request, response)\u001b[0m\n\u001b[0;32m    629\u001b[0m \u001b[39m# According to RFC 2616, \"2xx\" code indicates that the client's\u001b[39;00m\n\u001b[0;32m    630\u001b[0m \u001b[39m# request was successfully received, understood, and accepted.\u001b[39;00m\n\u001b[0;32m    631\u001b[0m \u001b[39mif\u001b[39;00m \u001b[39mnot\u001b[39;00m (\u001b[39m200\u001b[39m \u001b[39m<\u001b[39m\u001b[39m=\u001b[39m code \u001b[39m<\u001b[39m \u001b[39m300\u001b[39m):\n\u001b[1;32m--> 632\u001b[0m     response \u001b[39m=\u001b[39m \u001b[39mself\u001b[39;49m\u001b[39m.\u001b[39;49mparent\u001b[39m.\u001b[39;49merror(\n\u001b[0;32m    633\u001b[0m         \u001b[39m'\u001b[39;49m\u001b[39mhttp\u001b[39;49m\u001b[39m'\u001b[39;49m, request, response, code, msg, hdrs)\n\u001b[0;32m    635\u001b[0m \u001b[39mreturn\u001b[39;00m response\n",
            "File \u001b[1;32mC:\\Program Files\\WindowsApps\\PythonSoftwareFoundation.Python.3.9_3.9.3568.0_x64__qbz5n2kfra8p0\\lib\\urllib\\request.py:555\u001b[0m, in \u001b[0;36mOpenerDirector.error\u001b[1;34m(self, proto, *args)\u001b[0m\n\u001b[0;32m    553\u001b[0m     http_err \u001b[39m=\u001b[39m \u001b[39m0\u001b[39m\n\u001b[0;32m    554\u001b[0m args \u001b[39m=\u001b[39m (\u001b[39mdict\u001b[39m, proto, meth_name) \u001b[39m+\u001b[39m args\n\u001b[1;32m--> 555\u001b[0m result \u001b[39m=\u001b[39m \u001b[39mself\u001b[39;49m\u001b[39m.\u001b[39;49m_call_chain(\u001b[39m*\u001b[39;49margs)\n\u001b[0;32m    556\u001b[0m \u001b[39mif\u001b[39;00m result:\n\u001b[0;32m    557\u001b[0m     \u001b[39mreturn\u001b[39;00m result\n",
            "File \u001b[1;32mC:\\Program Files\\WindowsApps\\PythonSoftwareFoundation.Python.3.9_3.9.3568.0_x64__qbz5n2kfra8p0\\lib\\urllib\\request.py:494\u001b[0m, in \u001b[0;36mOpenerDirector._call_chain\u001b[1;34m(self, chain, kind, meth_name, *args)\u001b[0m\n\u001b[0;32m    492\u001b[0m \u001b[39mfor\u001b[39;00m handler \u001b[39min\u001b[39;00m handlers:\n\u001b[0;32m    493\u001b[0m     func \u001b[39m=\u001b[39m \u001b[39mgetattr\u001b[39m(handler, meth_name)\n\u001b[1;32m--> 494\u001b[0m     result \u001b[39m=\u001b[39m func(\u001b[39m*\u001b[39;49margs)\n\u001b[0;32m    495\u001b[0m     \u001b[39mif\u001b[39;00m result \u001b[39mis\u001b[39;00m \u001b[39mnot\u001b[39;00m \u001b[39mNone\u001b[39;00m:\n\u001b[0;32m    496\u001b[0m         \u001b[39mreturn\u001b[39;00m result\n",
            "File \u001b[1;32mC:\\Program Files\\WindowsApps\\PythonSoftwareFoundation.Python.3.9_3.9.3568.0_x64__qbz5n2kfra8p0\\lib\\urllib\\request.py:747\u001b[0m, in \u001b[0;36mHTTPRedirectHandler.http_error_302\u001b[1;34m(self, req, fp, code, msg, headers)\u001b[0m\n\u001b[0;32m    744\u001b[0m fp\u001b[39m.\u001b[39mread()\n\u001b[0;32m    745\u001b[0m fp\u001b[39m.\u001b[39mclose()\n\u001b[1;32m--> 747\u001b[0m \u001b[39mreturn\u001b[39;00m \u001b[39mself\u001b[39;49m\u001b[39m.\u001b[39;49mparent\u001b[39m.\u001b[39;49mopen(new, timeout\u001b[39m=\u001b[39;49mreq\u001b[39m.\u001b[39;49mtimeout)\n",
            "File \u001b[1;32mC:\\Program Files\\WindowsApps\\PythonSoftwareFoundation.Python.3.9_3.9.3568.0_x64__qbz5n2kfra8p0\\lib\\urllib\\request.py:517\u001b[0m, in \u001b[0;36mOpenerDirector.open\u001b[1;34m(self, fullurl, data, timeout)\u001b[0m\n\u001b[0;32m    514\u001b[0m     req \u001b[39m=\u001b[39m meth(req)\n\u001b[0;32m    516\u001b[0m sys\u001b[39m.\u001b[39maudit(\u001b[39m'\u001b[39m\u001b[39murllib.Request\u001b[39m\u001b[39m'\u001b[39m, req\u001b[39m.\u001b[39mfull_url, req\u001b[39m.\u001b[39mdata, req\u001b[39m.\u001b[39mheaders, req\u001b[39m.\u001b[39mget_method())\n\u001b[1;32m--> 517\u001b[0m response \u001b[39m=\u001b[39m \u001b[39mself\u001b[39;49m\u001b[39m.\u001b[39;49m_open(req, data)\n\u001b[0;32m    519\u001b[0m \u001b[39m# post-process response\u001b[39;00m\n\u001b[0;32m    520\u001b[0m meth_name \u001b[39m=\u001b[39m protocol\u001b[39m+\u001b[39m\u001b[39m\"\u001b[39m\u001b[39m_response\u001b[39m\u001b[39m\"\u001b[39m\n",
            "File \u001b[1;32mC:\\Program Files\\WindowsApps\\PythonSoftwareFoundation.Python.3.9_3.9.3568.0_x64__qbz5n2kfra8p0\\lib\\urllib\\request.py:534\u001b[0m, in \u001b[0;36mOpenerDirector._open\u001b[1;34m(self, req, data)\u001b[0m\n\u001b[0;32m    531\u001b[0m     \u001b[39mreturn\u001b[39;00m result\n\u001b[0;32m    533\u001b[0m protocol \u001b[39m=\u001b[39m req\u001b[39m.\u001b[39mtype\n\u001b[1;32m--> 534\u001b[0m result \u001b[39m=\u001b[39m \u001b[39mself\u001b[39;49m\u001b[39m.\u001b[39;49m_call_chain(\u001b[39mself\u001b[39;49m\u001b[39m.\u001b[39;49mhandle_open, protocol, protocol \u001b[39m+\u001b[39;49m\n\u001b[0;32m    535\u001b[0m                           \u001b[39m'\u001b[39;49m\u001b[39m_open\u001b[39;49m\u001b[39m'\u001b[39;49m, req)\n\u001b[0;32m    536\u001b[0m \u001b[39mif\u001b[39;00m result:\n\u001b[0;32m    537\u001b[0m     \u001b[39mreturn\u001b[39;00m result\n",
            "File \u001b[1;32mC:\\Program Files\\WindowsApps\\PythonSoftwareFoundation.Python.3.9_3.9.3568.0_x64__qbz5n2kfra8p0\\lib\\urllib\\request.py:494\u001b[0m, in \u001b[0;36mOpenerDirector._call_chain\u001b[1;34m(self, chain, kind, meth_name, *args)\u001b[0m\n\u001b[0;32m    492\u001b[0m \u001b[39mfor\u001b[39;00m handler \u001b[39min\u001b[39;00m handlers:\n\u001b[0;32m    493\u001b[0m     func \u001b[39m=\u001b[39m \u001b[39mgetattr\u001b[39m(handler, meth_name)\n\u001b[1;32m--> 494\u001b[0m     result \u001b[39m=\u001b[39m func(\u001b[39m*\u001b[39;49margs)\n\u001b[0;32m    495\u001b[0m     \u001b[39mif\u001b[39;00m result \u001b[39mis\u001b[39;00m \u001b[39mnot\u001b[39;00m \u001b[39mNone\u001b[39;00m:\n\u001b[0;32m    496\u001b[0m         \u001b[39mreturn\u001b[39;00m result\n",
            "File \u001b[1;32mC:\\Program Files\\WindowsApps\\PythonSoftwareFoundation.Python.3.9_3.9.3568.0_x64__qbz5n2kfra8p0\\lib\\urllib\\request.py:1389\u001b[0m, in \u001b[0;36mHTTPSHandler.https_open\u001b[1;34m(self, req)\u001b[0m\n\u001b[0;32m   1388\u001b[0m \u001b[39mdef\u001b[39;00m \u001b[39mhttps_open\u001b[39m(\u001b[39mself\u001b[39m, req):\n\u001b[1;32m-> 1389\u001b[0m     \u001b[39mreturn\u001b[39;00m \u001b[39mself\u001b[39;49m\u001b[39m.\u001b[39;49mdo_open(http\u001b[39m.\u001b[39;49mclient\u001b[39m.\u001b[39;49mHTTPSConnection, req,\n\u001b[0;32m   1390\u001b[0m         context\u001b[39m=\u001b[39;49m\u001b[39mself\u001b[39;49m\u001b[39m.\u001b[39;49m_context, check_hostname\u001b[39m=\u001b[39;49m\u001b[39mself\u001b[39;49m\u001b[39m.\u001b[39;49m_check_hostname)\n",
            "File \u001b[1;32mC:\\Program Files\\WindowsApps\\PythonSoftwareFoundation.Python.3.9_3.9.3568.0_x64__qbz5n2kfra8p0\\lib\\urllib\\request.py:1349\u001b[0m, in \u001b[0;36mAbstractHTTPHandler.do_open\u001b[1;34m(self, http_class, req, **http_conn_args)\u001b[0m\n\u001b[0;32m   1346\u001b[0m         h\u001b[39m.\u001b[39mrequest(req\u001b[39m.\u001b[39mget_method(), req\u001b[39m.\u001b[39mselector, req\u001b[39m.\u001b[39mdata, headers,\n\u001b[0;32m   1347\u001b[0m                   encode_chunked\u001b[39m=\u001b[39mreq\u001b[39m.\u001b[39mhas_header(\u001b[39m'\u001b[39m\u001b[39mTransfer-encoding\u001b[39m\u001b[39m'\u001b[39m))\n\u001b[0;32m   1348\u001b[0m     \u001b[39mexcept\u001b[39;00m \u001b[39mOSError\u001b[39;00m \u001b[39mas\u001b[39;00m err: \u001b[39m# timeout error\u001b[39;00m\n\u001b[1;32m-> 1349\u001b[0m         \u001b[39mraise\u001b[39;00m URLError(err)\n\u001b[0;32m   1350\u001b[0m     r \u001b[39m=\u001b[39m h\u001b[39m.\u001b[39mgetresponse()\n\u001b[0;32m   1351\u001b[0m \u001b[39mexcept\u001b[39;00m:\n",
            "\u001b[1;31mURLError\u001b[0m: <urlopen error [WinError 10060] A connection attempt failed because the connected party did not properly respond after a period of time, or established connection failed because connected host has failed to respond>"
          ]
        }
      ],
      "source": [
        "other = open('other.fasta', 'w')\n",
        "sampled = open('sample.fasta', 'w')\n",
        "\n",
        "for species, recs in get_other_ebolavirus_sources():\n",
        "    tn = dendropy.TaxonNamespace()\n",
        "    char_mat = recs.generate_char_matrix(taxon_namespace=tn,\n",
        "        gb_to_taxon_fn=lambda gb: tn.require_taxon(label='%s_%s' % (species, gb.accession)))\n",
        "    char_mat.write_to_stream(other, 'fasta')\n",
        "    char_mat.write_to_stream(sampled, 'fasta')\n",
        "other.close()\n",
        "ebov_2014 = open('ebov_2014.fasta', 'w')\n",
        "ebov = open('ebov.fasta', 'w')\n",
        "for species, recs in get_ebov_2014_sources():\n",
        "    tn = dendropy.TaxonNamespace()\n",
        "    char_mat = recs.generate_char_matrix(taxon_namespace=tn,\n",
        "        gb_to_taxon_fn=lambda gb: tn.require_taxon(label='EBOV_2014_%s' % gb.accession))\n",
        "    char_mat.write_to_stream(ebov_2014, 'fasta')\n",
        "    char_mat.write_to_stream(sampled, 'fasta')\n",
        "    char_mat.write_to_stream(ebov, 'fasta')\n",
        "ebov_2014.close()\n",
        "\n",
        "ebov_2007 = open('ebov_2007.fasta', 'w')\n",
        "for species, recs in get_other_ebov_sources():\n",
        "    tn = dendropy.TaxonNamespace()\n",
        "    char_mat = recs.generate_char_matrix(taxon_namespace=tn,\n",
        "        gb_to_taxon_fn=lambda gb: tn.require_taxon(label='%s_%s' % (species, gb.accession)))\n",
        "    char_mat.write_to_stream(ebov, 'fasta')\n",
        "    char_mat.write_to_stream(sampled, 'fasta')\n",
        "    if species == 'EBOV_2007':\n",
        "        char_mat.write_to_stream(ebov_2007, 'fasta')\n",
        "\n",
        "ebov.close()\n",
        "ebov_2007.close()\n",
        "sampled.close()"
      ]
    },
    {
      "cell_type": "markdown",
      "metadata": {
        "id": "kI4nIcAgeeqS"
      },
      "source": [
        "Let’s extract four (of the total seven) genes in the virus, as follows:"
      ]
    },
    {
      "cell_type": "markdown",
      "metadata": {
        "id": "vc2SP3XJevRt"
      },
      "source": [
        "We start by searching the first GenBank record for all gene features and write to the FASTA files in order to extract the genes. We put\n",
        "each gene into a different file and only take two virus species. We also get translated proteins,\n",
        "which are available in the records for each gene."
      ]
    },
    {
      "cell_type": "code",
      "execution_count": 5,
      "metadata": {
        "id": "vF2kO5DQejt7"
      },
      "outputs": [],
      "source": [
        "my_genes = ['NP', 'L', 'VP35', 'VP40']\n",
        "\n",
        "def dump_genes(species, recs, g_dls, p_hdls):\n",
        "    for rec in recs:\n",
        "\n",
        "        for feature in rec.feature_table:\n",
        "                    if feature.key == 'CDS':\n",
        "                        gene_name = None\n",
        "                        for qual in feature.qualifiers:\n",
        "                            if qual.name == 'gene':\n",
        "                                if qual.value in my_genes:\n",
        "                                    gene_name = qual.value\n",
        "                            elif qual.name == 'translation':\n",
        "                                protein_translation = qual.value\n",
        "                        if gene_name is not None:\n",
        "                            locs = feature.location.split('.')\n",
        "                            start, end = int(locs[0]), int(locs[-1])\n",
        "                            g_hdls[gene_name].write('>%s_%s\\n' % (species, rec.accession))\n",
        "                            p_hdls[gene_name].write('>%s_%s\\n' % (species, rec.accession))\n",
        "                            g_hdls[gene_name].write('%s\\n' % rec.sequence_text[start - 1 : end])\n",
        "                            p_hdls[gene_name].write('%s\\n' % protein_translation)\n",
        "\n",
        "g_hdls = {}\n",
        "p_hdls = {}\n",
        "for gene in my_genes:\n",
        "    g_hdls[gene] = open('%s.fasta' % gene, 'w')\n",
        "    p_hdls[gene] = open('%s_P.fasta' % gene, 'w')\n",
        "for species, recs in get_other_ebolavirus_sources():\n",
        "    if species in ['RESTV', 'SUDV']:\n",
        "        dump_genes(species, recs, g_hdls, p_hdls)\n",
        "for gene in my_genes:\n",
        "    g_hdls[gene].close()\n",
        "    p_hdls[gene].close()\n"
      ]
    },
    {
      "cell_type": "markdown",
      "metadata": {
        "id": "3KbLVeYbe8u0"
      },
      "source": [
        "Let’s create a function to get the basic statistical information from the alignment, as follows:"
      ]
    },
    {
      "cell_type": "code",
      "execution_count": 6,
      "metadata": {
        "id": "L0wynYD4e9f1"
      },
      "outputs": [],
      "source": [
        "def describe_seqs(seqs):\n",
        "    print('Number of sequences: %d' % len(seqs.taxon_namespace))\n",
        "    print('First 10 taxon sets: %s' % ' '.join([taxon.label for taxon in seqs.taxon_namespace[:10]]))\n",
        "    lens = []\n",
        "    for tax, seq in seqs.items():\n",
        "        lens.append(len([x for x in seq.symbols_as_list() if x != '-']))\n",
        "    print('Genome length: min %d, mean %.1f, max %d' % (min(lens), sum(lens) / len(lens), max(lens)))"
      ]
    },
    {
      "cell_type": "markdown",
      "metadata": {
        "id": "uCNgt90efK8N"
      },
      "source": [
        "Our function takes a DnaCharacterMatrix DendroPy class and counts the number of\n",
        "taxons. Then, we extract all the amino acids per sequence (we exclude gaps identified by -) to\n",
        "compute the length and report the minimum, mean, and maximum sizes."
      ]
    },
    {
      "cell_type": "markdown",
      "metadata": {
        "id": "36qAN1pbfTGy"
      },
      "source": [
        "Let’s inspect the sequence of the EBOV genome and compute the basic statistics, as shown earlier:"
      ]
    },
    {
      "cell_type": "markdown",
      "metadata": {
        "id": "ujoBQi7Kfd4c"
      },
      "source": [
        "We then call a function and get 25 sequences with a minimum size of 18,700, a mean size of 18,925.2, and a maximum size of 18,959. This is a small genome when compared to eukaryotes.</br>\n",
        "Note that at the very end, the memory structure has been deleted. This is because the memory\n",
        "footprint is still quite big (DendroPy is a pure Python library and has some costs in terms of\n",
        "speed and memory). "
      ]
    },
    {
      "cell_type": "code",
      "execution_count": 7,
      "metadata": {
        "colab": {
          "base_uri": "https://localhost:8080/"
        },
        "id": "XRSi5SE8fSGb",
        "outputId": "2f6b9f1c-d2aa-4264-edd1-9fcac0be01e8"
      },
      "outputs": [
        {
          "name": "stdout",
          "output_type": "stream",
          "text": [
            "EBOV\n",
            "Number of sequences: 26\n",
            "First 10 taxon sets: EBOV_2014_KM034549 EBOV_2014_KM034550 EBOV_2014_KM034551 EBOV_2014_KM034552 EBOV_2014_KM034553 EBOV_2014_KM034554 EBOV_2014_KM034555 EBOV_2014_KM034556 EBOV_2014_KM034557 EBOV_2014_KM034558\n",
            "Genome length: min 18700, mean 18925.2, max 18959\n"
          ]
        }
      ],
      "source": [
        "ebov_seqs = dendropy.DnaCharacterMatrix.get_from_path('ebov.fasta', schema='fasta', data_type='dna')\n",
        "print('EBOV')\n",
        "describe_seqs(ebov_seqs)\n",
        "del ebov_seqs"
      ]
    },
    {
      "cell_type": "markdown",
      "metadata": {
        "id": "_Q2_EjQUfrHo"
      },
      "source": [
        "Now, let’s inspect the other Ebola virus genome file and count the number of different species:"
      ]
    },
    {
      "cell_type": "code",
      "execution_count": 8,
      "metadata": {
        "colab": {
          "base_uri": "https://localhost:8080/"
        },
        "id": "z-iwh5nKfu9W",
        "outputId": "ce6f832e-74b2-42c0-e011-72fdd49e7586"
      },
      "outputs": [
        {
          "name": "stdout",
          "output_type": "stream",
          "text": [
            "ebolavirus sequences\n",
            "Number of sequences: 18\n",
            "First 10 taxon sets: BDBV_KC545393 BDBV_KC545394 BDBV_KC545395 BDBV_KC545396 BDBV_FJ217161 RESTV_AB050936 RESTV_JX477165 RESTV_JX477166 RESTV_FJ621583 RESTV_FJ621584\n",
            "Genome length: min 18796, mean 18892.7, max 18940\n",
            "                BDBV: 5\n",
            "               RESTV: 6\n",
            "                SUDV: 6\n",
            "                TAFV: 1\n"
          ]
        }
      ],
      "source": [
        "print('ebolavirus sequences')\n",
        "ebolav_seqs = dendropy.DnaCharacterMatrix.get_from_path('other.fasta', schema='fasta', data_type='dna')\n",
        "describe_seqs(ebolav_seqs)\n",
        "from collections import defaultdict\n",
        "species = defaultdict(int)\n",
        "for taxon in ebolav_seqs.taxon_namespace:\n",
        "    toks = taxon.label.split('_')\n",
        "    my_species = toks[0]\n",
        "    if my_species == 'EBOV':\n",
        "        ident = '%s (%s)' % (my_species, toks[1])\n",
        "    else:\n",
        "        ident = my_species\n",
        "    species[ident] += 1\n",
        "for my_species, cnt in species.items():\n",
        "    print(\"%20s: %d\" % (my_species, cnt))\n",
        "del ebolav_seqs"
      ]
    },
    {
      "cell_type": "markdown",
      "metadata": {
        "id": "R2yVz4Whf0rG"
      },
      "source": [
        "The name prefix of each taxon is indicative of the species, and we leverage that to fill a dictionary\n",
        "of counts.</br>\n",
        "The output for the species and the EBOV breakdown is detailed next (with the legend as\n",
        "Bundibugyo virus=BDBV, Tai Forest virus=TAFV, Sudan virus=SUDV, and Reston virus=RESTV;\n",
        "we have 1 TAFV, 6 SUDV, 6 RESTV, and 5 BDBV)."
      ]
    },
    {
      "cell_type": "markdown",
      "metadata": {
        "id": "KrY730A9f84T"
      },
      "source": [
        "Let’s extract the basic statistics of a gene in the virus:"
      ]
    },
    {
      "cell_type": "code",
      "execution_count": 9,
      "metadata": {
        "colab": {
          "base_uri": "https://localhost:8080/"
        },
        "id": "HghDyAN_f9hZ",
        "outputId": "4a4126d8-62a3-42a5-a59f-384983085d22"
      },
      "outputs": [
        {
          "name": "stdout",
          "output_type": "stream",
          "text": [
            "    NP: 2218\n",
            "     L: 6636\n",
            "  VP35: 990\n",
            "  VP40: 988\n"
          ]
        }
      ],
      "source": [
        "import os\n",
        "gene_length = {}\n",
        "my_genes = ['NP', 'L', 'VP35', 'VP40']\n",
        "\n",
        "for name in my_genes:\n",
        "    gene_name = name.split('.')[0]\n",
        "    seqs = dendropy.DnaCharacterMatrix.get_from_path('%s.fasta' % name, schema='fasta', data_type='dna')\n",
        "    gene_length[gene_name] = []\n",
        "    for tax, seq in seqs.items():\n",
        "        gene_length[gene_name].append(len([x for x in seq.symbols_as_list() if x != '-']))\n",
        "for gene, lens in gene_length.items():\n",
        "    print ('%6s: %d' % (gene, sum(lens) / len(lens)))"
      ]
    },
    {
      "cell_type": "code",
      "execution_count": null,
      "metadata": {},
      "outputs": [],
      "source": [
        "!mkdir unt\n",
        "!mv *.fasta unt \n",
        "!zip -r unt.zip unt"
      ]
    }
  ],
  "metadata": {
    "colab": {
      "provenance": []
    },
    "kernelspec": {
      "display_name": "Python 3.9.13 64-bit (microsoft store)",
      "language": "python",
      "name": "python3"
    },
    "language_info": {
      "codemirror_mode": {
        "name": "ipython",
        "version": 3
      },
      "file_extension": ".py",
      "mimetype": "text/x-python",
      "name": "python",
      "nbconvert_exporter": "python",
      "pygments_lexer": "ipython3",
      "version": "3.9.13"
    },
    "vscode": {
      "interpreter": {
        "hash": "6b199708a8a367a754e59d199bd5ead14d4987a7a14841b8b6fed074981f6883"
      }
    }
  },
  "nbformat": 4,
  "nbformat_minor": 0
}
