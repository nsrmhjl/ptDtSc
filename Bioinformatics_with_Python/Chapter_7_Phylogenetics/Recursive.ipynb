{
 "cells": [
  {
   "cell_type": "markdown",
   "metadata": {},
   "source": [
    "# Playing recursively with trees"
   ]
  },
  {
   "cell_type": "markdown",
   "metadata": {},
   "source": [
    "This is not a book about programming in Python, as the topic is vast. Having said that, it’s not\n",
    "common for introductory Python books to discuss **recursive programming** at length. Usually, recursive\n",
    "programming techniques are well tailored to **deal with trees**. It is also a required programming strategy\n",
    "with functional programming dialects, which can be quite useful when you perform concurrent\n",
    "processing. This is common when processing very large datasets.\n",
    "\n",
    "The phylogenetic notion of a tree is slightly different from that in computer science. Phylogenetic trees\n",
    "can be **rooted** (if so, then they are normal tree data structures) or **unrooted**, making them undirected\n",
    "acyclic graphs. Additionally, phylogenetic trees can have **weights on their edges**. Therefore, be mindful\n",
    "of this when you read the documentation; if the text is written by a phylogeneticist, you can expect\n",
    "the tree (rooted and unrooted), while most other documents will use undirected acyclic graphs for\n",
    "unrooted trees. In this recipe, we will assume that all of the trees are rooted.\n",
    "\n",
    "Finally, note that while this recipe is mostly devised to help you understand recursive algorithms and\n",
    "tree-like structures, the final part is actually quite practical and fundamental for the next recipe to work."
   ]
  },
  {
   "cell_type": "code",
   "execution_count": 1,
   "metadata": {},
   "outputs": [],
   "source": [
    "import dendropy\n",
    "\n",
    "ebola_raxml = dendropy.Tree.get_from_path('my_ebola.nex', 'nexus')"
   ]
  },
  {
   "cell_type": "markdown",
   "metadata": {},
   "source": [
    "## Compute the level of each node:"
   ]
  },
  {
   "cell_type": "code",
   "execution_count": 2,
   "metadata": {},
   "outputs": [
    {
     "name": "stdout",
     "output_type": "stream",
     "text": [
      "'BDBV_KC545396 18728 bp': 2 2\n",
      "'BDBV_FJ217161 18728 bp': 3 3\n",
      "'TAFV_FJ217162 18728 bp': 4 4\n",
      "'EBOV_2014_KM034561 18728 bp': 11 11\n",
      "'EBOV_2014_KM034554 18728 bp': 11 11\n",
      "'EBOV_2014_KM034555 18728 bp': 10 10\n",
      "'EBOV_2014_KM034562 18728 bp': 10 10\n",
      "'EBOV_2014_KM034558 18728 bp': 12 12\n",
      "'EBOV_2014_KM034551 18728 bp': 12 12\n",
      "'EBOV_2014_KM034557 18728 bp': 13 13\n",
      "'EBOV_2014_KM034556 18728 bp': 14 14\n",
      "'EBOV_2014_KM034560 18728 bp': 14 14\n",
      "'EBOV_2014_KM034553 18728 bp': 13 13\n",
      "'EBOV_2014_KM034552 18728 bp': 13 13\n",
      "'EBOV_2014_KM034550 18728 bp': 9 9\n",
      "'EBOV_2014_KM034563 18728 bp': 10 10\n",
      "'EBOV_2014_KM034549 18728 bp': 10 10\n",
      "'EBOV_2014_KM034559 18728 bp': 7 7\n",
      "'EBOV_1995_KC242796 18728 bp': 9 9\n",
      "'EBOV_1995_KC242799 18728 bp': 9 9\n",
      "'EBOV_1976_KC242801 18728 bp': 9 9\n",
      "'EBOV_1976_AF272001 18728 bp': 9 9\n",
      "'EBOV_2007_KC242790 18728 bp': 9 9\n",
      "'EBOV_2007_KC242785 18728 bp': 9 9\n",
      "'EBOV_2007_KC242784 18728 bp': 9 9\n",
      "'EBOV_2007_KC242786 18728 bp': 11 11\n",
      "'EBOV_2007_KC242789 18728 bp': 11 11\n",
      "'EBOV_2007_KC242788 18728 bp': 11 11\n",
      "'EBOV_2007_KC242787 18728 bp': 11 11\n",
      "'RESTV_FJ621584 18728 bp': 7 7\n",
      "'RESTV_JX477165 18728 bp': 9 9\n",
      "'RESTV_FJ621583 18728 bp': 9 9\n",
      "'RESTV_AB050936 18728 bp': 10 10\n",
      "'RESTV_JX477166 18728 bp': 10 10\n",
      "'RESTV_FJ621585 18728 bp': 9 9\n",
      "'SUDV_KC589025 18728 bp': 8 8\n",
      "'SUDV_JN638998 18728 bp': 9 9\n",
      "'SUDV_AY729654 18728 bp': 9 9\n",
      "'SUDV_FJ968794 18728 bp': 9 9\n",
      "'SUDV_KC242783 18728 bp': 9 9\n",
      "'SUDV_EU338380 18728 bp': 8 8\n",
      "'BDBV_KC545394 18728 bp': 2 2\n",
      "'BDBV_KC545395 18728 bp': 2 2\n",
      "'BDBV_KC545393 18728 bp': 1 1\n"
     ]
    }
   ],
   "source": [
    "def compute_level(node, level=0):\n",
    "    for child in node.child_nodes():\n",
    "        compute_level(child, level + 1)\n",
    "    if node.taxon is not None:\n",
    "        print(\"%s: %d %d\" % (node.taxon, node.level(), level))\n",
    "\n",
    "compute_level(ebola_raxml.seed_node)"
   ]
  },
  {
   "cell_type": "markdown",
   "metadata": {},
   "source": [
    "DendroPy’s node representation has a level method (which is used for comparison), but the\n",
    "point here is to introduce a recursive algorithm, so we will implement it anyway.\n",
    "\n",
    "Note how the function works; it’s **called with seed_node** (which is the root node, since the\n",
    "code works under the assumption that we are dealing with rooted trees). The default level for\n",
    "the **root node is 0**. The function will then **call itself** for all its children nodes, increasing the\n",
    "level by one. Then, for each node that is not a leaf (that is, it is internal to the tree), the calling\n",
    "will be repeated, and this will recurse until we get to the leaf nodes.\n",
    "\n",
    "For the leaf nodes, we then print the level (we could have done the same for the internal nodes)\n",
    "and show the same information computed by DendroPy’s internal function."
   ]
  },
  {
   "cell_type": "markdown",
   "metadata": {},
   "source": [
    "## Compute the height of each node:"
   ]
  },
  {
   "cell_type": "code",
   "execution_count": 3,
   "metadata": {},
   "outputs": [
    {
     "name": "stdout",
     "output_type": "stream",
     "text": [
      "'BDBV_KC545396 18728 bp': 0 2\n",
      "'BDBV_FJ217161 18728 bp': 0 3\n",
      "'TAFV_FJ217162 18728 bp': 0 4\n",
      "'EBOV_2014_KM034561 18728 bp': 0 11\n",
      "'EBOV_2014_KM034554 18728 bp': 0 11\n",
      "Internal: 1 10\n",
      "'EBOV_2014_KM034555 18728 bp': 0 10\n",
      "Internal: 2 9\n",
      "'EBOV_2014_KM034562 18728 bp': 0 10\n",
      "'EBOV_2014_KM034558 18728 bp': 0 12\n",
      "'EBOV_2014_KM034551 18728 bp': 0 12\n",
      "Internal: 1 11\n",
      "'EBOV_2014_KM034557 18728 bp': 0 13\n",
      "'EBOV_2014_KM034556 18728 bp': 0 14\n",
      "'EBOV_2014_KM034560 18728 bp': 0 14\n",
      "Internal: 1 13\n",
      "Internal: 2 12\n",
      "'EBOV_2014_KM034553 18728 bp': 0 13\n",
      "'EBOV_2014_KM034552 18728 bp': 0 13\n",
      "Internal: 1 12\n",
      "Internal: 3 11\n",
      "Internal: 4 10\n",
      "Internal: 5 9\n",
      "Internal: 6 8\n",
      "'EBOV_2014_KM034550 18728 bp': 0 9\n",
      "'EBOV_2014_KM034563 18728 bp': 0 10\n",
      "'EBOV_2014_KM034549 18728 bp': 0 10\n",
      "Internal: 1 9\n",
      "Internal: 2 8\n",
      "Internal: 7 7\n",
      "'EBOV_2014_KM034559 18728 bp': 0 7\n",
      "Internal: 8 6\n",
      "'EBOV_1995_KC242796 18728 bp': 0 9\n",
      "'EBOV_1995_KC242799 18728 bp': 0 9\n",
      "Internal: 1 8\n",
      "'EBOV_1976_KC242801 18728 bp': 0 9\n",
      "'EBOV_1976_AF272001 18728 bp': 0 9\n",
      "Internal: 1 8\n",
      "Internal: 2 7\n",
      "'EBOV_2007_KC242790 18728 bp': 0 9\n",
      "'EBOV_2007_KC242785 18728 bp': 0 9\n",
      "Internal: 1 8\n",
      "'EBOV_2007_KC242784 18728 bp': 0 9\n",
      "'EBOV_2007_KC242786 18728 bp': 0 11\n",
      "'EBOV_2007_KC242789 18728 bp': 0 11\n",
      "Internal: 1 10\n",
      "'EBOV_2007_KC242788 18728 bp': 0 11\n",
      "'EBOV_2007_KC242787 18728 bp': 0 11\n",
      "Internal: 1 10\n",
      "Internal: 2 9\n",
      "Internal: 3 8\n",
      "Internal: 4 7\n",
      "Internal: 5 6\n",
      "Internal: 9 5\n",
      "'RESTV_FJ621584 18728 bp': 0 7\n",
      "'RESTV_JX477165 18728 bp': 0 9\n",
      "'RESTV_FJ621583 18728 bp': 0 9\n",
      "Internal: 1 8\n",
      "'RESTV_AB050936 18728 bp': 0 10\n",
      "'RESTV_JX477166 18728 bp': 0 10\n",
      "Internal: 1 9\n",
      "'RESTV_FJ621585 18728 bp': 0 9\n",
      "Internal: 2 8\n",
      "Internal: 3 7\n",
      "Internal: 4 6\n",
      "'SUDV_KC589025 18728 bp': 0 8\n",
      "'SUDV_JN638998 18728 bp': 0 9\n",
      "'SUDV_AY729654 18728 bp': 0 9\n",
      "Internal: 1 8\n",
      "Internal: 2 7\n",
      "'SUDV_FJ968794 18728 bp': 0 9\n",
      "'SUDV_KC242783 18728 bp': 0 9\n",
      "Internal: 1 8\n",
      "'SUDV_EU338380 18728 bp': 0 8\n",
      "Internal: 2 7\n",
      "Internal: 3 6\n",
      "Internal: 5 5\n",
      "Internal: 10 4\n",
      "Internal: 11 3\n",
      "Internal: 12 2\n",
      "Internal: 13 1\n",
      "'BDBV_KC545394 18728 bp': 0 2\n",
      "'BDBV_KC545395 18728 bp': 0 2\n",
      "Internal: 1 1\n",
      "'BDBV_KC545393 18728 bp': 0 1\n",
      "Internal: 14 0\n"
     ]
    },
    {
     "data": {
      "text/plain": [
       "14"
      ]
     },
     "execution_count": 3,
     "metadata": {},
     "output_type": "execute_result"
    }
   ],
   "source": [
    "def compute_height(node):\n",
    "    children = node.child_nodes()\n",
    "    if len(children) == 0:\n",
    "        height = 0\n",
    "    else:\n",
    "        height = 1 + max(map(lambda x: compute_height(x), children))\n",
    "    desc = node.taxon or 'Internal'\n",
    "    print(\"%s: %d %d\" % (desc, height, node.level()))\n",
    "    return height\n",
    "\n",
    "compute_height(ebola_raxml.seed_node)"
   ]
  },
  {
   "cell_type": "markdown",
   "metadata": {},
   "source": [
    "Here, we will use the same recursive strategy, but each node will return its height to its parent.\n",
    "If the node is a leaf, then the height is 0; if not, then it’s 1 plus the maximum height of its\n",
    "entire offspring.\n",
    "\n",
    "Note that we use a map over a lambda function to get the heights of all the children of the current\n",
    "node. Then, we choose the maximum (the max function performs a reduce operation here\n",
    "because it summarizes all of the values that are reported). If you are relating this to MapReduce\n",
    "frameworks, you are correct; they are inspired by functional programming dialects like these."
   ]
  },
  {
   "cell_type": "markdown",
   "metadata": {},
   "source": [
    "## Compute the number of offspring for each node:"
   ]
  },
  {
   "cell_type": "code",
   "execution_count": 13,
   "metadata": {},
   "outputs": [
    {
     "name": "stdout",
     "output_type": "stream",
     "text": [
      "Internal: 3 0\n"
     ]
    }
   ],
   "source": [
    "def compute_nofs(node):\n",
    "    children = node.child_nodes()\n",
    "    nofs= len(children)\n",
    "    map(lambda x: compute_nofs(x), children)\n",
    "    desc = node.taxon or 'Internal'\n",
    "    print(\"%s: %d %d\" % (desc, nofs, node.level()))\n",
    "\n",
    "compute_nofs(ebola_raxml.seed_node)"
   ]
  },
  {
   "cell_type": "markdown",
   "metadata": {},
   "source": [
    "## print all of the leaves"
   ]
  },
  {
   "cell_type": "code",
   "execution_count": 6,
   "metadata": {},
   "outputs": [
    {
     "name": "stdout",
     "output_type": "stream",
     "text": [
      "'BDBV_KC545396 18728 bp' (2)\n",
      "'BDBV_FJ217161 18728 bp' (3)\n",
      "'TAFV_FJ217162 18728 bp' (4)\n",
      "'EBOV_2014_KM034561 18728 bp' (11)\n",
      "'EBOV_2014_KM034554 18728 bp' (11)\n",
      "'EBOV_2014_KM034555 18728 bp' (10)\n",
      "'EBOV_2014_KM034562 18728 bp' (10)\n",
      "'EBOV_2014_KM034558 18728 bp' (12)\n",
      "'EBOV_2014_KM034551 18728 bp' (12)\n",
      "'EBOV_2014_KM034557 18728 bp' (13)\n",
      "'EBOV_2014_KM034556 18728 bp' (14)\n",
      "'EBOV_2014_KM034560 18728 bp' (14)\n",
      "'EBOV_2014_KM034553 18728 bp' (13)\n",
      "'EBOV_2014_KM034552 18728 bp' (13)\n",
      "'EBOV_2014_KM034550 18728 bp' (9)\n",
      "'EBOV_2014_KM034563 18728 bp' (10)\n",
      "'EBOV_2014_KM034549 18728 bp' (10)\n",
      "'EBOV_2014_KM034559 18728 bp' (7)\n",
      "'EBOV_1995_KC242796 18728 bp' (9)\n",
      "'EBOV_1995_KC242799 18728 bp' (9)\n",
      "'EBOV_1976_KC242801 18728 bp' (9)\n",
      "'EBOV_1976_AF272001 18728 bp' (9)\n",
      "'EBOV_2007_KC242790 18728 bp' (9)\n",
      "'EBOV_2007_KC242785 18728 bp' (9)\n",
      "'EBOV_2007_KC242784 18728 bp' (9)\n",
      "'EBOV_2007_KC242786 18728 bp' (11)\n",
      "'EBOV_2007_KC242789 18728 bp' (11)\n",
      "'EBOV_2007_KC242788 18728 bp' (11)\n",
      "'EBOV_2007_KC242787 18728 bp' (11)\n",
      "'RESTV_FJ621584 18728 bp' (7)\n",
      "'RESTV_JX477165 18728 bp' (9)\n",
      "'RESTV_FJ621583 18728 bp' (9)\n",
      "'RESTV_AB050936 18728 bp' (10)\n",
      "'RESTV_JX477166 18728 bp' (10)\n",
      "'RESTV_FJ621585 18728 bp' (9)\n",
      "'SUDV_KC589025 18728 bp' (8)\n",
      "'SUDV_JN638998 18728 bp' (9)\n",
      "'SUDV_AY729654 18728 bp' (9)\n",
      "'SUDV_FJ968794 18728 bp' (9)\n",
      "'SUDV_KC242783 18728 bp' (9)\n",
      "'SUDV_EU338380 18728 bp' (8)\n",
      "'BDBV_KC545394 18728 bp' (2)\n",
      "'BDBV_KC545395 18728 bp' (2)\n",
      "'BDBV_KC545393 18728 bp' (1)\n"
     ]
    }
   ],
   "source": [
    "def print_nodes(node):\n",
    "    for child in node.child_nodes():\n",
    "        print_nodes(child)\n",
    "    if node.taxon is not None:\n",
    "        print('%s (%d)' % (node.taxon, node.level()))\n",
    "\n",
    "print_nodes(ebola_raxml.seed_node)"
   ]
  },
  {
   "cell_type": "markdown",
   "metadata": {},
   "source": [
    "Note that all the functions that we have developed so far impose a very clear traversal pattern\n",
    "on the tree. It calls its first offspring, then that offspring will call their offspring, and so on; only\n",
    "after this will the function be able to call its next offspring in a **depth-first** pattern. However,\n",
    "we can do things differently."
   ]
  },
  {
   "cell_type": "code",
   "execution_count": 14,
   "metadata": {},
   "outputs": [
    {
     "name": "stdout",
     "output_type": "stream",
     "text": [
      "'BDBV_KC545393 18728 bp' (1)\n",
      "'BDBV_KC545396 18728 bp' (2)\n",
      "'BDBV_KC545394 18728 bp' (2)\n",
      "'BDBV_KC545395 18728 bp' (2)\n",
      "'BDBV_FJ217161 18728 bp' (3)\n",
      "'TAFV_FJ217162 18728 bp' (4)\n",
      "'EBOV_2014_KM034559 18728 bp' (7)\n",
      "'RESTV_FJ621584 18728 bp' (7)\n",
      "'SUDV_KC589025 18728 bp' (8)\n",
      "'SUDV_EU338380 18728 bp' (8)\n",
      "'EBOV_2014_KM034550 18728 bp' (9)\n",
      "'EBOV_1995_KC242796 18728 bp' (9)\n",
      "'EBOV_1995_KC242799 18728 bp' (9)\n",
      "'EBOV_1976_KC242801 18728 bp' (9)\n",
      "'EBOV_1976_AF272001 18728 bp' (9)\n",
      "'EBOV_2007_KC242790 18728 bp' (9)\n",
      "'EBOV_2007_KC242785 18728 bp' (9)\n",
      "'EBOV_2007_KC242784 18728 bp' (9)\n",
      "'RESTV_JX477165 18728 bp' (9)\n",
      "'RESTV_FJ621583 18728 bp' (9)\n",
      "'RESTV_FJ621585 18728 bp' (9)\n",
      "'SUDV_JN638998 18728 bp' (9)\n",
      "'SUDV_AY729654 18728 bp' (9)\n",
      "'SUDV_FJ968794 18728 bp' (9)\n",
      "'SUDV_KC242783 18728 bp' (9)\n",
      "'EBOV_2014_KM034555 18728 bp' (10)\n",
      "'EBOV_2014_KM034562 18728 bp' (10)\n",
      "'EBOV_2014_KM034563 18728 bp' (10)\n",
      "'EBOV_2014_KM034549 18728 bp' (10)\n",
      "'RESTV_AB050936 18728 bp' (10)\n",
      "'RESTV_JX477166 18728 bp' (10)\n",
      "'EBOV_2014_KM034561 18728 bp' (11)\n",
      "'EBOV_2014_KM034554 18728 bp' (11)\n",
      "'EBOV_2007_KC242786 18728 bp' (11)\n",
      "'EBOV_2007_KC242789 18728 bp' (11)\n",
      "'EBOV_2007_KC242788 18728 bp' (11)\n",
      "'EBOV_2007_KC242787 18728 bp' (11)\n",
      "'EBOV_2014_KM034558 18728 bp' (12)\n",
      "'EBOV_2014_KM034551 18728 bp' (12)\n",
      "'EBOV_2014_KM034557 18728 bp' (13)\n",
      "'EBOV_2014_KM034553 18728 bp' (13)\n",
      "'EBOV_2014_KM034552 18728 bp' (13)\n",
      "'EBOV_2014_KM034556 18728 bp' (14)\n",
      "'EBOV_2014_KM034560 18728 bp' (14)\n"
     ]
    }
   ],
   "source": [
    "from collections import deque\n",
    "\n",
    "def print_breadth(tree):\n",
    "    queue = deque()\n",
    "    queue.append(tree.seed_node)\n",
    "    while len(queue) > 0:\n",
    "        process_node = queue.popleft()\n",
    "        if process_node.taxon is not None:\n",
    "            print('%s (%d)' % (process_node.taxon, process_node.level()))\n",
    "        else:\n",
    "            for child in process_node.child_nodes():\n",
    "                queue.append(child)\n",
    "\n",
    "print_breadth(ebola_raxml)"
   ]
  },
  {
   "cell_type": "markdown",
   "metadata": {},
   "source": [
    "Let’s get back to the real dataset. As we have a bit too much data to visualize, we will generate\n",
    "a trimmed-down version, where we remove the subtrees that have single species (in the case\n",
    "of EBOV, they have the same outbreak). We will also ladderize the tree, that is, sort the child\n",
    "nodes in order of the number of children"
   ]
  },
  {
   "cell_type": "code",
   "execution_count": 15,
   "metadata": {},
   "outputs": [
    {
     "name": "stdout",
     "output_type": "stream",
     "text": [
      "{'BDBV'} 1\n",
      "{'BDBV'} 1\n",
      "{'TAFV'} 1\n",
      "{'EBOV2014'} 15\n",
      "{'EBOV1995'} 2\n",
      "{'EBOV1976'} 2\n",
      "{'EBOV2007'} 7\n",
      "{'RESTV'} 6\n",
      "{'SUDV'} 6\n",
      "{'BDBV'} 2\n",
      "{'BDBV'} 1\n"
     ]
    }
   ],
   "source": [
    "from copy import deepcopy\n",
    "simple_ebola = deepcopy(ebola_raxml)\n",
    "\n",
    "def simplify_tree(node):\n",
    "    prefs = set()\n",
    "    for leaf in node.leaf_nodes():\n",
    "        my_toks = leaf.taxon.label.split(' ')[0].split('_')\n",
    "        if my_toks[0] == 'EBOV':\n",
    "            prefs.add('EBOV' + my_toks[1])\n",
    "        else:\n",
    "            prefs.add(my_toks[0])\n",
    "    if len(prefs) == 1:\n",
    "        print(prefs, len(node.leaf_nodes()))\n",
    "        node.taxon = dendropy.Taxon(label=list(prefs)[0])\n",
    "        #node.collapse_clade()\n",
    "        node.set_child_nodes([])\n",
    "    else:\n",
    "        for child in node.child_nodes():\n",
    "            simplify_tree(child)\n",
    "\n",
    "simplify_tree(simple_ebola.seed_node)\n",
    "simple_ebola.ladderize()\n",
    "simple_ebola.write_to_path('ebola_simple.nex', 'nexus')"
   ]
  },
  {
   "cell_type": "markdown",
   "metadata": {},
   "source": [
    "We will perform a **deep copy** of the tree structure. As our function and the **ladderization** are **destructive**\n",
    "(they will change the tree), we will want to maintain the original tree.\n",
    "\n",
    "DendroPy is able to enumerate all the leaf nodes (at this stage, a good exercise would be to write a\n",
    "function to perform this). With this functionality, we will get all the leaves for a certain node. If they\n",
    "share the same species and outbreak year as in the case of EBOV, we remove all of the child nodes,\n",
    "leaves, and internal subtree nodes."
   ]
  },
  {
   "cell_type": "markdown",
   "metadata": {},
   "source": []
  }
 ],
 "metadata": {
  "kernelspec": {
   "display_name": "Python 3.9.13 64-bit (microsoft store)",
   "language": "python",
   "name": "python3"
  },
  "language_info": {
   "codemirror_mode": {
    "name": "ipython",
    "version": 3
   },
   "file_extension": ".py",
   "mimetype": "text/x-python",
   "name": "python",
   "nbconvert_exporter": "python",
   "pygments_lexer": "ipython3",
   "version": "3.9.13"
  },
  "orig_nbformat": 4,
  "vscode": {
   "interpreter": {
    "hash": "6b199708a8a367a754e59d199bd5ead14d4987a7a14841b8b6fed074981f6883"
   }
  }
 },
 "nbformat": 4,
 "nbformat_minor": 2
}
