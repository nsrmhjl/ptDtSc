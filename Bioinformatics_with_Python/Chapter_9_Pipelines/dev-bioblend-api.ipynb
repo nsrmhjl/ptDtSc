{
  "cells": [
    {
      "cell_type": "markdown",
      "id": "metadata",
      "metadata": {
        "collapsed": false,
        "editable": false
      },
      "source": [
        "<div style=\"border: 2px solid #8A9AD0; margin: 1em 0.2em; padding: 0.5em;\">\n",
        "\n",
        "# Scripting Galaxy using the API and BioBlend\n",
        "\n",
        "by [Nicola Soranzo](https://training.galaxyproject.org/hall-of-fame/nsoranzo/), [Clare Sloggett](https://training.galaxyproject.org/hall-of-fame/claresloggett/), [Nitesh Turaga](https://training.galaxyproject.org/hall-of-fame/nturaga/), [Helena Rasche](https://training.galaxyproject.org/hall-of-fame/hexylena/)\n",
        "\n",
        "CC-BY licensed content from the [Galaxy Training Network](https://training.galaxyproject.org/)\n",
        "\n",
        "**Objectives**\n",
        "\n",
        "- What is a REST API?\n",
        "- How to interact with Galaxy programmatically?\n",
        "- Why and when should I use BioBlend?\n",
        "\n",
        "**Objectives**\n",
        "\n",
        "- Interact with Galaxy via BioBlend.\n",
        "\n",
        "**Time Estimation: 2h**\n",
        "</div>\n"
      ]
    },
    {
      "cell_type": "markdown",
      "id": "cell-0",
      "metadata": {
        "collapsed": false,
        "editable": false
      },
      "source": [
        "<blockquote class=\"agenda\" style=\"border: 2px solid #86D486;display: none; margin: 1em 0.2em\">\n",
        "<div class=\"box-title\" aria-label=\"agenda box: Agenda\" style=\"font-size: 150%\"> Agenda</div>\n",
        "<p>In this tutorial, we will cover:</p>\n",
        "<ol id=\"markdown-toc\">\n",
        "<li><a href=\"#interacting-with-histories-in-galaxy-api\" id=\"markdown-toc-interacting-with-histories-in-galaxy-api\">Interacting with histories in Galaxy API</a></li>\n",
        "</ol>\n",
        "</blockquote>\n",
        "<h1 id=\"interacting-with-histories-in-galaxy-api\">Interacting with histories in Galaxy API</h1>\n",
        "<p>We are going to use the <a href=\"https://requests.readthedocs.io/\">requests</a> Python library to communicate via HTTP with the Galaxy server. To start, let’s define the connection parameters.</p>\n",
        "<p><strong>You need to insert the API key for your Galaxy server in the cell below</strong>:</p>\n",
        "<ol>\n",
        "<li>Open the Galaxy server in another browser tab</li>\n",
        "<li>Click on “User” on the top menu, then “Preferences”</li>\n",
        "<li>Click on “Manage API key”</li>\n",
        "<li>Generate an API key if needed, then copy the alphanumeric string and paste it as the value of the <code style=\"color: inherit\">api_key</code> variable below.</li>\n",
        "</ol>\n"
      ]
    },
    {
      "cell_type": "code",
      "execution_count": 1,
      "id": "cell-1",
      "metadata": {
        "attributes": {
          "classes": [
            "python"
          ],
          "id": ""
        }
      },
      "outputs": [
        {
          "data": {
            "text/plain": [
              "'https://usegalaxy.org.au/api'"
            ]
          },
          "execution_count": 1,
          "metadata": {},
          "output_type": "execute_result"
        }
      ],
      "source": [
        "import json\n",
        "from pprint import pprint\n",
        "from urllib.parse import urljoin\n",
        "\n",
        "import requests\n",
        "\n",
        "server = 'https://usegalaxy.org.au/'\n",
        "api_key = ''\n",
        "base_url = urljoin(server, 'api')\n",
        "base_url"
      ]
    },
    {
      "cell_type": "markdown",
      "id": "cell-2",
      "metadata": {
        "collapsed": false,
        "editable": false
      },
      "source": [
        "<p>We now make a GET request to retrieve all histories owned by a user:</p>\n"
      ]
    },
    {
      "cell_type": "code",
      "execution_count": 4,
      "id": "cell-3",
      "metadata": {
        "attributes": {
          "classes": [
            "python"
          ],
          "id": ""
        }
      },
      "outputs": [
        {
          "name": "stdout",
          "output_type": "stream",
          "text": [
            "[{\"model_class\":\"History\",\"id\":\"58f34969acce5264\",\"name\":\"peaks2genes\",\"deleted\":false,\"purged\":false,\"url\":\"/api/histories/58f34969acce5264\",\"published\":false,\"annotation\":null,\"tags\":[],\"update_time\":\"2022-12-22T22:29:29.781985\"},{\"model_class\":\"History\",\"id\":\"fa4d554a2743d8cc\",\"name\":\"rerun 'tutorial1'\",\"deleted\":false,\"purged\":false,\"url\":\"/api/histories/fa4d554a2743d8cc\",\"published\":false,\"annotation\":null,\"tags\":[],\"update_time\":\"2022-12-21T11:35:17.151256\"},{\"model_class\":\"History\",\"id\":\"803e16fd91546984\",\"name\":\"tutorial1\",\"deleted\":false,\"purged\":false,\"url\":\"/api/histories/803e16fd91546984\",\"published\":false,\"annotation\":null,\"tags\":[],\"update_time\":\"2022-12-21T11:30:28.397699\"}]\n",
            "[{'annotation': None,\n",
            "  'deleted': False,\n",
            "  'id': '58f34969acce5264',\n",
            "  'model_class': 'History',\n",
            "  'name': 'peaks2genes',\n",
            "  'published': False,\n",
            "  'purged': False,\n",
            "  'tags': [],\n",
            "  'update_time': '2022-12-22T22:29:29.781985',\n",
            "  'url': '/api/histories/58f34969acce5264'},\n",
            " {'annotation': None,\n",
            "  'deleted': False,\n",
            "  'id': 'fa4d554a2743d8cc',\n",
            "  'model_class': 'History',\n",
            "  'name': \"rerun 'tutorial1'\",\n",
            "  'published': False,\n",
            "  'purged': False,\n",
            "  'tags': [],\n",
            "  'update_time': '2022-12-21T11:35:17.151256',\n",
            "  'url': '/api/histories/fa4d554a2743d8cc'},\n",
            " {'annotation': None,\n",
            "  'deleted': False,\n",
            "  'id': '803e16fd91546984',\n",
            "  'model_class': 'History',\n",
            "  'name': 'tutorial1',\n",
            "  'published': False,\n",
            "  'purged': False,\n",
            "  'tags': [],\n",
            "  'update_time': '2022-12-21T11:30:28.397699',\n",
            "  'url': '/api/histories/803e16fd91546984'}]\n"
          ]
        }
      ],
      "source": [
        "headers = {\"Content-Type\": \"application/json\", \"x-api-key\": api_key}\n",
        "r = requests.get(base_url + \"/histories\", headers=headers)\n",
        "print(r.text)\n",
        "hists = r.json()\n",
        "pprint(hists)"
      ]
    },
    {
      "cell_type": "markdown",
      "id": "cell-4",
      "metadata": {
        "collapsed": false,
        "editable": false
      },
      "source": [
        "<p>As you can see, GET requests in Galaxy API return JSON strings, which need to be <strong>deserialized</strong> into Python data structures. In particular, GETting a resource collection returns a list of dictionaries.</p>\n",
        "<p>Each dictionary returned when GETting a resource collection gives basic info about a resource, e.g. for a history you have:</p>\n",
        "<ul>\n",
        "<li><code style=\"color: inherit\">id</code>: the unique <strong>identifier</strong> of the history, needed for all specific requests about this resource</li>\n",
        "<li><code style=\"color: inherit\">name</code>: the name of this history as given by the user</li>\n",
        "<li><code style=\"color: inherit\">deleted</code>: whether the history has been deleted.</li>\n",
        "</ul>\n",
        "<p>There is no readily-available filtering capability, but it’s not difficult to filter histories <strong>by name</strong>:</p>\n"
      ]
    },
    {
      "cell_type": "code",
      "execution_count": 5,
      "id": "cell-5",
      "metadata": {
        "attributes": {
          "classes": [
            "python"
          ],
          "id": ""
        }
      },
      "outputs": [
        {
          "name": "stdout",
          "output_type": "stream",
          "text": [
            "[]\n"
          ]
        }
      ],
      "source": [
        "pprint([_ for _ in hists if _['name'] == 'Unnamed history'])"
      ]
    },
    {
      "cell_type": "markdown",
      "id": "cell-6",
      "metadata": {
        "collapsed": false,
        "editable": false
      },
      "source": [
        "<p>If you are interested in more <strong>details</strong> about a given resource, you just need to append its <code style=\"color: inherit\">id</code> to the previous collection request, e.g. to the get more info for a history:</p>\n"
      ]
    },
    {
      "cell_type": "code",
      "execution_count": 6,
      "id": "cell-7",
      "metadata": {
        "attributes": {
          "classes": [
            "python"
          ],
          "id": ""
        }
      },
      "outputs": [
        {
          "name": "stdout",
          "output_type": "stream",
          "text": [
            "58f34969acce5264\n",
            "{'annotation': None,\n",
            " 'contents_url': '/api/histories/58f34969acce5264/contents',\n",
            " 'create_time': '2022-12-21T12:24:18.963622',\n",
            " 'deleted': False,\n",
            " 'empty': False,\n",
            " 'genome_build': '?',\n",
            " 'hid_counter': 15,\n",
            " 'id': '58f34969acce5264',\n",
            " 'importable': False,\n",
            " 'model_class': 'History',\n",
            " 'name': 'peaks2genes',\n",
            " 'published': False,\n",
            " 'purged': False,\n",
            " 'size': 40136066,\n",
            " 'slug': None,\n",
            " 'state': 'ok',\n",
            " 'state_details': {'deferred': 0,\n",
            "                   'discarded': 0,\n",
            "                   'empty': 0,\n",
            "                   'error': 0,\n",
            "                   'failed_metadata': 0,\n",
            "                   'new': 0,\n",
            "                   'ok': 10,\n",
            "                   'paused': 0,\n",
            "                   'queued': 0,\n",
            "                   'running': 0,\n",
            "                   'setting_metadata': 0,\n",
            "                   'upload': 0},\n",
            " 'state_ids': {'deferred': [],\n",
            "               'discarded': [],\n",
            "               'empty': [],\n",
            "               'error': [],\n",
            "               'failed_metadata': [],\n",
            "               'new': [],\n",
            "               'ok': ['a6e389a98c2d16780bdc7c4fa9b96e8d',\n",
            "                      'a6e389a98c2d1678ab162dea24373f79',\n",
            "                      'a6e389a98c2d1678e1e2b9464ae1e7e2',\n",
            "                      'a6e389a98c2d1678fa20c0f8287d6296',\n",
            "                      'a6e389a98c2d16781af9279915d25768',\n",
            "                      'a6e389a98c2d16782ee139b745ee7e0d',\n",
            "                      'a6e389a98c2d16784b28668ce3ea690a',\n",
            "                      'a6e389a98c2d16787839c0e1933f3e90',\n",
            "                      'a6e389a98c2d1678f3d0695bc070e699',\n",
            "                      'a6e389a98c2d1678bc7f2647abfc60ed',\n",
            "                      'a6e389a98c2d167874d2ec85507d8c4b',\n",
            "                      'a6e389a98c2d167868cbfb2218d0e7eb',\n",
            "                      'a6e389a98c2d1678e3396f3de9bce1c6',\n",
            "                      'a6e389a98c2d16784fd3a37578f2aae2'],\n",
            "               'paused': [],\n",
            "               'queued': [],\n",
            "               'running': [],\n",
            "               'setting_metadata': [],\n",
            "               'upload': []},\n",
            " 'tags': [],\n",
            " 'update_time': '2022-12-22T22:29:29.781985',\n",
            " 'url': '/api/histories/58f34969acce5264',\n",
            " 'user_id': 'cd2e36f102de08d1',\n",
            " 'username_and_slug': None}\n"
          ]
        }
      ],
      "source": [
        "hist0_id = hists[0]['id']\n",
        "print(hist0_id)\n",
        "r = requests.get(base_url + \"/histories/\" + hist0_id, headers=headers)\n",
        "pprint(r.json())"
      ]
    },
    {
      "cell_type": "markdown",
      "id": "cell-8",
      "metadata": {
        "collapsed": false,
        "editable": false
      },
      "source": [
        "<p>As you can see, there are much more entries in the returned dictionary, e.g.:</p>\n",
        "<ul>\n",
        "<li><code style=\"color: inherit\">create_time</code></li>\n",
        "<li><code style=\"color: inherit\">size</code>: total disk space used by the history</li>\n",
        "<li><code style=\"color: inherit\">state_ids</code>: ids of history datasets for each possible state.</li>\n",
        "</ul>\n",
        "<p>To get the list of <strong>datasets contained</strong> in a history, simply append <code style=\"color: inherit\">/contents</code> to the previous resource request.</p>\n"
      ]
    },
    {
      "cell_type": "code",
      "execution_count": 7,
      "id": "cell-9",
      "metadata": {
        "attributes": {
          "classes": [
            "python"
          ],
          "id": ""
        }
      },
      "outputs": [
        {
          "name": "stdout",
          "output_type": "stream",
          "text": [
            "[{'create_time': '2022-12-21T12:25:49.771598',\n",
            "  'dataset_id': 'a6e389a98c2d167868c147aa7ac41a8f',\n",
            "  'deleted': True,\n",
            "  'extension': 'mothur.quan',\n",
            "  'hid': 1,\n",
            "  'history_content_type': 'dataset',\n",
            "  'history_id': '58f34969acce5264',\n",
            "  'id': 'a6e389a98c2d16780bdc7c4fa9b96e8d',\n",
            "  'name': '?acc=GSE37268&format=file&file=GSE37268%5Fmof3%2Eout%2Ehpeak%2Etxt%2Egz',\n",
            "  'purged': False,\n",
            "  'state': 'ok',\n",
            "  'tags': [],\n",
            "  'type': 'file',\n",
            "  'type_id': 'dataset-a6e389a98c2d16780bdc7c4fa9b96e8d',\n",
            "  'update_time': '2022-12-21T12:28:59.157579',\n",
            "  'url': '/api/histories/58f34969acce5264/contents/a6e389a98c2d16780bdc7c4fa9b96e8d',\n",
            "  'visible': True},\n",
            " {'create_time': '2022-12-21T12:29:59.291446',\n",
            "  'dataset_id': 'a6e389a98c2d16785960a3c9d8a5f5de',\n",
            "  'deleted': False,\n",
            "  'extension': 'interval',\n",
            "  'hid': 2,\n",
            "  'history_content_type': 'dataset',\n",
            "  'history_id': '58f34969acce5264',\n",
            "  'id': 'a6e389a98c2d1678ab162dea24373f79',\n",
            "  'name': ' GSE37268_mof3.out.hpeak.txt.gz',\n",
            "  'purged': False,\n",
            "  'state': 'ok',\n",
            "  'tags': ['name:peaks2genes'],\n",
            "  'type': 'file',\n",
            "  'type_id': 'dataset-a6e389a98c2d1678ab162dea24373f79',\n",
            "  'update_time': '2022-12-21T13:44:36.341675',\n",
            "  'url': '/api/histories/58f34969acce5264/contents/a6e389a98c2d1678ab162dea24373f79',\n",
            "  'visible': True},\n",
            " {'create_time': '2022-12-21T13:03:50.897490',\n",
            "  'dataset_id': 'a6e389a98c2d1678c78341377539242e',\n",
            "  'deleted': False,\n",
            "  'extension': 'bed',\n",
            "  'hid': 3,\n",
            "  'history_content_type': 'dataset',\n",
            "  'history_id': '58f34969acce5264',\n",
            "  'id': 'a6e389a98c2d1678e1e2b9464ae1e7e2',\n",
            "  'name': 'Genes',\n",
            "  'purged': False,\n",
            "  'state': 'ok',\n",
            "  'tags': ['name:genes'],\n",
            "  'type': 'file',\n",
            "  'type_id': 'dataset-a6e389a98c2d1678e1e2b9464ae1e7e2',\n",
            "  'update_time': '2022-12-22T22:14:31.518018',\n",
            "  'url': '/api/histories/58f34969acce5264/contents/a6e389a98c2d1678e1e2b9464ae1e7e2',\n",
            "  'visible': True},\n",
            " {'create_time': '2022-12-21T13:36:31.668777',\n",
            "  'dataset_id': 'a6e389a98c2d1678fb306990813176de',\n",
            "  'deleted': False,\n",
            "  'extension': 'interval',\n",
            "  'hid': 4,\n",
            "  'history_content_type': 'dataset',\n",
            "  'history_id': '58f34969acce5264',\n",
            "  'id': 'a6e389a98c2d1678fa20c0f8287d6296',\n",
            "  'name': 'Select last on data 2',\n",
            "  'purged': False,\n",
            "  'state': 'ok',\n",
            "  'tags': ['name:peaks2genes'],\n",
            "  'type': 'file',\n",
            "  'type_id': 'dataset-a6e389a98c2d1678fa20c0f8287d6296',\n",
            "  'update_time': '2022-12-21T13:36:39.099714',\n",
            "  'url': '/api/histories/58f34969acce5264/contents/a6e389a98c2d1678fa20c0f8287d6296',\n",
            "  'visible': True},\n",
            " {'create_time': '2022-12-21T13:44:36.342732',\n",
            "  'dataset_id': 'a6e389a98c2d1678c37f28f1e024de96',\n",
            "  'deleted': False,\n",
            "  'extension': 'interval',\n",
            "  'hid': 5,\n",
            "  'history_content_type': 'dataset',\n",
            "  'history_id': '58f34969acce5264',\n",
            "  'id': 'a6e389a98c2d16781af9279915d25768',\n",
            "  'name': 'chr prefix added',\n",
            "  'purged': False,\n",
            "  'state': 'ok',\n",
            "  'tags': ['name:peaks2genes'],\n",
            "  'type': 'file',\n",
            "  'type_id': 'dataset-a6e389a98c2d16781af9279915d25768',\n",
            "  'update_time': '2022-12-21T13:49:32.711494',\n",
            "  'url': '/api/histories/58f34969acce5264/contents/a6e389a98c2d16781af9279915d25768',\n",
            "  'visible': True},\n",
            " {'create_time': '2022-12-21T13:46:41.688020',\n",
            "  'dataset_id': 'a6e389a98c2d16783f35bb847dc00d60',\n",
            "  'deleted': True,\n",
            "  'extension': 'interval',\n",
            "  'hid': 6,\n",
            "  'history_content_type': 'dataset',\n",
            "  'history_id': '58f34969acce5264',\n",
            "  'id': 'a6e389a98c2d16782ee139b745ee7e0d',\n",
            "  'name': 'Replace Text on data 5',\n",
            "  'purged': False,\n",
            "  'state': 'ok',\n",
            "  'tags': ['name:peaks2genes'],\n",
            "  'type': 'file',\n",
            "  'type_id': 'dataset-a6e389a98c2d16782ee139b745ee7e0d',\n",
            "  'update_time': '2022-12-21T13:46:54.182374',\n",
            "  'url': '/api/histories/58f34969acce5264/contents/a6e389a98c2d16782ee139b745ee7e0d',\n",
            "  'visible': True},\n",
            " {'create_time': '2022-12-21T13:49:32.712500',\n",
            "  'dataset_id': 'a6e389a98c2d16783917de1c5335afb7',\n",
            "  'deleted': False,\n",
            "  'extension': 'interval',\n",
            "  'hid': 7,\n",
            "  'history_content_type': 'dataset',\n",
            "  'history_id': '58f34969acce5264',\n",
            "  'id': 'a6e389a98c2d16784b28668ce3ea690a',\n",
            "  'name': 'Peak regions',\n",
            "  'purged': False,\n",
            "  'state': 'ok',\n",
            "  'tags': ['name:peaks2genes'],\n",
            "  'type': 'file',\n",
            "  'type_id': 'dataset-a6e389a98c2d16784b28668ce3ea690a',\n",
            "  'update_time': '2022-12-22T22:16:15.510828',\n",
            "  'url': '/api/histories/58f34969acce5264/contents/a6e389a98c2d16784b28668ce3ea690a',\n",
            "  'visible': True},\n",
            " {'create_time': '2022-12-22T21:40:58.075301',\n",
            "  'dataset_id': 'a6e389a98c2d1678bf2127a453df03b5',\n",
            "  'deleted': True,\n",
            "  'extension': 'interval',\n",
            "  'hid': 8,\n",
            "  'history_content_type': 'dataset',\n",
            "  'history_id': '58f34969acce5264',\n",
            "  'id': 'a6e389a98c2d16787839c0e1933f3e90',\n",
            "  'name': 'Get flanks on data 7',\n",
            "  'purged': False,\n",
            "  'state': 'ok',\n",
            "  'tags': ['name:peaks2genes'],\n",
            "  'type': 'file',\n",
            "  'type_id': 'dataset-a6e389a98c2d16787839c0e1933f3e90',\n",
            "  'update_time': '2022-12-22T22:07:10.312779',\n",
            "  'url': '/api/histories/58f34969acce5264/contents/a6e389a98c2d16787839c0e1933f3e90',\n",
            "  'visible': True},\n",
            " {'create_time': '2022-12-22T22:00:16.628792',\n",
            "  'dataset_id': 'a6e389a98c2d16784a2a5ea7870001de',\n",
            "  'deleted': True,\n",
            "  'extension': 'bed',\n",
            "  'hid': 9,\n",
            "  'history_content_type': 'dataset',\n",
            "  'history_id': '58f34969acce5264',\n",
            "  'id': 'a6e389a98c2d1678f3d0695bc070e699',\n",
            "  'name': 'Peak regions BED',\n",
            "  'purged': False,\n",
            "  'state': 'ok',\n",
            "  'tags': ['name:peaks2genes'],\n",
            "  'type': 'file',\n",
            "  'type_id': 'dataset-a6e389a98c2d1678f3d0695bc070e699',\n",
            "  'update_time': '2022-12-22T22:07:13.451955',\n",
            "  'url': '/api/histories/58f34969acce5264/contents/a6e389a98c2d1678f3d0695bc070e699',\n",
            "  'visible': True},\n",
            " {'create_time': '2022-12-22T22:14:31.519261',\n",
            "  'dataset_id': 'a6e389a98c2d1678ebb756201e1807d0',\n",
            "  'deleted': False,\n",
            "  'extension': 'bed',\n",
            "  'hid': 10,\n",
            "  'history_content_type': 'dataset',\n",
            "  'history_id': '58f34969acce5264',\n",
            "  'id': 'a6e389a98c2d1678bc7f2647abfc60ed',\n",
            "  'name': 'Promoter regions',\n",
            "  'purged': False,\n",
            "  'state': 'ok',\n",
            "  'tags': ['name:genes'],\n",
            "  'type': 'file',\n",
            "  'type_id': 'dataset-a6e389a98c2d1678bc7f2647abfc60ed',\n",
            "  'update_time': '2022-12-22T22:19:08.925271',\n",
            "  'url': '/api/histories/58f34969acce5264/contents/a6e389a98c2d1678bc7f2647abfc60ed',\n",
            "  'visible': True},\n",
            " {'create_time': '2022-12-22T22:16:15.518611',\n",
            "  'dataset_id': 'a6e389a98c2d16781029dd0cade50223',\n",
            "  'deleted': False,\n",
            "  'extension': 'bed',\n",
            "  'hid': 11,\n",
            "  'history_content_type': 'dataset',\n",
            "  'history_id': '58f34969acce5264',\n",
            "  'id': 'a6e389a98c2d167874d2ec85507d8c4b',\n",
            "  'name': 'Peak regions BED',\n",
            "  'purged': False,\n",
            "  'state': 'ok',\n",
            "  'tags': ['name:peaks2genes'],\n",
            "  'type': 'file',\n",
            "  'type_id': 'dataset-a6e389a98c2d167874d2ec85507d8c4b',\n",
            "  'update_time': '2022-12-22T22:19:08.925274',\n",
            "  'url': '/api/histories/58f34969acce5264/contents/a6e389a98c2d167874d2ec85507d8c4b',\n",
            "  'visible': True},\n",
            " {'create_time': '2022-12-22T22:19:08.926630',\n",
            "  'dataset_id': 'a6e389a98c2d16783061d991d68f3285',\n",
            "  'deleted': False,\n",
            "  'extension': 'bed',\n",
            "  'hid': 12,\n",
            "  'history_content_type': 'dataset',\n",
            "  'history_id': '58f34969acce5264',\n",
            "  'id': 'a6e389a98c2d167868cbfb2218d0e7eb',\n",
            "  'name': 'Intersect on data 11 and data 10',\n",
            "  'purged': False,\n",
            "  'state': 'ok',\n",
            "  'tags': ['name:genes', 'name:peaks2genes'],\n",
            "  'type': 'file',\n",
            "  'type_id': 'dataset-a6e389a98c2d167868cbfb2218d0e7eb',\n",
            "  'update_time': '2022-12-22T22:22:25.523312',\n",
            "  'url': '/api/histories/58f34969acce5264/contents/a6e389a98c2d167868cbfb2218d0e7eb',\n",
            "  'visible': True},\n",
            " {'create_time': '2022-12-22T22:22:25.524005',\n",
            "  'dataset_id': 'a6e389a98c2d16784d0787e5402aa090',\n",
            "  'deleted': False,\n",
            "  'extension': 'tabular',\n",
            "  'hid': 13,\n",
            "  'history_content_type': 'dataset',\n",
            "  'history_id': '58f34969acce5264',\n",
            "  'id': 'a6e389a98c2d1678e3396f3de9bce1c6',\n",
            "  'name': 'Group on data 12',\n",
            "  'purged': False,\n",
            "  'state': 'ok',\n",
            "  'tags': ['name:genes', 'name:peaks2genes'],\n",
            "  'type': 'file',\n",
            "  'type_id': 'dataset-a6e389a98c2d1678e3396f3de9bce1c6',\n",
            "  'update_time': '2022-12-22T22:29:20.764957',\n",
            "  'url': '/api/histories/58f34969acce5264/contents/a6e389a98c2d1678e3396f3de9bce1c6',\n",
            "  'visible': True},\n",
            " {'create_time': '2022-12-22T22:29:20.765845',\n",
            "  'dataset_id': 'a6e389a98c2d167898c9c4373db1c2d3',\n",
            "  'deleted': False,\n",
            "  'extension': 'tabular',\n",
            "  'hid': 14,\n",
            "  'history_content_type': 'dataset',\n",
            "  'history_id': '58f34969acce5264',\n",
            "  'id': 'a6e389a98c2d16784fd3a37578f2aae2',\n",
            "  'name': 'Sort on data 13',\n",
            "  'purged': False,\n",
            "  'state': 'ok',\n",
            "  'tags': ['name:genes', 'name:peaks2genes'],\n",
            "  'type': 'file',\n",
            "  'type_id': 'dataset-a6e389a98c2d16784fd3a37578f2aae2',\n",
            "  'update_time': '2022-12-22T22:29:29.779334',\n",
            "  'url': '/api/histories/58f34969acce5264/contents/a6e389a98c2d16784fd3a37578f2aae2',\n",
            "  'visible': True}]\n"
          ]
        }
      ],
      "source": [
        "r = requests.get(base_url + \"/histories/\" + hist0_id + \"/contents\", headers=headers)\n",
        "hdas = r.json()\n",
        "pprint(hdas)"
      ]
    },
    {
      "cell_type": "markdown",
      "id": "cell-10",
      "metadata": {
        "collapsed": false,
        "editable": false
      },
      "source": [
        "<p>The dictionaries returned when GETting the history content give basic info about each dataset, e.g.: <code style=\"color: inherit\">id</code>, <code style=\"color: inherit\">name</code>, <code style=\"color: inherit\">deleted</code>, <code style=\"color: inherit\">state</code>, <code style=\"color: inherit\">url</code>…</p>\n",
        "<p>To get the details about a specific dataset, you can use the <code style=\"color: inherit\">datasets</code> controller:</p>\n"
      ]
    },
    {
      "cell_type": "code",
      "execution_count": null,
      "id": "cell-11",
      "metadata": {
        "attributes": {
          "classes": [
            "python"
          ],
          "id": ""
        }
      },
      "outputs": [],
      "source": [
        "hda0_id = hdas[0]['id']\n",
        "print(hda0_id)\n",
        "r = requests.get(base_url + \"/datasets/\" + hda0_id, headers=headers)\n",
        "pprint(r.json())"
      ]
    },
    {
      "cell_type": "markdown",
      "id": "cell-12",
      "metadata": {
        "collapsed": false,
        "editable": false
      },
      "source": [
        "<p>Some of the interesting additional dictionary entries are:</p>\n",
        "<ul>\n",
        "<li><code style=\"color: inherit\">create_time</code></li>\n",
        "<li><code style=\"color: inherit\">creating job</code>: id of the job which created this dataset</li>\n",
        "<li><code style=\"color: inherit\">download_url</code>: URL to download the dataset</li>\n",
        "<li><code style=\"color: inherit\">file_ext</code>: the Galaxy data type of this dataset</li>\n",
        "<li><code style=\"color: inherit\">file_size</code></li>\n",
        "<li><code style=\"color: inherit\">genome_build</code>: the genome build (dbkey) associated to this dataset.</li>\n",
        "</ul>\n",
        "<p><strong>New resources</strong> are created with POST requests. The uploaded <strong>data needs to be serialized</strong> in a JSON string. For example, to create a new history:</p>\n"
      ]
    },
    {
      "cell_type": "code",
      "execution_count": null,
      "id": "cell-13",
      "metadata": {
        "attributes": {
          "classes": [
            "python"
          ],
          "id": ""
        }
      },
      "outputs": [],
      "source": [
        "data = {'name': 'New history'}\n",
        "r = requests.post(base_url + \"/histories\", data=json.dumps(data), headers=headers)\n",
        "new_hist = r.json()\n",
        "pprint(new_hist)"
      ]
    },
    {
      "cell_type": "markdown",
      "id": "cell-14",
      "metadata": {
        "collapsed": false,
        "editable": false
      },
      "source": [
        "<p>The return value of a POST request is a dictionary with detailed info about the created resource.</p>\n",
        "<p>To <strong>update</strong> a resource, make a PUT request, e.g. to change the history name:</p>\n"
      ]
    },
    {
      "cell_type": "code",
      "execution_count": null,
      "id": "cell-15",
      "metadata": {
        "attributes": {
          "classes": [
            "python"
          ],
          "id": ""
        }
      },
      "outputs": [],
      "source": [
        "data = {'name': 'Updated history'}\n",
        "r = requests.put(base_url + \"/histories/\" + new_hist[\"id\"], json.dumps(data), headers=headers)\n",
        "print(r.status_code)\n",
        "pprint(r.json())"
      ]
    },
    {
      "cell_type": "markdown",
      "id": "cell-16",
      "metadata": {
        "collapsed": false,
        "editable": false
      },
      "source": [
        "<p>The return value of a PUT request is usually a dictionary with detailed info about the updated resource.</p>\n",
        "<p>Finally to <strong>delete</strong> a resource, make a DELETE request, e.g.:</p>\n"
      ]
    },
    {
      "cell_type": "code",
      "execution_count": null,
      "id": "cell-17",
      "metadata": {
        "attributes": {
          "classes": [
            "python"
          ],
          "id": ""
        }
      },
      "outputs": [],
      "source": [
        "r = requests.delete(base_url + \"/histories/\" + new_hist[\"id\"], headers=headers)\n",
        "print(r.status_code)"
      ]
    },
    {
      "cell_type": "markdown",
      "id": "cell-18",
      "metadata": {
        "collapsed": false,
        "editable": false
      },
      "source": [
        "<h2 id=\"exercise-galaxy-api\">Exercise: Galaxy API</h2>\n",
        "<p><strong>Goal</strong>: Upload a file to a new history, import a workflow and run it on the uploaded dataset.</p>\n",
        "<blockquote class=\"question\" style=\"border: 2px solid #8A9AD0; margin: 1em 0.2em\">\n",
        "<div class=\"box-title\" aria-label=\"question box: Question: Initialise\" style=\"font-size: 150%\">❓ Question: Initialise</div>\n",
        "<p>First, define the connection parameters. What variables do you need?</p>\n",
        "<br/><details style=\"border: 2px solid #B8C3EA; margin: 1em 0.2em; padding: 0.5em;\"><summary>👁 View solution</summary>\n",
        "<div class=\"box-title\" aria-label=\"solution box: Solution\" style=\"font-size: 150%\">👁 Solution</div>\n",
        "<div class=\"language-plaintext highlighter-rouge\"><div><pre style=\"color: inherit; background: transparent\"><code style=\"color: inherit\">import json\n",
        "from pprint import pprint\n",
        "from urllib.parse import urljoin\n",
        "\n",
        "import requests\n",
        "\n",
        "server = 'https://usegalaxy.eu/'\n",
        "api_key = ''\n",
        "base_url = urljoin(server, 'api')\n",
        "</code></pre></div>    </div>\n",
        "</details>\n",
        "</blockquote>\n"
      ]
    },
    {
      "cell_type": "code",
      "execution_count": null,
      "id": "cell-19",
      "metadata": {
        "attributes": {
          "classes": [
            "python"
          ],
          "id": ""
        }
      },
      "outputs": [],
      "source": [
        "# Try it out here!\n"
      ]
    },
    {
      "cell_type": "markdown",
      "id": "cell-20",
      "metadata": {
        "collapsed": false,
        "editable": false
      },
      "source": [
        "<blockquote class=\"question\" style=\"border: 2px solid #8A9AD0; margin: 1em 0.2em\">\n",
        "<div class=\"box-title\" aria-label=\"question box: Question: New History\" style=\"font-size: 150%\">❓ Question: New History</div>\n",
        "<p>Next, create a new Galaxy history via POST to the correct API.</p>\n",
        "<br/><details style=\"border: 2px solid #B8C3EA; margin: 1em 0.2em; padding: 0.5em;\"><summary>👁 View solution</summary>\n",
        "<div class=\"box-title\" aria-label=\"solution box: Solution\" style=\"font-size: 150%\">👁 Solution</div>\n",
        "<div class=\"language-plaintext highlighter-rouge\"><div><pre style=\"color: inherit; background: transparent\"><code style=\"color: inherit\">headers = {\"Content-Type\": \"application/json\", \"x-api-key\": api_key}\n",
        "data = {\"name\": \"New history\"}\n",
        "r = requests.post(base_url + \"/histories\", data=json.dumps(data), headers=headers)\n",
        "new_hist = r.json()\n",
        "pprint(new_hist)\n",
        "</code></pre></div>    </div>\n",
        "</details>\n",
        "</blockquote>\n"
      ]
    },
    {
      "cell_type": "code",
      "execution_count": null,
      "id": "cell-21",
      "metadata": {
        "attributes": {
          "classes": [
            "python"
          ],
          "id": ""
        }
      },
      "outputs": [],
      "source": [
        "# Try it out here!\n"
      ]
    },
    {
      "cell_type": "markdown",
      "id": "cell-22",
      "metadata": {
        "collapsed": false,
        "editable": false
      },
      "source": [
        "<blockquote class=\"question\" style=\"border: 2px solid #8A9AD0; margin: 1em 0.2em\">\n",
        "<div class=\"box-title\" aria-label=\"question box: Question: Upload a dataset\" style=\"font-size: 150%\">❓ Question: Upload a dataset</div>\n",
        "<p><strong>Upload</strong> the local file <code style=\"color: inherit\">1.txt</code> to the new history. You need to run the special <code style=\"color: inherit\">upload1</code> tool by making a <code style=\"color: inherit\">POST</code> request to <code style=\"color: inherit\">/api/tools</code>. You don’t need to pass any inputs to it apart from attaching the file as <code style=\"color: inherit\">files_0|file_data</code>. Also, note that when attaching a file you need to drop <code style=\"color: inherit\">Content-Type</code> from the request headers.</p>\n",
        "<p>You can obtain the <code style=\"color: inherit\">1.txt</code> file from the following URL, you’ll need to download it first.</p>\n",
        "<div class=\"language-plaintext highlighter-rouge\"><div><pre style=\"color: inherit; background: transparent\"><code style=\"color: inherit\">https://raw.githubusercontent.com/nsoranzo/bioblend-tutorial/main/test-data/1.txt\n",
        "</code></pre></div>  </div>\n",
        "<br/><details style=\"border: 2px solid #B8C3EA; margin: 1em 0.2em; padding: 0.5em;\"><summary>👁 View solution</summary>\n",
        "<div class=\"box-title\" aria-label=\"solution box: Solution\" style=\"font-size: 150%\">👁 Solution</div>\n",
        "<div class=\"language-plaintext highlighter-rouge\"><div><pre style=\"color: inherit; background: transparent\"><code style=\"color: inherit\">data = {\n",
        "    \"history_id\": new_hist[\"id\"],\n",
        "    \"tool_id\": \"upload1\"\n",
        "}\n",
        "with open(\"1.txt\", \"rb\") as f:\n",
        "    files = {\"files_0|file_data\": f}\n",
        "    r = requests.post(base_url + \"/tools\", data=data, files=files, headers={\"x-api-key\": api_key})\n",
        "ret = r.json()\n",
        "pprint(ret)\n",
        "</code></pre></div>    </div>\n",
        "</details>\n",
        "</blockquote>\n"
      ]
    },
    {
      "cell_type": "code",
      "execution_count": null,
      "id": "cell-23",
      "metadata": {
        "attributes": {
          "classes": [
            "python"
          ],
          "id": ""
        }
      },
      "outputs": [],
      "source": [
        "# Try it out here!\n"
      ]
    },
    {
      "cell_type": "markdown",
      "id": "cell-24",
      "metadata": {
        "collapsed": false,
        "editable": false
      },
      "source": [
        "<blockquote class=\"question\" style=\"border: 2px solid #8A9AD0; margin: 1em 0.2em\">\n",
        "<div class=\"box-title\" aria-label=\"question box: Question: Find the dataset in your history\" style=\"font-size: 150%\">❓ Question: Find the dataset in your history</div>\n",
        "<p>Find the new uploaded dataset, either from the dict returned by the POST request above or from the history contents.</p>\n",
        "<br/><details style=\"border: 2px solid #B8C3EA; margin: 1em 0.2em; padding: 0.5em;\"><summary>👁 View solution</summary>\n",
        "<div class=\"box-title\" aria-label=\"solution box: Solution\" style=\"font-size: 150%\">👁 Solution</div>\n",
        "<div class=\"language-plaintext highlighter-rouge\"><div><pre style=\"color: inherit; background: transparent\"><code style=\"color: inherit\">hda = ret['outputs'][0]\n",
        "pprint(hda)\n",
        "</code></pre></div>    </div>\n",
        "</details>\n",
        "</blockquote>\n"
      ]
    },
    {
      "cell_type": "code",
      "execution_count": null,
      "id": "cell-25",
      "metadata": {
        "attributes": {
          "classes": [
            "python"
          ],
          "id": ""
        }
      },
      "outputs": [],
      "source": [
        "# Try it out here!\n"
      ]
    },
    {
      "cell_type": "markdown",
      "id": "cell-26",
      "metadata": {
        "collapsed": false,
        "editable": false
      },
      "source": [
        "<blockquote class=\"question\" style=\"border: 2px solid #8A9AD0; margin: 1em 0.2em\">\n",
        "<div class=\"box-title\" aria-label=\"question box: Question: Import a workflow\" style=\"font-size: 150%\">❓ Question: Import a workflow</div>\n",
        "<p><strong>Import a workflow</strong> from the local file <code style=\"color: inherit\">convert_to_tab.ga</code> by making a <code style=\"color: inherit\">POST</code> request to <code style=\"color: inherit\">/api/workflows</code>. The only needed data is <code style=\"color: inherit\">workflow</code>, which must be a deserialized JSON representation of the workflow.</p>\n",
        "<p>You can obtain the <code style=\"color: inherit\">convert_to_tab.ga</code> file from the following URL, you’ll need to download it first.</p>\n",
        "<div class=\"language-plaintext highlighter-rouge\"><div><pre style=\"color: inherit; background: transparent\"><code style=\"color: inherit\">https://raw.githubusercontent.com/nsoranzo/bioblend-tutorial/main/test-data/convert_to_tab.ga\n",
        "</code></pre></div>  </div>\n",
        "<br/><details style=\"border: 2px solid #B8C3EA; margin: 1em 0.2em; padding: 0.5em;\"><summary>👁 View solution</summary>\n",
        "<div class=\"box-title\" aria-label=\"solution box: Solution\" style=\"font-size: 150%\">👁 Solution</div>\n",
        "<div class=\"language-plaintext highlighter-rouge\"><div><pre style=\"color: inherit; background: transparent\"><code style=\"color: inherit\">with open(\"convert_to_tab.ga\", \"r\") as f:\n",
        "    workflow_json = json.load(f)\n",
        "data = {'workflow': workflow_json}\n",
        "r = requests.post(base_url + \"/workflows\", data=json.dumps(data), headers=headers)\n",
        "wf = r.json()\n",
        "pprint(wf)\n",
        "</code></pre></div>    </div>\n",
        "</details>\n",
        "</blockquote>\n"
      ]
    },
    {
      "cell_type": "code",
      "execution_count": null,
      "id": "cell-27",
      "metadata": {
        "attributes": {
          "classes": [
            "python"
          ],
          "id": ""
        }
      },
      "outputs": [],
      "source": [
        "# Try it out here!\n"
      ]
    },
    {
      "cell_type": "markdown",
      "id": "cell-28",
      "metadata": {
        "collapsed": false,
        "editable": false
      },
      "source": [
        "<blockquote class=\"question\" style=\"border: 2px solid #8A9AD0; margin: 1em 0.2em\">\n",
        "<div class=\"box-title\" aria-label=\"question box: Question: View the workflow details\" style=\"font-size: 150%\">❓ Question: View the workflow details</div>\n",
        "<p>View the details of the imported workflow by making a GET request to <code style=\"color: inherit\">/api/workflows</code>.</p>\n",
        "<br/><details style=\"border: 2px solid #B8C3EA; margin: 1em 0.2em; padding: 0.5em;\"><summary>👁 View solution</summary>\n",
        "<div class=\"box-title\" aria-label=\"solution box: Solution\" style=\"font-size: 150%\">👁 Solution</div>\n",
        "<div class=\"language-plaintext highlighter-rouge\"><div><pre style=\"color: inherit; background: transparent\"><code style=\"color: inherit\">r = requests.get(base_url + \"/workflows/\" + wf[\"id\"], headers=headers)\n",
        "wf = r.json()\n",
        "pprint(wf)\n",
        "</code></pre></div>    </div>\n",
        "</details>\n",
        "</blockquote>\n"
      ]
    },
    {
      "cell_type": "code",
      "execution_count": null,
      "id": "cell-29",
      "metadata": {
        "attributes": {
          "classes": [
            "python"
          ],
          "id": ""
        }
      },
      "outputs": [],
      "source": [
        "# Try it out here!\n"
      ]
    },
    {
      "cell_type": "markdown",
      "id": "cell-30",
      "metadata": {
        "collapsed": false,
        "editable": false
      },
      "source": [
        "<blockquote class=\"question\" style=\"border: 2px solid #8A9AD0; margin: 1em 0.2em\">\n",
        "<div class=\"box-title\" aria-label=\"question box: Question: Invoke the workflow\" style=\"font-size: 150%\">❓ Question: Invoke the workflow</div>\n",
        "<p><strong>Run</strong> the imported workflow on the uploaded dataset <strong>inside the same history</strong> by making a <code style=\"color: inherit\">POST</code> request to <code style=\"color: inherit\">/api/workflows/WORKFLOW_ID/invocations</code>. The only needed data are <code style=\"color: inherit\">history</code> and <code style=\"color: inherit\">inputs</code>.</p>\n",
        "<br/><details style=\"border: 2px solid #B8C3EA; margin: 1em 0.2em; padding: 0.5em;\"><summary>👁 View solution</summary>\n",
        "<div class=\"box-title\" aria-label=\"solution box: Solution\" style=\"font-size: 150%\">👁 Solution</div>\n",
        "<div class=\"language-plaintext highlighter-rouge\"><div><pre style=\"color: inherit; background: transparent\"><code style=\"color: inherit\">inputs = {0: {'id': hda['id'], 'src': 'hda'}}\n",
        "data = {\n",
        "    'history': 'hist_id=' + new_hist['id'],\n",
        "    'inputs': inputs}\n",
        "r = requests.post(base_url + \"/workflows/\" + wf[\"id\"] + \"/invocations\", data=json.dumps(data), headers=headers)\n",
        "pprint(r.json())\n",
        "</code></pre></div>    </div>\n",
        "</details>\n",
        "</blockquote>\n"
      ]
    },
    {
      "cell_type": "code",
      "execution_count": null,
      "id": "cell-31",
      "metadata": {
        "attributes": {
          "classes": [
            "python"
          ],
          "id": ""
        }
      },
      "outputs": [],
      "source": [
        "# Try it out here!\n"
      ]
    },
    {
      "cell_type": "markdown",
      "id": "cell-32",
      "metadata": {
        "collapsed": false,
        "editable": false
      },
      "source": [
        "<blockquote class=\"question\" style=\"border: 2px solid #8A9AD0; margin: 1em 0.2em\">\n",
        "<div class=\"box-title\" aria-label=\"question box: Question: View the results\" style=\"font-size: 150%\">❓ Question: View the results</div>\n",
        "<p>View the results on the Galaxy server with your web browser. Were you successful? Did it run?</p>\n",
        "</blockquote>\n",
        "<h1 id=\"interacting-with-histories-in-bioblend\">Interacting with histories in BioBlend</h1>\n",
        "<p><strong>You need to insert the API key for your Galaxy server in the cell below</strong>:</p>\n",
        "<ol>\n",
        "<li>Open the Galaxy server in another browser tab</li>\n",
        "<li>Click on “User” on the top menu, then “Preferences”</li>\n",
        "<li>Click on “Manage API key”</li>\n",
        "<li>Generate an API key if needed, then copy the alphanumeric string and paste it as the value of the <code style=\"color: inherit\">api_key</code> variable below.</li>\n",
        "</ol>\n",
        "<p>The user interacts with a Galaxy server through a <code style=\"color: inherit\">GalaxyInstance</code> object:</p>\n"
      ]
    },
    {
      "cell_type": "code",
      "execution_count": 2,
      "id": "1dd567c9",
      "metadata": {},
      "outputs": [
        {
          "name": "stdout",
          "output_type": "stream",
          "text": [
            "Collecting bioblend\n",
            "  Downloading bioblend-1.0.0-py2.py3-none-any.whl (152 kB)\n",
            "     ------------------------------------ 152.9/152.9 kB 198.4 kB/s eta 0:00:00\n",
            "Collecting tuspy\n",
            "  Downloading tuspy-1.0.0.tar.gz (11 kB)\n",
            "  Preparing metadata (setup.py): started\n",
            "  Preparing metadata (setup.py): finished with status 'done'\n",
            "Requirement already satisfied: typing-extensions in c:\\users\\win10\\appdata\\local\\packages\\pythonsoftwarefoundation.python.3.9_qbz5n2kfra8p0\\localcache\\local-packages\\python39\\site-packages (from bioblend) (3.10.0.2)\n",
            "Collecting requests-toolbelt!=0.9.0,>=0.5.1\n",
            "  Downloading requests_toolbelt-0.10.1-py2.py3-none-any.whl (54 kB)\n",
            "     -------------------------------------- 54.5/54.5 kB 354.3 kB/s eta 0:00:00\n",
            "Requirement already satisfied: requests>=2.20.0 in c:\\users\\win10\\appdata\\local\\packages\\pythonsoftwarefoundation.python.3.9_qbz5n2kfra8p0\\localcache\\local-packages\\python39\\site-packages (from bioblend) (2.28.1)\n",
            "Requirement already satisfied: charset-normalizer<3,>=2 in c:\\users\\win10\\appdata\\local\\packages\\pythonsoftwarefoundation.python.3.9_qbz5n2kfra8p0\\localcache\\local-packages\\python39\\site-packages (from requests>=2.20.0->bioblend) (2.1.1)\n",
            "Requirement already satisfied: certifi>=2017.4.17 in c:\\users\\win10\\appdata\\local\\packages\\pythonsoftwarefoundation.python.3.9_qbz5n2kfra8p0\\localcache\\local-packages\\python39\\site-packages (from requests>=2.20.0->bioblend) (2021.10.8)\n",
            "Requirement already satisfied: idna<4,>=2.5 in c:\\users\\win10\\appdata\\local\\packages\\pythonsoftwarefoundation.python.3.9_qbz5n2kfra8p0\\localcache\\local-packages\\python39\\site-packages (from requests>=2.20.0->bioblend) (2.10)\n",
            "Requirement already satisfied: urllib3<1.27,>=1.21.1 in c:\\users\\win10\\appdata\\local\\packages\\pythonsoftwarefoundation.python.3.9_qbz5n2kfra8p0\\localcache\\local-packages\\python39\\site-packages (from requests>=2.20.0->bioblend) (1.26.13)\n",
            "Collecting future>=0.16.0\n",
            "  Using cached future-0.18.2.tar.gz (829 kB)\n",
            "  Preparing metadata (setup.py): started\n",
            "  Preparing metadata (setup.py): finished with status 'done'\n",
            "Requirement already satisfied: six>=1.11.0 in c:\\users\\win10\\appdata\\local\\packages\\pythonsoftwarefoundation.python.3.9_qbz5n2kfra8p0\\localcache\\local-packages\\python39\\site-packages (from tuspy->bioblend) (1.16.0)\n",
            "Collecting tinydb>=3.5.0\n",
            "  Downloading tinydb-4.7.0-py3-none-any.whl (24 kB)\n",
            "Collecting aiohttp>=3.6.2\n",
            "  Downloading aiohttp-3.8.3-cp39-cp39-win_amd64.whl (323 kB)\n",
            "     ------------------------------------ 323.5/323.5 kB 179.0 kB/s eta 0:00:00\n",
            "Collecting frozenlist>=1.1.1\n",
            "  Downloading frozenlist-1.3.3-cp39-cp39-win_amd64.whl (34 kB)\n",
            "Requirement already satisfied: attrs>=17.3.0 in c:\\users\\win10\\appdata\\local\\packages\\pythonsoftwarefoundation.python.3.9_qbz5n2kfra8p0\\localcache\\local-packages\\python39\\site-packages (from aiohttp>=3.6.2->tuspy->bioblend) (21.4.0)\n",
            "Collecting aiosignal>=1.1.2\n",
            "  Downloading aiosignal-1.3.1-py3-none-any.whl (7.6 kB)\n",
            "Collecting yarl<2.0,>=1.0\n",
            "  Downloading yarl-1.8.2-cp39-cp39-win_amd64.whl (56 kB)\n",
            "     -------------------------------------- 56.8/56.8 kB 248.9 kB/s eta 0:00:00\n",
            "Collecting async-timeout<5.0,>=4.0.0a3\n",
            "  Downloading async_timeout-4.0.2-py3-none-any.whl (5.8 kB)\n",
            "Collecting multidict<7.0,>=4.5\n",
            "  Downloading multidict-6.0.4-cp39-cp39-win_amd64.whl (28 kB)\n",
            "Building wheels for collected packages: tuspy, future\n",
            "  Building wheel for tuspy (setup.py): started\n",
            "  Building wheel for tuspy (setup.py): finished with status 'done'\n",
            "  Created wheel for tuspy: filename=tuspy-1.0.0-py3-none-any.whl size=14152 sha256=6677a1f54c0328d6146732a6bff81817e067b3db9dc5b2bafb1966ffd8d51c70\n",
            "  Stored in directory: c:\\users\\win10\\appdata\\local\\pip\\cache\\wheels\\fa\\8a\\29\\c678b74ae0db76d9ac20249d74c5b1ad4ad1e24373b8121de5\n",
            "  Building wheel for future (setup.py): started\n",
            "  Building wheel for future (setup.py): finished with status 'done'\n",
            "  Created wheel for future: filename=future-0.18.2-py3-none-any.whl size=491070 sha256=814da5a91f06907da64d13987b03a9dfe8e31b4f719efc47c2c4e25b05cc7772\n",
            "  Stored in directory: c:\\users\\win10\\appdata\\local\\pip\\cache\\wheels\\96\\66\\19\\2de75120f5d0bc185e9d16cf0fd223d8471ed025de08e45867\n",
            "Successfully built tuspy future\n",
            "Installing collected packages: tinydb, multidict, future, frozenlist, async-timeout, yarl, requests-toolbelt, aiosignal, aiohttp, tuspy, bioblend\n",
            "Successfully installed aiohttp-3.8.3 aiosignal-1.3.1 async-timeout-4.0.2 bioblend-1.0.0 frozenlist-1.3.3 future-0.18.2 multidict-6.0.4 requests-toolbelt-0.10.1 tinydb-4.7.0 tuspy-1.0.0 yarl-1.8.2\n",
            "Note: you may need to restart the kernel to use updated packages.\n"
          ]
        },
        {
          "name": "stderr",
          "output_type": "stream",
          "text": [
            "  WARNING: The scripts futurize.exe and pasteurize.exe are installed in 'C:\\Users\\WIN10\\AppData\\Local\\Packages\\PythonSoftwareFoundation.Python.3.9_qbz5n2kfra8p0\\LocalCache\\local-packages\\Python39\\Scripts' which is not on PATH.\n",
            "  Consider adding this directory to PATH or, if you prefer to suppress this warning, use --no-warn-script-location.\n",
            "  WARNING: The script bioblend-galaxy-tests.exe is installed in 'C:\\Users\\WIN10\\AppData\\Local\\Packages\\PythonSoftwareFoundation.Python.3.9_qbz5n2kfra8p0\\LocalCache\\local-packages\\Python39\\Scripts' which is not on PATH.\n",
            "  Consider adding this directory to PATH or, if you prefer to suppress this warning, use --no-warn-script-location.\n"
          ]
        }
      ],
      "source": [
        "pip install bioblend"
      ]
    },
    {
      "cell_type": "code",
      "execution_count": 3,
      "id": "cell-33",
      "metadata": {
        "attributes": {
          "classes": [
            "python"
          ],
          "id": ""
        }
      },
      "outputs": [],
      "source": [
        "from pprint import pprint\n",
        "\n",
        "import bioblend.galaxy\n",
        "\n",
        "server = 'https://usegalaxy.eu/'\n",
        "api_key = ''\n",
        "gi = bioblend.galaxy.GalaxyInstance(url=server, key=api_key)"
      ]
    },
    {
      "cell_type": "markdown",
      "id": "cell-34",
      "metadata": {
        "collapsed": false,
        "editable": false
      },
      "source": [
        "<p>The <code style=\"color: inherit\">GalaxyInstance</code> object gives you access to the various controllers, i.e. the resources you are dealing with, like <code style=\"color: inherit\">histories</code>, <code style=\"color: inherit\">tools</code> and <code style=\"color: inherit\">workflows</code>.\n",
        "Therefore, method calls will have the format <code style=\"color: inherit\">gi.controller.method()</code>. For example, the call to retrieve all histories owned by the current user is:</p>\n"
      ]
    },
    {
      "cell_type": "code",
      "execution_count": null,
      "id": "cell-35",
      "metadata": {
        "attributes": {
          "classes": [
            "python"
          ],
          "id": ""
        }
      },
      "outputs": [],
      "source": [
        "pprint(gi.histories.get_histories())"
      ]
    },
    {
      "cell_type": "markdown",
      "id": "cell-36",
      "metadata": {
        "collapsed": false,
        "editable": false
      },
      "source": [
        "<p>As you can see, methods in BioBlend do not return JSON strings, but <strong>deserialize</strong> them into Python data structures. In particular, <code style=\"color: inherit\">get_</code> methods return a list of dictionaries.</p>\n",
        "<p>Each dictionary gives basic info about a resource, e.g. for a history you have:</p>\n",
        "<ul>\n",
        "<li><code style=\"color: inherit\">id</code>: the unique <strong>identifier</strong> of the history, needed for all specific requests about this resource</li>\n",
        "<li><code style=\"color: inherit\">name</code>: the name of this history as given by the user</li>\n",
        "<li><code style=\"color: inherit\">deleted</code>: whether the history has been deleted.</li>\n",
        "</ul>\n",
        "<p><strong>New resources</strong> are created with <code style=\"color: inherit\">create_</code> methods, e.g. the call to create a new history is:</p>\n"
      ]
    },
    {
      "cell_type": "code",
      "execution_count": null,
      "id": "cell-37",
      "metadata": {
        "attributes": {
          "classes": [
            "python"
          ],
          "id": ""
        }
      },
      "outputs": [],
      "source": [
        "new_hist = gi.histories.create_history(name='BioBlend test')\n",
        "pprint(new_hist)"
      ]
    },
    {
      "cell_type": "markdown",
      "id": "cell-38",
      "metadata": {
        "collapsed": false,
        "editable": false
      },
      "source": [
        "<p>As you can see, to make POST requests in BioBlend it is <strong>not necessary to serialize data</strong>, you just pass them explicitly as parameters. The return value is a dictionary with detailed info about the created resource.</p>\n",
        "<p><code style=\"color: inherit\">get_</code> methods usually have <strong>filtering</strong> capabilities, e.g. it is possible to filter histories <strong>by name</strong>:</p>\n"
      ]
    },
    {
      "cell_type": "code",
      "execution_count": null,
      "id": "cell-39",
      "metadata": {
        "attributes": {
          "classes": [
            "python"
          ],
          "id": ""
        }
      },
      "outputs": [],
      "source": [
        "pprint(gi.histories.get_histories(name='BioBlend test'))"
      ]
    },
    {
      "cell_type": "markdown",
      "id": "cell-40",
      "metadata": {
        "collapsed": false,
        "editable": false
      },
      "source": [
        "<p>To <strong>upload</strong> the local file <code style=\"color: inherit\">1.txt</code> to the new history, you can run the special upload tool by calling the <code style=\"color: inherit\">upload_file</code> method of the <code style=\"color: inherit\">tools</code> controller.</p>\n",
        "<p>You can obtain the <code style=\"color: inherit\">1.txt</code> file from the following URL, you’ll need to download it first.</p>\n",
        "<div class=\"language-plaintext highlighter-rouge\"><div><pre style=\"color: inherit; background: transparent\"><code style=\"color: inherit\">https://raw.githubusercontent.com/nsoranzo/bioblend-tutorial/main/test-data/1.txt\n",
        "</code></pre></div></div>\n"
      ]
    },
    {
      "cell_type": "code",
      "execution_count": null,
      "id": "cell-41",
      "metadata": {
        "attributes": {
          "classes": [
            "python"
          ],
          "id": ""
        }
      },
      "outputs": [],
      "source": [
        "hist_id = new_hist[\"id\"]\n",
        "pprint(gi.tools.upload_file(\"1.txt\", hist_id))"
      ]
    },
    {
      "cell_type": "markdown",
      "id": "cell-42",
      "metadata": {
        "collapsed": false,
        "editable": false
      },
      "source": [
        "<p>If you are interested in more <strong>details</strong> about a given resource for which you know the id, you can use the corresponding <code style=\"color: inherit\">show_</code> method. For example, to the get more info for the history we have just populated:</p>\n"
      ]
    },
    {
      "cell_type": "code",
      "execution_count": null,
      "id": "cell-43",
      "metadata": {
        "attributes": {
          "classes": [
            "python"
          ],
          "id": ""
        }
      },
      "outputs": [],
      "source": [
        "pprint(gi.histories.show_history(history_id=hist_id))"
      ]
    },
    {
      "cell_type": "markdown",
      "id": "cell-44",
      "metadata": {
        "collapsed": false,
        "editable": false
      },
      "source": [
        "<p>As you can see, there are much more entries in the returned dictionary, e.g.:</p>\n",
        "<ul>\n",
        "<li><code style=\"color: inherit\">create_time</code></li>\n",
        "<li><code style=\"color: inherit\">size</code>: total disk space used by the history</li>\n",
        "<li><code style=\"color: inherit\">state_ids</code>: ids of history datasets for each possible state.</li>\n",
        "</ul>\n",
        "<p>To get the list of <strong>datasets contained</strong> in a history, simply add <code style=\"color: inherit\">contents=True</code> to the previous call.</p>\n"
      ]
    },
    {
      "cell_type": "code",
      "execution_count": null,
      "id": "cell-45",
      "metadata": {
        "attributes": {
          "classes": [
            "python"
          ],
          "id": ""
        }
      },
      "outputs": [],
      "source": [
        "hdas = gi.histories.show_history(history_id=hist_id, contents=True)\n",
        "pprint(hdas)"
      ]
    },
    {
      "cell_type": "markdown",
      "id": "cell-46",
      "metadata": {
        "collapsed": false,
        "editable": false
      },
      "source": [
        "<p>The dictionaries returned when showing the history content give basic info about each dataset, e.g.: <code style=\"color: inherit\">id</code>, <code style=\"color: inherit\">name</code>, <code style=\"color: inherit\">deleted</code>, <code style=\"color: inherit\">state</code>, <code style=\"color: inherit\">url</code>…</p>\n",
        "<p>To get the details about a specific dataset, you can use the <code style=\"color: inherit\">datasets</code> controller:</p>\n"
      ]
    },
    {
      "cell_type": "code",
      "execution_count": null,
      "id": "cell-47",
      "metadata": {
        "attributes": {
          "classes": [
            "python"
          ],
          "id": ""
        }
      },
      "outputs": [],
      "source": [
        "hda0_id = hdas[0]['id']\n",
        "print(hda0_id)\n",
        "pprint(gi.datasets.show_dataset(hda0_id))"
      ]
    },
    {
      "cell_type": "markdown",
      "id": "cell-48",
      "metadata": {
        "collapsed": false,
        "editable": false
      },
      "source": [
        "<p>Some of the interesting additional dictionary entries are:</p>\n",
        "<ul>\n",
        "<li><code style=\"color: inherit\">create_time</code></li>\n",
        "<li><code style=\"color: inherit\">creating job</code>: id of the job which created this dataset</li>\n",
        "<li><code style=\"color: inherit\">download_url</code>: URL to download the dataset</li>\n",
        "<li><code style=\"color: inherit\">file_ext</code>: the Galaxy data type of this dataset</li>\n",
        "<li><code style=\"color: inherit\">file_size</code></li>\n",
        "<li><code style=\"color: inherit\">genome_build</code>: the genome build (dbkey) associated to this dataset.</li>\n",
        "</ul>\n",
        "<p>To <strong>update</strong> a resource, use the <code style=\"color: inherit\">update_</code> method, e.g. to change the name of the new history:</p>\n"
      ]
    },
    {
      "cell_type": "code",
      "execution_count": null,
      "id": "cell-49",
      "metadata": {
        "attributes": {
          "classes": [
            "python"
          ],
          "id": ""
        }
      },
      "outputs": [],
      "source": [
        "pprint(gi.histories.update_history(new_hist['id'], name='Updated history'))"
      ]
    },
    {
      "cell_type": "markdown",
      "id": "cell-50",
      "metadata": {
        "collapsed": false,
        "editable": false
      },
      "source": [
        "<p>The return value of <code style=\"color: inherit\">update_</code> methods is usually a dictionary with detailed info about the updated resource.</p>\n",
        "<p>Finally to <strong>delete</strong> a resource, use the <code style=\"color: inherit\">delete_</code> method, e.g.:</p>\n"
      ]
    },
    {
      "cell_type": "code",
      "execution_count": null,
      "id": "cell-51",
      "metadata": {
        "attributes": {
          "classes": [
            "python"
          ],
          "id": ""
        }
      },
      "outputs": [],
      "source": [
        "pprint(gi.histories.delete_history(new_hist['id']))"
      ]
    },
    {
      "cell_type": "markdown",
      "id": "cell-52",
      "metadata": {
        "collapsed": false,
        "editable": false
      },
      "source": [
        "<h2 id=\"exercise-bioblend\">Exercise: BioBlend</h2>\n",
        "<p><strong>Goal</strong>: Upload a file to a new history, import a workflow and run it on the uploaded dataset.</p>\n",
        "<blockquote class=\"question\" style=\"border: 2px solid #8A9AD0; margin: 1em 0.2em\">\n",
        "<div class=\"box-title\" aria-label=\"question box: Question: Initialise\" style=\"font-size: 150%\">❓ Question: Initialise</div>\n",
        "<p>Create a <code style=\"color: inherit\">GalaxyInstance</code> object.</p>\n",
        "<br/><details style=\"border: 2px solid #B8C3EA; margin: 1em 0.2em; padding: 0.5em;\"><summary>👁 View solution</summary>\n",
        "<div class=\"box-title\" aria-label=\"solution box: Solution\" style=\"font-size: 150%\">👁 Solution</div>\n",
        "<div class=\"language-plaintext highlighter-rouge\"><div><pre style=\"color: inherit; background: transparent\"><code style=\"color: inherit\">from pprint import pprint\n",
        "\n",
        "import bioblend.galaxy\n",
        "\n",
        "server = 'https://usegalaxy.eu/'\n",
        "api_key = ''\n",
        "gi = bioblend.galaxy.GalaxyInstance(url=server, key=api_key)\n",
        "</code></pre></div>    </div>\n",
        "</details>\n",
        "</blockquote>\n"
      ]
    },
    {
      "cell_type": "code",
      "execution_count": null,
      "id": "cell-53",
      "metadata": {
        "attributes": {
          "classes": [
            "python"
          ],
          "id": ""
        }
      },
      "outputs": [],
      "source": [
        "# Try it out here!\n"
      ]
    },
    {
      "cell_type": "markdown",
      "id": "cell-54",
      "metadata": {
        "collapsed": false,
        "editable": false
      },
      "source": [
        "<blockquote class=\"question\" style=\"border: 2px solid #8A9AD0; margin: 1em 0.2em\">\n",
        "<div class=\"box-title\" aria-label=\"question box: Question: New History\" style=\"font-size: 150%\">❓ Question: New History</div>\n",
        "<p>Create a new Galaxy history.</p>\n",
        "<br/><details style=\"border: 2px solid #B8C3EA; margin: 1em 0.2em; padding: 0.5em;\"><summary>👁 View solution</summary>\n",
        "<div class=\"box-title\" aria-label=\"solution box: Solution\" style=\"font-size: 150%\">👁 Solution</div>\n",
        "<div class=\"language-plaintext highlighter-rouge\"><div><pre style=\"color: inherit; background: transparent\"><code style=\"color: inherit\">new_hist = gi.histories.create_history(name='New history')\n",
        "pprint(new_hist)\n",
        "</code></pre></div>    </div>\n",
        "</details>\n",
        "</blockquote>\n"
      ]
    },
    {
      "cell_type": "code",
      "execution_count": null,
      "id": "cell-55",
      "metadata": {
        "attributes": {
          "classes": [
            "python"
          ],
          "id": ""
        }
      },
      "outputs": [],
      "source": [
        "# Try it out here!\n"
      ]
    },
    {
      "cell_type": "markdown",
      "id": "cell-56",
      "metadata": {
        "collapsed": false,
        "editable": false
      },
      "source": [
        "<blockquote class=\"question\" style=\"border: 2px solid #8A9AD0; margin: 1em 0.2em\">\n",
        "<div class=\"box-title\" aria-label=\"question box: Question: Upload a dataset\" style=\"font-size: 150%\">❓ Question: Upload a dataset</div>\n",
        "<p><strong>Upload</strong> the local file <code style=\"color: inherit\">1.txt</code> to the new history using <code style=\"color: inherit\">tools.upload_file()</code> .</p>\n",
        "<p>You can obtain the <code style=\"color: inherit\">1.txt</code> file from the following URL, you’ll need to download it first.</p>\n",
        "<div class=\"language-plaintext highlighter-rouge\"><div><pre style=\"color: inherit; background: transparent\"><code style=\"color: inherit\">https://raw.githubusercontent.com/nsoranzo/bioblend-tutorial/main/test-data/1.txt\n",
        "</code></pre></div>  </div>\n",
        "<br/><details style=\"border: 2px solid #B8C3EA; margin: 1em 0.2em; padding: 0.5em;\"><summary>👁 View solution</summary>\n",
        "<div class=\"box-title\" aria-label=\"solution box: Solution\" style=\"font-size: 150%\">👁 Solution</div>\n",
        "<div class=\"language-plaintext highlighter-rouge\"><div><pre style=\"color: inherit; background: transparent\"><code style=\"color: inherit\">ret = gi.tools.upload_file(\"1.txt\", new_hist[\"id\"])\n",
        "pprint(ret)\n",
        "</code></pre></div>    </div>\n",
        "</details>\n",
        "</blockquote>\n"
      ]
    },
    {
      "cell_type": "code",
      "execution_count": null,
      "id": "cell-57",
      "metadata": {
        "attributes": {
          "classes": [
            "python"
          ],
          "id": ""
        }
      },
      "outputs": [],
      "source": [
        "# Try it out here!\n"
      ]
    },
    {
      "cell_type": "markdown",
      "id": "cell-58",
      "metadata": {
        "collapsed": false,
        "editable": false
      },
      "source": [
        "<blockquote class=\"question\" style=\"border: 2px solid #8A9AD0; margin: 1em 0.2em\">\n",
        "<div class=\"box-title\" aria-label=\"question box: Question: Find the dataset in your history\" style=\"font-size: 150%\">❓ Question: Find the dataset in your history</div>\n",
        "<p>Find the new uploaded dataset, either from the dict returned by <code style=\"color: inherit\">tools.upload_file()</code> or from the history contents.</p>\n",
        "<br/><details style=\"border: 2px solid #B8C3EA; margin: 1em 0.2em; padding: 0.5em;\"><summary>👁 View solution</summary>\n",
        "<div class=\"box-title\" aria-label=\"solution box: Solution\" style=\"font-size: 150%\">👁 Solution</div>\n",
        "<div class=\"language-plaintext highlighter-rouge\"><div><pre style=\"color: inherit; background: transparent\"><code style=\"color: inherit\">hda = ret['outputs'][0]\n",
        "pprint(hda)\n",
        "</code></pre></div>    </div>\n",
        "</details>\n",
        "</blockquote>\n"
      ]
    },
    {
      "cell_type": "code",
      "execution_count": null,
      "id": "cell-59",
      "metadata": {
        "attributes": {
          "classes": [
            "python"
          ],
          "id": ""
        }
      },
      "outputs": [],
      "source": [
        "# Try it out here!\n"
      ]
    },
    {
      "cell_type": "markdown",
      "id": "cell-60",
      "metadata": {
        "collapsed": false,
        "editable": false
      },
      "source": [
        "<blockquote class=\"question\" style=\"border: 2px solid #8A9AD0; margin: 1em 0.2em\">\n",
        "<div class=\"box-title\" aria-label=\"question box: Question: Import a workflow\" style=\"font-size: 150%\">❓ Question: Import a workflow</div>\n",
        "<p><strong>Import a workflow</strong> from the local file <code style=\"color: inherit\">convert_to_tab.ga</code> using <code style=\"color: inherit\">workflows.import_workflow_from_local_path()</code> .</p>\n",
        "<p>You can obtain the <code style=\"color: inherit\">convert_to_tab.ga</code> file from the following URL, you’ll need to download it first.</p>\n",
        "<div class=\"language-plaintext highlighter-rouge\"><div><pre style=\"color: inherit; background: transparent\"><code style=\"color: inherit\">https://raw.githubusercontent.com/nsoranzo/bioblend-tutorial/main/test-data/convert_to_tab.ga\n",
        "</code></pre></div>  </div>\n",
        "<br/><details style=\"border: 2px solid #B8C3EA; margin: 1em 0.2em; padding: 0.5em;\"><summary>👁 View solution</summary>\n",
        "<div class=\"box-title\" aria-label=\"solution box: Solution\" style=\"font-size: 150%\">👁 Solution</div>\n",
        "<div class=\"language-plaintext highlighter-rouge\"><div><pre style=\"color: inherit; background: transparent\"><code style=\"color: inherit\">wf = gi.workflows.import_workflow_from_local_path(\"convert_to_tab.ga\")\n",
        "pprint(wf)\n",
        "</code></pre></div>    </div>\n",
        "</details>\n",
        "</blockquote>\n"
      ]
    },
    {
      "cell_type": "code",
      "execution_count": null,
      "id": "cell-61",
      "metadata": {
        "attributes": {
          "classes": [
            "python"
          ],
          "id": ""
        }
      },
      "outputs": [],
      "source": [
        "# Try it out here!\n"
      ]
    },
    {
      "cell_type": "markdown",
      "id": "cell-62",
      "metadata": {
        "collapsed": false,
        "editable": false
      },
      "source": [
        "<blockquote class=\"question\" style=\"border: 2px solid #8A9AD0; margin: 1em 0.2em\">\n",
        "<div class=\"box-title\" aria-label=\"question box: Question: View the workflow details\" style=\"font-size: 150%\">❓ Question: View the workflow details</div>\n",
        "<p>View the details of the imported workflow using <code style=\"color: inherit\">workflows.show_workflow()</code></p>\n",
        "<br/><details style=\"border: 2px solid #B8C3EA; margin: 1em 0.2em; padding: 0.5em;\"><summary>👁 View solution</summary>\n",
        "<div class=\"box-title\" aria-label=\"solution box: Solution\" style=\"font-size: 150%\">👁 Solution</div>\n",
        "<div class=\"language-plaintext highlighter-rouge\"><div><pre style=\"color: inherit; background: transparent\"><code style=\"color: inherit\">wf = gi.workflows.show_workflow(wf['id'])\n",
        "pprint(wf)\n",
        "</code></pre></div>    </div>\n",
        "</details>\n",
        "</blockquote>\n"
      ]
    },
    {
      "cell_type": "code",
      "execution_count": null,
      "id": "cell-63",
      "metadata": {
        "attributes": {
          "classes": [
            "python"
          ],
          "id": ""
        }
      },
      "outputs": [],
      "source": [
        "# Try it out here!\n"
      ]
    },
    {
      "cell_type": "markdown",
      "id": "cell-64",
      "metadata": {
        "collapsed": false,
        "editable": false
      },
      "source": [
        "<blockquote class=\"question\" style=\"border: 2px solid #8A9AD0; margin: 1em 0.2em\">\n",
        "<div class=\"box-title\" aria-label=\"question box: Question: Invoke the workflow\" style=\"font-size: 150%\">❓ Question: Invoke the workflow</div>\n",
        "<p><strong>Run</strong> the imported workflow on the uploaded dataset <strong>inside the same history</strong> using <code style=\"color: inherit\">workflows.invoke_workflow()</code> .</p>\n",
        "<br/><details style=\"border: 2px solid #B8C3EA; margin: 1em 0.2em; padding: 0.5em;\"><summary>👁 View solution</summary>\n",
        "<div class=\"box-title\" aria-label=\"solution box: Solution\" style=\"font-size: 150%\">👁 Solution</div>\n",
        "<div class=\"language-plaintext highlighter-rouge\"><div><pre style=\"color: inherit; background: transparent\"><code style=\"color: inherit\">inputs = {0: {'id': hda['id'], 'src': 'hda'}}\n",
        "ret = gi.workflows.invoke_workflow(wf['id'], inputs=inputs, history_id=new_hist['id'])\n",
        "pprint(ret)\n",
        "</code></pre></div>    </div>\n",
        "</details>\n",
        "</blockquote>\n"
      ]
    },
    {
      "cell_type": "code",
      "execution_count": null,
      "id": "cell-65",
      "metadata": {
        "attributes": {
          "classes": [
            "python"
          ],
          "id": ""
        }
      },
      "outputs": [],
      "source": [
        "# Try it out here!\n"
      ]
    },
    {
      "cell_type": "markdown",
      "id": "cell-66",
      "metadata": {
        "collapsed": false,
        "editable": false
      },
      "source": [
        "<blockquote class=\"question\" style=\"border: 2px solid #8A9AD0; margin: 1em 0.2em\">\n",
        "<div class=\"box-title\" aria-label=\"question box: Question: View the results\" style=\"font-size: 150%\">❓ Question: View the results</div>\n",
        "<p>View the results on the Galaxy server with your web browser. Were you successful? Did it run?</p>\n",
        "</blockquote>\n",
        "<h1 id=\"interacting-with-histories-in-bioblendobjects\">Interacting with histories in BioBlend.objects</h1>\n",
        "<p><strong>You need to insert the API key for your Galaxy server in the cell below</strong>:</p>\n",
        "<ol>\n",
        "<li>Open the Galaxy server in another browser tab</li>\n",
        "<li>Click on “User” on the top menu, then “Preferences”</li>\n",
        "<li>Click on “Manage API key”</li>\n",
        "<li>Generate an API key if needed, then copy the alphanumeric string and paste it as the value of the <code style=\"color: inherit\">api_key</code> variable below.</li>\n",
        "</ol>\n",
        "<p>The user interacts with a Galaxy server through a <code style=\"color: inherit\">GalaxyInstance</code> object:</p>\n"
      ]
    },
    {
      "cell_type": "code",
      "execution_count": null,
      "id": "cell-67",
      "metadata": {
        "attributes": {
          "classes": [
            "python"
          ],
          "id": ""
        }
      },
      "outputs": [],
      "source": [
        "from pprint import pprint\n",
        "\n",
        "import bioblend.galaxy.objects\n",
        "\n",
        "server = 'https://usegalaxy.eu/'\n",
        "api_key = ''\n",
        "gi = bioblend.galaxy.objects.GalaxyInstance(url=server, api_key=api_key)"
      ]
    },
    {
      "cell_type": "markdown",
      "id": "cell-68",
      "metadata": {
        "collapsed": false,
        "editable": false
      },
      "source": [
        "<p>All <code style=\"color: inherit\">GalaxyInstance</code> method calls have the <code style=\"color: inherit\">client.method()</code> format, where <code style=\"color: inherit\">client</code> is the name of the resources you dealing with. There are 2 methods to get the list of resources:</p>\n",
        "<ul>\n",
        "<li><code style=\"color: inherit\">get_previews()</code>: lightweight (one GET request), retrieves basic resources’ info, returns a list of <strong>preview</strong> objects</li>\n",
        "<li><code style=\"color: inherit\">list()</code>: one GET request for each resource, retrieves full resources’ info, returns a list of <strong>full</strong> objects.</li>\n",
        "</ul>\n",
        "<p>For example, the call to retrieve previews of all histories owned by the current user is:</p>\n"
      ]
    },
    {
      "cell_type": "code",
      "execution_count": null,
      "id": "cell-69",
      "metadata": {
        "attributes": {
          "classes": [
            "python"
          ],
          "id": ""
        }
      },
      "outputs": [],
      "source": [
        "pprint(gi.histories.get_previews())"
      ]
    },
    {
      "cell_type": "markdown",
      "id": "cell-70",
      "metadata": {
        "collapsed": false,
        "editable": false
      },
      "source": [
        "<p><strong>New resources</strong> are created with <code style=\"color: inherit\">create()</code> methods, e.g. to create a new history:</p>\n"
      ]
    },
    {
      "cell_type": "code",
      "execution_count": null,
      "id": "cell-71",
      "metadata": {
        "attributes": {
          "classes": [
            "python"
          ],
          "id": ""
        }
      },
      "outputs": [],
      "source": [
        "new_hist = gi.histories.create(name='BioBlend test')\n",
        "new_hist"
      ]
    },
    {
      "cell_type": "markdown",
      "id": "cell-72",
      "metadata": {
        "collapsed": false,
        "editable": false
      },
      "source": [
        "<p>As you can see, the <code style=\"color: inherit\">create()</code> methods in BioBlend.objects returns an object, not a dictionary.</p>\n",
        "<p>Both <code style=\"color: inherit\">get_previews()</code> and <code style=\"color: inherit\">list()</code> methods usually have <strong>filtering</strong> capabilities, e.g. it is possible to filter histories <strong>by name</strong>:</p>\n"
      ]
    },
    {
      "cell_type": "code",
      "execution_count": null,
      "id": "cell-73",
      "metadata": {
        "attributes": {
          "classes": [
            "python"
          ],
          "id": ""
        }
      },
      "outputs": [],
      "source": [
        "pprint(gi.histories.list(name='BioBlend test'))"
      ]
    },
    {
      "cell_type": "markdown",
      "id": "cell-74",
      "metadata": {
        "collapsed": false,
        "editable": false
      },
      "source": [
        "<p>To <strong>upload</strong> the local file <code style=\"color: inherit\">1.txt</code> to the new history, you can run the special upload tool by calling the <code style=\"color: inherit\">upload_file</code> method of the <code style=\"color: inherit\">History</code> object.</p>\n",
        "<p>You can obtain the <code style=\"color: inherit\">1.txt</code> file from the following URL, you’ll need to download it first.</p>\n",
        "<div class=\"language-plaintext highlighter-rouge\"><div><pre style=\"color: inherit; background: transparent\"><code style=\"color: inherit\">https://raw.githubusercontent.com/nsoranzo/bioblend-tutorial/main/test-data/1.txt\n",
        "</code></pre></div></div>\n"
      ]
    },
    {
      "cell_type": "code",
      "execution_count": null,
      "id": "cell-75",
      "metadata": {
        "attributes": {
          "classes": [
            "python"
          ],
          "id": ""
        }
      },
      "outputs": [],
      "source": [
        "hda = new_hist.upload_file(\"1.txt\")\n",
        "hda"
      ]
    },
    {
      "cell_type": "markdown",
      "id": "cell-76",
      "metadata": {
        "collapsed": false,
        "editable": false
      },
      "source": [
        "<p>Please note that with BioBlend.objects there is no need to find the upload dataset, since <code style=\"color: inherit\">upload_file()</code> already returns a <code style=\"color: inherit\">HistoryDatasetAssociation</code> object.</p>\n",
        "<p>Both <code style=\"color: inherit\">HistoryPreview</code> and <code style=\"color: inherit\">History</code> objects have many of their properties available as <strong>attributes</strong>, e.g. the id.</p>\n",
        "<p>If you need to specify the unique <strong>id</strong> of the resource to retrieve, you can use the <code style=\"color: inherit\">get()</code> method, e.g. to get back the history we created before:</p>\n"
      ]
    },
    {
      "cell_type": "code",
      "execution_count": null,
      "id": "cell-77",
      "metadata": {
        "attributes": {
          "classes": [
            "python"
          ],
          "id": ""
        }
      },
      "outputs": [],
      "source": [
        "gi.histories.get(new_hist.id)"
      ]
    },
    {
      "cell_type": "markdown",
      "id": "cell-78",
      "metadata": {
        "collapsed": false,
        "editable": false
      },
      "source": [
        "<p>To get the list of <strong>datasets contained</strong> in a history, simply look at the <code style=\"color: inherit\">content_infos</code> attribute of the <code style=\"color: inherit\">History</code> object.</p>\n"
      ]
    },
    {
      "cell_type": "code",
      "execution_count": null,
      "id": "cell-79",
      "metadata": {
        "attributes": {
          "classes": [
            "python"
          ],
          "id": ""
        }
      },
      "outputs": [],
      "source": [
        "pprint(new_hist.content_infos)"
      ]
    },
    {
      "cell_type": "markdown",
      "id": "cell-80",
      "metadata": {
        "collapsed": false,
        "editable": false
      },
      "source": [
        "<p>To get the details about one dataset, you can use the <code style=\"color: inherit\">get_dataset()</code> method of the <code style=\"color: inherit\">History</code> object:</p>\n"
      ]
    },
    {
      "cell_type": "code",
      "execution_count": null,
      "id": "cell-81",
      "metadata": {
        "attributes": {
          "classes": [
            "python"
          ],
          "id": ""
        }
      },
      "outputs": [],
      "source": [
        "new_hist.get_dataset(hda.id)"
      ]
    },
    {
      "cell_type": "markdown",
      "id": "cell-82",
      "metadata": {
        "collapsed": false,
        "editable": false
      },
      "source": [
        "<p>You can also filter history datasets by name using the <code style=\"color: inherit\">get_datasets()</code> method of <code style=\"color: inherit\">History</code> objects.</p>\n",
        "<p>To <strong>update</strong> a resource, use the <code style=\"color: inherit\">update()</code> method of its object, e.g. to change the history name:</p>\n"
      ]
    },
    {
      "cell_type": "code",
      "execution_count": null,
      "id": "cell-83",
      "metadata": {
        "attributes": {
          "classes": [
            "python"
          ],
          "id": ""
        }
      },
      "outputs": [],
      "source": [
        "new_hist.update(name='Updated history')"
      ]
    },
    {
      "cell_type": "markdown",
      "id": "cell-84",
      "metadata": {
        "collapsed": false,
        "editable": false
      },
      "source": [
        "<p>The return value of <code style=\"color: inherit\">update()</code> methods is the updated object.</p>\n",
        "<p>Finally to <strong>delete</strong> a resource, you can use the <code style=\"color: inherit\">delete()</code> method of the object, e.g.:</p>\n"
      ]
    },
    {
      "cell_type": "code",
      "execution_count": null,
      "id": "cell-85",
      "metadata": {
        "attributes": {
          "classes": [
            "python"
          ],
          "id": ""
        }
      },
      "outputs": [],
      "source": [
        "new_hist.delete()"
      ]
    },
    {
      "cell_type": "markdown",
      "id": "cell-86",
      "metadata": {
        "collapsed": false,
        "editable": false
      },
      "source": [
        "<h2 id=\"exercise-bioblendobjects\">Exercise: BioBlend.objects</h2>\n",
        "<p><strong>Goal</strong>: Upload a file to a new history, import a workflow and run it on the uploaded dataset.</p>\n",
        "<blockquote class=\"question\" style=\"border: 2px solid #8A9AD0; margin: 1em 0.2em\">\n",
        "<div class=\"box-title\" aria-label=\"question box: Question: Initialise\" style=\"font-size: 150%\">❓ Question: Initialise</div>\n",
        "<p>Create a <code style=\"color: inherit\">GalaxyInstance</code> object.</p>\n",
        "<br/><details style=\"border: 2px solid #B8C3EA; margin: 1em 0.2em; padding: 0.5em;\"><summary>👁 View solution</summary>\n",
        "<div class=\"box-title\" aria-label=\"solution box: Solution\" style=\"font-size: 150%\">👁 Solution</div>\n",
        "<div class=\"language-plaintext highlighter-rouge\"><div><pre style=\"color: inherit; background: transparent\"><code style=\"color: inherit\">from pprint import pprint\n",
        "\n",
        "import bioblend.galaxy\n",
        "\n",
        "server = 'https://usegalaxy.eu/'\n",
        "api_key = ''\n",
        "gi = bioblend.galaxy.objects.GalaxyInstance(url=server, api_key=api_key)\n",
        "</code></pre></div>    </div>\n",
        "</details>\n",
        "</blockquote>\n"
      ]
    },
    {
      "cell_type": "code",
      "execution_count": null,
      "id": "cell-87",
      "metadata": {
        "attributes": {
          "classes": [
            "python"
          ],
          "id": ""
        }
      },
      "outputs": [],
      "source": [
        "# Try it out here!\n"
      ]
    },
    {
      "cell_type": "markdown",
      "id": "cell-88",
      "metadata": {
        "collapsed": false,
        "editable": false
      },
      "source": [
        "<blockquote class=\"question\" style=\"border: 2px solid #8A9AD0; margin: 1em 0.2em\">\n",
        "<div class=\"box-title\" aria-label=\"question box: Question: New History\" style=\"font-size: 150%\">❓ Question: New History</div>\n",
        "<p>Create a new Galaxy history.</p>\n",
        "<br/><details style=\"border: 2px solid #B8C3EA; margin: 1em 0.2em; padding: 0.5em;\"><summary>👁 View solution</summary>\n",
        "<div class=\"box-title\" aria-label=\"solution box: Solution\" style=\"font-size: 150%\">👁 Solution</div>\n",
        "<div class=\"language-plaintext highlighter-rouge\"><div><pre style=\"color: inherit; background: transparent\"><code style=\"color: inherit\">new_hist = gi.histories.create(name='New history')\n",
        "new_hist\n",
        "</code></pre></div>    </div>\n",
        "</details>\n",
        "</blockquote>\n"
      ]
    },
    {
      "cell_type": "code",
      "execution_count": null,
      "id": "cell-89",
      "metadata": {
        "attributes": {
          "classes": [
            "python"
          ],
          "id": ""
        }
      },
      "outputs": [],
      "source": [
        "# Try it out here!\n"
      ]
    },
    {
      "cell_type": "markdown",
      "id": "cell-90",
      "metadata": {
        "collapsed": false,
        "editable": false
      },
      "source": [
        "<blockquote class=\"question\" style=\"border: 2px solid #8A9AD0; margin: 1em 0.2em\">\n",
        "<div class=\"box-title\" aria-label=\"question box: Question: Upload a dataset\" style=\"font-size: 150%\">❓ Question: Upload a dataset</div>\n",
        "<p><strong>Upload</strong> the local file <code style=\"color: inherit\">1.txt</code> to the new history using the <code style=\"color: inherit\">upload_file()</code> method of <code style=\"color: inherit\">History</code> objects.</p>\n",
        "<p>You can obtain the <code style=\"color: inherit\">1.txt</code> file from the following URL, you’ll need to download it first.</p>\n",
        "<div class=\"language-plaintext highlighter-rouge\"><div><pre style=\"color: inherit; background: transparent\"><code style=\"color: inherit\">https://raw.githubusercontent.com/nsoranzo/bioblend-tutorial/main/test-data/1.txt\n",
        "</code></pre></div>  </div>\n",
        "<br/><details style=\"border: 2px solid #B8C3EA; margin: 1em 0.2em; padding: 0.5em;\"><summary>👁 View solution</summary>\n",
        "<div class=\"box-title\" aria-label=\"solution box: Solution\" style=\"font-size: 150%\">👁 Solution</div>\n",
        "<div class=\"language-plaintext highlighter-rouge\"><div><pre style=\"color: inherit; background: transparent\"><code style=\"color: inherit\">hda = new_hist.upload_file(\"1.txt\")\n",
        "hda\n",
        "</code></pre></div>    </div>\n",
        "</details>\n",
        "</blockquote>\n"
      ]
    },
    {
      "cell_type": "code",
      "execution_count": null,
      "id": "cell-91",
      "metadata": {
        "attributes": {
          "classes": [
            "python"
          ],
          "id": ""
        }
      },
      "outputs": [],
      "source": [
        "# Try it out here!\n"
      ]
    },
    {
      "cell_type": "markdown",
      "id": "cell-92",
      "metadata": {
        "collapsed": false,
        "editable": false
      },
      "source": [
        "<blockquote class=\"question\" style=\"border: 2px solid #8A9AD0; margin: 1em 0.2em\">\n",
        "<div class=\"box-title\" aria-label=\"question box: Question: Import a workflow\" style=\"font-size: 150%\">❓ Question: Import a workflow</div>\n",
        "<p><strong>Import a workflow</strong> from the local file <code style=\"color: inherit\">convert_to_tab.ga</code> using <code style=\"color: inherit\">workflows.import_new()</code></p>\n",
        "<p>You can obtain the <code style=\"color: inherit\">convert_to_tab.ga</code> file from the following URL, you’ll need to download it first.</p>\n",
        "<div class=\"language-plaintext highlighter-rouge\"><div><pre style=\"color: inherit; background: transparent\"><code style=\"color: inherit\">https://raw.githubusercontent.com/nsoranzo/bioblend-tutorial/main/test-data/convert_to_tab.ga\n",
        "</code></pre></div>  </div>\n",
        "<br/><details style=\"border: 2px solid #B8C3EA; margin: 1em 0.2em; padding: 0.5em;\"><summary>👁 View solution</summary>\n",
        "<div class=\"box-title\" aria-label=\"solution box: Solution\" style=\"font-size: 150%\">👁 Solution</div>\n",
        "<div class=\"language-plaintext highlighter-rouge\"><div><pre style=\"color: inherit; background: transparent\"><code style=\"color: inherit\">with open(\"convert_to_tab.ga\", \"r\") as f:\n",
        "    wf_string = f.read()\n",
        "wf = gi.workflows.import_new(wf_string)\n",
        "wf\n",
        "</code></pre></div>    </div>\n",
        "</details>\n",
        "</blockquote>\n"
      ]
    },
    {
      "cell_type": "code",
      "execution_count": null,
      "id": "cell-93",
      "metadata": {
        "attributes": {
          "classes": [
            "python"
          ],
          "id": ""
        }
      },
      "outputs": [],
      "source": [
        "# Try it out here!\n"
      ]
    },
    {
      "cell_type": "markdown",
      "id": "cell-94",
      "metadata": {
        "collapsed": false,
        "editable": false
      },
      "source": [
        "<blockquote class=\"question\" style=\"border: 2px solid #8A9AD0; margin: 1em 0.2em\">\n",
        "<div class=\"box-title\" aria-label=\"question box: Question: View the workflow inputs\" style=\"font-size: 150%\">❓ Question: View the workflow inputs</div>\n",
        "<br/><details style=\"border: 2px solid #B8C3EA; margin: 1em 0.2em; padding: 0.5em;\"><summary>👁 View solution</summary>\n",
        "<div class=\"box-title\" aria-label=\"solution box: Solution\" style=\"font-size: 150%\">👁 Solution</div>\n",
        "<div class=\"language-plaintext highlighter-rouge\"><div><pre style=\"color: inherit; background: transparent\"><code style=\"color: inherit\">wf.inputs\n",
        "</code></pre></div>    </div>\n",
        "</details>\n",
        "</blockquote>\n"
      ]
    },
    {
      "cell_type": "code",
      "execution_count": null,
      "id": "cell-95",
      "metadata": {
        "attributes": {
          "classes": [
            "python"
          ],
          "id": ""
        }
      },
      "outputs": [],
      "source": [
        "# Try it out here!\n"
      ]
    },
    {
      "cell_type": "markdown",
      "id": "cell-96",
      "metadata": {
        "collapsed": false,
        "editable": false
      },
      "source": [
        "<blockquote class=\"question\" style=\"border: 2px solid #8A9AD0; margin: 1em 0.2em\">\n",
        "<div class=\"box-title\" aria-label=\"question box: Question: Invoke the workflow\" style=\"font-size: 150%\">❓ Question: Invoke the workflow</div>\n",
        "<p><strong>Run</strong> the imported workflow on the uploaded dataset <strong>inside the same history</strong> using the <code style=\"color: inherit\">invoke()</code> method of <code style=\"color: inherit\">Workflow</code> objects.</p>\n",
        "<br/><details style=\"border: 2px solid #B8C3EA; margin: 1em 0.2em; padding: 0.5em;\"><summary>👁 View solution</summary>\n",
        "<div class=\"box-title\" aria-label=\"solution box: Solution\" style=\"font-size: 150%\">👁 Solution</div>\n",
        "<div class=\"language-plaintext highlighter-rouge\"><div><pre style=\"color: inherit; background: transparent\"><code style=\"color: inherit\">inputs = {'0': hda}\n",
        "wf.invoke(inputs=inputs, history=new_hist)\n",
        "</code></pre></div>    </div>\n",
        "</details>\n",
        "</blockquote>\n"
      ]
    },
    {
      "cell_type": "code",
      "execution_count": null,
      "id": "cell-97",
      "metadata": {
        "attributes": {
          "classes": [
            "python"
          ],
          "id": ""
        }
      },
      "outputs": [],
      "source": [
        "# Try it out here!\n"
      ]
    },
    {
      "cell_type": "markdown",
      "id": "cell-98",
      "metadata": {
        "collapsed": false,
        "editable": false
      },
      "source": [
        "<blockquote class=\"question\" style=\"border: 2px solid #8A9AD0; margin: 1em 0.2em\">\n",
        "<div class=\"box-title\" aria-label=\"question box: Question: View the results\" style=\"font-size: 150%\">❓ Question: View the results</div>\n",
        "<p>View the results on the Galaxy server with your web browser. Were you successful? Did it run?</p>\n",
        "</blockquote>\n",
        "<h1 id=\"optional-extra-exercises\">Optional Extra Exercises</h1>\n",
        "<p>If you have completed the exercise, you can try to perform these extra tasks with the help of the online documentation:</p>\n",
        "<ol>\n",
        "<li>Download the workflow result to your computer</li>\n",
        "<li>Publish your history</li>\n",
        "</ol>\n"
      ]
    },
    {
      "cell_type": "markdown",
      "id": "final-ending-cell",
      "metadata": {
        "collapsed": false,
        "editable": false
      },
      "source": [
        "# Key Points\n",
        "\n",
        "- The API allows you to use Galaxy's capabilities programmatically.\n",
        "- BioBlend makes using the Galaxy API from Python easier.\n",
        "- BioBlend objects is an object-oriented interface for interacting with Galaxy.\n",
        "\n",
        "# Congratulations on successfully completing this tutorial!\n",
        "\n",
        "Please [fill out the feedback on the GTN website](https://training.galaxyproject.org/training-material/topics/dev/tutorials/bioblend-api/tutorial.html#feedback) and check there for further resources!\n"
      ]
    }
  ],
  "metadata": {
    "kernelspec": {
      "display_name": "Python 3",
      "language": "python",
      "name": "python3"
    },
    "language_info": {
      "codemirror_mode": {
        "name": "ipython",
        "version": 3
      },
      "file_extension": ".py",
      "mimetype": "text/x-python",
      "name": "python",
      "nbconvert_exporter": "python",
      "pygments_lexer": "ipython3",
      "version": "3.9.13"
    },
    "vscode": {
      "interpreter": {
        "hash": "6b199708a8a367a754e59d199bd5ead14d4987a7a14841b8b6fed074981f6883"
      }
    }
  },
  "nbformat": 4,
  "nbformat_minor": 5
}
