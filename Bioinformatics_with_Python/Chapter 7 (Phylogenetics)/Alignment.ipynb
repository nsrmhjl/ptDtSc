{
  "nbformat": 4,
  "nbformat_minor": 0,
  "metadata": {
    "colab": {
      "provenance": []
    },
    "kernelspec": {
      "name": "python3",
      "display_name": "Python 3"
    },
    "language_info": {
      "name": "python"
    }
  },
  "cells": [
    {
      "cell_type": "markdown",
      "source": [
        "**Aligning genetic and genomic data**"
      ],
      "metadata": {
        "id": "916z6KHm-FiG"
      }
    },
    {
      "cell_type": "markdown",
      "source": [
        "Before we can perform any phylogenetic analysis, we need to align our genetic and genomic data.\n",
        "Here, we will use MAFFT (http://mafft.cbrc.jp/alignment/software/) to perform\n",
        "the genome analysis. The gene analysis will be performed using MUSCLE (http://www.drive5.\n",
        "com/muscle/)."
      ],
      "metadata": {
        "id": "jFQtMvv6-Jbn"
      }
    },
    {
      "cell_type": "markdown",
      "source": [
        "To perform the genomic alignment, you will need to install MAFFT. Additionally, to perform the genic\n",
        "alignment, MUSCLE will be used. Also, we will use trimAl (http://trimal.cgenomics.org/)\n",
        "to remove spurious sequences and poorly aligned regions in an automated manner. "
      ],
      "metadata": {
        "id": "7sLZlyym-LwG"
      }
    },
    {
      "cell_type": "code",
      "source": [
        "# firstly: install conda\n",
        "!pip install -q condacolab"
      ],
      "metadata": {
        "id": "HjliOws89bQr"
      },
      "execution_count": 3,
      "outputs": []
    },
    {
      "cell_type": "code",
      "source": [
        "import condacolab\n",
        "condacolab.install()\n",
        "!conda --version"
      ],
      "metadata": {
        "colab": {
          "base_uri": "https://localhost:8080/"
        },
        "id": "zUeXsxm39lOR",
        "outputId": "809b0cfc-6ba7-476b-b57d-8742ee717905"
      },
      "execution_count": 4,
      "outputs": [
        {
          "output_type": "stream",
          "name": "stdout",
          "text": [
            "⏬ Downloading https://github.com/jaimergp/miniforge/releases/latest/download/Mambaforge-colab-Linux-x86_64.sh...\n",
            "📦 Installing...\n",
            "📌 Adjusting configuration...\n",
            "🩹 Patching environment...\n",
            "⏲ Done in 0:00:38\n",
            "🔁 Restarting kernel...\n",
            "conda 4.14.0\n"
          ]
        }
      ]
    },
    {
      "cell_type": "code",
      "source": [
        "! conda install -c bioconda mafft trimal muscle=3.8"
      ],
      "metadata": {
        "colab": {
          "base_uri": "https://localhost:8080/"
        },
        "id": "_W50Bec-9u8Q",
        "outputId": "c0b55c11-0564-4297-ed01-4411dfdf5c98"
      },
      "execution_count": 1,
      "outputs": [
        {
          "output_type": "stream",
          "name": "stdout",
          "text": [
            "Collecting package metadata (current_repodata.json): - \b\b\\ \b\b| \b\b/ \b\b- \b\b\\ \b\b| \b\b/ \b\b- \b\b\\ \b\b| \b\b/ \b\b- \b\b\\ \b\b| \b\b/ \b\b- \b\b\\ \b\b| \b\b/ \b\b- \b\b\\ \b\b| \b\b/ \b\b- \b\b\\ \b\b| \b\b/ \b\b- \b\b\\ \b\b| \b\b/ \b\b- \b\b\\ \b\b| \b\b/ \b\b- \b\b\\ \b\b| \b\b/ \b\b- \b\b\\ \b\b| \b\b/ \b\b- \b\b\\ \b\b| \b\b/ \b\b- \b\b\\ \b\b| \b\b/ \b\b- \b\b\\ \b\b| \b\b/ \b\b- \b\b\\ \b\b| \b\b/ \b\b- \b\b\\ \b\b| \b\b/ \b\b- \b\b\\ \b\b| \b\b/ \b\b- \b\b\\ \b\b| \b\b/ \b\b- \b\b\\ \b\b| \b\b/ \b\b- \b\b\\ \b\b| \b\b/ \b\b- \b\b\\ \b\b| \b\b/ \b\b- \b\b\\ \b\b| \b\b/ \b\b- \b\b\\ \b\b| \b\b/ \b\b- \b\b\\ \b\b| \b\b/ \b\b- \b\b\\ \b\b| \b\b/ \b\b- \b\b\\ \b\b| \b\b/ \b\b- \b\b\\ \b\b| \b\b/ \b\b- \b\b\\ \b\b| \b\b/ \b\b- \b\b\\ \b\b| \b\b/ \b\b- \b\b\\ \b\b| \b\b/ \b\b- \b\b\\ \b\b| \b\b/ \b\b- \b\b\\ \b\b| \b\b/ \b\b- \b\b\\ \b\b| \b\b/ \b\b- \b\b\\ \b\b| \b\b/ \b\b- \b\b\\ \b\b| \b\b/ \b\b- \b\b\\ \b\b| \b\b/ \b\b- \b\b\\ \b\b| \b\b/ \b\b- \b\b\\ \b\b| \b\b/ \b\b- \b\b\\ \b\b| \b\b/ \b\b- \b\b\\ \b\b| \b\b/ \b\b- \b\b\\ \b\b| \b\b/ \b\b- \b\b\\ \b\b| \b\b/ \b\b- \b\b\\ \b\b| \b\b/ \b\b- \b\b\\ \b\b| \b\b/ \b\b- \b\b\\ \b\b| \b\b/ \b\b- \b\b\\ \b\b| \b\b/ \b\b- \b\b\\ \b\b| \b\b/ \b\b- \b\b\\ \b\b| \b\b/ \b\bdone\n",
            "Solving environment: \\ \b\b| \b\b/ \b\b- \b\b\\ \b\b| \b\b/ \b\b- \b\b\\ \b\b| \b\b/ \b\b- \b\b\\ \b\b| \b\b/ \b\b- \b\b\\ \b\b| \b\bdone\n",
            "\n",
            "## Package Plan ##\n",
            "\n",
            "  environment location: /usr/local\n",
            "\n",
            "  added / updated specs:\n",
            "    - mafft\n",
            "    - muscle=3.8\n",
            "    - trimal\n",
            "\n",
            "\n",
            "The following packages will be downloaded:\n",
            "\n",
            "    package                    |            build\n",
            "    ---------------------------|-----------------\n",
            "    ca-certificates-2022.9.24  |       ha878542_0         150 KB  conda-forge\n",
            "    certifi-2022.9.24          |     pyhd8ed1ab_0         155 KB  conda-forge\n",
            "    conda-22.9.0               |   py37h89c1867_1         960 KB  conda-forge\n",
            "    mafft-7.508                |       hec16e2b_0         3.1 MB  bioconda\n",
            "    muscle-3.8.1551            |       h7d875b9_6         262 KB  bioconda\n",
            "    openssl-1.1.1s             |       h166bdaf_0         2.1 MB  conda-forge\n",
            "    trimal-1.4.1               |       h9f5acd7_6         183 KB  bioconda\n",
            "    ------------------------------------------------------------\n",
            "                                           Total:         6.9 MB\n",
            "\n",
            "The following NEW packages will be INSTALLED:\n",
            "\n",
            "  mafft              bioconda/linux-64::mafft-7.508-hec16e2b_0\n",
            "  muscle             bioconda/linux-64::muscle-3.8.1551-h7d875b9_6\n",
            "  trimal             bioconda/linux-64::trimal-1.4.1-h9f5acd7_6\n",
            "\n",
            "The following packages will be UPDATED:\n",
            "\n",
            "  ca-certificates                      2022.6.15-ha878542_0 --> 2022.9.24-ha878542_0\n",
            "  certifi            conda-forge/linux-64::certifi-2022.6.~ --> conda-forge/noarch::certifi-2022.9.24-pyhd8ed1ab_0\n",
            "  conda                               4.14.0-py37h89c1867_0 --> 22.9.0-py37h89c1867_1\n",
            "  openssl                                 1.1.1q-h166bdaf_0 --> 1.1.1s-h166bdaf_0\n",
            "\n",
            "\n",
            "\n",
            "Downloading and Extracting Packages\n",
            "mafft-7.508          | 3.1 MB    | : 100% 1.0/1 [00:00<00:00,  1.12it/s]\n",
            "ca-certificates-2022 | 150 KB    | : 100% 1.0/1 [00:00<00:00, 17.75it/s]\n",
            "certifi-2022.9.24    | 155 KB    | : 100% 1.0/1 [00:00<00:00, 16.39it/s]\n",
            "muscle-3.8.1551      | 262 KB    | : 100% 1.0/1 [00:00<00:00, 12.11it/s]\n",
            "trimal-1.4.1         | 183 KB    | : 100% 1.0/1 [00:00<00:00,  5.66it/s]                \n",
            "conda-22.9.0         | 960 KB    | : 100% 1.0/1 [00:00<00:00,  2.54it/s]\n",
            "openssl-1.1.1s       | 2.1 MB    | : 100% 1.0/1 [00:00<00:00,  2.19it/s]\n",
            "Preparing transaction: - \b\bdone\n",
            "Verifying transaction: | \b\b/ \b\bdone\n",
            "Executing transaction: \\ \b\b| \b\b/ \b\b- \b\b\\ \b\b| \b\b/ \b\b- \b\b\\ \b\b| \b\b/ \b\b- \b\b\\ \b\b| \b\b/ \b\b- \b\b\\ \b\b| \b\b/ \b\bdone\n",
            "Retrieving notices: ...working... done\n"
          ]
        }
      ]
    },
    {
      "cell_type": "markdown",
      "source": [
        "**specifying our data sources:**"
      ],
      "metadata": {
        "id": "Y2bUhNS3_3E3"
      }
    },
    {
      "cell_type": "code",
      "source": [
        "import dendropy\n",
        "from dendropy.interop import genbank\n",
        "\n",
        "\n",
        "# ## Getting the data\n",
        "\n",
        "# +\n",
        "def get_ebov_2014_sources():\n",
        "    #EBOV_2014\n",
        "    #yield 'EBOV_2014', genbank.GenBankDna(id_range=(233036, 233118), prefix='KM')\n",
        "    yield 'EBOV_2014', genbank.GenBankDna(id_range=(34549, 34563), prefix='KM0')\n",
        "    \n",
        "def get_other_ebov_sources():\n",
        "    #EBOV other\n",
        "    yield 'EBOV_1976', genbank.GenBankDna(ids=['AF272001', 'KC242801'])\n",
        "    yield 'EBOV_1995', genbank.GenBankDna(ids=['KC242796', 'KC242799'])\n",
        "    yield 'EBOV_2007', genbank.GenBankDna(id_range=(84, 90), prefix='KC2427')\n",
        "    \n",
        "def get_other_ebolavirus_sources():\n",
        "    #BDBV\n",
        "    yield 'BDBV', genbank.GenBankDna(id_range=(3, 6), prefix='KC54539')\n",
        "    yield 'BDBV', genbank.GenBankDna(ids=['FJ217161'])\n",
        "\n",
        "    #RESTV\n",
        "    yield 'RESTV', genbank.GenBankDna(ids=['AB050936', 'JX477165', 'JX477166', 'FJ621583', 'FJ621584', 'FJ621585']) \n",
        "\n",
        "    #SUDV\n",
        "    yield 'SUDV', genbank.GenBankDna(ids=['KC242783', 'AY729654', 'EU338380',\n",
        "                                          'JN638998', 'FJ968794', 'KC589025', 'JN638998'])\n",
        "    #yield 'SUDV', genbank.GenBankDna(id_range=(89, 92), prefix='KC5453')    \n",
        "\n",
        "    #TAFV\n",
        "    yield 'TAFV', genbank.GenBankDna(ids=['FJ217162'])\n",
        "\n",
        "\n",
        "# +\n",
        "other = open('other.fasta', 'w')\n",
        "sampled = open('sample.fasta', 'w')\n",
        "\n",
        "for species, recs in get_other_ebolavirus_sources():\n",
        "    tn = dendropy.TaxonNamespace()\n",
        "    char_mat = recs.generate_char_matrix(taxon_namespace=tn,\n",
        "        gb_to_taxon_fn=lambda gb: tn.require_taxon(label='%s_%s' % (species, gb.accession)))\n",
        "    char_mat.write_to_stream(other, 'fasta')\n",
        "    char_mat.write_to_stream(sampled, 'fasta')\n",
        "other.close()\n",
        "ebov_2014 = open('ebov_2014.fasta', 'w')\n",
        "ebov = open('ebov.fasta', 'w')\n",
        "for species, recs in get_ebov_2014_sources():\n",
        "    tn = dendropy.TaxonNamespace()\n",
        "    char_mat = recs.generate_char_matrix(taxon_namespace=tn,\n",
        "        gb_to_taxon_fn=lambda gb: tn.require_taxon(label='EBOV_2014_%s' % gb.accession))\n",
        "    char_mat.write_to_stream(ebov_2014, 'fasta')\n",
        "    char_mat.write_to_stream(sampled, 'fasta')\n",
        "    char_mat.write_to_stream(ebov, 'fasta')\n",
        "ebov_2014.close()\n",
        "\n",
        "ebov_2007 = open('ebov_2007.fasta', 'w')\n",
        "for species, recs in get_other_ebov_sources():\n",
        "    tn = dendropy.TaxonNamespace()\n",
        "    char_mat = recs.generate_char_matrix(taxon_namespace=tn,\n",
        "        gb_to_taxon_fn=lambda gb: tn.require_taxon(label='%s_%s' % (species, gb.accession)))\n",
        "    char_mat.write_to_stream(ebov, 'fasta')\n",
        "    char_mat.write_to_stream(sampled, 'fasta')\n",
        "    if species == 'EBOV_2007':\n",
        "        char_mat.write_to_stream(ebov_2007, 'fasta')\n",
        "\n",
        "ebov.close()\n",
        "ebov_2007.close()\n",
        "sampled.close()"
      ],
      "metadata": {
        "id": "6czTpNCE_jGu"
      },
      "execution_count": 3,
      "outputs": []
    },
    {
      "cell_type": "code",
      "execution_count": null,
      "metadata": {
        "colab": {
          "base_uri": "https://localhost:8080/"
        },
        "id": "rsPhrsXsfanw",
        "outputId": "db25dbd8-ae83-4b8a-cbf2-8968cfd9147f"
      },
      "outputs": [
        {
          "output_type": "stream",
          "name": "stdout",
          "text": [
            "mafft --localpair --maxiterate 1000 --ep 0.123 --reorder sample.fasta\n"
          ]
        }
      ],
      "source": [
        "import os\n",
        "import dendropy\n",
        "\n",
        "# ## Genome alignment\n",
        "\n",
        "from Bio.Align.Applications import MafftCommandline\n",
        "mafft_cline = MafftCommandline(input='sample.fasta', ep=0.123, reorder=True, maxiterate=1000, localpair=True)\n",
        "print(mafft_cline)\n",
        "stdout, stderr = mafft_cline()\n",
        "with open('align.fasta', 'w') as w:\n",
        "    w.write(stdout)"
      ]
    },
    {
      "cell_type": "markdown",
      "source": [
        "Let’s use trimAl to trim sequences, as follows:"
      ],
      "metadata": {
        "id": "eL8pq5s_Ahn9"
      }
    },
    {
      "cell_type": "code",
      "source": [
        "os.system('trimal -automated1 -in align.fasta -out trim.fasta -fasta')"
      ],
      "metadata": {
        "id": "7J5n9V76ArD4"
      },
      "execution_count": null,
      "outputs": []
    },
    {
      "cell_type": "markdown",
      "source": [
        "Additionally, we can run MUSCLE to align the proteins:"
      ],
      "metadata": {
        "id": "OfrCd4qHAvWn"
      }
    },
    {
      "cell_type": "markdown",
      "source": [
        "We use Biopython to call an external application. Here, we will align a set of proteins.\n",
        "</br>\n",
        "Note that to make some analysis of molecular evolution, we have to compare aligned genes, not proteins (for example, comparing synonymous and nonsynonymous mutations). However,\n",
        "we just have aligned the proteins. Therefore, we have to convert the alignment into the gene sequence form."
      ],
      "metadata": {
        "id": "O4R0hdNKA4if"
      }
    },
    {
      "cell_type": "code",
      "source": [
        "from Bio.Align.Applications import MuscleCommandline\n",
        "\n",
        "my_genes = ['NP', 'L', 'VP35', 'VP40']\n",
        "\n",
        "for gene in my_genes:\n",
        "    muscle_cline = MuscleCommandline(input='%s_P.fasta' % gene)\n",
        "    print(muscle_cline)\n",
        "    stdout, stderr = muscle_cline()\n",
        "    with open('%s_P_align.fasta' % gene, 'w') as w:\n",
        "        w.write(stdout)"
      ],
      "metadata": {
        "id": "LJvWKff4Av3b"
      },
      "execution_count": null,
      "outputs": []
    },
    {
      "cell_type": "markdown",
      "source": [
        "Let’s align the genes by finding three nucleotides that correspond to each amino acid:"
      ],
      "metadata": {
        "id": "gBv6sHdOBFSu"
      }
    },
    {
      "cell_type": "code",
      "source": [
        "from Bio import SeqIO\n",
        "from Bio.Seq import Seq\n",
        "from Bio.SeqRecord import SeqRecord\n",
        "# XXX vvv\n",
        "# from Bio.Alphabet import generic_protein\n",
        "\n",
        "for gene in my_genes:\n",
        "    gene_seqs = {}\n",
        "    unal_gene = SeqIO.parse('%s.fasta' % gene, 'fasta')\n",
        "    for rec in unal_gene:\n",
        "        gene_seqs[rec.id] = rec.seq\n",
        "\n",
        "    al_prot = SeqIO.parse('%s_P_align.fasta' % gene, 'fasta')\n",
        "    al_genes = []\n",
        "    for protein in al_prot:\n",
        "        my_id = protein.id\n",
        "        seq = ''\n",
        "        pos = 0\n",
        "        for c in protein.seq:\n",
        "            if c == '-':\n",
        "                seq += '---'\n",
        "            else:\n",
        "                seq += str(gene_seqs[my_id][pos:pos + 3])\n",
        "                pos += 3\n",
        "        al_genes.append(SeqRecord(Seq(seq), id=my_id))\n",
        "\n",
        "\n",
        "    SeqIO.write(al_genes, '%s_align.fasta' % gene, 'fasta')"
      ],
      "metadata": {
        "id": "mokMM34rBKTM"
      },
      "execution_count": null,
      "outputs": []
    },
    {
      "cell_type": "markdown",
      "source": [
        "The code gets the protein and the gene coding. If a gap is found in a protein, three gaps are written;\n",
        "if an amino acid is found, the corresponding nucleotides of the gene are written."
      ],
      "metadata": {
        "id": "MJW5cmijBNNr"
      }
    }
  ]
}