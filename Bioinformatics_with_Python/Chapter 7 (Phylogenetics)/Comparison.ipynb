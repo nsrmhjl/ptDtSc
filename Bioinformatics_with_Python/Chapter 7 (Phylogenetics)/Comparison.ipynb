{
  "nbformat": 4,
  "nbformat_minor": 0,
  "metadata": {
    "colab": {
      "provenance": []
    },
    "kernelspec": {
      "name": "python3",
      "display_name": "Python 3"
    },
    "language_info": {
      "name": "python"
    }
  },
  "cells": [
    {
      "cell_type": "markdown",
      "source": [
        "**Comparing sequences**"
      ],
      "metadata": {
        "id": "c4d8cMTynalo"
      }
    },
    {
      "cell_type": "markdown",
      "source": [
        "Here, we will compare the sequences we aligned in the previous recipe. We will perform gene-wide and genome-wide comparisons."
      ],
      "metadata": {
        "id": "k3umeafInerK"
      }
    },
    {
      "cell_type": "markdown",
      "source": [
        "Let’s start analyzing the gene data. For simplicity, we will only use data from two other species\n",
        "of the genus Ebola virus that are available in the extended dataset, that is, the Reston virus\n",
        "(RESTV) and the Sudan virus (SUDV):"
      ],
      "metadata": {
        "id": "fiSeygL1nmBR"
      }
    },
    {
      "cell_type": "code",
      "source": [
        "import os\n",
        "from collections import OrderedDict\n",
        "\n",
        "import numpy as np\n",
        "import pandas as pd\n",
        "\n",
        "import dendropy\n",
        "from dendropy.calculate import popgenstat\n",
        "# -\n",
        "\n",
        "# ## Genes\n",
        "\n",
        "# +\n",
        "genes_species = OrderedDict()\n",
        "my_species = ['RESTV', 'SUDV']\n",
        "my_genes = ['NP', 'L', 'VP35', 'VP40']\n",
        "\n",
        "\n",
        "for name in my_genes:\n",
        "    gene_name = name.split('.')[0]\n",
        "    char_mat = dendropy.DnaCharacterMatrix.get_from_path('%s_align.fasta' % name, 'fasta')\n",
        "    genes_species[gene_name] = {}\n",
        "    \n",
        "    for species in my_species:\n",
        "        genes_species[gene_name][species] = dendropy.DnaCharacterMatrix()\n",
        "    for taxon, char_map in char_mat.items():\n",
        "        species = taxon.label.split('_')[0]\n",
        "        if species in my_species:\n",
        "            genes_species[gene_name][species].taxon_namespace.add_taxon(taxon)\n",
        "            genes_species[gene_name][species][taxon] = char_map"
      ],
      "metadata": {
        "id": "D_VmHCIHoCtY"
      },
      "execution_count": null,
      "outputs": []
    },
    {
      "cell_type": "markdown",
      "source": [
        "We get four genes that we stored in the first recipe and aligned in the second.\n",
        "We load all the files (which are FASTA formatted) and create a dictionary with all of the genes.</br>\n",
        "Each entry will be a dictionary itself with the RESTV or SUDV species, including all reads.\n",
        "This is not a lot of data, just a handful of genes."
      ],
      "metadata": {
        "id": "5C2wGinNoIXb"
      }
    },
    {
      "cell_type": "markdown",
      "source": [
        "Let’s print some basic information for all four genes, such as the number of segregating sites\n",
        "(seg_sites), nucleotide diversity (nuc_div), Tajima’s D (taj_d), and Waterson’s theta:"
      ],
      "metadata": {
        "id": "zFLQt4n2oNuQ"
      }
    },
    {
      "cell_type": "code",
      "source": [
        "summary = np.ndarray(shape=(len(genes_species), 4 * len(my_species)))\n",
        "stats = ['seg_sites', 'nuc_div', 'taj_d', 'wat_theta']\n",
        "for row, (gene, species_data) in enumerate(genes_species.items()):\n",
        "    for col_base, species in enumerate(my_species):\n",
        "        summary[row, col_base * 4] = popgenstat.num_segregating_sites(species_data[species])\n",
        "        summary[row, col_base * 4 + 1] = popgenstat.nucleotide_diversity(species_data[species])\n",
        "        summary[row, col_base * 4 + 2] = popgenstat.tajimas_d(species_data[species])\n",
        "        summary[row, col_base * 4 + 3] = popgenstat.wattersons_theta(species_data[species])\n",
        "columns = []\n",
        "for species in my_species:\n",
        "    columns.extend(['%s (%s)' % (stat, species) for stat in stats])\n",
        "df = pd.DataFrame(summary, index=genes_species.keys(), columns=columns)\n",
        "df # vs print(df)"
      ],
      "metadata": {
        "id": "HiI9j1uuoWYH"
      },
      "execution_count": null,
      "outputs": []
    },
    {
      "cell_type": "markdown",
      "source": [
        "I used a pandas DataFrame to print the results because it’s really tailored to deal with an operation like this. We will initialize our DataFrame with a NumPy multidimensional array with four rows (genes) and four statistics times the two species.</br>"
      ],
      "metadata": {
        "id": "4Grf76Cjob2c"
      }
    },
    {
      "cell_type": "markdown",
      "source": [
        "Now, let’s extract similar information, but genome-wide instead of only gene-wide. In this case, we will use a subsample of two EBOV outbreaks (from 2007 and 2014). </br>\n",
        "We will perform a function to display basic statistics, as follows:"
      ],
      "metadata": {
        "id": "VEFW5F_Koqpd"
      }
    },
    {
      "cell_type": "code",
      "source": [
        "def do_basic_popgen(seqs):\n",
        "    num_seg_sites = popgenstat.num_segregating_sites(seqs)\n",
        "    avg_pair = popgenstat.average_number_of_pairwise_differences(seqs)\n",
        "    nuc_div = popgenstat.nucleotide_diversity(seqs)\n",
        "    print('Segregating sites: %d, Avg pairwise diffs: %.2f, Nucleotide diversity %.6f' % (num_seg_sites, avg_pair, nuc_div))\n",
        "    print(\"Watterson's theta: %s\" % popgenstat.wattersons_theta(seqs))\n",
        "    print(\"Tajima's D: %s\" % popgenstat.tajimas_d(seqs))"
      ],
      "metadata": {
        "id": "lEo1RCGSoztv"
      },
      "execution_count": null,
      "outputs": []
    },
    {
      "cell_type": "markdown",
      "source": [
        "Now, let’s extract a subsample of the data properly, and output the statistical information:"
      ],
      "metadata": {
        "id": "PXQwrCmEo5Kn"
      }
    },
    {
      "cell_type": "code",
      "source": [
        "ebov_seqs = dendropy.DnaCharacterMatrix.get_from_path(\n",
        "    'trim.fasta', schema='fasta', data_type='dna')\n",
        "sl_2014 = []\n",
        "drc_2007 = []\n",
        "ebov2007_set = dendropy.DnaCharacterMatrix()\n",
        "ebov2014_set = dendropy.DnaCharacterMatrix()\n",
        "for taxon, char_map in ebov_seqs.items():\n",
        "    print(taxon.label)\n",
        "    if taxon.label.startswith('EBOV_2014') and len(sl_2014) < 8:\n",
        "        sl_2014.append(char_map)\n",
        "        ebov2014_set.taxon_namespace.add_taxon(taxon)\n",
        "        ebov2014_set[taxon] = char_map\n",
        "    elif taxon.label.startswith('EBOV_2007'):\n",
        "        drc_2007.append(char_map)\n",
        "        ebov2007_set.taxon_namespace.add_taxon(taxon)\n",
        "        ebov2007_set[taxon] = char_map\n",
        "        #ebov2007_set.extend_map({taxon: char_map})\n",
        "del ebov_seqs\n",
        "\n",
        "# +\n",
        "print('2007 outbreak:')\n",
        "print('Number of individuals: %s' % len(ebov2007_set.taxon_namespace))\n",
        "do_basic_popgen(ebov2007_set)\n",
        "\n",
        "print('\\n2014 outbreak:')\n",
        "print('Number of individuals: %s' % len(ebov2014_set.taxon_namespace))\n",
        "do_basic_popgen(ebov2014_set)"
      ],
      "metadata": {
        "id": "HparSMO1o6VM"
      },
      "execution_count": null,
      "outputs": []
    },
    {
      "cell_type": "markdown",
      "source": [
        "Here, we will construct two versions of two datasets: the 2014 outbreak and the 2007 outbreak.</br>\n",
        "We will generate one version as DnaCharacterMatrix and another as a list. We will use this list version at the end of this recipe.</br>\n",
        "As the dataset for the EBOV outbreak of 2014 is large, we subsample it with just eight individuals, which is a comparable sample size to the dataset of the 2007 outbreak.</br> \n",
        "Again, we delete the ebov_seqs data structure to conserve memory (these are genomes, not only genes)."
      ],
      "metadata": {
        "id": "fk2a1DbbpDIG"
      }
    },
    {
      "cell_type": "markdown",
      "source": [
        "Finally, we perform some statistical analysis on the two subsets of 2007 and 2014, as follows:"
      ],
      "metadata": {
        "id": "TG5mNemFpUoh"
      }
    },
    {
      "cell_type": "code",
      "source": [
        "pair_stats = popgenstat.PopulationPairSummaryStatistics(sl_2014, drc_2007)\n",
        "\n",
        "print('Average number of pairwise differences irrespective of population: %.2f' %\n",
        "      pair_stats.average_number_of_pairwise_differences)\n",
        "print('Average number of pairwise differences between populations: %.2f' %\n",
        "      pair_stats.average_number_of_pairwise_differences_between)\n",
        "print('Average number of pairwise differences within populations: %.2f' %\n",
        "      pair_stats.average_number_of_pairwise_differences_within)\n",
        "print('Average number of net pairwise differences : %.2f' %\n",
        "      pair_stats.average_number_of_pairwise_differences_net)\n",
        "print('Number of segregating sites: %d' %\n",
        "      pair_stats.num_segregating_sites)\n",
        "print(\"Watterson's theta: %.2f\" %\n",
        "      pair_stats.wattersons_theta)\n",
        "print(\"Wakeley's Psi: %.3f\" % pair_stats.wakeleys_psi)\n",
        "print(\"Tajima's D: %.2f\" % pair_stats.tajimas_d)\n"
      ],
      "metadata": {
        "id": "RCMM7E40peb4"
      },
      "execution_count": null,
      "outputs": []
    },
    {
      "cell_type": "markdown",
      "source": [
        "Now the number of segregating sites is much bigger because we are dealing with data from two\n",
        "different populations that are reasonably diverged. The average number of pairwise differences among\n",
        "populations is quite large. As expected, this is much larger than the average number for the population,\n",
        "irrespective of the population information."
      ],
      "metadata": {
        "id": "fkZbqfI8pjeX"
      }
    }
  ]
}