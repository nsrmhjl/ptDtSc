{
  "cells": [
    {
      "cell_type": "code",
      "execution_count": null,
      "metadata": {
        "id": "whs_tjXfHw7y"
      },
      "outputs": [],
      "source": []
    },
    {
      "cell_type": "markdown",
      "metadata": {
        "id": "W-jf2o5aIUNU"
      },
      "source": [
        "# **Chapter 2: Next-Generation Sequencing**\n",
        "</br>\n",
        "\n",
        "**Accessing Databases**"
      ]
    },
    {
      "cell_type": "markdown",
      "metadata": {
        "id": "H3gCA9BbIaPf"
      },
      "source": [
        "firstly, we need to install BioPython package."
      ]
    },
    {
      "cell_type": "code",
      "execution_count": null,
      "metadata": {
        "colab": {
          "base_uri": "https://localhost:8080/"
        },
        "id": "JnjAl_-MOAj1",
        "outputId": "fd7d6a10-2227-4577-b7b4-99a8a5b9c2f5"
      },
      "outputs": [
        {
          "name": "stdout",
          "output_type": "stream",
          "text": [
            "Looking in indexes: https://pypi.org/simple, https://us-python.pkg.dev/colab-wheels/public/simple/\n",
            "Collecting biopython\n",
            "  Downloading biopython-1.79-cp37-cp37m-manylinux_2_5_x86_64.manylinux1_x86_64.whl (2.3 MB)\n",
            "\u001b[K     |████████████████████████████████| 2.3 MB 8.7 MB/s \n",
            "\u001b[?25hRequirement already satisfied: numpy in /usr/local/lib/python3.7/dist-packages (from biopython) (1.21.6)\n",
            "Installing collected packages: biopython\n",
            "Successfully installed biopython-1.79\n"
          ]
        }
      ],
      "source": [
        "conda install biopython"
      ]
    },
    {
      "cell_type": "markdown",
      "metadata": {
        "id": "KhOTX8t0OPEa"
      },
      "source": [
        "**how we can search and fetch data from NCBI databases?**"
      ]
    },
    {
      "cell_type": "markdown",
      "metadata": {
        "id": "Uwptqq0QOeN6"
      },
      "source": [
        "**Note:** Do not forget to put in the correct email address."
      ]
    },
    {
      "cell_type": "code",
      "execution_count": 2,
      "metadata": {
        "id": "aYktRX1xORgJ"
      },
      "outputs": [],
      "source": [
        "from Bio import Entrez, SeqIO\n",
        "Entrez.email = 'your@email.here'"
      ]
    },
    {
      "cell_type": "markdown",
      "metadata": {
        "id": "bQsnK7QoOuVh"
      },
      "source": [
        "now try to find the c**hloroquine resistance transporter (CRT) gene** in **Plasmodium falciparum** (the parasite that causes the deadliest form of malaria) on **the nucleotide database**"
      ]
    },
    {
      "cell_type": "markdown",
      "metadata": {
        "id": "gpeJi7u9TBIN"
      },
      "source": [
        "**First Step:** search on the nucleotide database\n",
        "</br>\n",
        "to do that, we should use: `Entrez.esearch()` function\n",
        "</br>\n",
        "`Entrez.esearch()` arguments: \n",
        "1.   db: database name\n",
        "2.   term: ncbi search query (for more detail, see: https://www.ncbi.nlm.nih.gov/nuccore/advanced)\n",
        "3. retmax: number of record refrences (default value: 20)\n"
      ]
    },
    {
      "cell_type": "code",
      "execution_count": 9,
      "metadata": {
        "id": "bSRm7c4gT7n-"
      },
      "outputs": [],
      "source": [
        "handle = Entrez.esearch(db='nucleotide', term='CRT[Gene Name] AND \"Plasmodium falciparum\"[Organism]')"
      ]
    },
    {
      "cell_type": "markdown",
      "metadata": {
        "id": "4dqz68cuUAvj"
      },
      "source": [
        "**Next Step:** read the result that is returned\n",
        "</br>\n",
        "to do that, we should use: `Entrez.read()` function\n",
        "</br>\n",
        "outputs of `Entrez.read()` function:\n",
        "</br>\n",
        "XML Document Summaries. includes:\n",
        "\n",
        "\n",
        "1.   count: total number of related records to your search query\n",
        "2.   RetMax: number of record refrences\n",
        "3. retstart: Sequential index of the first UID in the retrieved set (default=0)\n",
        "3. IdList: id of record refrences\n",
        "\n"
      ]
    },
    {
      "cell_type": "code",
      "execution_count": 10,
      "metadata": {
        "colab": {
          "base_uri": "https://localhost:8080/"
        },
        "id": "rEAyMI3YW8yn",
        "outputId": "997cc951-bec7-4a2c-f6eb-aa5fcb86a572"
      },
      "outputs": [
        {
          "name": "stdout",
          "output_type": "stream",
          "text": [
            "{'Count': '2022', 'RetMax': '20', 'RetStart': '0', 'IdList': ['2196471109', '2196471107', '2196471105', '2196471103', '2196471101', '2196471099', '2196471097', '2196471095', '2196471093', '2196471091', '2196471089', '2196471087', '2196471085', '2196471083', '2196471081', '2196471079', '2196471077', '2196471075', '2196471073', '2196471071'], 'TranslationSet': [{'From': '\"Plasmodium falciparum\"[Organism]', 'To': '\"Plasmodium falciparum\"[Organism]'}], 'TranslationStack': [{'Term': 'CRT[Gene Name]', 'Field': 'Gene Name', 'Count': '4800', 'Explode': 'N'}, {'Term': '\"Plasmodium falciparum\"[Organism]', 'Field': 'Organism', 'Count': '259299', 'Explode': 'Y'}, 'AND'], 'QueryTranslation': 'CRT[Gene Name] AND \"Plasmodium falciparum\"[Organism]'}\n"
          ]
        }
      ],
      "source": [
        "rec_list = Entrez.read(handle)\n",
        "print(rec_list )"
      ]
    },
    {
      "cell_type": "markdown",
      "metadata": {
        "id": "FOW8BRh_XOfD"
      },
      "source": [
        "**Question:** How we can read all records?\n",
        "</br>\n",
        "the standard search will limit the number of record references to 20, so if you have more, you may want to repeat the query with an increased maximum limit."
      ]
    },
    {
      "cell_type": "code",
      "execution_count": null,
      "metadata": {
        "id": "gQ4KQjd0XN9q"
      },
      "outputs": [],
      "source": [
        "if rec_list['RetMax'] < rec_list['Count']:\n",
        " handle = Entrez.esearch(db='nucleotide', term='CRT[Gene Name] AND \"Plasmodium falciparum\"[Organism]', retmax=rec_list['Count'])\n",
        " rec_list = Entrez.read(handle)"
      ]
    },
    {
      "cell_type": "markdown",
      "metadata": {
        "id": "lhcjVcLOX5GJ"
      },
      "source": [
        "now, we have the IDs of all of the\n",
        "records. but, we still need to retrieve the records properly.\n",
        "</br>\n",
        "**retrieving all of these records:**\n",
        "</br>\n",
        "`Entrez.efetch()` function\n",
        "</br>\n",
        "usage of this function:\n",
        "\n",
        "> downloding all matching nucleotide sequences from data bank (GenBank)\n",
        "\n",
        "</br>\n",
        "arguments:\n",
        "\n",
        "\n",
        "1.   db: Database from which to retrieve records.\n",
        "2.   id: UID list.\n",
        "3. rettype: Retrieval type\n",
        "\n",
        "\n",
        "\n",
        "\n",
        "\n"
      ]
    },
    {
      "cell_type": "code",
      "execution_count": 23,
      "metadata": {
        "id": "urg_3vBFY5B2"
      },
      "outputs": [],
      "source": [
        "id_list = rec_list['IdList']\n",
        "hdl = Entrez.efetch(db='nucleotide', id=id_list, rettype='gb')"
      ]
    },
    {
      "cell_type": "markdown",
      "metadata": {
        "id": "8MMd4YCmabUQ"
      },
      "source": [
        "**be careful** with this technique, </br>\n",
        "because you will retrieve a large amount of complete records, and some of them\n",
        "will have fairly large sequences inside. You risk downloading a lot of data (which\n",
        "would be a strain both on your side and on NCBI servers).\n",
        "</br>\n",
        "**better strategy:** </br>\n",
        "One way is to make a more restrictive query\n",
        "and/or download just a few at a time and stop when you have found the one that\n",
        "you need. </br> The precise strategy will depend on what you are trying to achieve. \n",
        "</br>\n",
        "**In any case, we will retrieve a list of records in the GenBank format (which includes sequences, plus a lot of interesting metadata).**"
      ]
    },
    {
      "cell_type": "markdown",
      "metadata": {
        "id": "2-yI28nvbisk"
      },
      "source": [
        "**Next Step:** read and parse the result\n",
        "</br>\n",
        "to do that, we should use: </br>\n",
        "`SeqIO.parse()` function\n",
        "</br>\n",
        "\n",
        "> usage: Sequence input/output as SeqRecord objects.\n",
        "\n",
        "outputs:\n",
        "\n",
        "1. seq\n",
        "1. id\n",
        "1.   name\n",
        "2.   description: human-readable description\n",
        "3. features: includes: **source, gene, mRNA, CDS**\n",
        "4. annotations\n",
        "\n",
        "\n",
        "\n"
      ]
    },
    {
      "cell_type": "code",
      "execution_count": 24,
      "metadata": {
        "colab": {
          "base_uri": "https://localhost:8080/"
        },
        "id": "FA1laBA9aj7S",
        "outputId": "bbef08ec-ca16-4e5b-8fce-1a07042be1ec"
      },
      "outputs": [
        {
          "name": "stdout",
          "output_type": "stream",
          "text": [
            "[SeqRecord(seq=Seq('GAACGACACCGAAGCTTTAATTTACAATTTTTTGCTATATCCATGTTAGATGCC...TGC'), id='OM418379.1', name='OM418379', description='Plasmodium falciparum isolate 240134_081 chloroquine resistance transporter (crt) gene, partial cds', dbxrefs=[]), SeqRecord(seq=Seq('GAACGACACCGAAGCTTTAATTTACAATTTTTTGCTATATCCATGTTAGATGCC...TGC'), id='OM418378.1', name='OM418378', description='Plasmodium falciparum isolate 240134_039 chloroquine resistance transporter (crt) gene, partial cds', dbxrefs=[]), SeqRecord(seq=Seq('GAACGACACCGAAGCTTTAATTTACAATTTTTTGCTATATCCATGTTAGATGCC...TGC'), id='OM418377.1', name='OM418377', description='Plasmodium falciparum isolate 240125_051 chloroquine resistance transporter (crt) gene, partial cds', dbxrefs=[]), SeqRecord(seq=Seq('GAACGACACCGAAGCTTTAATTTACAATTTTTTGCTATATCCATGTTAGATGCC...TCT'), id='OM418376.1', name='OM418376', description='Plasmodium falciparum isolate 240125_049 chloroquine resistance transporter (crt) gene, partial cds', dbxrefs=[]), SeqRecord(seq=Seq('GAACGACACCGAAGCTTTAATTTACAATTTTTTGCTATATCCATGTTAGATGCC...TCT'), id='OM418375.1', name='OM418375', description='Plasmodium falciparum isolate 240110_065 chloroquine resistance transporter (crt) gene, partial cds', dbxrefs=[]), SeqRecord(seq=Seq('GAACGACACCGAAGCTTTAATTTACAATTTTTTGCTATATCCATGTTAGATGCC...TGC'), id='OM418374.1', name='OM418374', description='Plasmodium falciparum isolate 240113_087 chloroquine resistance transporter (crt) gene, partial cds', dbxrefs=[]), SeqRecord(seq=Seq('GAACGACACCGAAGCTTTAATTTACAATTTTTTGCTATATCCATGTTAGATGCC...TGC'), id='OM418373.1', name='OM418373', description='Plasmodium falciparum isolate 240113_051 chloroquine resistance transporter (crt) gene, partial cds', dbxrefs=[]), SeqRecord(seq=Seq('GAACGACACCGAAGCTTTAATTTACAATTTTTTGCTATATCCATGTTAGATGCC...TGC'), id='OM418372.1', name='OM418372', description='Plasmodium falciparum isolate 240113_046 chloroquine resistance transporter (crt) gene, partial cds', dbxrefs=[]), SeqRecord(seq=Seq('GAACGACACCGAAGCTTTAATTTACAATTTTTTGCTATATCCATGTTAGATGCC...TGC'), id='OM418371.1', name='OM418371', description='Plasmodium falciparum isolate 240110_055 chloroquine resistance transporter (crt) gene, partial cds', dbxrefs=[]), SeqRecord(seq=Seq('GAACGACACCGAAGCTTTAATTTACAATTTTTTGCTATATCCATGTTAGATGCC...TGC'), id='OM418370.1', name='OM418370', description='Plasmodium falciparum isolate 230107_087 chloroquine resistance transporter (crt) gene, partial cds', dbxrefs=[]), SeqRecord(seq=Seq('GAACGACACCGAAGCTTTAATTTACAATTTTTTGCTATATCCATGTTAGATGCC...TGC'), id='OM418369.1', name='OM418369', description='Plasmodium falciparum isolate 240137_098 chloroquine resistance transporter (crt) gene, partial cds', dbxrefs=[]), SeqRecord(seq=Seq('GAACGACACCGAAGCTTTAATTTACAATTTTTTGCTATATCCATGTTAGATGCC...TGC'), id='OM418368.1', name='OM418368', description='Plasmodium falciparum isolate 240137_095 chloroquine resistance transporter (crt) gene, partial cds', dbxrefs=[]), SeqRecord(seq=Seq('GAACGACACCGAAGCTTTAATTTACAATTTTTTGCTATATCCATGTTAGATGCC...TGC'), id='OM418367.1', name='OM418367', description='Plasmodium falciparum isolate 240137_070 chloroquine resistance transporter (crt) gene, partial cds', dbxrefs=[]), SeqRecord(seq=Seq('GAACGACACCGAAGCTTTAATTTACAATTTTTTGCTATATCCATGTTAGATGCC...TGC'), id='OM418366.1', name='OM418366', description='Plasmodium falciparum isolate 240137_069 chloroquine resistance transporter (crt) gene, partial cds', dbxrefs=[]), SeqRecord(seq=Seq('GAACGACACCGAAGCTTTAATTTACAATTTTTTGCTATATCCATGTTAGATGCC...TGC'), id='OM418365.1', name='OM418365', description='Plasmodium falciparum isolate 240137_063 chloroquine resistance transporter (crt) gene, partial cds', dbxrefs=[]), SeqRecord(seq=Seq('GAACGACACCGAAGCTTTAATTTACAATTTTTTGCTATATCCATGTTAGATGCC...TGC'), id='OM418364.1', name='OM418364', description='Plasmodium falciparum isolate 240137_059 chloroquine resistance transporter (crt) gene, partial cds', dbxrefs=[]), SeqRecord(seq=Seq('GAACGACACCGAAGCTTTAATTTACAATTTTTTGCTATATCCATGTTAGATGCC...TGC'), id='OM418363.1', name='OM418363', description='Plasmodium falciparum isolate 240137_055 chloroquine resistance transporter (crt) gene, partial cds', dbxrefs=[]), SeqRecord(seq=Seq('GAACGACACCGAAGCTTTAATTTACAATTTTTTGCTATATCCATGTTAGATGCC...TGC'), id='OM418362.1', name='OM418362', description='Plasmodium falciparum isolate 240137_051 chloroquine resistance transporter (crt) gene, partial cds', dbxrefs=[]), SeqRecord(seq=Seq('GAACGACACCGAAGCTTTAATTTACAATTTTTTGCTATATCCATGTTAGATGCC...TGC'), id='OM418361.1', name='OM418361', description='Plasmodium falciparum isolate 240137_038 chloroquine resistance transporter (crt) gene, partial cds', dbxrefs=[]), SeqRecord(seq=Seq('GAACGACACCGAAGCTTTAATTTACAATTTTTTGCTATATCCATGTTAGATGCC...TGC'), id='OM418360.1', name='OM418360', description='Plasmodium falciparum isolate 240137_025 chloroquine resistance transporter (crt) gene, partial cds', dbxrefs=[])]\n"
          ]
        }
      ],
      "source": [
        "# converting an iterator (the result of SeqIO.parse) to a list\n",
        "recs = list(SeqIO.parse(hdl, 'gb'))\n",
        "print(recs)"
      ]
    },
    {
      "cell_type": "markdown",
      "metadata": {
        "id": "wW2MBJmzfHJD"
      },
      "source": [
        "We will now just concentrate on a single record. This will only work if you used the exact same preceding query:"
      ]
    },
    {
      "cell_type": "code",
      "execution_count": 25,
      "metadata": {
        "colab": {
          "base_uri": "https://localhost:8080/"
        },
        "id": "lyvQaVhwfJ0V",
        "outputId": "274db110-6156-4cea-d722-20ed9fa3abcb"
      },
      "outputs": [
        {
          "name": "stdout",
          "output_type": "stream",
          "text": [
            "OM418360\n",
            "Plasmodium falciparum isolate 240137_025 chloroquine resistance transporter (crt) gene, partial cds\n"
          ]
        }
      ],
      "source": [
        "for rec in recs:\n",
        " if rec.name == 'KM288867':\n",
        "   break\n",
        "print(rec.name)\n",
        "print(rec.description)"
      ]
    },
    {
      "cell_type": "markdown",
      "metadata": {
        "id": "VGA_PGPpoaY8"
      },
      "source": [
        "Now, let's extract some sequence features, which contain information such as gene products and exon positions on the sequence:\n",
        "\n",
        "Description of below codes:\n",
        "</br>\n",
        "If the feature.type is gene, we will print its name, which will be in the\n",
        "qualifiers dictionary. We will also print all the locations of exons. Exons, as with all features, have locations in this sequence: a start, an end, and the strand from\n",
        "where they are read. While all the start and end positions for our exons are\n",
        "ExactPosition, note that Biopython supports many other types of positions.\n",
        "One type of position is BeforePosition, which specifies that a location point is\n",
        "before a certain sequence position. Another type of position is\n",
        "BetweenPosition, which gives the interval for a certain location start/end. There\n",
        "are quite a few more position types; these are just some examples."
      ]
    },
    {
      "cell_type": "code",
      "execution_count": 29,
      "metadata": {
        "colab": {
          "base_uri": "https://localhost:8080/"
        },
        "id": "FBXTgD9Ronm7",
        "outputId": "a73cfc45-fca7-4e21-f0e8-a5bb98df4af2"
      },
      "outputs": [
        {
          "name": "stdout",
          "output_type": "stream",
          "text": [
            "not processed:\n",
            "type: source\n",
            "location: [0:153](+)\n",
            "qualifiers:\n",
            "    Key: db_xref, Value: ['taxon:5833']\n",
            "    Key: isolate, Value: ['240137_025']\n",
            "    Key: mol_type, Value: ['genomic DNA']\n",
            "    Key: organism, Value: ['Plasmodium falciparum']\n",
            "\n",
            "['crt']\n",
            "not processed:\n",
            "type: mRNA\n",
            "location: [<0:>153](+)\n",
            "qualifiers:\n",
            "    Key: gene, Value: ['crt']\n",
            "    Key: product, Value: ['chloroquine resistance transporter']\n",
            "\n",
            "not processed:\n",
            "type: CDS\n",
            "location: [<0:>153](+)\n",
            "qualifiers:\n",
            "    Key: codon_start, Value: ['1']\n",
            "    Key: gene, Value: ['crt']\n",
            "    Key: product, Value: ['chloroquine resistance transporter']\n",
            "    Key: protein_id, Value: ['ULG09259.1']\n",
            "    Key: translation, Value: ['ERHRSFNLQFFAISMLDACSVILAFIGLTRTTGNIQSFVLQLSIPINMFFC']\n",
            "\n"
          ]
        }
      ],
      "source": [
        "for feature in rec.features:\n",
        "  if feature.type == 'gene':\n",
        "      print(feature.qualifiers['gene'])\n",
        "  elif feature.type == 'exon':\n",
        "      loc = feature.location\n",
        "      print(loc.start, loc.end, loc.strand)\n",
        "  else:\n",
        "    print('not processed:\\n%s' % feature)"
      ]
    },
    {
      "cell_type": "markdown",
      "metadata": {
        "id": "jck6CGs5wpNq"
      },
      "source": [
        "We will now look at the annotations on the record, which are mostly metadata that is not related to the sequence position:"
      ]
    },
    {
      "cell_type": "code",
      "execution_count": 30,
      "metadata": {
        "colab": {
          "base_uri": "https://localhost:8080/"
        },
        "id": "0x-QBzKfwwMa",
        "outputId": "b57bf407-6918-4bce-8cd8-b83718ba8ecb"
      },
      "outputs": [
        {
          "name": "stdout",
          "output_type": "stream",
          "text": [
            "molecule_type=DNA\n",
            "topology=linear\n",
            "data_file_division=INV\n",
            "date=18-FEB-2022\n",
            "accessions=['OM418360']\n",
            "sequence_version=1\n",
            "keywords=['']\n",
            "source=Plasmodium falciparum (malaria parasite P. falciparum)\n",
            "organism=Plasmodium falciparum\n",
            "taxonomy=['Eukaryota', 'Sar', 'Alveolata', 'Apicomplexa', 'Aconoidasida', 'Haemosporida', 'Plasmodiidae', 'Plasmodium', 'Plasmodium (Laverania)']\n",
            "references=[Reference(title='Targeted amplicon deep sequencing for monitoring antimalarial resistance markers in Western Kenya', ...), Reference(title='Direct Submission', ...)]\n",
            "structured_comment=OrderedDict([('Assembly-Data', OrderedDict([('Assembly Method', 'SeekDeep v. 3.0.1'), ('Sequencing Technology', 'Illumina')]))])\n"
          ]
        }
      ],
      "source": [
        "for name, value in rec.annotations.items():\n",
        "  print('%s=%s' % (name, value))"
      ]
    },
    {
      "cell_type": "markdown",
      "metadata": {
        "id": "8fu8yhdtxAQu"
      },
      "source": [
        "Last but not least, you can access the fundamental piece of information, the sequence:"
      ]
    },
    {
      "cell_type": "code",
      "execution_count": 31,
      "metadata": {
        "colab": {
          "base_uri": "https://localhost:8080/"
        },
        "id": "XdLlTQf_xD8O",
        "outputId": "e458814b-ec39-499a-d087-066d802134c9"
      },
      "outputs": [
        {
          "name": "stdout",
          "output_type": "stream",
          "text": [
            "153\n"
          ]
        }
      ],
      "source": [
        "print(len(rec.seq))"
      ]
    },
    {
      "cell_type": "markdown",
      "metadata": {
        "id": "9TCQuYalxgIc"
      },
      "source": [
        "**There's more...** </br>\n",
        "There are many more databases at NCBI. You will probably want to check the Sequence\n",
        "Read Archive (SRA) database (previously known as Short Read Archive) if you are\n",
        "working with NGS data. The SNP database contains information on single-nucleotide\n",
        "polymorphisms (SNPs), whereas the protein database has protein sequences, and so on. A\n",
        "full list of databases in Entrez is linked in the See also section of this recipe.\n",
        "</br>\n",
        "Another database that you probably already know about with regard to NCBI is PubMed,\n",
        "which includes a list of scientific and medical citations, abstracts, and even full texts. You\n",
        "can also access it via Biopython. Furthermore, GenBank records often contain links to\n",
        "PubMed. For example, we can perform this on our previous record, as shown here:"
      ]
    },
    {
      "cell_type": "code",
      "execution_count": 32,
      "metadata": {
        "id": "U2_W9Bgax_CO"
      },
      "outputs": [],
      "source": [
        "from Bio import Medline\n",
        "refs = rec.annotations['references']\n",
        "for ref in refs:\n",
        "  if ref.pubmed_id != '':\n",
        "    print(ref.pubmed_id)\n",
        "    handle = Entrez.efetch(db='pubmed', id=[ref.pubmed_id],rettype='medline', retmode='text')\n",
        "    records = Medline.parse(handle)\n",
        "    for med_rec in records:\n",
        "      for k, v in med_rec.items():\n",
        "        print('%s: %s' % (k, v))"
      ]
    }
  ],
  "metadata": {
    "colab": {
      "name": "Next-Generation Sequencing.ipynb",
      "provenance": []
    },
    "kernelspec": {
      "display_name": "Python 3",
      "name": "python3"
    },
    "language_info": {
      "name": "python"
    }
  },
  "nbformat": 4,
  "nbformat_minor": 0
}
