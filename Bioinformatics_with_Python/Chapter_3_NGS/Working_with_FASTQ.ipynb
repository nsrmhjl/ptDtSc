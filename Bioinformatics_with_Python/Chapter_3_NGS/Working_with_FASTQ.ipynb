{
  "cells": [
    {
      "cell_type": "code",
      "execution_count": null,
      "metadata": {
        "id": "zPXW98ufs2G5"
      },
      "outputs": [],
      "source": []
    },
    {
      "cell_type": "markdown",
      "metadata": {
        "id": "7seJYElytJ8h"
      },
      "source": [
        "# **Chapter 2: Next-Generation Sequencing**\n",
        "</br>\n",
        "\n",
        "**Working with FASTQ**"
      ]
    },
    {
      "cell_type": "markdown",
      "metadata": {
        "id": "slTxs7HZtljT"
      },
      "source": [
        "Before we start coding, let's take a look at the FASTQ file, in which you will have many records, as shown in the following code:\n",
        "</br>\n",
        "`@SRR003258.1 30443AAXX:1:1:1053:1999 length=51`</br>\n",
        "` ACCCCCCCCCACCCCCCCCCCCCCCCCCCCCCCCCCCACACACACCAACAC`</br>\n",
        " `+`</br>\n",
        "` =IIIIIIIII5IIIIIII>IIII+GIIIIIIIIIIIIII(IIIII01&III` </b></br>\n",
        "\n",
        "\n",
        "\n",
        "*   Line 1 starts with @, followed by a sequence identifier and a description string. The description string will vary from a sequencer or a database source, but will normally be amenable to automated parsing. \n",
        "*   The second line has the sequence DNA, which is just like a FASTA file. \n",
        "\n",
        "\n",
        "*   The third line is a +, sometimes followed by the description line on the first line.\n",
        "*   The fourth line contains quality values for each base that's read on line two. Each letter encodes a Phred quality score (https://en.wikipedia.org/wiki/Phred_quality_score#:~:text=A%20Phred%20quality%20score%20is,in%20the%20Human%20Genome%20Project.), which assigns a probability of error to each read. This encoding can vary a bit among platforms. Be sure to check for this on your specific platform.\n",
        "\n",
        "\n",
        "\n",
        "\n",
        "\n"
      ]
    },
    {
      "cell_type": "markdown",
      "metadata": {
        "id": "KqqghSy0u2PS"
      },
      "source": [
        "**Let's take a look at the following steps:**\n",
        "</br>\n",
        "You just need to download this ~28 MB file only once"
      ]
    },
    {
      "cell_type": "code",
      "execution_count": 1,
      "metadata": {
        "colab": {
          "base_uri": "https://localhost:8080/"
        },
        "id": "PU-C6YJbwdve",
        "outputId": "ecda7774-1b41-4f8b-ea57-517404a84120"
      },
      "outputs": [
        {
          "name": "stderr",
          "output_type": "stream",
          "text": [
            "'wget' is not recognized as an internal or external command,\n",
            "operable program or batch file.\n"
          ]
        }
      ],
      "source": [
        "# !rm -f SRR003265.filt.fastq.gz 2>/dev/null\n",
        "!wget -nd ftp://ftp.1000genomes.ebi.ac.uk/vol1/ftp/phase3/data/NA18489/sequence_read/SRR003265.filt.fastq.gz"
      ]
    },
    {
      "cell_type": "markdown",
      "metadata": {
        "id": "QNS5ggPrwoVT"
      },
      "source": [
        "Let's open the file: "
      ]
    },
    {
      "cell_type": "code",
      "execution_count": null,
      "metadata": {},
      "outputs": [],
      "source": [
        "pip install biopython"
      ]
    },
    {
      "cell_type": "code",
      "execution_count": 5,
      "metadata": {
        "id": "dS9w9lA2wrlM"
      },
      "outputs": [],
      "source": [
        "import gzip\n",
        "from Bio import SeqIO"
      ]
    },
    {
      "cell_type": "markdown",
      "metadata": {
        "id": "WinOrC5sxVlw"
      },
      "source": [
        "We will open a GZIP file so that we can use the Python gzip module. We will\n",
        "also specify the fastq format.</br>\n",
        " Note that some variations in this format will\n",
        "impact the interpretation of the Phred quality scores. You may want to specify a\n",
        "slightly different format. Refer to https://biopython.org/wiki/SeqIO for all\n",
        "formats."
      ]
    },
    {
      "cell_type": "code",
      "execution_count": 7,
      "metadata": {
        "colab": {
          "base_uri": "https://localhost:8080/"
        },
        "id": "1aM8a2BtwvGQ",
        "outputId": "0bebefdb-285b-452b-8139-d226894aa99f"
      },
      "outputs": [
        {
          "name": "stdout",
          "output_type": "stream",
          "text": [
            "SRR003265.31 SRR003265.31 3042NAAXX:3:1:1252:1819 length=51 GGGAAAAGAAAAACAAACAAACAAAAACAAAACACAGAAACAAAAAAACCA\n",
            "{'phred_quality': [40, 40, 40, 40, 40, 40, 40, 40, 40, 40, 40, 40, 40, 40, 40, 40, 40, 40, 40, 30, 23, 40, 32, 35, 29, 40, 16, 40, 40, 32, 35, 31, 40, 40, 39, 22, 40, 24, 20, 28, 31, 12, 31, 10, 22, 28, 13, 26, 20, 23, 23]}\n"
          ]
        }
      ],
      "source": [
        "recs = SeqIO.parse(gzip.open('SRR003265.filt.fastq.gz', 'rt', encoding='utf-8'), 'fastq')\n",
        "rec = next(recs)\n",
        "print(rec.id, rec.description, rec.seq)\n",
        "print(rec.letter_annotations)"
      ]
    },
    {
      "cell_type": "markdown",
      "metadata": {
        "id": "3hWV09ijx8Nt"
      },
      "source": [
        "Now, let's take a look at the distribution of nucleotide reads:"
      ]
    },
    {
      "cell_type": "code",
      "execution_count": 12,
      "metadata": {
        "colab": {
          "base_uri": "https://localhost:8080/"
        },
        "id": "YTQG1brCx9lQ",
        "outputId": "b0323d47-e78e-405f-f499-92d84ae9744c"
      },
      "outputs": [
        {
          "name": "stdout",
          "output_type": "stream",
          "text": [
            "G: 20.68 5359334\n",
            "A: 28.60 7411965\n",
            "C: 21.00 5444053\n",
            "T: 29.58 7666885\n",
            "N: 0.14 37289\n"
          ]
        }
      ],
      "source": [
        "from collections import defaultdict\n",
        "recs = SeqIO.parse(gzip.open('SRR003265.filt.fastq.gz', 'rt', encoding='utf-8'), 'fastq')\n",
        "\n",
        "cnt = defaultdict(int)\n",
        "\n",
        "for rec in recs:\n",
        "  for letter in rec.seq:\n",
        "    cnt[letter] += 1\n",
        "\n",
        "tot = sum(cnt.values())\n",
        "for letter, cnt in cnt.items():\n",
        "  print('%s: %.2f %d' % (letter, 100. * cnt / tot, cnt))"
      ]
    },
    {
      "cell_type": "markdown",
      "metadata": {
        "id": "J77nHofx3NZS"
      },
      "source": [
        "**Note that** there is a residual number for `N` calls. These are calls in which a sequencer reports an unknown base. </br>\n",
        "In our FASTQ file example, we have\n",
        "cheated a bit because we used a filtered file (the fraction of N calls will be\n",
        "quite low). \n",
        "</br>Expect a much bigger number of N calls in a file that came out\n",
        "of the sequencer unfiltered. \n",
        "</br>In fact, you can even expect something more\n",
        "with regards to the spatial distribution of **N calls**."
      ]
    },
    {
      "cell_type": "markdown",
      "metadata": {
        "id": "seAARtBx3m7w"
      },
      "source": [
        "Let's plot the distribution of Ns according to its read position:"
      ]
    },
    {
      "cell_type": "code",
      "execution_count": 16,
      "metadata": {
        "id": "6RcZjBJV4Woq"
      },
      "outputs": [],
      "source": [
        "#packages need for plotting\n",
        "import seaborn as sns\n",
        "import matplotlib.pyplot as plt"
      ]
    },
    {
      "cell_type": "markdown",
      "metadata": {
        "id": "9CWU2Gvb6eb8"
      },
      "source": [
        "We open the file to parse again (remember that you do not use a list, but\n",
        "iterate again). </br> We iterate through the file and get the position of any references to N. \n",
        "</br>Then, we plot the distribution of Ns as a function of the distance from the start of the sequence"
      ]
    },
    {
      "cell_type": "code",
      "execution_count": 29,
      "metadata": {
        "colab": {
          "base_uri": "https://localhost:8080/",
          "height": 554
        },
        "id": "ptSfW6oo3tVB",
        "outputId": "be56a4e6-4ab1-467e-c88c-58085d6c1026"
      },
      "outputs": [
        {
          "data": {
            "text/plain": [
              "(1.0, 51.0)"
            ]
          },
          "execution_count": 29,
          "metadata": {},
          "output_type": "execute_result"
        },
        {
          "data": {
            "image/png": "[encoded data removed]",
            "text/plain": [
              "<Figure size 1152x648 with 1 Axes>"
            ]
          },
          "metadata": {
            "needs_background": "light"
          },
          "output_type": "display_data"
        }
      ],
      "source": [
        "import seaborn as sns\n",
        "import matplotlib.pyplot as plt\n",
        "recs = SeqIO.parse(gzip.open('SRR003265.filt.fastq.gz',\n",
        "'rt', encoding='utf-8'), 'fastq')\n",
        "n_cnt = defaultdict(int)\n",
        "for rec in recs:\n",
        "  for i, letter in enumerate(rec.seq):\n",
        "    pos = i + 1\n",
        "    if letter == 'N':\n",
        "      n_cnt[pos] += 1\n",
        "\n",
        "seq_len = max(n_cnt.keys())\n",
        "positions = range(1, seq_len + 1)\n",
        "\n",
        "fig, ax = plt.subplots(figsize=(16,9))\n",
        "ax.plot(positions, [n_cnt[x] for x in positions])\n",
        "fig.suptitle('Number of N calls as a function of thedistance from the start of the sequencer read')\n",
        "ax.set_xlim(1, seq_len)\n",
        "ax.set_xlabel('Read distance')\n",
        "ax.set_ylabel('Number of N Calls')"
      ]
    },
    {
      "cell_type": "markdown",
      "metadata": {
        "id": "xfmgU-2E86N-"
      },
      "source": [
        "You will see that until **position 25**, there are no errors. This is not what you will get from a typical sequencer output.</br> Our example file is already filtered, and the 1,000 genomes filtering rules enforce that no N calls can occur before position 25. </br>While we cannot study the behavior of Ns in this dataset before position 25, we can see that after position 25, the\n",
        "distribution is far from uniform. There is an important lesson here, which is that the quantity of uncalled bases is position-dependent.</br> So, what about the quality of\n",
        "reads?"
      ]
    },
    {
      "cell_type": "markdown",
      "metadata": {
        "id": "WmOZsBCQ9SXf"
      },
      "source": [
        "**Let's study the distribution of Phred scores (that is, the quality of our reads:**"
      ]
    },
    {
      "cell_type": "markdown",
      "metadata": {
        "id": "WfQ1T8bsB8MJ"
      },
      "source": [
        "We will start by reopening the file (again) and initializing a default dictionary. </br> We then get the phred_quality letter annotation, but we ignore sequencing positions that are up to 24 base pairs from the start (because of the filtering of our FASTQ file, if you have an unfiltered file, you may want to drop this rule). </br> We\n",
        "add the quality score to our default dictionary, and finally print it."
      ]
    },
    {
      "cell_type": "code",
      "execution_count": 30,
      "metadata": {
        "colab": {
          "base_uri": "https://localhost:8080/"
        },
        "id": "1V6G_7S69WZY",
        "outputId": "4d7905a0-3808-4637-e5e0-4d6fa74bd11a"
      },
      "outputs": [
        {
          "name": "stdout",
          "output_type": "stream",
          "text": [
            "40: 22.76 3007221\n",
            "16: 2.05 270431\n",
            "32: 1.03 136763\n",
            "35: 0.91 120704\n",
            "31: 1.08 142464\n",
            "39: 0.78 102568\n",
            "22: 1.59 209905\n",
            "24: 1.46 193259\n",
            "20: 1.73 228923\n",
            "28: 1.23 162226\n",
            "12: 2.35 309918\n",
            "10: 4.95 654154\n",
            "13: 2.28 301033\n",
            "26: 1.33 176263\n",
            "23: 1.52 201164\n",
            "37: 0.84 111179\n",
            "34: 0.95 125624\n",
            "21: 1.66 219602\n",
            "30: 1.13 149449\n",
            "33: 0.99 131291\n",
            "25: 1.40 184846\n",
            "17: 1.97 259779\n",
            "38: 0.80 106290\n",
            "4: 4.77 630923\n",
            "36: 0.88 115701\n",
            "18: 1.88 248982\n",
            "11: 2.41 318303\n",
            "19: 1.81 239621\n",
            "5: 4.88 645266\n",
            "9: 2.51 332259\n",
            "3: 4.04 533458\n",
            "27: 1.28 168902\n",
            "8: 2.53 334410\n",
            "29: 1.17 154892\n",
            "15: 2.12 280719\n",
            "7: 2.51 331743\n",
            "2: 3.77 498679\n",
            "14: 2.20 291341\n",
            "6: 2.50 330834\n",
            "1: 1.52 200558\n",
            "0: 0.40 52229\n"
          ]
        }
      ],
      "source": [
        "recs = SeqIO.parse(gzip.open('SRR003265.filt.fastq.gz', 'rt', encoding='utf-8'), 'fastq')\n",
        "cnt_qual = defaultdict(int)\n",
        "\n",
        "for rec in recs:\n",
        "    for i, qual in enumerate(rec.letter_annotations['phred_quality']):\n",
        "        if i < 25:\n",
        "            continue\n",
        "        if qual in cnt_qual.keys():   \n",
        "          cnt_qual[qual] += 1\n",
        "\n",
        "tot = sum(cnt_qual.values())\n",
        "\n",
        "for qual, cnt in cnt_qual.items():\n",
        "    print('%d: %.2f %d' % (qual, 100. * cnt / tot, cnt))"
      ]
    },
    {
      "cell_type": "markdown",
      "metadata": {
        "id": "ZpmKrteiBcis"
      },
      "source": [
        "More interestingly, we can plot the distribution of qualities according to their read position:"
      ]
    },
    {
      "cell_type": "markdown",
      "metadata": {
        "id": "l0yThdsTCQwj"
      },
      "source": [
        "In this case, we will ignore both positions sequenced as 25 base pairs from the\n",
        "start (again, remove this rule if you have unfiltered sequencer data) and the\n",
        "maximum quality score for this file (40). </br> However, in your case, you can consider starting your plotting analysis with the maximum. You may want to check the maximum possible value for your sequencer hardware. Generally, as most calls can be performed with maximum quality, you may want to remove them if you are trying to understand where quality problems lie."
      ]
    },
    {
      "cell_type": "code",
      "execution_count": 33,
      "metadata": {
        "colab": {
          "base_uri": "https://localhost:8080/",
          "height": 537
        },
        "id": "aIzKdhDsBf5k",
        "outputId": "acd9cf0f-a44c-4725-fa73-9c20e8a909a5"
      },
      "outputs": [
        {
          "data": {
            "image/png": "[encoded data removed]",
            "text/plain": [
              "<Figure size 1152x648 with 1 Axes>"
            ]
          },
          "metadata": {
            "needs_background": "light"
          },
          "output_type": "display_data"
        }
      ],
      "source": [
        "recs = SeqIO.parse(gzip.open('SRR003265.filt.fastq.gz',\n",
        "'rt', encoding='utf-8'), 'fastq')\n",
        "qual_pos = defaultdict(list)\n",
        "for rec in recs:\n",
        "  for i, qual in enumerate(rec.letter_annotations['phred_quality']):\n",
        "    if i < 25 or qual == 40:\n",
        "      continue\n",
        "    pos = i + 1\n",
        "    qual_pos[pos].append(qual)\n",
        "  \n",
        "vps = []\n",
        "poses = list(qual_pos.keys())\n",
        "poses.sort()\n",
        "\n",
        "for pos in poses:\n",
        "  vps.append(qual_pos[pos])\n",
        "\n",
        "fig, ax = plt.subplots(figsize=(16,9))\n",
        "sns.boxplot(data=vps, ax=ax)\n",
        "ax.set_xticklabels([str(x) for x in range(26, max(qual_pos.keys()) + 1)])\n",
        "ax.set_xlabel('Read distance')\n",
        "ax.set_ylabel('PHRED score')\n",
        "fig.suptitle('Distribution of PHRED scores as a function of read distance')\n"
      ]
    },
    {
      "cell_type": "markdown",
      "metadata": {
        "id": "lk5KJ9WACtGR"
      },
      "source": [
        "Although it's impossible to discuss all the variations of output coming from sequencer files, paired-end reads are worth mentioning because they are common and require a different processing approach. With paired-end sequencing, both ends of a DNA fragment are sequenced with a gap in the middle (called the insert). </br> In this case, two files will be produced: X_1.FASTQ and X_2.FASTQ. </br>Both files will have the same order and exact same\n",
        "number of sequences. The first sequence will be in X_1 pairs with the first sequence of X_2, and so on. With regards to the programming technique, if you want to keep the pairing information, you might perform something like this:"
      ]
    },
    {
      "cell_type": "markdown",
      "metadata": {
        "id": "EeU4QVP-DA2u"
      },
      "source": [
        "Do this to download the paired end data. </br>\n",
        "Be careful as this will be 1GB of data (and fully optional)"
      ]
    },
    {
      "cell_type": "code",
      "execution_count": 34,
      "metadata": {
        "colab": {
          "base_uri": "https://localhost:8080/"
        },
        "id": "DRF4h6_pDF_t",
        "outputId": "627d2e88-8d69-4cb6-bf5b-52ec6abf28da"
      },
      "outputs": [
        {
          "name": "stdout",
          "output_type": "stream",
          "text": [
            "--2022-07-15 18:08:50--  ftp://ftp.1000genomes.ebi.ac.uk/vol1/ftp/phase3/data/NA18489/sequence_read/SRR003265_1.filt.fastq.gz\n",
            "           => ‘SRR003265_1.filt.fastq.gz’\n",
            "Resolving ftp.1000genomes.ebi.ac.uk (ftp.1000genomes.ebi.ac.uk)... 193.62.193.140\n",
            "Connecting to ftp.1000genomes.ebi.ac.uk (ftp.1000genomes.ebi.ac.uk)|193.62.193.140|:21... connected.\n",
            "Logging in as anonymous ... Logged in!\n",
            "==> SYST ... done.    ==> PWD ... done.\n",
            "==> TYPE I ... done.  ==> CWD (1) /vol1/ftp/phase3/data/NA18489/sequence_read ... done.\n",
            "==> SIZE SRR003265_1.filt.fastq.gz ... 502660639\n",
            "==> PASV ... done.    ==> RETR SRR003265_1.filt.fastq.gz ... done.\n",
            "Length: 502660639 (479M) (unauthoritative)\n",
            "\n",
            "SRR003265_1.filt.fa 100%[===================>] 479.37M  4.32MB/s    in 88s     \n",
            "\n",
            "2022-07-15 18:10:19 (5.46 MB/s) - ‘SRR003265_1.filt.fastq.gz’ saved [502660639]\n",
            "\n",
            "--2022-07-15 18:10:19--  ftp://ftp.1000genomes.ebi.ac.uk/vol1/ftp/phase3/data/NA18489/sequence_read/SRR003265_2.filt.fastq.gz\n",
            "           => ‘SRR003265_2.filt.fastq.gz’\n",
            "Resolving ftp.1000genomes.ebi.ac.uk (ftp.1000genomes.ebi.ac.uk)... 193.62.193.140\n",
            "Connecting to ftp.1000genomes.ebi.ac.uk (ftp.1000genomes.ebi.ac.uk)|193.62.193.140|:21... connected.\n",
            "Logging in as anonymous ... Logged in!\n",
            "==> SYST ... done.    ==> PWD ... done.\n",
            "==> TYPE I ... done.  ==> CWD (1) /vol1/ftp/phase3/data/NA18489/sequence_read ... done.\n",
            "==> SIZE SRR003265_2.filt.fastq.gz ... 484084218\n",
            "==> PASV ... done.    ==> RETR SRR003265_2.filt.fastq.gz ... done.\n",
            "Length: 484084218 (462M) (unauthoritative)\n",
            "\n",
            "SRR003265_2.filt.fa 100%[===================>] 461.66M  6.88MB/s    in 2m 42s  \n",
            "\n",
            "2022-07-15 18:13:03 (2.85 MB/s) - ‘SRR003265_2.filt.fastq.gz’ saved [484084218]\n",
            "\n"
          ]
        }
      ],
      "source": [
        "!rm -f SRR003265_1.filt.fastq.gz 2>/dev/null\n",
        "!rm -f SRR003265_2.filt.fastq.gz 2>/dev/null\n",
        "!wget ftp://ftp.1000genomes.ebi.ac.uk/vol1/ftp/phase3/data/NA18489/sequence_read/SRR003265_1.filt.fastq.gz\n",
        "!wget ftp://ftp.1000genomes.ebi.ac.uk/vol1/ftp/phase3/data/NA18489/sequence_read/SRR003265_2.filt.fastq.gz"
      ]
    },
    {
      "cell_type": "code",
      "execution_count": 36,
      "metadata": {
        "colab": {
          "base_uri": "https://localhost:8080/"
        },
        "id": "iPVT7AFlEfwY",
        "outputId": "0ac79563-86c2-436b-a676-f2d943379fff"
      },
      "outputs": [
        {
          "name": "stdout",
          "output_type": "stream",
          "text": [
            "Number of pairs: 9170808\n"
          ]
        }
      ],
      "source": [
        "f1 = gzip.open('SRR003265_1.filt.fastq.gz', 'rt', encoding='utf8')\n",
        "f2 = gzip.open('SRR003265_2.filt.fastq.gz', 'rt', encoding='utf8')\n",
        "recs1 = SeqIO.parse(f1, 'fastq')\n",
        "recs2 = SeqIO.parse(f2, 'fastq')\n",
        "cnt = 0\n",
        "for rec1, rec2 in zip(recs1, recs2):\n",
        "    cnt +=1\n",
        "\n",
        "print('Number of pairs: %d' % cnt)"
      ]
    }
  ],
  "metadata": {
    "colab": {
      "name": "Working with FASTQ.ipynb",
      "provenance": []
    },
    "kernelspec": {
      "display_name": "Python 3",
      "name": "python3"
    },
    "language_info": {
      "codemirror_mode": {
        "name": "ipython",
        "version": 3
      },
      "file_extension": ".py",
      "mimetype": "text/x-python",
      "name": "python",
      "nbconvert_exporter": "python",
      "pygments_lexer": "ipython3",
      "version": "3.9.13"
    }
  },
  "nbformat": 4,
  "nbformat_minor": 0
}
