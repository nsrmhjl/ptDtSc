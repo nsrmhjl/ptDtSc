{
  "cells": [
    {
      "cell_type": "markdown",
      "metadata": {
        "id": "pnyUCI1S4fGU"
      },
      "source": [
        "NGS files are all about big data. Fortunately, the bioinformatics community has developed tools to allow for the partial download of data. As part of the SAMtools/htslib package (http://www.htslib.org/),\n",
        "you can download tabix and bgzip, which will take care of data management. On the command line, perform the following operation:\n",
        "</br>\n",
        "command:\n",
        "</br>\n",
        "`apt-get install tabix`"
      ]
    },
    {
      "cell_type": "markdown",
      "metadata": {
        "id": "IrBoYxUy5dF-"
      },
      "source": [
        "The bellow line will partially download the VCF file for chromosome 22 (up to 17 Mbp) of the 1,000 Genomes Project. Then, bgzip will compress it."
      ]
    },
    {
      "cell_type": "code",
      "execution_count": null,
      "metadata": {},
      "outputs": [],
      "source": [
        "!wget https://github.com/samtools/htslib/releases/download/1.19/htslib-1.19.tar.bz2\n",
        "!tar -xf htslib-1.19.tar.bz2\n",
        "%cd htslib-1.19\n",
        "!autoreconf -i\n",
        "!./configure --enable-libcurl\n",
        "!make\n",
        "!make install"
      ]
    },
    {
      "cell_type": "code",
      "execution_count": 2,
      "metadata": {
        "id": "6t7gbA0w2rwL"
      },
      "outputs": [
        {
          "name": "stderr",
          "output_type": "stream",
          "text": [
            "'tabix' is not recognized as an internal or external command,\n",
            "operable program or batch file.\n"
          ]
        }
      ],
      "source": [
        "!tabix -fh https://ftp.ncbi.nlm.nih.gov/1000genomes/ftp/release/20130502/supporting/vcf_with_sample_level_annotation/ALL.chr22.phase3_shapeit2_mvncall_integrated_v5_extra_anno.20130502.genotypes.vcf.gz 22:1-17000000|bgzip -c > genotypes.vcf.gz"
      ]
    },
    {
      "cell_type": "markdown",
      "metadata": {
        "id": "2zNwT61B5k-P"
      },
      "source": [
        "Then, We should create an index, which we will need for direct access to a section of the genome."
      ]
    },
    {
      "cell_type": "code",
      "execution_count": 3,
      "metadata": {
        "id": "LQzb8YJQ3iF8"
      },
      "outputs": [
        {
          "name": "stderr",
          "output_type": "stream",
          "text": [
            "'tabix' is not recognized as an internal or external command,\n",
            "operable program or batch file.\n"
          ]
        }
      ],
      "source": [
        "!tabix -p vcf genotypes.vcf.gz"
      ]
    },
    {
      "cell_type": "markdown",
      "metadata": {
        "id": "mVLUB5Nv6RjI"
      },
      "source": [
        "**Let’s start by inspecting the information that we can get per record:**"
      ]
    },
    {
      "cell_type": "markdown",
      "metadata": {
        "id": "hvdEta9t7-7I"
      },
      "source": [
        "We start by inspecting the annotations that are available for each record (remember that each record encodes a variant, such as SNP, CNV, INDELs, and so on, and the state of that variant per sample). \n",
        "</br>\n",
        "At the variant (record) level, we find AC—the total number of ALT alleles in called genotypes, AF—the estimated allele frequency, NS—the number of samples with data, AN—the total number of alleles in called genotypes, and DP—the total read depth. \n",
        "</br>\n",
        "There are others,\n",
        "but they are mostly specific to the 1,000 Genomes Project (here, we will try to be as general as\n",
        "possible). Your own dataset may have more annotations (or none of these).\n",
        "At the sample level, there are only two annotations in this file: GT—genotype, and DP—the\n",
        "per-sample read depth. You have the per-variant (total) read depth and the per-sample read\n",
        "depth; be sure not to confuse both."
      ]
    },
    {
      "cell_type": "code",
      "execution_count": 14,
      "metadata": {},
      "outputs": [
        {
          "name": "stdout",
          "output_type": "stream",
          "text": [
            "Collecting cyvcf2Note: you may need to restart the kernel to use updated packages.\n",
            "  Using cached cyvcf2-0.30.25.tar.gz (1.4 MB)\n",
            "  Installing build dependencies: started\n",
            "  Installing build dependencies: finished with status 'done'\n"
          ]
        },
        {
          "name": "stderr",
          "output_type": "stream",
          "text": [
            "  error: subprocess-exited-with-error\n",
            "  \n",
            "  × Building wheel for cyvcf2 (pyproject.toml) did not run successfully.\n",
            "  │ exit code: 1\n",
            "  ╰─> [75 lines of output]\n",
            "      running bdist_wheel\n",
            "      running build\n",
            "      running build_py\n",
            "      creating build\n",
            "      creating build\\lib.win-amd64-cpython-39\n",
            "      creating build\\lib.win-amd64-cpython-39\\cyvcf2\n",
            "      copying cyvcf2\\cli.py -> build\\lib.win-amd64-cpython-39\\cyvcf2\n",
            "      copying cyvcf2\\__init__.py -> build\\lib.win-amd64-cpython-39\\cyvcf2\n",
            "      copying cyvcf2\\__main__.py -> build\\lib.win-amd64-cpython-39\\cyvcf2\n",
            "      creating build\\lib.win-amd64-cpython-39\\cyvcf2\\tests\n",
            "      copying cyvcf2\\tests\\test_cli.py -> build\\lib.win-amd64-cpython-39\\cyvcf2\\tests\n",
            "      copying cyvcf2\\tests\\test_hemi.py -> build\\lib.win-amd64-cpython-39\\cyvcf2\\tests\n",
            "      copying cyvcf2\\tests\\test_reader.py -> build\\lib.win-amd64-cpython-39\\cyvcf2\\tests\n",
            "      copying cyvcf2\\tests\\test_writer.py -> build\\lib.win-amd64-cpython-39\\cyvcf2\\tests\n",
            "      copying cyvcf2\\tests\\__init__.py -> build\\lib.win-amd64-cpython-39\\cyvcf2\\tests\n",
            "      running egg_info\n",
            "      writing cyvcf2.egg-info\\PKG-INFO\n",
            "      writing dependency_links to cyvcf2.egg-info\\dependency_links.txt\n",
            "      writing entry points to cyvcf2.egg-info\\entry_points.txt\n",
            "      writing requirements to cyvcf2.egg-info\\requires.txt\n",
            "      writing top-level names to cyvcf2.egg-info\\top_level.txt\n",
            "      reading manifest file 'cyvcf2.egg-info\\SOURCES.txt'\n",
            "      reading manifest template 'MANIFEST.in'\n",
            "      adding license file 'LICENSE'\n",
            "      writing manifest file 'cyvcf2.egg-info\\SOURCES.txt'\n",
            "      copying cyvcf2\\cyvcf2.c -> build\\lib.win-amd64-cpython-39\\cyvcf2\n",
            "      copying cyvcf2\\cyvcf2.pxd -> build\\lib.win-amd64-cpython-39\\cyvcf2\n",
            "      copying cyvcf2\\cyvcf2.pyx -> build\\lib.win-amd64-cpython-39\\cyvcf2\n",
            "      copying cyvcf2\\helpers.c -> build\\lib.win-amd64-cpython-39\\cyvcf2\n",
            "      copying cyvcf2\\helpers.h -> build\\lib.win-amd64-cpython-39\\cyvcf2\n"
          ]
        },
        {
          "name": "stdout",
          "output_type": "stream",
          "text": [
            "\n",
            "  Getting requirements to build wheel: started\n",
            "  Getting requirements to build wheel: finished with status 'done'\n",
            "  Preparing metadata (pyproject.toml): started\n",
            "  Preparing metadata (pyproject.toml): finished with status 'done'\n",
            "Requirement already satisfied: numpy in c:\\users\\win10\\appdata\\local\\packages\\pythonsoftwarefoundation.python.3.9_qbz5n2kfra8p0\\localcache\\local-packages\\python39\\site-packages (from cyvcf2) (1.22.2)\n",
            "Collecting coloredlogs (from cyvcf2)\n",
            "  Downloading coloredlogs-15.0.1-py2.py3-none-any.whl (46 kB)\n",
            "     -------------------------------------- 46.0/46.0 kB 163.4 kB/s eta 0:00:00\n",
            "Requirement already satisfied: click in c:\\users\\win10\\appdata\\local\\packages\\pythonsoftwarefoundation.python.3.9_qbz5n2kfra8p0\\localcache\\local-packages\\python39\\site-packages (from cyvcf2) (8.0.4)\n",
            "Requirement already satisfied: colorama in c:\\users\\win10\\appdata\\local\\packages\\pythonsoftwarefoundation.python.3.9_qbz5n2kfra8p0\\localcache\\local-packages\\python39\\site-packages (from click->cyvcf2) (0.4.4)\n",
            "Collecting humanfriendly>=9.1 (from coloredlogs->cyvcf2)\n",
            "  Downloading humanfriendly-10.0-py2.py3-none-any.whl (86 kB)\n",
            "     -------------------------------------- 86.8/86.8 kB 490.7 kB/s eta 0:00:00\n",
            "Collecting pyreadline3 (from humanfriendly>=9.1->coloredlogs->cyvcf2)\n",
            "  Downloading pyreadline3-3.4.1-py3-none-any.whl (95 kB)\n",
            "     -------------------------------------- 95.2/95.2 kB 913.6 kB/s eta 0:00:00\n",
            "Building wheels for collected packages: cyvcf2\n",
            "  Building wheel for cyvcf2 (pyproject.toml): started\n",
            "  Building wheel for cyvcf2 (pyproject.toml): finished with status 'error'\n",
            "Failed to build cyvcf2\n"
          ]
        },
        {
          "name": "stderr",
          "output_type": "stream",
          "text": [
            "      copying cyvcf2\\relatedness.h -> build\\lib.win-amd64-cpython-39\\cyvcf2\n",
            "      copying cyvcf2\\tests\\bug.vcf.gz -> build\\lib.win-amd64-cpython-39\\cyvcf2\\tests\n",
            "      copying cyvcf2\\tests\\decomposed.vcf -> build\\lib.win-amd64-cpython-39\\cyvcf2\\tests\n",
            "      copying cyvcf2\\tests\\empty.vcf -> build\\lib.win-amd64-cpython-39\\cyvcf2\\tests\n",
            "      copying cyvcf2\\tests\\issue_198.vcf -> build\\lib.win-amd64-cpython-39\\cyvcf2\\tests\n",
            "      copying cyvcf2\\tests\\issue_44.vcf -> build\\lib.win-amd64-cpython-39\\cyvcf2\\tests\n",
            "      copying cyvcf2\\tests\\no-seq-len.vcf -> build\\lib.win-amd64-cpython-39\\cyvcf2\\tests\n",
            "      copying cyvcf2\\tests\\no-seq-names.vcf -> build\\lib.win-amd64-cpython-39\\cyvcf2\\tests\n",
            "      copying cyvcf2\\tests\\o.vcf.gz -> build\\lib.win-amd64-cpython-39\\cyvcf2\\tests\n",
            "      copying cyvcf2\\tests\\seg.vcf.gz -> build\\lib.win-amd64-cpython-39\\cyvcf2\\tests\n",
            "      copying cyvcf2\\tests\\test-alt-repr.vcf -> build\\lib.win-amd64-cpython-39\\cyvcf2\\tests\n",
            "      copying cyvcf2\\tests\\test-diff.csi -> build\\lib.win-amd64-cpython-39\\cyvcf2\\tests\n",
            "      copying cyvcf2\\tests\\test-format-string.vcf -> build\\lib.win-amd64-cpython-39\\cyvcf2\\tests\n",
            "      copying cyvcf2\\tests\\test-genotypes.vcf -> build\\lib.win-amd64-cpython-39\\cyvcf2\\tests\n",
            "      copying cyvcf2\\tests\\test-haploidX.vcf -> build\\lib.win-amd64-cpython-39\\cyvcf2\\tests\n",
            "      copying cyvcf2\\tests\\test-hemi.vcf -> build\\lib.win-amd64-cpython-39\\cyvcf2\\tests\n",
            "      copying cyvcf2\\tests\\test-invalid-header.vcf -> build\\lib.win-amd64-cpython-39\\cyvcf2\\tests\n",
            "      copying cyvcf2\\tests\\test-multiallelic-homozygous-alt.vcf.gz -> build\\lib.win-amd64-cpython-39\\cyvcf2\\tests\n",
            "      copying cyvcf2\\tests\\test-multiallelic-homozygous-alt.vcf.gz.tbi -> build\\lib.win-amd64-cpython-39\\cyvcf2\\tests\n",
            "      copying cyvcf2\\tests\\test-no-genotypes.vcf -> build\\lib.win-amd64-cpython-39\\cyvcf2\\tests\n",
            "      copying cyvcf2\\tests\\test-strict-gt-option-flag.vcf.gz -> build\\lib.win-amd64-cpython-39\\cyvcf2\\tests\n",
            "      copying cyvcf2\\tests\\test-strict-gt-option-flag.vcf.gz.tbi -> build\\lib.win-amd64-cpython-39\\cyvcf2\\tests\n",
            "      copying cyvcf2\\tests\\test.bug.117.vcf -> build\\lib.win-amd64-cpython-39\\cyvcf2\\tests\n",
            "      copying cyvcf2\\tests\\test.comp_het.3.vcf -> build\\lib.win-amd64-cpython-39\\cyvcf2\\tests\n",
            "      copying cyvcf2\\tests\\test.isa.vcf -> build\\lib.win-amd64-cpython-39\\cyvcf2\\tests\n",
            "      copying cyvcf2\\tests\\test.mnp.vcf -> build\\lib.win-amd64-cpython-39\\cyvcf2\\tests\n",
            "      copying cyvcf2\\tests\\test.snpeff.bcf -> build\\lib.win-amd64-cpython-39\\cyvcf2\\tests\n",
            "      copying cyvcf2\\tests\\test.snpeff.bcf.csi -> build\\lib.win-amd64-cpython-39\\cyvcf2\\tests\n",
            "      copying cyvcf2\\tests\\test.snpeff.vcf -> build\\lib.win-amd64-cpython-39\\cyvcf2\\tests\n",
            "      copying cyvcf2\\tests\\test.vcf.gz -> build\\lib.win-amd64-cpython-39\\cyvcf2\\tests\n",
            "      copying cyvcf2\\tests\\test.vcf.gz.tbi -> build\\lib.win-amd64-cpython-39\\cyvcf2\\tests\n",
            "      copying cyvcf2\\tests\\test_gt_alt_freqs.vcf -> build\\lib.win-amd64-cpython-39\\cyvcf2\\tests\n",
            "      copying cyvcf2\\tests\\test_gt_bases.vcf.gz -> build\\lib.win-amd64-cpython-39\\cyvcf2\\tests\n",
            "      running build_ext\n",
            "      building 'cyvcf2.cyvcf2' extension\n",
            "      creating build\\temp.win-amd64-cpython-39\n",
            "      creating build\\temp.win-amd64-cpython-39\\Release\n",
            "      creating build\\temp.win-amd64-cpython-39\\Release\\cyvcf2\n",
            "      creating build\\temp.win-amd64-cpython-39\\Release\\htslib\n",
            "      creating build\\temp.win-amd64-cpython-39\\Release\\htslib\\cram\n",
            "      creating build\\temp.win-amd64-cpython-39\\Release\\htslib\\htscodecs\n",
            "      creating build\\temp.win-amd64-cpython-39\\Release\\htslib\\htscodecs\\htscodecs\n",
            "      \"C:\\Program Files\\Microsoft Visual Studio\\2022\\Community\\VC\\Tools\\MSVC\\14.31.31103\\bin\\HostX86\\x64\\cl.exe\" /c /nologo /O2 /W3 /GL /DNDEBUG /MD -Ihtslib -Icyvcf2 -IC:\\Users\\WIN10\\AppData\\Local\\Temp\\pip-build-env-rhinng7x\\overlay\\Lib\\site-packages\\numpy\\core\\include \"-IC:\\Program Files\\WindowsApps\\PythonSoftwareFoundation.Python.3.9_3.9.3568.0_x64__qbz5n2kfra8p0\\include\" \"-IC:\\Program Files\\WindowsApps\\PythonSoftwareFoundation.Python.3.9_3.9.3568.0_x64__qbz5n2kfra8p0\\Include\" \"-IC:\\Program Files\\Microsoft Visual Studio\\2022\\Community\\VC\\Tools\\MSVC\\14.31.31103\\include\" \"-IC:\\Program Files (x86)\\Windows Kits\\10\\include\\10.0.19041.0\\ucrt\" \"-IC:\\Program Files (x86)\\Windows Kits\\10\\\\include\\10.0.19041.0\\\\shared\" \"-IC:\\Program Files (x86)\\Windows Kits\\10\\\\include\\10.0.19041.0\\\\um\" \"-IC:\\Program Files (x86)\\Windows Kits\\10\\\\include\\10.0.19041.0\\\\winrt\" \"-IC:\\Program Files (x86)\\Windows Kits\\10\\\\include\\10.0.19041.0\\\\cppwinrt\" /Tccyvcf2/cyvcf2.c /Fobuild\\temp.win-amd64-cpython-39\\Release\\cyvcf2/cyvcf2.obj -Wno-sign-compare -Wno-unused-function -Wno-strict-prototypes -Wno-unused-result -Wno-discarded-qualifiers\n",
            "      cl : Command line error D8021 : invalid numeric argument '/Wno-sign-compare'\n",
            "      error: command 'C:\\\\Program Files\\\\Microsoft Visual Studio\\\\2022\\\\Community\\\\VC\\\\Tools\\\\MSVC\\\\14.31.31103\\\\bin\\\\HostX86\\\\x64\\\\cl.exe' failed with exit code 2\n",
            "      [end of output]\n",
            "  \n",
            "  note: This error originates from a subprocess, and is likely not a problem with pip.\n",
            "  ERROR: Failed building wheel for cyvcf2\n",
            "ERROR: Could not build wheels for cyvcf2, which is required to install pyproject.toml-based projects\n"
          ]
        }
      ],
      "source": [
        "pip install cyvcf2"
      ]
    },
    {
      "cell_type": "code",
      "execution_count": 7,
      "metadata": {
        "colab": {
          "base_uri": "https://localhost:8080/"
        },
        "id": "7Q5i5gm85-Dt",
        "outputId": "788e6862-8fdb-48ac-890c-440c21e15588"
      },
      "outputs": [
        {
          "ename": "ModuleNotFoundError",
          "evalue": "No module named 'cyvcf2'",
          "output_type": "error",
          "traceback": [
            "\u001b[1;31m---------------------------------------------------------------------------\u001b[0m",
            "\u001b[1;31mModuleNotFoundError\u001b[0m                       Traceback (most recent call last)",
            "\u001b[1;32md:\\backup\\Git\\us\\ptDtSc\\Bioinformatics_with_Python\\Chapter_3_NGS\\Working_with_VCF.ipynb Cell 10\u001b[0m line \u001b[0;36m<module>\u001b[1;34m\u001b[0m\n\u001b[0;32m      <a href='vscode-notebook-cell:/d%3A/backup/Git/us/ptDtSc/Bioinformatics_with_Python/Chapter_3_NGS/Working_with_VCF.ipynb#X12sZmlsZQ%3D%3D?line=0'>1</a>\u001b[0m \u001b[39m# required package\u001b[39;00m\n\u001b[1;32m----> <a href='vscode-notebook-cell:/d%3A/backup/Git/us/ptDtSc/Bioinformatics_with_Python/Chapter_3_NGS/Working_with_VCF.ipynb#X12sZmlsZQ%3D%3D?line=1'>2</a>\u001b[0m \u001b[39mfrom\u001b[39;00m \u001b[39mcyvcf2\u001b[39;00m \u001b[39mimport\u001b[39;00m VCF\n\u001b[0;32m      <a href='vscode-notebook-cell:/d%3A/backup/Git/us/ptDtSc/Bioinformatics_with_Python/Chapter_3_NGS/Working_with_VCF.ipynb#X12sZmlsZQ%3D%3D?line=2'>3</a>\u001b[0m v \u001b[39m=\u001b[39m VCF(\u001b[39m'\u001b[39m\u001b[39mgenotypes.vcf.gz\u001b[39m\u001b[39m'\u001b[39m)\n\u001b[0;32m      <a href='vscode-notebook-cell:/d%3A/backup/Git/us/ptDtSc/Bioinformatics_with_Python/Chapter_3_NGS/Working_with_VCF.ipynb#X12sZmlsZQ%3D%3D?line=3'>4</a>\u001b[0m rec \u001b[39m=\u001b[39m \u001b[39mnext\u001b[39m(v)\n",
            "\u001b[1;31mModuleNotFoundError\u001b[0m: No module named 'cyvcf2'"
          ]
        }
      ],
      "source": [
        "# required package\n",
        "from cyvcf2 import VCF\n",
        "v = VCF('genotypes.vcf.gz')\n",
        "rec = next(v)\n",
        "print('Variant Level information')\n",
        "info = rec.INFO\n",
        "for info in rec.INFO:\n",
        "  print(info)\n",
        "print('Sample Level information')\n",
        "for fmt in rec.FORMAT:\n",
        "  print(fmt)"
      ]
    },
    {
      "cell_type": "markdown",
      "metadata": {
        "id": "hM46pI8m7hXg"
      },
      "source": [
        "**Now that we know what information is available, let’s inspect a single VCF record:**"
      ]
    },
    {
      "cell_type": "markdown",
      "metadata": {
        "id": "OxOxi21576ah"
      },
      "source": [
        "We will start by retrieving the standard information: the chromosome, position, ID, reference base\n",
        "(typically just one) and alternative bases (you can have more than one, but it’s not uncommon\n",
        "as a first filtering approach to only accept a single ALT, for example, only accept biallelic\n",
        "SNPs), quality (as you might expect, Phred-scaled), and filter status. Regarding the filter status,\n",
        "remember that whatever the VCF file says, you may still want to apply extra filters (as in the\n",
        "next recipe, Studying genome accessibility and filtering SNP data).\n",
        "We then print the additional variant-level information (AC, AS, AF, AN, DP, and so on),\n",
        "followed by the sample format (in this case, DP and GT). Finally, we count the number of\n",
        "samples and inspect a single sample to check whether it was called for this variant. Also, the\n",
        "reported alleles, heterozygosity, and phasing status (this dataset happens to be phased, which\n",
        "is not that common) are included."
      ]
    },
    {
      "cell_type": "code",
      "execution_count": 19,
      "metadata": {
        "colab": {
          "base_uri": "https://localhost:8080/"
        },
        "id": "aS1xqzny7k4S",
        "outputId": "46cf645a-91db-47ee-952d-36c7760e07c8"
      },
      "outputs": [
        {
          "name": "stdout",
          "output_type": "stream",
          "text": [
            "2504\n",
            "22 16050075 None A ['G'] 100.0 None\n",
            "<cyvcf2.cyvcf2.INFO object at 0x7f8f0bb43ed0>\n",
            "['GT', 'DP']\n",
            "True\n",
            "A|A [0, 0] True\n",
            "1\n"
          ]
        }
      ],
      "source": [
        "v = VCF('genotypes.vcf.gz')\n",
        "samples = v.samples\n",
        "print(len(samples))\n",
        "variant = next(v)\n",
        "print(variant.CHROM, variant.POS, variant.ID, variant.\n",
        "REF, variant.ALT, variant.QUAL, variant.FILTER)\n",
        "print(variant.INFO)\n",
        "print(variant.FORMAT)\n",
        "print(variant.is_snp)\n",
        "str_alleles = variant.gt_bases[0]\n",
        "alleles = variant.genotypes[0][0:2]\n",
        "is_phased = variant.genotypes[0][2]\n",
        "print(str_alleles, alleles, is_phased)\n",
        "print(variant.format('DP')[0])"
      ]
    },
    {
      "cell_type": "markdown",
      "metadata": {
        "id": "eS5_QUyo7zOI"
      },
      "source": [
        "**Let’s check the type of variant and the number of nonbiallelic SNPs in a single pass:**"
      ]
    },
    {
      "cell_type": "markdown",
      "metadata": {
        "id": "OdND2Y-d8JKV"
      },
      "source": [
        "We will now use the now-common Python default dictionary. We find that this dataset has\n",
        "INDELs, CNVs, and—of course—SNPs (roughly two-thirds being transitions with one-third\n",
        "transversions). There is a residual number (79) of triallelic SNPs."
      ]
    },
    {
      "cell_type": "code",
      "execution_count": 20,
      "metadata": {
        "colab": {
          "base_uri": "https://localhost:8080/"
        },
        "id": "cZsOLSSI8U0o",
        "outputId": "1f63cd28-f33d-4b8d-b330-32b73c9bcc44"
      },
      "outputs": [
        {
          "name": "stdout",
          "output_type": "stream",
          "text": [
            "defaultdict(<class 'int'>, {('snp', 'ts'): 10054, ('snp', 'tv'): 5917, ('sv', 'CNV'): 2, ('indel', 'del'): 273, ('snp', 'unknown'): 79, ('indel', 'ins'): 127, ('indel', 'unknown'): 13, ('sv', 'DEL'): 6, ('sv', 'SVA'): 1})\n"
          ]
        }
      ],
      "source": [
        "from collections import defaultdict\n",
        "f = VCF('genotypes.vcf.gz')\n",
        "my_type = defaultdict(int)\n",
        "num_alts = defaultdict(int)\n",
        "for variant in f:\n",
        "  my_type[variant.var_type, variant.var_subtype] += 1\n",
        "  if variant.var_type == 'snp':\n",
        "    num_alts[len(variant.ALT)] += 1\n",
        "print(my_type)"
      ]
    }
  ],
  "metadata": {
    "colab": {
      "provenance": []
    },
    "kernelspec": {
      "display_name": "Python 3",
      "name": "python3"
    },
    "language_info": {
      "codemirror_mode": {
        "name": "ipython",
        "version": 3
      },
      "file_extension": ".py",
      "mimetype": "text/x-python",
      "name": "python",
      "nbconvert_exporter": "python",
      "pygments_lexer": "ipython3",
      "version": "3.9.13"
    }
  },
  "nbformat": 4,
  "nbformat_minor": 0
}
