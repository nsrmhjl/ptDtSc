{
  "cells": [
    {
      "cell_type": "code",
      "execution_count": null,
      "metadata": {
        "id": "9jMGMgatPfVU"
      },
      "outputs": [],
      "source": []
    },
    {
      "cell_type": "markdown",
      "metadata": {
        "id": "Z0Jn4sZ9QCcZ"
      },
      "source": [
        "# **Chapter 2: Next-Generation Sequencing**\n",
        "</br>\n",
        "\n",
        "**Working with BAM files**"
      ]
    },
    {
      "cell_type": "markdown",
      "metadata": {
        "id": "aDi-j96SQGm-"
      },
      "source": [
        "Description of BAM files: </br>\n",
        "Before you start coding, note that you can inspect the BAM file using `samtools view -h`. </br>We suggest that you take a\n",
        "look at the header file and the first few records. </br>\n",
        "One of the most complex operations in NGS is to generate good alignment\n",
        "files from raw sequence data. It not only calls the aligner, but also cleans\n",
        "up data. Now, in the @PG headers of high quality BAM files, you will find\n",
        "the actual command lines used for most, if not all, of the procedures used\n",
        "to generate this BAM file. In our example BAM file, you will find all the\n",
        "information needed to run bwa, SAMtools, the GATK IndelRealigner, and\n",
        "the Picard application suite to clean up data. Remember that while you\n",
        "can generate BAM files easily, the programs after it will be quite picky in\n",
        "terms of correctness of the BAM input. For instance, if you use GATK's\n",
        "variant caller to generate genotype calls, the files will have to be\n",
        "extensively cleaned. The header of other BAM files can thus provide you\n",
        "with the best way to generate yours. A final recommendation is that if you\n",
        "do not work with human data, try to find good BAMs for your species,\n",
        "because the parameters of a given program may be slightly different.\n",
        "Also, if you use something other than the WGS data, check for similar\n",
        "types of sequencing data."
      ]
    },
    {
      "cell_type": "markdown",
      "metadata": {
        "id": "g8v6cm2MQ1N7"
      },
      "source": [
        "**Let's take a look at the following steps:**"
      ]
    },
    {
      "cell_type": "code",
      "execution_count": 2,
      "metadata": {
        "colab": {
          "base_uri": "https://localhost:8080/"
        },
        "id": "Xne6hXtDRn9e",
        "outputId": "79b1e968-e4d9-40c2-e267-d07fe90f44e7"
      },
      "outputs": [
        {
          "name": "stdout",
          "output_type": "stream",
          "text": [
            "Looking in indexes: https://pypi.org/simple, https://us-python.pkg.dev/colab-wheels/public/simple/\n",
            "Collecting pysam\n",
            "  Downloading pysam-0.19.1-cp37-cp37m-manylinux_2_24_x86_64.whl (15.1 MB)\n",
            "\u001b[K     |████████████████████████████████| 15.1 MB 7.9 MB/s \n",
            "\u001b[?25hInstalling collected packages: pysam\n",
            "Successfully installed pysam-0.19.1\n"
          ]
        }
      ],
      "source": [
        "pip install pysam    #  a Python wrapper to the SAMtools C API"
      ]
    },
    {
      "cell_type": "code",
      "execution_count": 3,
      "metadata": {
        "id": "nAF7FFPuRklq"
      },
      "outputs": [],
      "source": [
        "\n",
        "from collections import defaultdict\n",
        "\n",
        "import numpy as np\n",
        "\n",
        "%matplotlib inline\n",
        "import seaborn as sns\n",
        "import matplotlib.pyplot as plt\n",
        "\n",
        "import pysam"
      ]
    },
    {
      "cell_type": "markdown",
      "metadata": {
        "id": "yKwXH-mnQ4dk"
      },
      "source": [
        "1. Let's inspect the header files: </br>\n",
        "You just need to do this only once"
      ]
    },
    {
      "cell_type": "code",
      "execution_count": 1,
      "metadata": {
        "colab": {
          "base_uri": "https://localhost:8080/"
        },
        "id": "cmkObO-HQ5d5",
        "outputId": "a082db76-6028-4246-a8e1-d5973ee4c8ed"
      },
      "outputs": [
        {
          "name": "stdout",
          "output_type": "stream",
          "text": [
            "--2022-07-16 18:28:39--  ftp://ftp.1000genomes.ebi.ac.uk/vol1/ftp/phase3/data/NA18489/exome_alignment/NA18489.chrom20.ILLUMINA.bwa.YRI.exome.20121211.bam\n",
            "           => ‘NA18489.chrom20.ILLUMINA.bwa.YRI.exome.20121211.bam’\n",
            "Resolving ftp.1000genomes.ebi.ac.uk (ftp.1000genomes.ebi.ac.uk)... 193.62.193.140\n",
            "Connecting to ftp.1000genomes.ebi.ac.uk (ftp.1000genomes.ebi.ac.uk)|193.62.193.140|:21... connected.\n",
            "Logging in as anonymous ... Logged in!\n",
            "==> SYST ... done.    ==> PWD ... done.\n",
            "==> TYPE I ... done.  ==> CWD (1) /vol1/ftp/phase3/data/NA18489/exome_alignment ... done.\n",
            "==> SIZE NA18489.chrom20.ILLUMINA.bwa.YRI.exome.20121211.bam ... 327067172\n",
            "==> PASV ... done.    ==> RETR NA18489.chrom20.ILLUMINA.bwa.YRI.exome.20121211.bam ... done.\n",
            "Length: 327067172 (312M) (unauthoritative)\n",
            "\n",
            "NA18489.chrom20.ILL 100%[===================>] 311.92M  21.7MB/s    in 16s     \n",
            "\n",
            "2022-07-16 18:28:57 (19.6 MB/s) - ‘NA18489.chrom20.ILLUMINA.bwa.YRI.exome.20121211.bam’ saved [327067172]\n",
            "\n",
            "--2022-07-16 18:28:57--  ftp://ftp.1000genomes.ebi.ac.uk/vol1/ftp/phase3/data/NA18489/exome_alignment/NA18489.chrom20.ILLUMINA.bwa.YRI.exome.20121211.bam.bai\n",
            "           => ‘NA18489.chrom20.ILLUMINA.bwa.YRI.exome.20121211.bam.bai’\n",
            "Resolving ftp.1000genomes.ebi.ac.uk (ftp.1000genomes.ebi.ac.uk)... 193.62.193.140\n",
            "Connecting to ftp.1000genomes.ebi.ac.uk (ftp.1000genomes.ebi.ac.uk)|193.62.193.140|:21... connected.\n",
            "Logging in as anonymous ... Logged in!\n",
            "==> SYST ... done.    ==> PWD ... done.\n",
            "==> TYPE I ... done.  ==> CWD (1) /vol1/ftp/phase3/data/NA18489/exome_alignment ... done.\n",
            "==> SIZE NA18489.chrom20.ILLUMINA.bwa.YRI.exome.20121211.bam.bai ... 170688\n",
            "==> PASV ... done.    ==> RETR NA18489.chrom20.ILLUMINA.bwa.YRI.exome.20121211.bam.bai ... done.\n",
            "Length: 170688 (167K) (unauthoritative)\n",
            "\n",
            "NA18489.chrom20.ILL 100%[===================>] 166.69K   311KB/s    in 0.5s    \n",
            "\n",
            "2022-07-16 18:29:00 (311 KB/s) - ‘NA18489.chrom20.ILLUMINA.bwa.YRI.exome.20121211.bam.bai’ saved [170688]\n",
            "\n"
          ]
        }
      ],
      "source": [
        "!rm -f NA18489.chrom20.ILLUMINA.bwa.YRI.exome.20121211.bam 2>/dev/null\n",
        "!rm -f NA18489.chrom20.ILLUMINA.bwa.YRI.exome.20121211.bam.bai 2>/dev/null\n",
        "!wget ftp://ftp.1000genomes.ebi.ac.uk/vol1/ftp/phase3/data/NA18489/exome_alignment/NA18489.chrom20.ILLUMINA.bwa.YRI.exome.20121211.bam\n",
        "!wget ftp://ftp.1000genomes.ebi.ac.uk/vol1/ftp/phase3/data/NA18489/exome_alignment/NA18489.chrom20.ILLUMINA.bwa.YRI.exome.20121211.bam.bai"
      ]
    },
    {
      "cell_type": "code",
      "execution_count": 4,
      "metadata": {
        "id": "qoUxkIYjR2GS"
      },
      "outputs": [],
      "source": [
        "bam = pysam.AlignmentFile('NA18489.chrom20.ILLUMINA.bwa.YRI.exome.20121211.bam', 'rb')"
      ]
    },
    {
      "cell_type": "code",
      "execution_count": 5,
      "metadata": {
        "colab": {
          "base_uri": "https://localhost:8080/"
        },
        "id": "8oP5WAB0R9XN",
        "outputId": "98977288-3572-4868-9eba-ae38bdc998d9"
      },
      "outputs": [
        {
          "name": "stdout",
          "output_type": "stream",
          "text": [
            "HD\n",
            "\t\tVN\n",
            "\t\tSO\n",
            "SQ\n",
            "\t1\n",
            "\t\tSN\t1\n",
            "\t\tLN\t249250621\n",
            "\t\tM5\t1b22b98cdeb4a9304cb5d48026a85128\n",
            "\t\tUR\tftp://ftp.1000genomes.ebi.ac.uk/vol1/ftp/technical/reference/phase2_reference_assembly_sequence/hs37d5.fa.gz        AS:NCBI37       SP:Human\n",
            "\t2\n",
            "\t\tSN\t2\n",
            "\t\tLN\t243199373\n",
            "\t\tM5\ta0d9851da00400dec1098a9255ac712e\n",
            "\t\tUR\tftp://ftp.1000genomes.ebi.ac.uk/vol1/ftp/technical/reference/phase2_reference_assembly_sequence/hs37d5.fa.gz        AS:NCBI37       SP:Human\n",
            "\t3\n",
            "\t\tSN\t3\n",
            "\t\tLN\t198022430\n",
            "\t\tM5\tfdfd811849cc2fadebc929bb925902e5\n",
            "\t\tUR\tftp://ftp.1000genomes.ebi.ac.uk/vol1/ftp/technical/reference/phase2_reference_assembly_sequence/hs37d5.fa.gz        AS:NCBI37       SP:Human\n",
            "\t4\n",
            "\t\tSN\t4\n",
            "\t\tLN\t191154276\n",
            "\t\tM5\t23dccd106897542ad87d2765d28a19a1\n",
            "\t\tUR\tftp://ftp.1000genomes.ebi.ac.uk/vol1/ftp/technical/reference/phase2_reference_assembly_sequence/hs37d5.fa.gz        AS:NCBI37       SP:Human\n",
            "\t5\n",
            "\t\tSN\t5\n",
            "\t\tLN\t180915260\n",
            "\t\tM5\t0740173db9ffd264d728f32784845cd7\n",
            "\t\tUR\tftp://ftp.1000genomes.ebi.ac.uk/vol1/ftp/technical/reference/phase2_reference_assembly_sequence/hs37d5.fa.gz        AS:NCBI37       SP:Human\n",
            "\t6\n",
            "\t\tSN\t6\n",
            "\t\tLN\t171115067\n",
            "\t\tM5\t1d3a93a248d92a729ee764823acbbc6b\n",
            "\t\tUR\tftp://ftp.1000genomes.ebi.ac.uk/vol1/ftp/technical/reference/phase2_reference_assembly_sequence/hs37d5.fa.gz        AS:NCBI37       SP:Human\n",
            "\t7\n",
            "\t\tSN\t7\n",
            "\t\tLN\t159138663\n",
            "\t\tM5\t618366e953d6aaad97dbe4777c29375e\n",
            "\t\tUR\tftp://ftp.1000genomes.ebi.ac.uk/vol1/ftp/technical/reference/phase2_reference_assembly_sequence/hs37d5.fa.gz        AS:NCBI37       SP:Human\n",
            "\t8\n",
            "\t\tSN\t8\n",
            "\t\tLN\t146364022\n",
            "\t\tM5\t96f514a9929e410c6651697bded59aec\n",
            "\t\tUR\tftp://ftp.1000genomes.ebi.ac.uk/vol1/ftp/technical/reference/phase2_reference_assembly_sequence/hs37d5.fa.gz        AS:NCBI37       SP:Human\n",
            "\t9\n",
            "\t\tSN\t9\n",
            "\t\tLN\t141213431\n",
            "\t\tM5\t3e273117f15e0a400f01055d9f393768\n",
            "\t\tUR\tftp://ftp.1000genomes.ebi.ac.uk/vol1/ftp/technical/reference/phase2_reference_assembly_sequence/hs37d5.fa.gz        AS:NCBI37       SP:Human\n",
            "\t10\n",
            "\t\tSN\t10\n",
            "\t\tLN\t135534747\n",
            "\t\tM5\t988c28e000e84c26d552359af1ea2e1d\n",
            "\t\tUR\tftp://ftp.1000genomes.ebi.ac.uk/vol1/ftp/technical/reference/phase2_reference_assembly_sequence/hs37d5.fa.gz        AS:NCBI37       SP:Human\n",
            "\t11\n",
            "\t\tSN\t11\n",
            "\t\tLN\t135006516\n",
            "\t\tM5\t98c59049a2df285c76ffb1c6db8f8b96\n",
            "\t\tUR\tftp://ftp.1000genomes.ebi.ac.uk/vol1/ftp/technical/reference/phase2_reference_assembly_sequence/hs37d5.fa.gz        AS:NCBI37       SP:Human\n",
            "\t12\n",
            "\t\tSN\t12\n",
            "\t\tLN\t133851895\n",
            "\t\tM5\t51851ac0e1a115847ad36449b0015864\n",
            "\t\tUR\tftp://ftp.1000genomes.ebi.ac.uk/vol1/ftp/technical/reference/phase2_reference_assembly_sequence/hs37d5.fa.gz        AS:NCBI37       SP:Human\n",
            "\t13\n",
            "\t\tSN\t13\n",
            "\t\tLN\t115169878\n",
            "\t\tM5\t283f8d7892baa81b510a015719ca7b0b\n",
            "\t\tUR\tftp://ftp.1000genomes.ebi.ac.uk/vol1/ftp/technical/reference/phase2_reference_assembly_sequence/hs37d5.fa.gz        AS:NCBI37       SP:Human\n",
            "\t14\n",
            "\t\tSN\t14\n",
            "\t\tLN\t107349540\n",
            "\t\tM5\t98f3cae32b2a2e9524bc19813927542e\n",
            "\t\tUR\tftp://ftp.1000genomes.ebi.ac.uk/vol1/ftp/technical/reference/phase2_reference_assembly_sequence/hs37d5.fa.gz        AS:NCBI37       SP:Human\n",
            "\t15\n",
            "\t\tSN\t15\n",
            "\t\tLN\t102531392\n",
            "\t\tM5\te5645a794a8238215b2cd77acb95a078\n",
            "\t\tUR\tftp://ftp.1000genomes.ebi.ac.uk/vol1/ftp/technical/reference/phase2_reference_assembly_sequence/hs37d5.fa.gz        AS:NCBI37       SP:Human\n",
            "\t16\n",
            "\t\tSN\t16\n",
            "\t\tLN\t90354753\n",
            "\t\tM5\tfc9b1a7b42b97a864f56b348b06095e6\n",
            "\t\tUR\tftp://ftp.1000genomes.ebi.ac.uk/vol1/ftp/technical/reference/phase2_reference_assembly_sequence/hs37d5.fa.gz        AS:NCBI37       SP:Human\n",
            "\t17\n",
            "\t\tSN\t17\n",
            "\t\tLN\t81195210\n",
            "\t\tM5\t351f64d4f4f9ddd45b35336ad97aa6de\n",
            "\t\tUR\tftp://ftp.1000genomes.ebi.ac.uk/vol1/ftp/technical/reference/phase2_reference_assembly_sequence/hs37d5.fa.gz        AS:NCBI37       SP:Human\n",
            "\t18\n",
            "\t\tSN\t18\n",
            "\t\tLN\t78077248\n",
            "\t\tM5\tb15d4b2d29dde9d3e4f93d1d0f2cbc9c\n",
            "\t\tUR\tftp://ftp.1000genomes.ebi.ac.uk/vol1/ftp/technical/reference/phase2_reference_assembly_sequence/hs37d5.fa.gz        AS:NCBI37       SP:Human\n",
            "\t19\n",
            "\t\tSN\t19\n",
            "\t\tLN\t59128983\n",
            "\t\tM5\t1aacd71f30db8e561810913e0b72636d\n",
            "\t\tUR\tftp://ftp.1000genomes.ebi.ac.uk/vol1/ftp/technical/reference/phase2_reference_assembly_sequence/hs37d5.fa.gz        AS:NCBI37       SP:Human\n",
            "\t20\n",
            "\t\tSN\t20\n",
            "\t\tLN\t63025520\n",
            "\t\tM5\t0dec9660ec1efaaf33281c0d5ea2560f\n",
            "\t\tUR\tftp://ftp.1000genomes.ebi.ac.uk/vol1/ftp/technical/reference/phase2_reference_assembly_sequence/hs37d5.fa.gz        AS:NCBI37       SP:Human\n",
            "\t21\n",
            "\t\tSN\t21\n",
            "\t\tLN\t48129895\n",
            "\t\tM5\t2979a6085bfe28e3ad6f552f361ed74d\n",
            "\t\tUR\tftp://ftp.1000genomes.ebi.ac.uk/vol1/ftp/technical/reference/phase2_reference_assembly_sequence/hs37d5.fa.gz        AS:NCBI37       SP:Human\n",
            "\t22\n",
            "\t\tSN\t22\n",
            "\t\tLN\t51304566\n",
            "\t\tM5\ta718acaa6135fdca8357d5bfe94211dd\n",
            "\t\tUR\tftp://ftp.1000genomes.ebi.ac.uk/vol1/ftp/technical/reference/phase2_reference_assembly_sequence/hs37d5.fa.gz        AS:NCBI37       SP:Human\n",
            "\t23\n",
            "\t\tSN\tX\n",
            "\t\tLN\t155270560\n",
            "\t\tM5\t7e0e2e580297b7764e31dbc80c2540dd\n",
            "\t\tUR\tftp://ftp.1000genomes.ebi.ac.uk/vol1/ftp/technical/reference/phase2_reference_assembly_sequence/hs37d5.fa.gz        AS:NCBI37       SP:Human\n",
            "\t24\n",
            "\t\tSN\tY\n",
            "\t\tLN\t59373566\n",
            "\t\tM5\t1fa3474750af0948bdf97d5a0ee52e51\n",
            "\t\tUR\tftp://ftp.1000genomes.ebi.ac.uk/vol1/ftp/technical/reference/phase2_reference_assembly_sequence/hs37d5.fa.gz        AS:NCBI37       SP:Human\n",
            "\t25\n",
            "\t\tSN\tMT\n",
            "\t\tLN\t16569\n",
            "\t\tM5\tc68f52674c9fb33aef52dcf399755519\n",
            "\t\tUR\tftp://ftp.1000genomes.ebi.ac.uk/vol1/ftp/technical/reference/phase2_reference_assembly_sequence/hs37d5.fa.gz        AS:NCBI37       SP:Human\n",
            "\t26\n",
            "\t\tSN\tGL000207.1\n",
            "\t\tLN\t4262\n",
            "\t\tM5\tf3814841f1939d3ca19072d9e89f3fd7\n",
            "\t\tUR\tftp://ftp.1000genomes.ebi.ac.uk/vol1/ftp/technical/reference/phase2_reference_assembly_sequence/hs37d5.fa.gz        AS:NCBI37       SP:Human\n",
            "\t27\n",
            "\t\tSN\tGL000226.1\n",
            "\t\tLN\t15008\n",
            "\t\tM5\t1c1b2cd1fccbc0a99b6a447fa24d1504\n",
            "\t\tUR\tftp://ftp.1000genomes.ebi.ac.uk/vol1/ftp/technical/reference/phase2_reference_assembly_sequence/hs37d5.fa.gz        AS:NCBI37       SP:Human\n",
            "\t28\n",
            "\t\tSN\tGL000229.1\n",
            "\t\tLN\t19913\n",
            "\t\tM5\td0f40ec87de311d8e715b52e4c7062e1\n",
            "\t\tUR\tftp://ftp.1000genomes.ebi.ac.uk/vol1/ftp/technical/reference/phase2_reference_assembly_sequence/hs37d5.fa.gz        AS:NCBI37       SP:Human\n",
            "\t29\n",
            "\t\tSN\tGL000231.1\n",
            "\t\tLN\t27386\n",
            "\t\tM5\tba8882ce3a1efa2080e5d29b956568a4\n",
            "\t\tUR\tftp://ftp.1000genomes.ebi.ac.uk/vol1/ftp/technical/reference/phase2_reference_assembly_sequence/hs37d5.fa.gz        AS:NCBI37       SP:Human\n",
            "\t30\n",
            "\t\tSN\tGL000210.1\n",
            "\t\tLN\t27682\n",
            "\t\tM5\t851106a74238044126131ce2a8e5847c\n",
            "\t\tUR\tftp://ftp.1000genomes.ebi.ac.uk/vol1/ftp/technical/reference/phase2_reference_assembly_sequence/hs37d5.fa.gz        AS:NCBI37       SP:Human\n",
            "\t31\n",
            "\t\tSN\tGL000239.1\n",
            "\t\tLN\t33824\n",
            "\t\tM5\t99795f15702caec4fa1c4e15f8a29c07\n",
            "\t\tUR\tftp://ftp.1000genomes.ebi.ac.uk/vol1/ftp/technical/reference/phase2_reference_assembly_sequence/hs37d5.fa.gz        AS:NCBI37       SP:Human\n",
            "\t32\n",
            "\t\tSN\tGL000235.1\n",
            "\t\tLN\t34474\n",
            "\t\tM5\t118a25ca210cfbcdfb6c2ebb249f9680\n",
            "\t\tUR\tftp://ftp.1000genomes.ebi.ac.uk/vol1/ftp/technical/reference/phase2_reference_assembly_sequence/hs37d5.fa.gz        AS:NCBI37       SP:Human\n",
            "\t33\n",
            "\t\tSN\tGL000201.1\n",
            "\t\tLN\t36148\n",
            "\t\tM5\tdfb7e7ec60ffdcb85cb359ea28454ee9\n",
            "\t\tUR\tftp://ftp.1000genomes.ebi.ac.uk/vol1/ftp/technical/reference/phase2_reference_assembly_sequence/hs37d5.fa.gz        AS:NCBI37       SP:Human\n",
            "\t34\n",
            "\t\tSN\tGL000247.1\n",
            "\t\tLN\t36422\n",
            "\t\tM5\t7de00226bb7df1c57276ca6baabafd15\n",
            "\t\tUR\tftp://ftp.1000genomes.ebi.ac.uk/vol1/ftp/technical/reference/phase2_reference_assembly_sequence/hs37d5.fa.gz        AS:NCBI37       SP:Human\n",
            "\t35\n",
            "\t\tSN\tGL000245.1\n",
            "\t\tLN\t36651\n",
            "\t\tM5\t89bc61960f37d94abf0df2d481ada0ec\n",
            "\t\tUR\tftp://ftp.1000genomes.ebi.ac.uk/vol1/ftp/technical/reference/phase2_reference_assembly_sequence/hs37d5.fa.gz        AS:NCBI37       SP:Human\n",
            "\t36\n",
            "\t\tSN\tGL000197.1\n",
            "\t\tLN\t37175\n",
            "\t\tM5\t6f5efdd36643a9b8c8ccad6f2f1edc7b\n",
            "\t\tUR\tftp://ftp.1000genomes.ebi.ac.uk/vol1/ftp/technical/reference/phase2_reference_assembly_sequence/hs37d5.fa.gz        AS:NCBI37       SP:Human\n",
            "\t37\n",
            "\t\tSN\tGL000203.1\n",
            "\t\tLN\t37498\n",
            "\t\tM5\t96358c325fe0e70bee73436e8bb14dbd\n",
            "\t\tUR\tftp://ftp.1000genomes.ebi.ac.uk/vol1/ftp/technical/reference/phase2_reference_assembly_sequence/hs37d5.fa.gz        AS:NCBI37       SP:Human\n",
            "\t38\n",
            "\t\tSN\tGL000246.1\n",
            "\t\tLN\t38154\n",
            "\t\tM5\te4afcd31912af9d9c2546acf1cb23af2\n",
            "\t\tUR\tftp://ftp.1000genomes.ebi.ac.uk/vol1/ftp/technical/reference/phase2_reference_assembly_sequence/hs37d5.fa.gz        AS:NCBI37       SP:Human\n",
            "\t39\n",
            "\t\tSN\tGL000249.1\n",
            "\t\tLN\t38502\n",
            "\t\tM5\t1d78abec37c15fe29a275eb08d5af236\n",
            "\t\tUR\tftp://ftp.1000genomes.ebi.ac.uk/vol1/ftp/technical/reference/phase2_reference_assembly_sequence/hs37d5.fa.gz        AS:NCBI37       SP:Human\n",
            "\t40\n",
            "\t\tSN\tGL000196.1\n",
            "\t\tLN\t38914\n",
            "\t\tM5\td92206d1bb4c3b4019c43c0875c06dc0\n",
            "\t\tUR\tftp://ftp.1000genomes.ebi.ac.uk/vol1/ftp/technical/reference/phase2_reference_assembly_sequence/hs37d5.fa.gz        AS:NCBI37       SP:Human\n",
            "\t41\n",
            "\t\tSN\tGL000248.1\n",
            "\t\tLN\t39786\n",
            "\t\tM5\t5a8e43bec9be36c7b49c84d585107776\n",
            "\t\tUR\tftp://ftp.1000genomes.ebi.ac.uk/vol1/ftp/technical/reference/phase2_reference_assembly_sequence/hs37d5.fa.gz        AS:NCBI37       SP:Human\n",
            "\t42\n",
            "\t\tSN\tGL000244.1\n",
            "\t\tLN\t39929\n",
            "\t\tM5\t0996b4475f353ca98bacb756ac479140\n",
            "\t\tUR\tftp://ftp.1000genomes.ebi.ac.uk/vol1/ftp/technical/reference/phase2_reference_assembly_sequence/hs37d5.fa.gz        AS:NCBI37       SP:Human\n",
            "\t43\n",
            "\t\tSN\tGL000238.1\n",
            "\t\tLN\t39939\n",
            "\t\tM5\t131b1efc3270cc838686b54e7c34b17b\n",
            "\t\tUR\tftp://ftp.1000genomes.ebi.ac.uk/vol1/ftp/technical/reference/phase2_reference_assembly_sequence/hs37d5.fa.gz        AS:NCBI37       SP:Human\n",
            "\t44\n",
            "\t\tSN\tGL000202.1\n",
            "\t\tLN\t40103\n",
            "\t\tM5\t06cbf126247d89664a4faebad130fe9c\n",
            "\t\tUR\tftp://ftp.1000genomes.ebi.ac.uk/vol1/ftp/technical/reference/phase2_reference_assembly_sequence/hs37d5.fa.gz        AS:NCBI37       SP:Human\n",
            "\t45\n",
            "\t\tSN\tGL000234.1\n",
            "\t\tLN\t40531\n",
            "\t\tM5\t93f998536b61a56fd0ff47322a911d4b\n",
            "\t\tUR\tftp://ftp.1000genomes.ebi.ac.uk/vol1/ftp/technical/reference/phase2_reference_assembly_sequence/hs37d5.fa.gz        AS:NCBI37       SP:Human\n",
            "\t46\n",
            "\t\tSN\tGL000232.1\n",
            "\t\tLN\t40652\n",
            "\t\tM5\t3e06b6741061ad93a8587531307057d8\n",
            "\t\tUR\tftp://ftp.1000genomes.ebi.ac.uk/vol1/ftp/technical/reference/phase2_reference_assembly_sequence/hs37d5.fa.gz        AS:NCBI37       SP:Human\n",
            "\t47\n",
            "\t\tSN\tGL000206.1\n",
            "\t\tLN\t41001\n",
            "\t\tM5\t43f69e423533e948bfae5ce1d45bd3f1\n",
            "\t\tUR\tftp://ftp.1000genomes.ebi.ac.uk/vol1/ftp/technical/reference/phase2_reference_assembly_sequence/hs37d5.fa.gz        AS:NCBI37       SP:Human\n",
            "\t48\n",
            "\t\tSN\tGL000240.1\n",
            "\t\tLN\t41933\n",
            "\t\tM5\t445a86173da9f237d7bcf41c6cb8cc62\n",
            "\t\tUR\tftp://ftp.1000genomes.ebi.ac.uk/vol1/ftp/technical/reference/phase2_reference_assembly_sequence/hs37d5.fa.gz        AS:NCBI37       SP:Human\n",
            "\t49\n",
            "\t\tSN\tGL000236.1\n",
            "\t\tLN\t41934\n",
            "\t\tM5\tfdcd739913efa1fdc64b6c0cd7016779\n",
            "\t\tUR\tftp://ftp.1000genomes.ebi.ac.uk/vol1/ftp/technical/reference/phase2_reference_assembly_sequence/hs37d5.fa.gz        AS:NCBI37       SP:Human\n",
            "\t50\n",
            "\t\tSN\tGL000241.1\n",
            "\t\tLN\t42152\n",
            "\t\tM5\tef4258cdc5a45c206cea8fc3e1d858cf\n",
            "\t\tUR\tftp://ftp.1000genomes.ebi.ac.uk/vol1/ftp/technical/reference/phase2_reference_assembly_sequence/hs37d5.fa.gz        AS:NCBI37       SP:Human\n",
            "\t51\n",
            "\t\tSN\tGL000243.1\n",
            "\t\tLN\t43341\n",
            "\t\tM5\tcc34279a7e353136741c9fce79bc4396\n",
            "\t\tUR\tftp://ftp.1000genomes.ebi.ac.uk/vol1/ftp/technical/reference/phase2_reference_assembly_sequence/hs37d5.fa.gz        AS:NCBI37       SP:Human\n",
            "\t52\n",
            "\t\tSN\tGL000242.1\n",
            "\t\tLN\t43523\n",
            "\t\tM5\t2f8694fc47576bc81b5fe9e7de0ba49e\n",
            "\t\tUR\tftp://ftp.1000genomes.ebi.ac.uk/vol1/ftp/technical/reference/phase2_reference_assembly_sequence/hs37d5.fa.gz        AS:NCBI37       SP:Human\n",
            "\t53\n",
            "\t\tSN\tGL000230.1\n",
            "\t\tLN\t43691\n",
            "\t\tM5\tb4eb71ee878d3706246b7c1dbef69299\n",
            "\t\tUR\tftp://ftp.1000genomes.ebi.ac.uk/vol1/ftp/technical/reference/phase2_reference_assembly_sequence/hs37d5.fa.gz        AS:NCBI37       SP:Human\n",
            "\t54\n",
            "\t\tSN\tGL000237.1\n",
            "\t\tLN\t45867\n",
            "\t\tM5\te0c82e7751df73f4f6d0ed30cdc853c0\n",
            "\t\tUR\tftp://ftp.1000genomes.ebi.ac.uk/vol1/ftp/technical/reference/phase2_reference_assembly_sequence/hs37d5.fa.gz        AS:NCBI37       SP:Human\n",
            "\t55\n",
            "\t\tSN\tGL000233.1\n",
            "\t\tLN\t45941\n",
            "\t\tM5\t7fed60298a8d62ff808b74b6ce820001\n",
            "\t\tUR\tftp://ftp.1000genomes.ebi.ac.uk/vol1/ftp/technical/reference/phase2_reference_assembly_sequence/hs37d5.fa.gz        AS:NCBI37       SP:Human\n",
            "\t56\n",
            "\t\tSN\tGL000204.1\n",
            "\t\tLN\t81310\n",
            "\t\tM5\tefc49c871536fa8d79cb0a06fa739722\n",
            "\t\tUR\tftp://ftp.1000genomes.ebi.ac.uk/vol1/ftp/technical/reference/phase2_reference_assembly_sequence/hs37d5.fa.gz        AS:NCBI37       SP:Human\n",
            "\t57\n",
            "\t\tSN\tGL000198.1\n",
            "\t\tLN\t90085\n",
            "\t\tM5\t868e7784040da90d900d2d1b667a1383\n",
            "\t\tUR\tftp://ftp.1000genomes.ebi.ac.uk/vol1/ftp/technical/reference/phase2_reference_assembly_sequence/hs37d5.fa.gz        AS:NCBI37       SP:Human\n",
            "\t58\n",
            "\t\tSN\tGL000208.1\n",
            "\t\tLN\t92689\n",
            "\t\tM5\taa81be49bf3fe63a79bdc6a6f279abf6\n",
            "\t\tUR\tftp://ftp.1000genomes.ebi.ac.uk/vol1/ftp/technical/reference/phase2_reference_assembly_sequence/hs37d5.fa.gz        AS:NCBI37       SP:Human\n",
            "\t59\n",
            "\t\tSN\tGL000191.1\n",
            "\t\tLN\t106433\n",
            "\t\tM5\td75b436f50a8214ee9c2a51d30b2c2cc\n",
            "\t\tUR\tftp://ftp.1000genomes.ebi.ac.uk/vol1/ftp/technical/reference/phase2_reference_assembly_sequence/hs37d5.fa.gz        AS:NCBI37       SP:Human\n",
            "\t60\n",
            "\t\tSN\tGL000227.1\n",
            "\t\tLN\t128374\n",
            "\t\tM5\ta4aead23f8053f2655e468bcc6ecdceb\n",
            "\t\tUR\tftp://ftp.1000genomes.ebi.ac.uk/vol1/ftp/technical/reference/phase2_reference_assembly_sequence/hs37d5.fa.gz        AS:NCBI37       SP:Human\n",
            "\t61\n",
            "\t\tSN\tGL000228.1\n",
            "\t\tLN\t129120\n",
            "\t\tM5\tc5a17c97e2c1a0b6a9cc5a6b064b714f\n",
            "\t\tUR\tftp://ftp.1000genomes.ebi.ac.uk/vol1/ftp/technical/reference/phase2_reference_assembly_sequence/hs37d5.fa.gz        AS:NCBI37       SP:Human\n",
            "\t62\n",
            "\t\tSN\tGL000214.1\n",
            "\t\tLN\t137718\n",
            "\t\tM5\t46c2032c37f2ed899eb41c0473319a69\n",
            "\t\tUR\tftp://ftp.1000genomes.ebi.ac.uk/vol1/ftp/technical/reference/phase2_reference_assembly_sequence/hs37d5.fa.gz        AS:NCBI37       SP:Human\n",
            "\t63\n",
            "\t\tSN\tGL000221.1\n",
            "\t\tLN\t155397\n",
            "\t\tM5\t3238fb74ea87ae857f9c7508d315babb\n",
            "\t\tUR\tftp://ftp.1000genomes.ebi.ac.uk/vol1/ftp/technical/reference/phase2_reference_assembly_sequence/hs37d5.fa.gz        AS:NCBI37       SP:Human\n",
            "\t64\n",
            "\t\tSN\tGL000209.1\n",
            "\t\tLN\t159169\n",
            "\t\tM5\tf40598e2a5a6b26e84a3775e0d1e2c81\n",
            "\t\tUR\tftp://ftp.1000genomes.ebi.ac.uk/vol1/ftp/technical/reference/phase2_reference_assembly_sequence/hs37d5.fa.gz        AS:NCBI37       SP:Human\n",
            "\t65\n",
            "\t\tSN\tGL000218.1\n",
            "\t\tLN\t161147\n",
            "\t\tM5\t1d708b54644c26c7e01c2dad5426d38c\n",
            "\t\tUR\tftp://ftp.1000genomes.ebi.ac.uk/vol1/ftp/technical/reference/phase2_reference_assembly_sequence/hs37d5.fa.gz        AS:NCBI37       SP:Human\n",
            "\t66\n",
            "\t\tSN\tGL000220.1\n",
            "\t\tLN\t161802\n",
            "\t\tM5\tfc35de963c57bf7648429e6454f1c9db\n",
            "\t\tUR\tftp://ftp.1000genomes.ebi.ac.uk/vol1/ftp/technical/reference/phase2_reference_assembly_sequence/hs37d5.fa.gz        AS:NCBI37       SP:Human\n",
            "\t67\n",
            "\t\tSN\tGL000213.1\n",
            "\t\tLN\t164239\n",
            "\t\tM5\t9d424fdcc98866650b58f004080a992a\n",
            "\t\tUR\tftp://ftp.1000genomes.ebi.ac.uk/vol1/ftp/technical/reference/phase2_reference_assembly_sequence/hs37d5.fa.gz        AS:NCBI37       SP:Human\n",
            "\t68\n",
            "\t\tSN\tGL000211.1\n",
            "\t\tLN\t166566\n",
            "\t\tM5\t7daaa45c66b288847b9b32b964e623d3\n",
            "\t\tUR\tftp://ftp.1000genomes.ebi.ac.uk/vol1/ftp/technical/reference/phase2_reference_assembly_sequence/hs37d5.fa.gz        AS:NCBI37       SP:Human\n",
            "\t69\n",
            "\t\tSN\tGL000199.1\n",
            "\t\tLN\t169874\n",
            "\t\tM5\t569af3b73522fab4b40995ae4944e78e\n",
            "\t\tUR\tftp://ftp.1000genomes.ebi.ac.uk/vol1/ftp/technical/reference/phase2_reference_assembly_sequence/hs37d5.fa.gz        AS:NCBI37       SP:Human\n",
            "\t70\n",
            "\t\tSN\tGL000217.1\n",
            "\t\tLN\t172149\n",
            "\t\tM5\t6d243e18dea1945fb7f2517615b8f52e\n",
            "\t\tUR\tftp://ftp.1000genomes.ebi.ac.uk/vol1/ftp/technical/reference/phase2_reference_assembly_sequence/hs37d5.fa.gz        AS:NCBI37       SP:Human\n",
            "\t71\n",
            "\t\tSN\tGL000216.1\n",
            "\t\tLN\t172294\n",
            "\t\tM5\t642a232d91c486ac339263820aef7fe0\n",
            "\t\tUR\tftp://ftp.1000genomes.ebi.ac.uk/vol1/ftp/technical/reference/phase2_reference_assembly_sequence/hs37d5.fa.gz        AS:NCBI37       SP:Human\n",
            "\t72\n",
            "\t\tSN\tGL000215.1\n",
            "\t\tLN\t172545\n",
            "\t\tM5\t5eb3b418480ae67a997957c909375a73\n",
            "\t\tUR\tftp://ftp.1000genomes.ebi.ac.uk/vol1/ftp/technical/reference/phase2_reference_assembly_sequence/hs37d5.fa.gz        AS:NCBI37       SP:Human\n",
            "\t73\n",
            "\t\tSN\tGL000205.1\n",
            "\t\tLN\t174588\n",
            "\t\tM5\td22441398d99caf673e9afb9a1908ec5\n",
            "\t\tUR\tftp://ftp.1000genomes.ebi.ac.uk/vol1/ftp/technical/reference/phase2_reference_assembly_sequence/hs37d5.fa.gz        AS:NCBI37       SP:Human\n",
            "\t74\n",
            "\t\tSN\tGL000219.1\n",
            "\t\tLN\t179198\n",
            "\t\tM5\tf977edd13bac459cb2ed4a5457dba1b3\n",
            "\t\tUR\tftp://ftp.1000genomes.ebi.ac.uk/vol1/ftp/technical/reference/phase2_reference_assembly_sequence/hs37d5.fa.gz        AS:NCBI37       SP:Human\n",
            "\t75\n",
            "\t\tSN\tGL000224.1\n",
            "\t\tLN\t179693\n",
            "\t\tM5\td5b2fc04f6b41b212a4198a07f450e20\n",
            "\t\tUR\tftp://ftp.1000genomes.ebi.ac.uk/vol1/ftp/technical/reference/phase2_reference_assembly_sequence/hs37d5.fa.gz        AS:NCBI37       SP:Human\n",
            "\t76\n",
            "\t\tSN\tGL000223.1\n",
            "\t\tLN\t180455\n",
            "\t\tM5\t399dfa03bf32022ab52a846f7ca35b30\n",
            "\t\tUR\tftp://ftp.1000genomes.ebi.ac.uk/vol1/ftp/technical/reference/phase2_reference_assembly_sequence/hs37d5.fa.gz        AS:NCBI37       SP:Human\n",
            "\t77\n",
            "\t\tSN\tGL000195.1\n",
            "\t\tLN\t182896\n",
            "\t\tM5\t5d9ec007868d517e73543b005ba48535\n",
            "\t\tUR\tftp://ftp.1000genomes.ebi.ac.uk/vol1/ftp/technical/reference/phase2_reference_assembly_sequence/hs37d5.fa.gz        AS:NCBI37       SP:Human\n",
            "\t78\n",
            "\t\tSN\tGL000212.1\n",
            "\t\tLN\t186858\n",
            "\t\tM5\t563531689f3dbd691331fd6c5730a88b\n",
            "\t\tUR\tftp://ftp.1000genomes.ebi.ac.uk/vol1/ftp/technical/reference/phase2_reference_assembly_sequence/hs37d5.fa.gz        AS:NCBI37       SP:Human\n",
            "\t79\n",
            "\t\tSN\tGL000222.1\n",
            "\t\tLN\t186861\n",
            "\t\tM5\t6fe9abac455169f50470f5a6b01d0f59\n",
            "\t\tUR\tftp://ftp.1000genomes.ebi.ac.uk/vol1/ftp/technical/reference/phase2_reference_assembly_sequence/hs37d5.fa.gz        AS:NCBI37       SP:Human\n",
            "\t80\n",
            "\t\tSN\tGL000200.1\n",
            "\t\tLN\t187035\n",
            "\t\tM5\t75e4c8d17cd4addf3917d1703cacaf25\n",
            "\t\tUR\tftp://ftp.1000genomes.ebi.ac.uk/vol1/ftp/technical/reference/phase2_reference_assembly_sequence/hs37d5.fa.gz        AS:NCBI37       SP:Human\n",
            "\t81\n",
            "\t\tSN\tGL000193.1\n",
            "\t\tLN\t189789\n",
            "\t\tM5\tdbb6e8ece0b5de29da56601613007c2a\n",
            "\t\tUR\tftp://ftp.1000genomes.ebi.ac.uk/vol1/ftp/technical/reference/phase2_reference_assembly_sequence/hs37d5.fa.gz        AS:NCBI37       SP:Human\n",
            "\t82\n",
            "\t\tSN\tGL000194.1\n",
            "\t\tLN\t191469\n",
            "\t\tM5\t6ac8f815bf8e845bb3031b73f812c012\n",
            "\t\tUR\tftp://ftp.1000genomes.ebi.ac.uk/vol1/ftp/technical/reference/phase2_reference_assembly_sequence/hs37d5.fa.gz        AS:NCBI37       SP:Human\n",
            "\t83\n",
            "\t\tSN\tGL000225.1\n",
            "\t\tLN\t211173\n",
            "\t\tM5\t63945c3e6962f28ffd469719a747e73c\n",
            "\t\tUR\tftp://ftp.1000genomes.ebi.ac.uk/vol1/ftp/technical/reference/phase2_reference_assembly_sequence/hs37d5.fa.gz        AS:NCBI37       SP:Human\n",
            "\t84\n",
            "\t\tSN\tGL000192.1\n",
            "\t\tLN\t547496\n",
            "\t\tM5\t325ba9e808f669dfeee210fdd7b470ac\n",
            "\t\tUR\tftp://ftp.1000genomes.ebi.ac.uk/vol1/ftp/technical/reference/phase2_reference_assembly_sequence/hs37d5.fa.gz        AS:NCBI37       SP:Human\n",
            "\t85\n",
            "\t\tSN\tNC_007605\n",
            "\t\tLN\t171823\n",
            "\t\tM5\t6743bd63b3ff2b5b8985d8933c53290a\n",
            "\t\tUR\tftp://ftp.1000genomes.ebi.ac.uk/vol1/ftp/technical/reference/phase2_reference_assembly_sequence/hs37d5.fa.gz        AS:NCBI37       SP:Human\n",
            "\t86\n",
            "\t\tSN\ths37d5\n",
            "\t\tLN\t35477943\n",
            "\t\tM5\t5b6a4b3a81a2d3c134b7d14bf6ad39f1\n",
            "\t\tUR\tftp://ftp.1000genomes.ebi.ac.uk/vol1/ftp/technical/reference/phase2_reference_assembly_sequence/hs37d5.fa.gz        AS:NCBI37       SP:Human\n",
            "RG\n",
            "\t1\n",
            "\t\tID\tSRR100025\n",
            "\t\tLB\tSolexa-51039\n",
            "\t\tSM\tNA18489\n",
            "\t\tPI\t220\n",
            "\t\tCN\tBI\n",
            "\t\tPL\tILLUMINA\n",
            "\t\tDS\tSRP004074\n",
            "PG\n",
            "\t1\n",
            "\t\tID\tbwa_index\n",
            "\t\tPN\tbwa\n",
            "\t\tVN\t0.5.9-r16\n",
            "\t\tCL\tbwa index -a bwtsw $reference_fasta\n",
            "\t2\n",
            "\t\tID\tbwa_aln_fastq\n",
            "\t\tPN\tbwa\n",
            "\t\tPP\tbwa_index\n",
            "\t\tVN\t0.5.9-r16\n",
            "\t\tCL\tbwa aln -q 15 -f $sai_file $reference_fasta $fastq_file\n",
            "\t3\n",
            "\t\tID\tbwa_sam\n",
            "\t\tPN\tbwa\n",
            "\t\tPP\tbwa_aln_fastq\n",
            "\t\tVN\t0.5.9-r16\n",
            "\t\tCL\tbwa sampe -a 660 -r $rg_line -f $sam_file $reference_fasta $sai_file(s) $fastq_file(s)\n",
            "\t4\n",
            "\t\tID\tsam_to_fixed_bam\n",
            "\t\tPN\tsamtools\n",
            "\t\tPP\tbwa_sam\n",
            "\t\tVN\t0.1.17 (r973:277)\n",
            "\t\tCL\tsamtools view -bSu $sam_file | samtools sort -n -o - samtools_nsort_tmp | samtools fixmate /dev/stdin /dev/stdout | samtools sort -o - samtools_csort_tmp | samtools fillmd -u - $reference_fasta > $fixed_bam_file\n",
            "\t5\n",
            "\t\tID\tgatk_target_interval_creator\n",
            "\t\tPN\tGenomeAnalysisTK\n",
            "\t\tPP\tsam_to_fixed_bam\n",
            "\t\tVN\t1.2-29-g0acaf2d\n",
            "\t\tCL\tjava $jvm_args -jar GenomeAnalysisTK.jar -T RealignerTargetCreator -R $reference_fasta -o $intervals_file -known $known_indels_file(s)\n",
            "\t6\n",
            "\t\tID\tbam_realignment_around_known_indels\n",
            "\t\tPN\tGenomeAnalysisTK\n",
            "\t\tPP\tgatk_target_interval_creator\n",
            "\t\tVN\t1.2-29-g0acaf2d\n",
            "\t\tCL\tjava $jvm_args -jar GenomeAnalysisTK.jar -T IndelRealigner -R $reference_fasta -I $bam_file -o $realigned_bam_file -targetIntervals $intervals_file -known $known_indels_file(s) -LOD 0.4 -model KNOWNS_ONLY -compress 0 --disable_bam_indexing\n",
            "\t7\n",
            "\t\tID\tbam_count_covariates\n",
            "\t\tPN\tGenomeAnalysisTK\n",
            "\t\tPP\tbam_realignment_around_known_indels\n",
            "\t\tVN\t1.2-29-g0acaf2d\n",
            "\t\tCL\tjava $jvm_args -jar GenomeAnalysisTK.jar -T CountCovariates -R $reference_fasta -I $bam_file -recalFile $bam_file.recal_data.csv -knownSites $known_sites_file(s) -l INFO -L '1;2;3;4;5;6;7;8;9;10;11;12;13;14;15;16;17;18;19;20;21;22;X;Y;MT' -cov ReadGroupCovariate -cov QualityScoreCovariate -cov CycleCovariate -cov DinucCovariate\n",
            "\t8\n",
            "\t\tID\tbam_recalibrate_quality_scores\n",
            "\t\tPN\tGenomeAnalysisTK\n",
            "\t\tPP\tbam_count_covariates\n",
            "\t\tVN\t1.2-29-g0acaf2d\n",
            "\t\tCL\tjava $jvm_args -jar GenomeAnalysisTK.jar -T TableRecalibration -R $reference_fasta -recalFile $bam_file.recal_data.csv -I $bam_file -o $recalibrated_bam_file -l INFO -compress 0 --disable_bam_indexing\n",
            "\t9\n",
            "\t\tID\tbam_calculate_bq\n",
            "\t\tPN\tsamtools\n",
            "\t\tPP\tbam_recalibrate_quality_scores\n",
            "\t\tVN\t0.1.17 (r973:277)\n",
            "\t\tCL\tsamtools calmd -Erb $bam_file $reference_fasta > $bq_bam_file\n",
            "\t10\n",
            "\t\tID\tbam_merge\n",
            "\t\tPN\tpicard\n",
            "\t\tPP\tbam_calculate_bq\n",
            "\t\tVN\t1.53\n",
            "\t\tCL\tjava $jvm_args -jar MergeSamFiles.jar INPUT=$bam_file(s) OUTPUT=$merged_bam VALIDATION_STRINGENCY=SILENT\n",
            "\t11\n",
            "\t\tID\tbam_mark_duplicates\n",
            "\t\tPN\tpicard\n",
            "\t\tPP\tbam_merge\n",
            "\t\tVN\t1.53\n",
            "\t\tCL\tjava $jvm_args -jar MarkDuplicates.jar INPUT=$bam_file OUTPUT=$markdup_bam_file ASSUME_SORTED=TRUE METRICS_FILE=/dev/null VALIDATION_STRINGENCY=SILENT\n",
            "\t12\n",
            "\t\tID\tbam_merge.1\n",
            "\t\tPN\tpicard\n",
            "\t\tPP\tbam_mark_duplicates\n",
            "\t\tVN\t1.53\n",
            "\t\tCL\tjava $jvm_args -jar MergeSamFiles.jar INPUT=$bam_file(s) OUTPUT=$merged_bam VALIDATION_STRINGENCY=SILENT\n",
            "CO\n",
            "\t\t$known_indels_file(s) = ftp://ftp.1000genomes.ebi.ac.uk/vol1/ftp/technical/reference/phase2_mapping_resources/ALL.wgs.indels_mills_devine_hg19_leftAligned_collapsed_double_hit.indels.sites.vcf.gz\n",
            "\t\t$known_indels_file(s) .= ftp://ftp.1000genomes.ebi.ac.uk/vol1/ftp/technical/reference/phase2_mapping_resources/ALL.wgs.low_coverage_vqsr.20101123.indels.sites.vcf.gz\n",
            "\t\t$known_sites_file(s) = ftp://ftp.1000genomes.ebi.ac.uk/vol1/ftp/technical/reference/phase2_mapping_resources/ALL.wgs.dbsnp.build135.snps.sites.vcf.gz\n"
          ]
        }
      ],
      "source": [
        "headers = bam.header\n",
        "for record_type, records in headers.items():\n",
        "    print (record_type)\n",
        "    for i, record in enumerate(records):\n",
        "        if type(record) == dict:\n",
        "            print('\\t%d' % (i + 1))\n",
        "            for field, value in record.items():\n",
        "                print('\\t\\t%s\\t%s' % (field, value))\n",
        "        else:\n",
        "            print('\\t\\t%s' % record)"
      ]
    },
    {
      "cell_type": "markdown",
      "metadata": {
        "id": "oYaNS6-XStXp"
      },
      "source": [
        "The header is represented as a dictionary (where the key is the record_type). As\n",
        "there can be several instances of the same record_type, the value of the\n",
        "dictionary is a list (where each element is, again, a dictionary, or sometimes a\n",
        "string containing tag/value pairs).</br>\n",
        "We will now inspect a single record. The amount of data per record is quite\n",
        "complex. Here, we will focus on some of the fundamental fields for paired-end\n",
        "reads. Check the SAM file specification and the pysam API documentation for\n",
        "more details:"
      ]
    },
    {
      "cell_type": "markdown",
      "metadata": {
        "id": "ryKw8oZlTnyI"
      },
      "source": [
        "**Description of following codes:** </br>\n",
        "Note that the BAM file object is iterable over its records. We will transverse it until we find a record whose CIGAR string contains a match and a soft clip.\n",
        "</br>\n",
        "The CIGAR string gives an indication of the alignment of individual bases. The\n",
        "clipped part of the sequence is the part that the aligner failed to align (but is not removed from the sequence). We will also want the read, its mate ID, and position (of the pair, as we have paired-end reads) that was mapped to the reference genome.\n",
        "</br>\n",
        "First, we print the query template name, followed by the reference ID. The\n",
        "reference ID is a pointer to the name of the sequence on the given references on\n",
        "the lookup table of references. An example will make this clear. For all records on this BAM file, the reference ID is 19 (a non-informative number), but if you apply bam.getrname(19), you will get 20, which is the name of the chromosome. So, do not confuse the reference ID (in this case, 19 ) with the name of the chromosome (20). This is then followed by the reference start and reference end. pysam is 0-based, not 1-based. So, be careful when you convert coordinates to other libraries. You will notice that the start and end for this case is 59,996 and 60,048, which means an alignment of 52 bases. Why is there only 52 bases when the read size is 76 (remember, the read size used in this BAM file)? </br>\n",
        "The answer can be found on the CIGAR string, which in our case will be 52M24S, which is a 52 bases match, followed by 24 bases that were soft-clipped.\n",
        "</br>\n",
        "Then, we print where the alignment starts and ends and calculate its length. By\n",
        "the way, you can compute this by looking at the CIGAR string. It starts at 0 (as the first part of the read is mapped) and ends at 52. The length is 76 again.\n",
        "</br>\n",
        "Now, we query the mate (something that you will only do if you have paired-end\n",
        "reads). We get its reference ID (as shown in the previous code), its start position, and a measure of the distance between both pairs. This measure of distance only makes sense if both mates are mapped to the same chromosome."
      ]
    },
    {
      "cell_type": "code",
      "execution_count": 6,
      "metadata": {
        "colab": {
          "base_uri": "https://localhost:8080/"
        },
        "id": "KOsLOgK0S5Dy",
        "outputId": "5334cbfe-dd8b-4a14-d187-700db8c62d33"
      },
      "outputs": [
        {
          "name": "stdout",
          "output_type": "stream",
          "text": [
            "SRR100025.62130839 19 20 59996 60048\n",
            "52M24S\n",
            "0 52 52\n",
            "19 60228 295\n",
            "True True False 60\n",
            "array('B', [33, 34, 36, 33, 39, 34, 33, 38, 39, 34, 40, 35, 40, 40, 32, 40, 38, 33, 35, 38, 33, 39, 40, 34, 37, 39, 36, 30, 36, 37, 34, 35, 34, 40, 37, 34, 38, 28, 40, 40, 38, 32, 33, 32, 36, 34, 37, 24, 34, 35, 31, 2, 2, 2, 2, 2, 2, 2, 2, 2, 2, 2, 2, 2, 2, 2, 2, 2, 2, 2, 2, 2, 2, 2, 2, 2])\n",
            "array('B', [33, 34, 36, 33, 39, 34, 33, 38, 39, 34, 40, 35, 40, 40, 32, 40, 38, 33, 35, 38, 33, 39, 40, 34, 37, 39, 36, 30, 36, 37, 34, 35, 34, 40, 37, 34, 38, 28, 40, 40, 38, 32, 33, 32, 36, 34, 37, 24, 34, 35, 31, 2])\n",
            "CTCAGATCCAGAGGTGGAAGAGGAAGGAAGCTTGGAACCCTATAGAGTTGCTGAGTGCCAGGACCAGATACTGGGC\n"
          ]
        }
      ],
      "source": [
        "#0-based\n",
        "for rec in bam:\n",
        "    if rec.cigarstring.find('M') > -1 and rec.cigarstring.find('S') > -1 and not rec.is_unmapped and not rec.mate_is_unmapped:\n",
        "        break\n",
        "print(rec.query_name, rec.reference_id, bam.getrname(rec.reference_id), rec.reference_start, rec.reference_end)\n",
        "print(rec.cigarstring)\n",
        "print(rec.query_alignment_start, rec.query_alignment_end, rec.query_alignment_length)\n",
        "print(rec.next_reference_id, rec.next_reference_start, rec.template_length)\n",
        "print(rec.is_paired, rec.is_proper_pair, rec.is_unmapped, rec.mapping_quality)\n",
        "print(rec.query_qualities)\n",
        "print(rec.query_alignment_qualities)\n",
        "print(rec.query_sequence)"
      ]
    },
    {
      "cell_type": "markdown",
      "metadata": {
        "id": "h78nsB8uTIft"
      },
      "source": [
        "Now, let's plot the distribution of the successfully mapped positions in a subset of sequences in the BAM file:"
      ]
    },
    {
      "cell_type": "markdown",
      "metadata": {
        "id": "3fjAksQdVuyr"
      },
      "source": [
        "We will start by initializing an array to keep the count for the entire 76 positions. </br>\n",
        "Note that we then fetch only the records for chromosome 20 between positions 0\n",
        "and 10 Mbp.</br>\n",
        "We will just use a small part of the chromosome here. It's\n",
        "fundamental to have an index (generated by tabix) for these kinds of fetch\n",
        "operations; the speed of execution will be completely different. </br>\n",
        "We traverse all records in the 10 Mbp boundary. For each boundary, we get the\n",
        "alignment start and end, and increase the counter of mappability among the\n",
        "positions that were aligned. Finally, we convert this into frequencies, and then\n",
        "plot it, as shown in the following graph:"
      ]
    },
    {
      "cell_type": "code",
      "execution_count": 7,
      "metadata": {
        "colab": {
          "base_uri": "https://localhost:8080/",
          "height": 554
        },
        "id": "PtVCyOIkVaxA",
        "outputId": "cc34aa37-5b34-4db9-f47b-8b21524058a3"
      },
      "outputs": [
        {
          "data": {
            "text/plain": [
              "[<matplotlib.lines.Line2D at 0x7f46361d89d0>]"
            ]
          },
          "execution_count": 7,
          "metadata": {},
          "output_type": "execute_result"
        },
        {
          "data": {
            "image/png": "[encoded data removed]",
            "text/plain": [
              "<Figure size 1152x648 with 1 Axes>"
            ]
          },
          "metadata": {
            "needs_background": "light"
          },
          "output_type": "display_data"
        }
      ],
      "source": [
        "import seaborn as sns\n",
        "import matplotlib.pyplot as plt\n",
        "counts = [0] * 76\n",
        "for n, rec in enumerate(bam.fetch('20', 0, 10000000)):\n",
        "    for i in range(rec.query_alignment_start, rec.query_alignment_end):\n",
        "        counts[i] += 1\n",
        "freqs = [x / (n + 1.) for x in counts]\n",
        "fig, ax = plt.subplots(figsize=(16,9))\n",
        "ax.plot(range(1, 77), freqs)\n",
        "ax.set_xlabel('Read distance')\n",
        "ax.set_ylabel('PHRED score')\n",
        "fig.suptitle('Percentage of mapped calls as a function ofthe position from the start of the sequencer read')"
      ]
    },
    {
      "cell_type": "markdown",
      "metadata": {
        "id": "v5pdlfV7WAkK"
      },
      "source": [
        "Finally, let's get the distribution of Phred scores across the mapped part of the reads. As you may suspect, this is probably not going to be uniform:"
      ]
    },
    {
      "cell_type": "markdown",
      "metadata": {
        "id": "82x87qySXVam"
      },
      "source": [
        "Here, we again use default dictionaries that allow you to use a bit of initialization code. We now fetch from start to end and create a list of Phred scores in a dictionary whose index is the relative position in the sequence read."
      ]
    },
    {
      "cell_type": "code",
      "execution_count": 8,
      "metadata": {
        "id": "ydU-6elxV_Dl"
      },
      "outputs": [],
      "source": [
        "import seaborn as sns\n",
        "import matplotlib.pyplot as plt\n",
        "\n",
        "phreds = defaultdict(list)\n",
        "\n",
        "for rec in bam.fetch('20', 0, None):\n",
        "  for i in range(rec.query_alignment_start, rec.query_alignment_end):\n",
        "    phreds[i].append(rec.query_qualities[i])"
      ]
    },
    {
      "cell_type": "markdown",
      "metadata": {
        "id": "Y-VhC-KuXbMf"
      },
      "source": [
        "We then use NumPy to calculate the 95th, 50th (median), and 5th percentiles,\n",
        "along with the maximum of quality scores per position. For most computational\n",
        "biology analysis, having a statistical summarized view of the data is quite\n",
        "common. So, you're probably already familiar with not only percentile\n",
        "calculations, but also with other Pythonic ways to calculate means, standard\n",
        "deviations, maximums, and minimums."
      ]
    },
    {
      "cell_type": "code",
      "execution_count": 9,
      "metadata": {
        "id": "-C5E2OtoW0fR"
      },
      "outputs": [],
      "source": [
        "maxs = [max(phreds[i]) for i in range(76)]\n",
        "tops = [np.percentile(phreds[i], 95) for i in range(76)]\n",
        "medians = [np.percentile(phreds[i], 50) for i in range(76)]\n",
        "bottoms = [np.percentile(phreds[i], 5) for i in range(76)]\n",
        "medians_fig = [x - y for x, y in zip(medians, bottoms)]\n",
        "tops_fig = [x - y for x, y in zip(tops, medians)]\n",
        "maxs_fig = [x - y for x, y in zip(maxs, tops)]"
      ]
    },
    {
      "cell_type": "markdown",
      "metadata": {
        "id": "gvWj4PlKXh0V"
      },
      "source": [
        "Finally, we will perform a stacked plot of the distribution of Phred scores per\n",
        "position. Due to the way matplotlib expects stacks, we have to subtract the value of the lower percentile from the one before with the stackplot call. We can use the list for the bottom percentiles, but we have to correct the median and the top as follows:"
      ]
    },
    {
      "cell_type": "code",
      "execution_count": 10,
      "metadata": {
        "colab": {
          "base_uri": "https://localhost:8080/",
          "height": 554
        },
        "id": "fMJYyDr1XIvR",
        "outputId": "5fe5e483-a605-4ed8-8859-10aef9c9f736"
      },
      "outputs": [
        {
          "data": {
            "text/plain": [
              "[<matplotlib.lines.Line2D at 0x7f4635c1c710>]"
            ]
          },
          "execution_count": 10,
          "metadata": {},
          "output_type": "execute_result"
        },
        {
          "data": {
            "image/png": "[encoded data removed]",
            "text/plain": [
              "<Figure size 1152x648 with 1 Axes>"
            ]
          },
          "metadata": {
            "needs_background": "light"
          },
          "output_type": "display_data"
        }
      ],
      "source": [
        "fig, ax = plt.subplots(figsize=(16,9))\n",
        "ax.stackplot(range(1, 77), (bottoms, medians_fig, tops_fig, maxs_fig))\n",
        "ax.plot(range(1, 77), maxs, 'k-')\n",
        "ax.set_xlabel('Read distance')\n",
        "ax.set_ylabel('PHRED score')\n",
        "fig.suptitle('Distribution of PHRED scores as a function of the position in the read')"
      ]
    }
  ],
  "metadata": {
    "colab": {
      "collapsed_sections": [],
      "name": "Working with BAM files.ipynb",
      "provenance": []
    },
    "kernelspec": {
      "display_name": "Python 3",
      "name": "python3"
    },
    "language_info": {
      "name": "python"
    }
  },
  "nbformat": 4,
  "nbformat_minor": 0
}
