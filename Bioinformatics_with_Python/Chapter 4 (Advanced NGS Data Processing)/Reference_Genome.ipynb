{
  "nbformat": 4,
  "nbformat_minor": 0,
  "metadata": {
    "colab": {
      "provenance": []
    },
    "kernelspec": {
      "name": "python3",
      "display_name": "Python 3"
    },
    "language_info": {
      "name": "python"
    }
  },
  "cells": [
    {
      "cell_type": "code",
      "execution_count": 1,
      "metadata": {
        "colab": {
          "base_uri": "https://localhost:8080/"
        },
        "id": "2nr5-oiVARDo",
        "outputId": "6a0c6af2-c21b-4454-d1cd-ae3f851e093e"
      },
      "outputs": [
        {
          "output_type": "stream",
          "name": "stdout",
          "text": [
            "--2022-10-21 20:10:26--  http://plasmodb.org/common/downloads/release-13.0/Pfalciparum3D7/fasta/data/PlasmoDB-13.0_Pfalciparum3D7_Genome.fasta\n",
            "Resolving plasmodb.org (plasmodb.org)... 128.91.204.54\n",
            "Connecting to plasmodb.org (plasmodb.org)|128.91.204.54|:80... connected.\n",
            "HTTP request sent, awaiting response... 301 Moved Permanently\n",
            "Location: https://plasmodb.org/common/downloads/release-13.0/Pfalciparum3D7/fasta/data/PlasmoDB-13.0_Pfalciparum3D7_Genome.fasta [following]\n",
            "--2022-10-21 20:10:27--  https://plasmodb.org/common/downloads/release-13.0/Pfalciparum3D7/fasta/data/PlasmoDB-13.0_Pfalciparum3D7_Genome.fasta\n",
            "Connecting to plasmodb.org (plasmodb.org)|128.91.204.54|:443... connected.\n",
            "HTTP request sent, awaiting response... 200 OK\n",
            "Length: 23723399 (23M) [application/x-fasta]\n",
            "Saving to: ‘PlasmoDB-13.0_Pfalciparum3D7_Genome.fasta.1’\n",
            "\n",
            "PlasmoDB-13.0_Pfalc 100%[===================>]  22.62M  7.86MB/s    in 2.9s    \n",
            "\n",
            "2022-10-21 20:10:30 (7.86 MB/s) - ‘PlasmoDB-13.0_Pfalciparum3D7_Genome.fasta.1’ saved [23723399/23723399]\n",
            "\n"
          ]
        }
      ],
      "source": [
        "!wget http://plasmodb.org/common/downloads/release-13.0/Pfalciparum3D7/fasta/data/PlasmoDB-13.0_Pfalciparum3D7_Genome.fasta"
      ]
    },
    {
      "cell_type": "markdown",
      "source": [
        "We will start by inspecting the description of all of the sequences in the reference genome’s FASTA file:"
      ],
      "metadata": {
        "id": "72n280coCndU"
      }
    },
    {
      "cell_type": "code",
      "source": [
        "from Bio import SeqIO"
      ],
      "metadata": {
        "id": "p7KIFl1hDOhm"
      },
      "execution_count": 2,
      "outputs": []
    },
    {
      "cell_type": "markdown",
      "source": [
        "Different genome references will have different description lines, but they will generally contain\n",
        "important information. In this example, you can see that we have chromosomes, mitochondria,\n",
        "and apicoplast. We can also view the chromosome sizes, but we will take the value from the\n",
        "sequence length instead."
      ],
      "metadata": {
        "id": "NMXT94TDDxD1"
      }
    },
    {
      "cell_type": "code",
      "source": [
        "genome_name = 'PlasmoDB-13.0_Pfalciparum3D7_Genome.fasta'\n",
        "recs = SeqIO.parse(genome_name, 'fasta')\n",
        "for rec in recs:\n",
        "  print(rec.description)"
      ],
      "metadata": {
        "colab": {
          "base_uri": "https://localhost:8080/"
        },
        "id": "IbTa9sDWDU5T",
        "outputId": "efbaab14-910f-49b6-fc87-862f43a370ed"
      },
      "execution_count": 3,
      "outputs": [
        {
          "output_type": "stream",
          "name": "stdout",
          "text": [
            "Pf3D7_04_v3 | organism=Plasmodium_falciparum_3D7 | version=2013-03-01 | length=1200490 | SO=chromosome\n",
            "Pf3D7_05_v3 | organism=Plasmodium_falciparum_3D7 | version=2013-03-01 | length=1343557 | SO=chromosome\n",
            "Pf3D7_02_v3 | organism=Plasmodium_falciparum_3D7 | version=2013-03-01 | length=947102 | SO=chromosome\n",
            "Pf3D7_09_v3 | organism=Plasmodium_falciparum_3D7 | version=2013-03-01 | length=1541735 | SO=chromosome\n",
            "Pf3D7_12_v3 | organism=Plasmodium_falciparum_3D7 | version=2013-03-01 | length=2271494 | SO=chromosome\n",
            "Pf3D7_06_v3 | organism=Plasmodium_falciparum_3D7 | version=2013-03-01 | length=1418242 | SO=chromosome\n",
            "Pf3D7_14_v3 | organism=Plasmodium_falciparum_3D7 | version=2013-03-01 | length=3291936 | SO=chromosome\n",
            "Pf3D7_03_v3 | organism=Plasmodium_falciparum_3D7 | version=2013-03-01 | length=1067971 | SO=chromosome\n",
            "Pf3D7_07_v3 | organism=Plasmodium_falciparum_3D7 | version=2013-03-01 | length=1445207 | SO=chromosome\n",
            "Pf3D7_13_v3 | organism=Plasmodium_falciparum_3D7 | version=2013-03-01 | length=2925236 | SO=chromosome\n",
            "Pf3D7_08_v3 | organism=Plasmodium_falciparum_3D7 | version=2013-03-01 | length=1472805 | SO=chromosome\n",
            "Pf3D7_01_v3 | organism=Plasmodium_falciparum_3D7 | version=2013-03-01 | length=640851 | SO=chromosome\n",
            "Pf3D7_10_v3 | organism=Plasmodium_falciparum_3D7 | version=2013-03-01 | length=1687656 | SO=chromosome\n",
            "Pf3D7_11_v3 | organism=Plasmodium_falciparum_3D7 | version=2013-03-01 | length=2038340 | SO=chromosome\n",
            "M76611 | organism=Plasmodium_falciparum_3D7 | version=2013-03-01 | length=5967 | SO=mitochondrial_chromosome\n",
            "PFC10_API_IRAB | organism=Plasmodium_falciparum_3D7 | version=2013-03-01 | length=34242 | SO=apicoplast_chromosome\n"
          ]
        }
      ]
    },
    {
      "cell_type": "markdown",
      "source": [
        "Let’s parse the description line to extract the chromosome number. We will retrieve the\n",
        "chromosome size from the sequence and compute the GC content across chromosomes on a\n",
        "window basis:"
      ],
      "metadata": {
        "id": "3zc7XwNxEDtk"
      }
    },
    {
      "cell_type": "code",
      "source": [
        "from Bio import SeqUtils\n",
        "recs = SeqIO.parse(genome_name, 'fasta')\n",
        "chrom_sizes = {}\n",
        "chrom_GC = {}\n",
        "block_size = 50000\n",
        "min_GC = 100.0\n",
        "max_GC = 0.0\n",
        "for rec in recs:\n",
        "    if rec.description.find('SO=chromosome') == -1:\n",
        "        continue\n",
        "    chrom = int(rec.description.split('_')[1])\n",
        "    chrom_GC[chrom] = []\n",
        "    size = len(rec.seq)\n",
        "    chrom_sizes[chrom] = size\n",
        "    num_blocks = size // block_size + 1\n",
        "    for block in range(num_blocks):\n",
        "        start = block_size * block\n",
        "        if block == num_blocks - 1:\n",
        "            end = size\n",
        "        else:\n",
        "            end = block_size + start + 1\n",
        "        block_seq = rec.seq[start:end]\n",
        "        block_GC = SeqUtils.GC(block_seq)\n",
        "        if block_GC < min_GC:\n",
        "            min_GC = block_GC\n",
        "        if block_GC > max_GC:\n",
        "            max_GC = block_GC\n",
        "        chrom_GC[chrom].append(block_GC)\n",
        "print(min_GC, max_GC)"
      ],
      "metadata": {
        "colab": {
          "base_uri": "https://localhost:8080/"
        },
        "id": "NKRytkRcEFk7",
        "outputId": "d32b278d-7044-49f0-ca04-e465301a89a7"
      },
      "execution_count": 4,
      "outputs": [
        {
          "output_type": "stream",
          "name": "stdout",
          "text": [
            "16.14167716645667 43.673469387755105\n"
          ]
        }
      ]
    },
    {
      "cell_type": "markdown",
      "source": [
        "Here, we have performed a windowed analysis of all chromosomes. We started by defining a window size of 50 kbp. This is\n",
        "appropriate for Plasmodium falciparum (feel free to vary its size), but you will want to consider\n",
        "other values for genomes with chromosomes that are orders of magnitude different from this.\n",
        "</br>\n",
        "Note that in the `for loop`, we ignore the mitochondrion and apicoplast by parsing the `SO` entry\n",
        "to the description. The `chrom_sizes` dictionary will maintain the size of chromosomes.\n",
        "</br>\n",
        "The `chrom_GC` dictionary is our most interesting data structure and will contain a list of a fraction of the GC content for each 50 kbp window. So, for chromosome 1, which has a size of 640,851 bp, there will be 14 entries because this chromosome’s size is 14 blocks of 50 kbp.\n",
        "</br>\n",
        "Be aware of two unusual features of the Plasmodium falciparum genome: the genome is very AT-rich – that is, GC-poor. Therefore, the numbers that you will get will be very low. Also,\n",
        "chromosomes are ordered based on size (as is common) but starting with the smallest size. The usual convention is to start with the largest size (such as with genomes in humans)."
      ],
      "metadata": {
        "id": "XGlysli4HDXw"
      }
    },
    {
      "cell_type": "markdown",
      "source": [
        "Now, let’s create a genome plot of the GC distribution. We will use shades of blue for the GC\n",
        "content. However, for high outliers, we will use shades of red. For low outliers, we will use\n",
        "shades of yellow:"
      ],
      "metadata": {
        "id": "x3zfak4zIwmj"
      }
    },
    {
      "cell_type": "code",
      "source": [
        "from IPython.core.display import Image\n",
        "from reportlab.lib import colors\n",
        "from reportlab.lib.units import cm\n",
        "from Bio.Graphics import BasicChromosome\n",
        "\n",
        "# The first line converts the return of the keys method into a list.\n",
        "chroms = list(chrom_sizes.keys())\n",
        "chroms.sort()\n",
        "\n",
        "# We need the size of the biggest chromosome (14, in Plasmodium falciparum) \n",
        "# to make sure that the size of chromosomes is printed with the correct scale\n",
        "biggest_chrom = max(chrom_sizes.values())\n",
        "\n",
        "my_genome = BasicChromosome.Organism(output_format=\"png\")\n",
        "\n",
        "my_genome.page_size = (29.7*cm, 21*cm) # check\n",
        "telomere_length = 10\n",
        "\n",
        "bottom_GC = 17.5\n",
        "top_GC = 22.0\n",
        "for chrom in chroms:\n",
        "    chrom_size = chrom_sizes[chrom]\n",
        "    chrom_representation = BasicChromosome.Chromosome('Cr %d' % chrom)\n",
        "    chrom_representation.scale_num = biggest_chrom\n",
        "\n",
        "    tel = BasicChromosome.TelomereSegment()\n",
        "    tel.scale = telomere_length\n",
        "    chrom_representation.add(tel)\n",
        "\n",
        "    num_blocks = len(chrom_GC[chrom])\n",
        "    for block, gc in enumerate(chrom_GC[chrom]):\n",
        "        my_GC = chrom_GC[chrom][block]\n",
        "        body = BasicChromosome.ChromosomeSegment()\n",
        "        if my_GC > top_GC:\n",
        "            body.fill_color = colors.Color(1, 0, 0)\n",
        "        elif my_GC < bottom_GC:\n",
        "            body.fill_color = colors.Color(1, 1, 0)\n",
        "        else:\n",
        "            my_color = (my_GC - bottom_GC) / (top_GC - bottom_GC)\n",
        "            body.fill_color = colors.Color(my_color, my_color, 1)\n",
        "        if block < num_blocks - 1:\n",
        "            body.scale = block_size\n",
        "        else:\n",
        "            body.scale = chrom_size % block_size\n",
        "        chrom_representation.add(body)\n",
        "\n",
        "    tel = BasicChromosome.TelomereSegment(inverted=True)\n",
        "    tel.scale = telomere_length\n",
        "    chrom_representation.add(tel)\n",
        "\n",
        "    my_genome.add(chrom_representation)\n",
        "\n",
        "my_genome.draw(\"falciparum.png\", \"Plasmodium falciparum\")\n",
        "Image(\"falciparum.png\")"
      ],
      "metadata": {
        "colab": {
          "base_uri": "https://localhost:8080/",
          "height": 612
        },
        "id": "8NBgEXCOI1Kn",
        "outputId": "66be31ee-2e0e-48cc-c3bd-042c3bed76c4"
      },
      "execution_count": 7,
      "outputs": [
        {
          "output_type": "execute_result",
          "data": {
            "image/png": "[encoded data removed]",
            "text/plain": [
              "<IPython.core.display.Image object>"
            ]
          },
          "metadata": {},
          "execution_count": 7
        }
      ]
    },
    {
      "cell_type": "markdown",
      "source": [
        "Note that we draw very small telomeres of 10 bp. This will produce a rectangular-like chromosome. You\n",
        "can make the telomeres bigger, giving them a roundish representation, or you may have the\n",
        "arguably better idea of using the correct telomere size for your species.\n",
        "</br>\n",
        "We declare that anything with a GC content below 17.5% or above 22.0% will be considered an\n",
        "outlier. Remember that for most other species, this will be much higher.\n",
        "</br>\n",
        "Then, we print these chromosomes: they are bounded by telomeres and composed of 50 kbp\n",
        "chromosome segments (the last segment is sized with the remainder). Each segment will be\n",
        "colored in blue, with a red-green component based on the linear normalization between two\n",
        "outlier values. Each chromosome segment will either be 50 kbp or potentially smaller if it’s the\n",
        "last one of the chromosome"
      ],
      "metadata": {
        "id": "RzNjnB-wLzmI"
      }
    }
  ]
}
