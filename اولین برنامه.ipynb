{
  "nbformat": 4,
  "nbformat_minor": 0,
  "metadata": {
    "kernelspec": {
      "display_name": "Python",
      "language": "python",
      "name": "conda-env-python-py"
    },
    "language_info": {
      "codemirror_mode": {
        "name": "ipython",
        "version": 3
      },
      "file_extension": ".py",
      "mimetype": "text/x-python",
      "name": "python",
      "nbconvert_exporter": "python",
      "pygments_lexer": "ipython3",
      "version": "3.6.7"
    },
    "colab": {
      "name": "انواع.اول.ipynb",
      "provenance": [],
      "collapsed_sections": [],
      "include_colab_link": true
    }
  },
  "cells": [
    {
      "cell_type": "markdown",
      "metadata": {
        "id": "view-in-github",
        "colab_type": "text"
      },
      "source": [
        "<a href=\"https://colab.research.google.com/github/nsrmhjl/ptDtSc/blob/main/%D8%A7%D9%88%D9%84%DB%8C%D9%86%20%D8%A8%D8%B1%D9%86%D8%A7%D9%85%D9%87.ipynb\" target=\"_parent\"><img src=\"https://colab.research.google.com/assets/colab-badge.svg\" alt=\"Open In Colab\"/></a>"
      ]
    },
    {
      "cell_type": "markdown",
      "metadata": {
        "id": "_2ACi-yQG4sj"
      },
      "source": [
        "<h2 align=center>سلام دنیا</h3>"
      ]
    },
    {
      "cell_type": "markdown",
      "metadata": {
        "id": "6jRIXvXhG4so"
      },
      "source": [
        "<p align=right>بیاید به دنیا با عبارت<p/>\n",
        "\n",
        "<code>PRINT</code>\n",
        "\n",
        "<p align=right>یعنی در واقع<p/>\n",
        "\n",
        "<code>print(\"Hello World\")</code>\n",
        "\n",
        "<p align=right>سلام کنیم. بیاید امتحان کنیم این عبارت را در سلول زیر قرار دهید<p/>\n",
        "<p align=right>فراموش نکنید که محتوی سلول را با <p/>\n",
        "\n",
        "<kbd>shift</kbd>+<kbd>enter</kbd>\n",
        "\n",
        "<p align=right>اجرا نمایید.ـ<p/>\n",
        "\n",
        "<p align=right>یا اینکه بر روی آیکون \n",
        "\n",
        "![image.png](data:image/png;base64,iVBORw0KGgoAAAANSUhEUgAAADUAAAAwCAYAAACxKzLDAAAC4UlEQVRoBd2ax67qMBCG82xsYQtbeBB4CB6CNWu2rGkCCSR6Eb33Ks3VH8lXUW6KnThwnYXl1PF8md/jOcdon8+H3u83PR4Put/vdL1eaTgcKt00BgQoAB2PR6WBEBDt9XrpUQLQ6XSizWajPtTz+dRldz6fabfb0Ww2Ux/KKLvlcqk8kC4/JAcWpel0Su12W3kw7Xa7/Z1L4/GYms1mOKCQ8VarlQ5Tr9fDAXU4HAjzqd/vU7VaVR8KqRxQi8WCer1eOKAul4sONZ/PqdvtUrlcVj9SoYXa7/fEIlUqlQKLVKFQoHw+T9lsVm84xjXZtaaGSKGSAFSn0yHZUMVikTKZDMViMYpEIpYN9/AMnpUBGBgU1js4agdidx3v+F0rA4HCF08kEsJADBTv+omadCg44yQ15rhbDxtewaRCQTZ+ImQGhS0vUpQKlU6nPUvODMTOYVM0eUiDglSYI3Z9MpmkaDTq+pz5fdGMLA2KJ0pYnwAPOLPjTuei0ZIGxRMBQEFKmCc8H4GBImmISFAKFKoC5oBTz6CYg7lcjluOIpWHFCiUO04w7J4ZCnC8csQY7GO49VKg4Cxz3Km3goKDPHK0e9cK8L+Bciupvg7lV36pVMo10l+Xn59EwVtSfT1RQNeiKd1Nbsa5CdtWc8fumpQ5BeM86w7mBbIdj9yMUD9bfHnKJMDwys0I9bMyiTdaRmd5jkWjBD+kyQ/GsN7E43HXTMYDg2dg6+d/egAMMuRJGm5gsAFbsCnapEaKDQ5n/EQM73oFgg+BQMEwT+ljFS3MIS+SYx80UCg2CL44HHWSJO7hGdEsx8Yw94FFyjwQzlEVoNzBeoWGY5FKwcqm1TUd6lv/obVyIIhr/0CFZoPAGKlQQWF/KjRbOdh0Q6TYplulUhFe7IKYF35sauadxFBBhWrPFz85YLvzg8GAarWa+vJjUOv1mkajETUaDfWh8IsX7CZut1uaTCbUarWUh/oDuUTUb+CmUjYAAAAASUVORK5CYII=)\n",
        "\n",
        "<p align=right>کلیک نمایید"
      ]
    },
    {
      "cell_type": "code",
      "metadata": {
        "id": "NHkBj88uG4sr"
      },
      "source": [
        ""
      ],
      "execution_count": null,
      "outputs": []
    },
    {
      "cell_type": "markdown",
      "metadata": {
        "id": "PnSEU7ISG4s6"
      },
      "source": [
        "<h2 align=center>سلام به دنیا در دو خط</h2> "
      ]
    },
    {
      "cell_type": "markdown",
      "metadata": {
        "id": "kNLq0snkG4s9"
      },
      "source": [
        "<p align=right>بیاید سلام و دنیا را در دو خط مجزا چاپ کنیم \n",
        "نکته اینجاست که \n",
        "\n",
        "\\n\n",
        "\n",
        "<p align=right>باعث می شود محتوی در دو خط جداگانه چاپ شود یعنی:ـ\n",
        "\n",
        "<code>print(\"خط اول\\nخط دوم\")</code>\n",
        "\n",
        "<p align=right>این مسله را در سلول پایینی امتحان کنید.ـ\n",
        "\n",
        "<p align=right>فراموش نکنید که محتوی سلول را با \n",
        "\n",
        "<kbd>shift</kbd>+<kbd>enter</kbd>\n",
        "\n",
        "<p align=right>اجرا نمایید.ـ"
      ]
    },
    {
      "cell_type": "code",
      "metadata": {
        "id": "1Xf2JYnTG4s_"
      },
      "source": [
        " "
      ],
      "execution_count": null,
      "outputs": []
    },
    {
      "cell_type": "markdown",
      "metadata": {
        "id": "L3VqO--WG4tM"
      },
      "source": [
        "<h3 align=center>یادداشت گذاشتن کلید نوشتن کد خوب است</h3> "
      ]
    },
    {
      "cell_type": "markdown",
      "metadata": {
        "id": "7Zh2Bvw9G4tP"
      },
      "source": [
        "<p align=right>در پایتون یادداشت ها به وسیله گذاشتن یک نشان هش ایجاد می شوند یعنی\n",
        "\n",
        "<code># this is a comment</code>"
      ]
    },
    {
      "cell_type": "code",
      "metadata": {
        "jupyter": {
          "outputs_hidden": false
        },
        "id": "cu095yaIG4tR"
      },
      "source": [
        ""
      ],
      "execution_count": null,
      "outputs": []
    }
  ]
}