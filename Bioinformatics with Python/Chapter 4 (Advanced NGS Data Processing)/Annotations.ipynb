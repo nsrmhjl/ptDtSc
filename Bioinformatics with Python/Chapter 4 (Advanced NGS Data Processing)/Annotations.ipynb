{
  "nbformat": 4,
  "nbformat_minor": 0,
  "metadata": {
    "colab": {
      "provenance": []
    },
    "kernelspec": {
      "name": "python3",
      "display_name": "Python 3"
    },
    "language_info": {
      "name": "python"
    }
  },
  "cells": [
    {
      "cell_type": "code",
      "execution_count": 1,
      "metadata": {
        "colab": {
          "base_uri": "https://localhost:8080/"
        },
        "id": "g2o4-GIcSi-2",
        "outputId": "d15f7db6-1aba-451a-9949-14bbd29b8f14"
      },
      "outputs": [
        {
          "output_type": "stream",
          "name": "stdout",
          "text": [
            "--2022-10-21 20:45:32--  https://vectorbase.org/common/downloads/release-55/AgambiaePEST/gff/data/VectorBase-55_AgambiaePEST.gff\n",
            "Resolving vectorbase.org (vectorbase.org)... 128.91.204.54\n",
            "Connecting to vectorbase.org (vectorbase.org)|128.91.204.54|:443... connected.\n",
            "HTTP request sent, awaiting response... 200 OK\n",
            "Length: 23512903 (22M) [application/x-gff]\n",
            "Saving to: ‘gambiae.gff’\n",
            "\n",
            "gambiae.gff         100%[===================>]  22.42M  30.6MB/s    in 0.7s    \n",
            "\n",
            "2022-10-21 20:45:33 (30.6 MB/s) - ‘gambiae.gff’ saved [23512903/23512903]\n",
            "\n"
          ]
        }
      ],
      "source": [
        "! wget https://vectorbase.org/common/downloads/release-55/AgambiaePEST/gff/data/VectorBase-55_AgambiaePEST.gff -O gambiae.gff"
      ]
    },
    {
      "cell_type": "code",
      "source": [
        "! gzip -9 gambiae.gff"
      ],
      "metadata": {
        "id": "F6LPuEDDS0Nn"
      },
      "execution_count": 2,
      "outputs": []
    },
    {
      "cell_type": "markdown",
      "source": [
        "Let’s start by creating an annotation database with gffutils, based on our GFF file:"
      ],
      "metadata": {
        "id": "XyyEJWXdS40u"
      }
    },
    {
      "cell_type": "code",
      "source": [
        "import gffutils\n",
        "import sqlite3\n",
        "\n",
        "# The gffutils library creates a SQLite database to store annotations efficiently. \n",
        "# Here, we will try to create the database, but if it already exists, we will use \n",
        "# the existing one. This step can be time-consuming.\n",
        "\n",
        "try:\n",
        "    db = gffutils.create_db('gambiae.gff.gz', 'ag.db')\n",
        "except sqlite3.OperationalError:\n",
        "    db = gffutils.FeatureDB('ag.db')"
      ],
      "metadata": {
        "id": "D_fbUNRRS8Pr"
      },
      "execution_count": 4,
      "outputs": []
    },
    {
      "cell_type": "markdown",
      "source": [
        "Now, let’s list all the available feature types and count them:"
      ],
      "metadata": {
        "id": "mA49uaIVTQqe"
      }
    },
    {
      "cell_type": "markdown",
      "source": [
        "These features will include contigs, genes, exons, transcripts, and so on. Note that we will use\n",
        "the gffutils package’s featuretypes function."
      ],
      "metadata": {
        "id": "5heCIrMyTcBg"
      }
    },
    {
      "cell_type": "code",
      "source": [
        "print(list(db.featuretypes()))\n",
        "for feat_type in db.featuretypes():\n",
        "    print(feat_type, db.count_features_of_type(feat_type))"
      ],
      "metadata": {
        "colab": {
          "base_uri": "https://localhost:8080/"
        },
        "id": "KnSVywOmS942",
        "outputId": "4bc8ea48-f403-4519-8c6a-3395a950a65c"
      },
      "execution_count": 5,
      "outputs": [
        {
          "output_type": "stream",
          "name": "stdout",
          "text": [
            "['CDS', 'RNase_MRP_RNA', 'RNase_P_RNA', 'SRP_RNA', 'exon', 'five_prime_UTR', 'lnc_RNA', 'mRNA', 'ncRNA', 'ncRNA_gene', 'pre_miRNA', 'protein_coding_gene', 'pseudogene', 'pseudogenic_transcript', 'rRNA', 'snRNA', 'snoRNA', 'tRNA', 'three_prime_UTR']\n",
            "CDS 67394\n",
            "RNase_MRP_RNA 1\n",
            "RNase_P_RNA 1\n",
            "SRP_RNA 3\n",
            "exon 61590\n",
            "five_prime_UTR 17472\n",
            "lnc_RNA 2\n",
            "mRNA 15125\n",
            "ncRNA 4\n",
            "ncRNA_gene 729\n",
            "pre_miRNA 77\n",
            "protein_coding_gene 13094\n",
            "pseudogene 9\n",
            "pseudogenic_transcript 9\n",
            "rRNA 242\n",
            "snRNA 35\n",
            "snoRNA 2\n",
            "tRNA 362\n",
            "three_prime_UTR 12236\n"
          ]
        }
      ]
    },
    {
      "cell_type": "markdown",
      "source": [
        "Let’s list all seqids:"
      ],
      "metadata": {
        "id": "ufxxGmOZTgqu"
      }
    },
    {
      "cell_type": "markdown",
      "source": [
        "This will show us that there is annotation information for all chromosome arms and sex\n",
        "chromosomes, mitochondrion, and the unknown chromosome."
      ],
      "metadata": {
        "id": "c4xaTs75ToXH"
      }
    },
    {
      "cell_type": "code",
      "source": [
        "seqids = set()\n",
        "for e in db.all_features():\n",
        "    seqids.add(e.seqid)\n",
        "for seqid in seqids:\n",
        "    print(seqid)"
      ],
      "metadata": {
        "colab": {
          "base_uri": "https://localhost:8080/"
        },
        "id": "UwbP_tDbTj7w",
        "outputId": "a3b43f59-fbe7-4cd4-ee21-4164b08cb3ff"
      },
      "execution_count": 6,
      "outputs": [
        {
          "output_type": "stream",
          "name": "stdout",
          "text": [
            "AgamP4_3R\n",
            "AgamP4_Mt\n",
            "AgamP4_2R\n",
            "AgamP4_2L\n",
            "AgamP4_Y_unplaced\n",
            "AgamP4_X\n",
            "AgamP4_3L\n",
            "AgamP4_UNKN\n"
          ]
        }
      ]
    },
    {
      "cell_type": "markdown",
      "source": [
        "Now, let’s extract a lot of useful information per chromosome, such as the number of genes, number of transcripts per gene, number of exons, and so on:"
      ],
      "metadata": {
        "id": "7v4f1MmCTrQE"
      }
    },
    {
      "cell_type": "markdown",
      "source": [
        "We will traverse all seqids while extracting all protein-coding genes (using region). In each\n",
        "gene, we count the number of alternative transcripts. If there are none (note that this is probably\n",
        "an annotation issue and not a biological one), we count the exons (children). If there are\n",
        "several transcripts, we count the exons per transcript. We also account for the span size to\n",
        "check for the gene that spans the largest region. "
      ],
      "metadata": {
        "id": "l1h_fiLeUGt2"
      }
    },
    {
      "cell_type": "markdown",
      "source": [
        "We follow a similar procedure to find the gene and the largest number of exons. Finally, we print a\n",
        "dictionary that contains the distribution of the number of alternative transcripts per gene (num_mRNAs)\n",
        "and the distribution of the number of exons per transcript (num_exons)."
      ],
      "metadata": {
        "id": "mPnlNeoTUNDQ"
      }
    },
    {
      "cell_type": "code",
      "source": [
        "from collections import defaultdict\n",
        "\n",
        "num_mRNAs = defaultdict(int)\n",
        "num_exons = defaultdict(int)\n",
        "max_exons = 0\n",
        "max_span = 0\n",
        "for seqid in seqids:\n",
        "    cnt = 0\n",
        "    for gene in db.region(seqid=seqid, featuretype='protein_coding_gene'):\n",
        "        cnt += 1\n",
        "        span = abs(gene.start - gene.end) # strand\n",
        "        if span > max_span:\n",
        "            max_span = span\n",
        "            max_span_gene = gene\n",
        "        my_mRNAs = list(db.children(gene, featuretype='mRNA'))\n",
        "        num_mRNAs[len(my_mRNAs)] += 1\n",
        "        if len(my_mRNAs) == 0:\n",
        "            exon_check = [gene]\n",
        "        else:\n",
        "            exon_check = my_mRNAs\n",
        "        for check in exon_check:\n",
        "            my_exons = list(db.children(check, featuretype='exon'))\n",
        "            num_exons[len(my_exons)] += 1\n",
        "            if len(my_exons) > max_exons:\n",
        "                max_exons = len(my_exons)\n",
        "                max_exons_gene = gene\n",
        "    print(f'seqid {seqid}, number of genes {cnt}')\n",
        "print('Max number of exons: %s (%d)' % (max_exons_gene.id, max_exons))\n",
        "print('Max span: %s (%d)' % (max_span_gene.id, max_span))\n",
        "print(num_mRNAs)\n",
        "print(num_exons)"
      ],
      "metadata": {
        "colab": {
          "base_uri": "https://localhost:8080/"
        },
        "id": "jSWNQSOzTt_k",
        "outputId": "b3f83b14-1378-4f04-ba27-35fb1d29fa2b"
      },
      "execution_count": 8,
      "outputs": [
        {
          "output_type": "stream",
          "name": "stdout",
          "text": [
            "seqid AgamP4_3R, number of genes 2692\n",
            "seqid AgamP4_Mt, number of genes 13\n",
            "seqid AgamP4_2R, number of genes 3670\n",
            "seqid AgamP4_2L, number of genes 2950\n",
            "seqid AgamP4_Y_unplaced, number of genes 2\n",
            "seqid AgamP4_X, number of genes 1073\n",
            "seqid AgamP4_3L, number of genes 2216\n",
            "seqid AgamP4_UNKN, number of genes 478\n",
            "Max number of exons: AGAP001660 (69)\n",
            "Max span: AGAP006656 (365621)\n",
            "defaultdict(<class 'int'>, {1: 11753, 3: 234, 2: 964, 7: 5, 9: 3, 4: 85, 8: 4, 6: 10, 13: 2, 5: 27, 11: 3, 20: 1, 10: 1, 12: 2})\n",
            "defaultdict(<class 'int'>, {1: 1207, 3: 2763, 9: 459, 4: 2059, 6: 1126, 7: 786, 2: 3159, 5: 1552, 13: 119, 11: 282, 8: 530, 18: 46, 17: 76, 15: 65, 10: 340, 12: 194, 21: 27, 24: 9, 16: 65, 14: 96, 19: 32, 20: 36, 28: 6, 22: 10, 23: 15, 30: 5, 27: 6, 37: 1, 25: 15, 26: 8, 29: 6, 32: 7, 35: 1, 33: 3, 45: 1, 38: 1, 46: 1, 69: 1, 31: 10})\n"
          ]
        }
      ]
    }
  ]
}
