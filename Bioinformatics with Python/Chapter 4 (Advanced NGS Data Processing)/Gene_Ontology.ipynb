{
  "nbformat": 4,
  "nbformat_minor": 0,
  "metadata": {
    "colab": {
      "provenance": []
    },
    "kernelspec": {
      "name": "python3",
      "display_name": "Python 3"
    },
    "language_info": {
      "name": "python"
    }
  },
  "cells": [
    {
      "cell_type": "code",
      "execution_count": 1,
      "metadata": {
        "id": "s0JKltHkbJPq"
      },
      "outputs": [],
      "source": [
        "import requests\n",
        " \n",
        "ensembl_server = 'http://rest.ensembl.org'\n",
        "\n",
        "def do_request(server, service, *args, **kwargs):\n",
        "    params = ''\n",
        "    for a in args:\n",
        "        if a is not None:\n",
        "            params += '/' + a\n",
        "    req = requests.get('%s/%s%s' % (server, service, params),\n",
        "                       params=kwargs,\n",
        "                       headers={'Content-Type': 'application/json'})\n",
        " \n",
        "    if not req.ok:\n",
        "        req.raise_for_status()\n",
        "    return req.json()"
      ]
    },
    {
      "cell_type": "markdown",
      "source": [
        "Let’s start by retrieving all GO terms associated with the LCT gene (you learned how to retrieve\n",
        "the Ensembl ID in the previous recipe). "
      ],
      "metadata": {
        "id": "Hz2VHoWFbSG5"
      }
    },
    {
      "cell_type": "code",
      "source": [
        "lct_id = 'ENSG00000115850'\n",
        "\n",
        "refs = do_request(ensembl_server, 'xrefs/id', lct_id, external_db='GO', all_levels='1')\n",
        "print(len(refs))\n",
        "print(refs[0].keys())\n",
        "for ref in refs:\n",
        "    go_id = ref['primary_id']\n",
        "    details = do_request(ensembl_server, 'ontology/id', go_id)\n",
        "    print('%s %s %s' % (go_id,  details['namespace'], ref['description']))\n",
        "    print('%s\\n' % details['definition'])"
      ],
      "metadata": {
        "colab": {
          "base_uri": "https://localhost:8080/"
        },
        "id": "gPrv8DqNbX0K",
        "outputId": "4682feb4-8109-440c-84d6-83858b6169fa"
      },
      "execution_count": 2,
      "outputs": [
        {
          "output_type": "stream",
          "name": "stdout",
          "text": [
            "36\n",
            "dict_keys(['linkage_types', 'info_text', 'db_display_name', 'synonyms', 'primary_id', 'dbname', 'info_type', 'display_id', 'version', 'description'])\n",
            "GO:0000016 molecular_function lactase activity\n",
            "Catalysis of the reaction: lactose + H2O = D-glucose + D-galactose.\n",
            "\n",
            "GO:0000016 molecular_function lactase activity\n",
            "Catalysis of the reaction: lactose + H2O = D-glucose + D-galactose.\n",
            "\n",
            "GO:0000016 molecular_function lactase activity\n",
            "Catalysis of the reaction: lactose + H2O = D-glucose + D-galactose.\n",
            "\n",
            "GO:0003824 molecular_function catalytic activity\n",
            "Catalysis of a biochemical reaction at physiological temperatures. In biologically catalyzed reactions, the reactants are known as substrates, and the catalysts are naturally occurring macromolecular substances known as enzymes. Enzymes possess specific binding sites for substrates, and are usually composed wholly or largely of protein, but RNA that has catalytic activity (ribozyme) is often also regarded as enzymatic.\n",
            "\n",
            "GO:0004336 molecular_function galactosylceramidase activity\n",
            "Catalysis of the reaction: D-galactosyl-N-acylsphingosine + H2O = D-galactose + N-acylsphingosine.\n",
            "\n",
            "GO:0004348 molecular_function glucosylceramidase activity\n",
            "Catalysis of the reaction: D-glucosyl-N-acylsphingosine + H2O = D-glucose + N-acylsphingosine.\n",
            "\n",
            "GO:0004553 molecular_function hydrolase activity, hydrolyzing O-glycosyl compounds\n",
            "Catalysis of the hydrolysis of any O-glycosyl bond.\n",
            "\n",
            "GO:0004553 molecular_function hydrolase activity, hydrolyzing O-glycosyl compounds\n",
            "Catalysis of the hydrolysis of any O-glycosyl bond.\n",
            "\n",
            "GO:0004553 molecular_function hydrolase activity, hydrolyzing O-glycosyl compounds\n",
            "Catalysis of the hydrolysis of any O-glycosyl bond.\n",
            "\n",
            "GO:0005886 cellular_component plasma membrane\n",
            "The membrane surrounding a cell that separates the cell from its external environment. It consists of a phospholipid bilayer and associated proteins.\n",
            "\n",
            "GO:0005886 cellular_component plasma membrane\n",
            "The membrane surrounding a cell that separates the cell from its external environment. It consists of a phospholipid bilayer and associated proteins.\n",
            "\n",
            "GO:0005887 cellular_component integral component of plasma membrane\n",
            "The component of the plasma membrane consisting of the gene products and protein complexes having at least some part of their peptide sequence embedded in the hydrophobic region of the membrane.\n",
            "\n",
            "GO:0005975 biological_process carbohydrate metabolic process\n",
            "The chemical reactions and pathways involving carbohydrates, any of a group of organic compounds based of the general formula Cx(H2O)y.\n",
            "\n",
            "GO:0005975 biological_process carbohydrate metabolic process\n",
            "The chemical reactions and pathways involving carbohydrates, any of a group of organic compounds based of the general formula Cx(H2O)y.\n",
            "\n",
            "GO:0005990 biological_process lactose catabolic process\n",
            "The chemical reactions and pathways resulting in the breakdown of lactose, the disaccharide galactopyranosyl-glucose.\n",
            "\n",
            "GO:0008152 biological_process metabolic process\n",
            "The chemical reactions and pathways, including anabolism and catabolism, by which living organisms transform chemical substances. Metabolic processes typically transform small molecules, but also include macromolecular processes such as DNA repair and replication, and protein synthesis and degradation.\n",
            "\n",
            "GO:0008422 molecular_function beta-glucosidase activity\n",
            "Catalysis of the hydrolysis of terminal, non-reducing beta-D-glucose residues with release of beta-D-glucose.\n",
            "\n",
            "GO:0016020 cellular_component membrane\n",
            "A lipid bilayer along with all the proteins and protein complexes embedded in it an attached to it.\n",
            "\n",
            "GO:0016021 cellular_component integral component of membrane\n",
            "The component of a membrane consisting of the gene products and protein complexes having at least some part of their peptide sequence embedded in the hydrophobic region of the membrane.\n",
            "\n",
            "GO:0016324 cellular_component apical plasma membrane\n",
            "The region of the plasma membrane located at the apical end of the cell.\n",
            "\n",
            "GO:0016787 molecular_function hydrolase activity\n",
            "Catalysis of the hydrolysis of various bonds, e.g. C-O, C-N, C-C, phosphoric anhydride bonds, etc. Hydrolase is the systematic name for any enzyme of EC class 3.\n",
            "\n",
            "GO:0016798 molecular_function hydrolase activity, acting on glycosyl bonds\n",
            "Catalysis of the hydrolysis of any glycosyl bond.\n",
            "\n",
            "GO:0017042 molecular_function glycosylceramidase activity\n",
            "Catalysis of the reaction: glycosyl-N-acylsphingosine + H2O = a sugar + N-acylsphingosine.\n",
            "\n",
            "GO:0042803 molecular_function protein homodimerization activity\n",
            "Binding to an identical protein to form a homodimer.\n",
            "\n",
            "GO:0046477 biological_process glycosylceramide catabolic process\n",
            "The chemical reactions and pathways resulting in the breakdown of glycosylceramides, any compound formed by the replacement of the glycosidic hydroxyl group of a cyclic form of a monosaccharide (or derivative) by a ceramide group.\n",
            "\n",
            "GO:0080079 molecular_function cellobiose glucosidase activity\n",
            "Catalysis of the reaction: D-cellobiose + H2O = 2 D-glucose.\n",
            "\n",
            "GO:0098591 cellular_component external side of apical plasma membrane\n",
            "The leaflet the apical region of the plasma membrane that faces away from the cytoplasm and any proteins embedded or anchored in it or attached to its surface.\n",
            "\n",
            "GO:0140749 molecular_function phlorizin hydrolase activity\n",
            "Catalysis of the reaction: phlorizin + H2O = beta-D-glucose + phloretin.\n",
            "\n",
            "GO:1901733 biological_process quercetin catabolic process\n",
            "The chemical reactions and pathways resulting in the breakdown of quercetin.\n",
            "\n",
            "GO:2000892 biological_process cellobiose catabolic process\n",
            "The chemical reactions and pathways resulting in the breakdown of a cellobiose.\n",
            "\n",
            "GO:0004553 molecular_function hydrolase activity, hydrolyzing O-glycosyl compounds\n",
            "Catalysis of the hydrolysis of any O-glycosyl bond.\n",
            "\n",
            "GO:0004553 molecular_function hydrolase activity, hydrolyzing O-glycosyl compounds\n",
            "Catalysis of the hydrolysis of any O-glycosyl bond.\n",
            "\n",
            "GO:0005975 biological_process carbohydrate metabolic process\n",
            "The chemical reactions and pathways involving carbohydrates, any of a group of organic compounds based of the general formula Cx(H2O)y.\n",
            "\n",
            "GO:0008152 biological_process metabolic process\n",
            "The chemical reactions and pathways, including anabolism and catabolism, by which living organisms transform chemical substances. Metabolic processes typically transform small molecules, but also include macromolecular processes such as DNA repair and replication, and protein synthesis and degradation.\n",
            "\n",
            "GO:0016787 molecular_function hydrolase activity\n",
            "Catalysis of the hydrolysis of various bonds, e.g. C-O, C-N, C-C, phosphoric anhydride bonds, etc. Hydrolase is the systematic name for any enzyme of EC class 3.\n",
            "\n",
            "GO:0016798 molecular_function hydrolase activity, acting on glycosyl bonds\n",
            "Catalysis of the hydrolysis of any glycosyl bond.\n",
            "\n"
          ]
        }
      ]
    },
    {
      "cell_type": "markdown",
      "source": [
        "Let’s concentrate on the lactase activity molecular function and retrieve more detailed\n",
        "information about it (the following `go_id `comes from the previous step):"
      ],
      "metadata": {
        "id": "1oW1KCIPbnKM"
      }
    },
    {
      "cell_type": "markdown",
      "source": [
        "We print the lactase activity record (which is currently a node of the GO tree molecular function) and retrieve a list of potential parents. There is a single parent for this record. We retrieve it and print the number of children."
      ],
      "metadata": {
        "id": "GGfGWOICb44B"
      }
    },
    {
      "cell_type": "code",
      "source": [
        "go_id = 'GO:0000016'\n",
        "my_data = do_request(ensembl_server, 'ontology/id', go_id)\n",
        "for k, v in my_data.items():\n",
        "    if k == 'parents':\n",
        "        for parent in v:\n",
        "            print(parent)\n",
        "            parent_id = parent['accession']\n",
        "    else:\n",
        "        print('%s: %s' % (k, str(v)))\n",
        "print()\n",
        "parent_data = do_request(ensembl_server, 'ontology/id', parent_id)\n",
        "print(parent_id, len(parent_data['children']))"
      ],
      "metadata": {
        "colab": {
          "base_uri": "https://localhost:8080/"
        },
        "id": "VBy6Ireebfcv",
        "outputId": "2db2aaee-c662-43d5-c16b-8dc05b03efce"
      },
      "execution_count": 3,
      "outputs": [
        {
          "output_type": "stream",
          "name": "stdout",
          "text": [
            "namespace: molecular_function\n",
            "ontology: GO\n",
            "subsets: []\n",
            "{'accession': 'GO:0004553', 'namespace': 'molecular_function', 'ontology': 'GO', 'subsets': [], 'synonyms': [], 'name': 'hydrolase activity, hydrolyzing O-glycosyl compounds', 'definition': 'Catalysis of the hydrolysis of any O-glycosyl bond.'}\n",
            "synonyms: []\n",
            "children: []\n",
            "accession: GO:0000016\n",
            "definition: Catalysis of the reaction: lactose + H2O = D-glucose + D-galactose.\n",
            "name: lactase activity\n",
            "\n",
            "GO:0004553 127\n"
          ]
        }
      ]
    },
    {
      "cell_type": "markdown",
      "source": [
        "Let’s retrieve all the general terms for the lactase activity molecular function (again, the parent and all other ancestors):"
      ],
      "metadata": {
        "id": "rL9mTWjtb9RU"
      }
    },
    {
      "cell_type": "markdown",
      "source": [
        "We retrieve the ancestor list by following the `is_a` relationship (refer to the GO sites in the See also section for more details on the types of possible relationships)."
      ],
      "metadata": {
        "id": "6Yj5hMCgcKch"
      }
    },
    {
      "cell_type": "code",
      "source": [
        "refs = do_request(ensembl_server, 'ontology/ancestors/chart', go_id)\n",
        "for go, entry in refs.items():\n",
        "    print(go)\n",
        "    term = entry['term']\n",
        "    print('%s %s' % (term['name'], term['definition']))\n",
        "    is_a = entry.get('is_a', [])\n",
        "    print('\\t is a: %s\\n' % ', '.join([x['accession'] for x in is_a]))"
      ],
      "metadata": {
        "colab": {
          "base_uri": "https://localhost:8080/"
        },
        "id": "xilvT2occCY6",
        "outputId": "58ba3ba3-7fba-49df-d61b-7e20e93254b5"
      },
      "execution_count": 4,
      "outputs": [
        {
          "output_type": "stream",
          "name": "stdout",
          "text": [
            "GO:0004553\n",
            "hydrolase activity, hydrolyzing O-glycosyl compounds Catalysis of the hydrolysis of any O-glycosyl bond.\n",
            "\t is a: GO:0016798\n",
            "\n",
            "GO:0016798\n",
            "hydrolase activity, acting on glycosyl bonds Catalysis of the hydrolysis of any glycosyl bond.\n",
            "\t is a: GO:0016787\n",
            "\n",
            "GO:0000016\n",
            "lactase activity Catalysis of the reaction: lactose + H2O = D-glucose + D-galactose.\n",
            "\t is a: GO:0004553\n",
            "\n",
            "GO:0003674\n",
            "molecular_function A molecular process that can be carried out by the action of a single macromolecular machine, usually via direct physical interactions with other molecular entities. Function in this sense denotes an action, or activity, that a gene product (or a complex) performs. These actions are described from two distinct but related perspectives: (1) biochemical activity, and (2) role as a component in a larger system/process.\n",
            "\t is a: \n",
            "\n",
            "GO:0016787\n",
            "hydrolase activity Catalysis of the hydrolysis of various bonds, e.g. C-O, C-N, C-C, phosphoric anhydride bonds, etc. Hydrolase is the systematic name for any enzyme of EC class 3.\n",
            "\t is a: GO:0003824\n",
            "\n",
            "GO:0003824\n",
            "catalytic activity Catalysis of a biochemical reaction at physiological temperatures. In biologically catalyzed reactions, the reactants are known as substrates, and the catalysts are naturally occurring macromolecular substances known as enzymes. Enzymes possess specific binding sites for substrates, and are usually composed wholly or largely of protein, but RNA that has catalytic activity (ribozyme) is often also regarded as enzymatic.\n",
            "\t is a: GO:0003674\n",
            "\n"
          ]
        }
      ]
    },
    {
      "cell_type": "markdown",
      "source": [
        "Let’s define a function that will create a dictionary with the ancestor relationship for a term, along with some summary information for each term returned in a pair:"
      ],
      "metadata": {
        "id": "TpeEQYPLcQBF"
      }
    },
    {
      "cell_type": "code",
      "source": [
        "def get_upper(go_id):\n",
        "    parents = {}\n",
        "    node_data = {}\n",
        "    refs = do_request(ensembl_server, 'ontology/ancestors/chart', go_id)\n",
        "    for ref, entry in refs.items():\n",
        "        my_data = do_request(ensembl_server, 'ontology/id', ref)\n",
        "        node_data[ref] = {'name': entry['term']['name'], 'children': my_data['children']}\n",
        "        try:\n",
        "            parents[ref] = [x['accession'] for x in entry['is_a']]\n",
        "        except KeyError:\n",
        "            pass  # Top of hierarchy\n",
        "    return parents, node_data"
      ],
      "metadata": {
        "id": "fdGuPSqScV6h"
      },
      "execution_count": 16,
      "outputs": []
    },
    {
      "cell_type": "markdown",
      "source": [
        "Finally, we will print a tree of relationships for the lactase activity term. For this, we\n",
        "will use the `pygraphivz` library:"
      ],
      "metadata": {
        "id": "JjqA_p6ucZMC"
      }
    },
    {
      "cell_type": "code",
      "source": [
        "! apt-get install python3-dev graphviz libgraphviz-dev pkg-config"
      ],
      "metadata": {
        "colab": {
          "base_uri": "https://localhost:8080/"
        },
        "id": "eiWsQ8V0dKlk",
        "outputId": "bb46a8d1-ba10-46e4-a41d-5e3da76d87ca"
      },
      "execution_count": 10,
      "outputs": [
        {
          "output_type": "stream",
          "name": "stdout",
          "text": [
            "Reading package lists... Done\n",
            "Building dependency tree       \n",
            "Reading state information... Done\n",
            "pkg-config is already the newest version (0.29.1-0ubuntu2).\n",
            "graphviz is already the newest version (2.40.1-2).\n",
            "python3-dev is already the newest version (3.6.7-1~18.04).\n",
            "python3-dev set to manually installed.\n",
            "The following package was automatically installed and is no longer required:\n",
            "  libnvidia-common-460\n",
            "Use 'apt autoremove' to remove it.\n",
            "The following additional packages will be installed:\n",
            "  libgail-common libgail18 libgtk2.0-0 libgtk2.0-bin libgtk2.0-common\n",
            "  libgvc6-plugins-gtk libxdot4\n",
            "Suggested packages:\n",
            "  gvfs\n",
            "The following NEW packages will be installed:\n",
            "  libgail-common libgail18 libgraphviz-dev libgtk2.0-0 libgtk2.0-bin\n",
            "  libgtk2.0-common libgvc6-plugins-gtk libxdot4\n",
            "0 upgraded, 8 newly installed, 0 to remove and 27 not upgraded.\n",
            "Need to get 2,120 kB of archives.\n",
            "After this operation, 7,128 kB of additional disk space will be used.\n",
            "Get:1 http://archive.ubuntu.com/ubuntu bionic/main amd64 libgtk2.0-common all 2.24.32-1ubuntu1 [125 kB]\n",
            "Get:2 http://archive.ubuntu.com/ubuntu bionic/main amd64 libgtk2.0-0 amd64 2.24.32-1ubuntu1 [1,769 kB]\n",
            "Get:3 http://archive.ubuntu.com/ubuntu bionic/main amd64 libgail18 amd64 2.24.32-1ubuntu1 [14.2 kB]\n",
            "Get:4 http://archive.ubuntu.com/ubuntu bionic/main amd64 libgail-common amd64 2.24.32-1ubuntu1 [112 kB]\n",
            "Get:5 http://archive.ubuntu.com/ubuntu bionic/universe amd64 libxdot4 amd64 2.40.1-2 [15.7 kB]\n",
            "Get:6 http://archive.ubuntu.com/ubuntu bionic/universe amd64 libgvc6-plugins-gtk amd64 2.40.1-2 [18.2 kB]\n",
            "Get:7 http://archive.ubuntu.com/ubuntu bionic/universe amd64 libgraphviz-dev amd64 2.40.1-2 [57.3 kB]\n",
            "Get:8 http://archive.ubuntu.com/ubuntu bionic/main amd64 libgtk2.0-bin amd64 2.24.32-1ubuntu1 [7,536 B]\n",
            "Fetched 2,120 kB in 2s (1,098 kB/s)\n",
            "Selecting previously unselected package libgtk2.0-common.\n",
            "(Reading database ... 123942 files and directories currently installed.)\n",
            "Preparing to unpack .../0-libgtk2.0-common_2.24.32-1ubuntu1_all.deb ...\n",
            "Unpacking libgtk2.0-common (2.24.32-1ubuntu1) ...\n",
            "Selecting previously unselected package libgtk2.0-0:amd64.\n",
            "Preparing to unpack .../1-libgtk2.0-0_2.24.32-1ubuntu1_amd64.deb ...\n",
            "Unpacking libgtk2.0-0:amd64 (2.24.32-1ubuntu1) ...\n",
            "Selecting previously unselected package libgail18:amd64.\n",
            "Preparing to unpack .../2-libgail18_2.24.32-1ubuntu1_amd64.deb ...\n",
            "Unpacking libgail18:amd64 (2.24.32-1ubuntu1) ...\n",
            "Selecting previously unselected package libgail-common:amd64.\n",
            "Preparing to unpack .../3-libgail-common_2.24.32-1ubuntu1_amd64.deb ...\n",
            "Unpacking libgail-common:amd64 (2.24.32-1ubuntu1) ...\n",
            "Selecting previously unselected package libxdot4.\n",
            "Preparing to unpack .../4-libxdot4_2.40.1-2_amd64.deb ...\n",
            "Unpacking libxdot4 (2.40.1-2) ...\n",
            "Selecting previously unselected package libgvc6-plugins-gtk.\n",
            "Preparing to unpack .../5-libgvc6-plugins-gtk_2.40.1-2_amd64.deb ...\n",
            "Unpacking libgvc6-plugins-gtk (2.40.1-2) ...\n",
            "Selecting previously unselected package libgraphviz-dev.\n",
            "Preparing to unpack .../6-libgraphviz-dev_2.40.1-2_amd64.deb ...\n",
            "Unpacking libgraphviz-dev (2.40.1-2) ...\n",
            "Selecting previously unselected package libgtk2.0-bin.\n",
            "Preparing to unpack .../7-libgtk2.0-bin_2.24.32-1ubuntu1_amd64.deb ...\n",
            "Unpacking libgtk2.0-bin (2.24.32-1ubuntu1) ...\n",
            "Setting up libgtk2.0-common (2.24.32-1ubuntu1) ...\n",
            "Setting up libxdot4 (2.40.1-2) ...\n",
            "Setting up libgtk2.0-0:amd64 (2.24.32-1ubuntu1) ...\n",
            "Setting up libgail18:amd64 (2.24.32-1ubuntu1) ...\n",
            "Setting up libgail-common:amd64 (2.24.32-1ubuntu1) ...\n",
            "Setting up libgvc6-plugins-gtk (2.40.1-2) ...\n",
            "Setting up libgraphviz-dev (2.40.1-2) ...\n",
            "Setting up libgtk2.0-bin (2.24.32-1ubuntu1) ...\n",
            "Processing triggers for man-db (2.8.3-2ubuntu0.1) ...\n",
            "Processing triggers for libc-bin (2.27-3ubuntu1.6) ...\n"
          ]
        }
      ]
    },
    {
      "cell_type": "code",
      "source": [
        "pip install pygraphviz"
      ],
      "metadata": {
        "colab": {
          "base_uri": "https://localhost:8080/"
        },
        "id": "MGRsIyZrdR5F",
        "outputId": "a1992fbc-3787-4d5b-b280-7b5998449b39"
      },
      "execution_count": 11,
      "outputs": [
        {
          "output_type": "stream",
          "name": "stdout",
          "text": [
            "Looking in indexes: https://pypi.org/simple, https://us-python.pkg.dev/colab-wheels/public/simple/\n",
            "Collecting pygraphviz\n",
            "  Using cached pygraphviz-1.7.zip (118 kB)\n",
            "Building wheels for collected packages: pygraphviz\n",
            "  Building wheel for pygraphviz (setup.py) ... \u001b[?25l\u001b[?25hdone\n",
            "  Created wheel for pygraphviz: filename=pygraphviz-1.7-cp37-cp37m-linux_x86_64.whl size=165741 sha256=abc14d2bb49adfe3cdb663cbe0167aec8b8ecbd3a2cab355d737a2bcd6cd9419\n",
            "  Stored in directory: /root/.cache/pip/wheels/8c/bc/0c/ac35392b72556e75107ff610cb31b313e8471918a6d280e34c\n",
            "Successfully built pygraphviz\n",
            "Installing collected packages: pygraphviz\n",
            "Successfully installed pygraphviz-1.7\n"
          ]
        }
      ]
    },
    {
      "cell_type": "code",
      "source": [
        "import pygraphviz as pgv\n",
        "from IPython.core.display import Image\n",
        "\n",
        "\n",
        "parents, node_data = get_upper(go_id)\n",
        "\n",
        "g = pgv.AGraph(directed=True)\n",
        "for ofs, ofs_parents in parents.items():\n",
        "    ofs_text = '%s\\n(%s)' % (node_data[ofs]['name'].replace(', ', '\\n'), ofs)\n",
        "    for parent in ofs_parents:\n",
        "        parent_text = '%s\\n(%s)' % (node_data[parent]['name'].replace(', ', '\\n'), parent)\n",
        "        children = node_data[parent]['children']\n",
        "        if len(children) < 3:\n",
        "            for child in children:\n",
        "                if child['accession'] in node_data:\n",
        "                    continue\n",
        "                g.add_edge(parent_text, child['accession'])\n",
        "        else:\n",
        "            g.add_edge(parent_text, '...%d...' % (len(children) - 1))\n",
        "        g.add_edge(parent_text, ofs_text)\n",
        "print(g)\n",
        "g.graph_attr['label']='Ontology tree for Lactase activity'\n",
        "g.node_attr['shape']='rectangle'\n",
        "g.layout(prog='dot')\n",
        "g.draw('graph.png')\n",
        "Image(\"graph.png\")"
      ],
      "metadata": {
        "colab": {
          "base_uri": "https://localhost:8080/",
          "height": 1000
        },
        "id": "r_EFmXfOceEA",
        "outputId": "fb2a8365-1264-4835-8190-af1ed610d588"
      },
      "execution_count": 17,
      "outputs": [
        {
          "output_type": "stream",
          "name": "stdout",
          "text": [
            "strict digraph \"\" {\n",
            "\t\"molecular_function\n",
            "(GO:0003674)\" -> \"...28...\";\n",
            "\t\"molecular_function\n",
            "(GO:0003674)\" -> \"catalytic activity\n",
            "(GO:0003824)\";\n",
            "\t\"catalytic activity\n",
            "(GO:0003824)\" -> \"hydrolase activity\n",
            "(GO:0016787)\";\n",
            "\t\"catalytic activity\n",
            "(GO:0003824)\" -> \"...21...\";\n",
            "\t\"hydrolase activity\n",
            "hydrolyzing O-glycosyl compounds\n",
            "(GO:0004553)\" -> \"...126...\";\n",
            "\t\"hydrolase activity\n",
            "hydrolyzing O-glycosyl compounds\n",
            "(GO:0004553)\" -> \"lactase activity\n",
            "(GO:0000016)\";\n",
            "\t\"hydrolase activity\n",
            "(GO:0016787)\" -> \"...24...\";\n",
            "\t\"hydrolase activity\n",
            "(GO:0016787)\" -> \"hydrolase activity\n",
            "acting on glycosyl bonds\n",
            "(GO:0016798)\";\n",
            "\t\"hydrolase activity\n",
            "acting on glycosyl bonds\n",
            "(GO:0016798)\" -> \"hydrolase activity\n",
            "hydrolyzing O-glycosyl compounds\n",
            "(GO:0004553)\";\n",
            "\t\"hydrolase activity\n",
            "acting on glycosyl bonds\n",
            "(GO:0016798)\" -> \"...2...\";\n",
            "}\n",
            "\n"
          ]
        },
        {
          "output_type": "execute_result",
          "data": {
            "image/png": "[encoded data removed]",
            "text/plain": [
              "<IPython.core.display.Image object>"
            ]
          },
          "metadata": {},
          "execution_count": 17
        }
      ]
    }
  ]
}
