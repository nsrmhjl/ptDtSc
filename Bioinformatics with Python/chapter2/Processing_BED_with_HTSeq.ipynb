{
  "nbformat": 4,
  "nbformat_minor": 0,
  "metadata": {
    "colab": {
      "provenance": []
    },
    "kernelspec": {
      "name": "python3",
      "display_name": "Python 3"
    },
    "language_info": {
      "name": "python"
    }
  },
  "cells": [
    {
      "cell_type": "code",
      "execution_count": null,
      "metadata": {
        "id": "WrcUKJ67M1AE"
      },
      "outputs": [],
      "source": []
    },
    {
      "cell_type": "markdown",
      "source": [
        "HTSeq (https://htseq.readthedocs.io) is an alternative library that’s used for processing NGS data. Most of the functionality made available by HTSeq is actually available in other libraries covered in this book.\n",
        "</br>\n",
        "HTSeq supports, among others, FASTA, FASTQ, SAM (via pysam), VCF, **General** **Feature Format(GFF)**, and **Browser Extensible Data (BED)** file formats. It also includes a set of abstractions for\n",
        "processing (mapped) genomic data, encompassing concepts such as genomic positions and intervals\n",
        "or alignments."
      ],
      "metadata": {
        "id": "wQDO_N-YUANp"
      }
    },
    {
      "cell_type": "markdown",
      "source": [
        " A complete examination of the features of this library is beyond our scope, so we will\n",
        "concentrate on a small subset of features. We will take this opportunity to also introduce the BED\n",
        "file format."
      ],
      "metadata": {
        "id": "lUZnr-8YUTc5"
      }
    },
    {
      "cell_type": "markdown",
      "source": [
        "The BED format allows for the specification of features for annotations’ tracks. It has many uses,\n",
        "but it’s common to load BED files into genome browsers to visualize features. Each line includes\n",
        "information about at least the position (chromosome, start, and end) and also optional fields such as\n",
        "name or strand. Full details about the format can be found at https://genome.ucsc.edu/FAQ/FAQformat.html#format1."
      ],
      "metadata": {
        "id": "4N12Z0WNUlN2"
      }
    },
    {
      "cell_type": "markdown",
      "source": [
        "Our simple example will use data from the region where the LCT gene is located in the human genome.\n",
        "The LCT gene codifies lactase, an enzyme involved in the digestion of lactose.\n",
        "We will take this information from Ensembl. Go to http://uswest.ensembl.org/Homo_sapiens/Gene/Summary?db=core;g=ENSG00000115850 and choose Export\n",
        "data. The Output format should be BED Format. Gene information should be selected (you can\n",
        "choose more if you want). \n",
        "Take a look at the file before we start. An example of a few lines of this file is provided here:"
      ],
      "metadata": {
        "id": "ZkivI41tUu3Y"
      }
    },
    {
      "cell_type": "code",
      "source": [
        "# Load the Drive helper and mount\n",
        "from google.colab import drive\n",
        "drive.mount('/content/drive/')"
      ],
      "metadata": {
        "colab": {
          "base_uri": "https://localhost:8080/"
        },
        "id": "8XlBwmb-VLMl",
        "outputId": "38f9bd9e-ef38-4e56-d765-387ec9131f1d"
      },
      "execution_count": 36,
      "outputs": [
        {
          "output_type": "stream",
          "name": "stdout",
          "text": [
            "Drive already mounted at /content/drive/; to attempt to forcibly remount, call drive.mount(\"/content/drive/\", force_remount=True).\n",
            " drive\t sample_data  'view?usp=sharing'\n"
          ]
        }
      ]
    },
    {
      "cell_type": "code",
      "source": [
        "!cd 'drive/Colab Notebooks'\n",
        "! head LCT.bed"
      ],
      "metadata": {
        "colab": {
          "base_uri": "https://localhost:8080/"
        },
        "id": "sr8D72vObPwE",
        "outputId": "91573c95-e28f-4e78-99b5-8f14c1601145"
      },
      "execution_count": 41,
      "outputs": [
        {
          "output_type": "stream",
          "name": "stdout",
          "text": [
            "/bin/bash: line 0: cd: drive/Colab Notebooks: No such file or directory\n",
            "track name=gene description=\"Gene information\"\n",
            "2\t135836529\t135837180\tENSE00002202258\t0\t-\n",
            "2\t135833110\t135833190\tENSE00001660765\t0\t-\n",
            "2\t135829592\t135829676\tENSE00001731451\t0\t-\n",
            "2\t135823900\t135824003\tENSE00001659892\t0\t-\n",
            "2\t135822019\t135822098\tENSE00001777620\t0\t-\n",
            "2\t135817340\t135818061\tENSE00001602826\t0\t-\n",
            "2\t135812310\t135812956\tENSE00000776576\t0\t-\n",
            "2\t135808442\t135809993\tENSE00001008768\t0\t-\n",
            "2\t135807127\t135807396\tENSE00000776573\t0\t-\n"
          ]
        }
      ]
    },
    {
      "cell_type": "markdown",
      "source": [
        "The fourth column is the feature name. This will vary widely from file to file, and you will have to check it each and every time. However, in our case, it seems apparent that we have Ensembl exons (ENSE...), GenBank records (NM_...), and coding region information (CCDS) from the Consensus Coding Sequence (CCDS) database (https://www.ncbi.nlm.nih.gov/CCDS/CcdsBrowse.cgi)."
      ],
      "metadata": {
        "id": "YgSk2mrqbxe2"
      }
    },
    {
      "cell_type": "markdown",
      "source": [
        "**Take a look at the following steps:**"
      ],
      "metadata": {
        "id": "9r7vkGo1b8ow"
      }
    },
    {
      "cell_type": "markdown",
      "source": [
        "**We will start by setting up a reader for our file.** "
      ],
      "metadata": {
        "id": "BYsxvW-2cAAd"
      }
    },
    {
      "cell_type": "code",
      "source": [
        "from collections import defaultdict\n",
        "import re\n",
        "import HTSeq\n",
        "lct_bed = HTSeq.BED_Reader('LCT.bed')"
      ],
      "metadata": {
        "id": "AetUhCX9cEUP"
      },
      "execution_count": 43,
      "outputs": []
    },
    {
      "cell_type": "markdown",
      "source": [
        "We are now going to extract all the types of features via their name:"
      ],
      "metadata": {
        "id": "-JxLWBYQcOco"
      }
    },
    {
      "cell_type": "code",
      "source": [
        "feature_types = defaultdict(int)\n",
        "for rec in lct_bed:\n",
        "  last_rec = rec\n",
        "  feature_types[re.search('([A-Z]+)', rec.name).\n",
        "group(0)] += 1\n",
        "print(feature_types)"
      ],
      "metadata": {
        "colab": {
          "base_uri": "https://localhost:8080/"
        },
        "id": "HdUwC82NcHgt",
        "outputId": "c646d97b-dd50-41a0-8841-789279552337"
      },
      "execution_count": 44,
      "outputs": [
        {
          "output_type": "stream",
          "name": "stdout",
          "text": [
            "defaultdict(<class 'int'>, {'ENSE': 27, 'NM': 17, 'CCDS': 17})\n"
          ]
        }
      ]
    },
    {
      "cell_type": "markdown",
      "source": [
        "We stored the last record so that we can inspect it:"
      ],
      "metadata": {
        "id": "qlcWFYfucYQ7"
      }
    },
    {
      "cell_type": "code",
      "source": [
        "print(last_rec)\n",
        "print(last_rec.name)\n",
        "print(type(last_rec))\n",
        "interval = last_rec.iv\n",
        "print(interval)\n",
        "print(type(interval))"
      ],
      "metadata": {
        "colab": {
          "base_uri": "https://localhost:8080/"
        },
        "id": "KW0GdVXaca81",
        "outputId": "4ead02e7-2f69-404e-d23e-f795d46fd132"
      },
      "execution_count": 45,
      "outputs": [
        {
          "output_type": "stream",
          "name": "stdout",
          "text": [
            "<GenomicFeature: BED line 'CCDS2178.11' at 2: 135788543 -> 135788322 (strand '-')>\n",
            "CCDS2178.11\n",
            "<class 'HTSeq.features.GenomicFeature'>\n",
            "2:[135788323,135788544)/-\n",
            "<class 'HTSeq._HTSeq.GenomicInterval'>\n"
          ]
        }
      ]
    },
    {
      "cell_type": "markdown",
      "source": [
        "Let’s dig deeper into the interval:"
      ],
      "metadata": {
        "id": "QYqXe47WcfPi"
      }
    },
    {
      "cell_type": "code",
      "source": [
        "print(interval.chrom, interval.start, interval.end)\n",
        "print(interval.strand)\n",
        "print(interval.length)\n",
        "print(interval.start_d)\n",
        "print(interval.start_as_pos)\n",
        "print(type(interval.start_as_pos))"
      ],
      "metadata": {
        "colab": {
          "base_uri": "https://localhost:8080/"
        },
        "id": "AXmV03oHchR7",
        "outputId": "4cfb1336-a45a-46b9-a4c3-2e5405647562"
      },
      "execution_count": 46,
      "outputs": [
        {
          "output_type": "stream",
          "name": "stdout",
          "text": [
            "2 135788323 135788544\n",
            "-\n",
            "221\n",
            "135788543\n",
            "2:135788323/-\n",
            "<class 'HTSeq._HTSeq.GenomicPosition'>\n"
          ]
        }
      ]
    },
    {
      "cell_type": "markdown",
      "source": [
        "Note the genomic position (chromosome, start, and end). The most complex issue is how to deal with the strand. If the feature is coded in the negative strand, you have to be careful with processing. HTSeq offers the *start_d* and *end_d* fields to help you with this (that is, they will be reversed with regard to the start and end if the strand is negative)."
      ],
      "metadata": {
        "id": "A76w0BQ7cpp_"
      }
    },
    {
      "cell_type": "markdown",
      "source": [
        "Finally, let’s extract some statistics from our coding regions (CCDS records). We will use CCDS since it’s probably better than the curated database here:"
      ],
      "metadata": {
        "id": "GIBeJbMwcz1F"
      }
    },
    {
      "cell_type": "code",
      "source": [
        "exon_start = None\n",
        "exon_end = None\n",
        "sizes = []\n",
        "for rec in lct_bed:\n",
        "    if not rec.name.startswith('CCDS'):\n",
        "        continue\n",
        "    interval = rec.iv\n",
        "    exon_start = min(interval.start, exon_start or interval.start)\n",
        "    exon_end = max(interval.length, exon_end or interval.end)\n",
        "    sizes.append(interval.length)\n",
        "sizes.sort()\n",
        "print(\"Num exons: %d / Begin: %d / End %d\" % (len(sizes), exon_start, exon_end))\n",
        "print(\"Smaller exon: %d / Larger exon: %d / Mean size: %.1f\" % (sizes[0], sizes[-1], sum(sizes)/len(sizes)))"
      ],
      "metadata": {
        "colab": {
          "base_uri": "https://localhost:8080/"
        },
        "id": "rKiWz6DCc9mA",
        "outputId": "2c03c5cc-e950-4883-8288-59d2e1c22132"
      },
      "execution_count": 47,
      "outputs": [
        {
          "output_type": "stream",
          "name": "stdout",
          "text": [
            "Num exons: 17 / Begin: 135788323 / End 135837169\n",
            "Smaller exon: 79 / Larger exon: 1551 / Mean size: 340.2\n"
          ]
        }
      ]
    }
  ]
}
