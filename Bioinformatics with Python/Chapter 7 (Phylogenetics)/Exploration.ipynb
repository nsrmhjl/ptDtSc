{
  "nbformat": 4,
  "nbformat_minor": 0,
  "metadata": {
    "colab": {
      "provenance": []
    },
    "kernelspec": {
      "name": "python3",
      "display_name": "Python 3"
    },
    "language_info": {
      "name": "python"
    }
  },
  "cells": [
    {
      "cell_type": "markdown",
      "source": [
        "<h2>Preparing a dataset for phylogenetic analysis</h2>"
      ],
      "metadata": {
        "id": "CZn75AK4c67_"
      }
    },
    {
      "cell_type": "markdown",
      "source": [
        "In this recipe, we will download and prepare the dataset to be used for our analysis. The dataset contains\n",
        "complete genomes of the Ebola virus. We will use DendroPy to download and prepare the data"
      ],
      "metadata": {
        "id": "C7l2zy1fdB36"
      }
    },
    {
      "cell_type": "markdown",
      "source": [
        "We will download complete genomes from GenBank; these genomes were collected from various\n",
        "Ebola outbreaks, including several from the 2014 outbreak."
      ],
      "metadata": {
        "id": "nGk_iAXudNgV"
      }
    },
    {
      "cell_type": "markdown",
      "source": [
        "To do this analysis, we will need to install dendropy."
      ],
      "metadata": {
        "id": "sTRQza9UdWLS"
      }
    },
    {
      "cell_type": "code",
      "execution_count": 1,
      "metadata": {
        "colab": {
          "base_uri": "https://localhost:8080/"
        },
        "id": "wnHnzu4Acwqz",
        "outputId": "7aeb9583-8fb1-4880-a0c8-c51d2db794a1"
      },
      "outputs": [
        {
          "output_type": "stream",
          "name": "stdout",
          "text": [
            "Looking in indexes: https://pypi.org/simple, https://us-python.pkg.dev/colab-wheels/public/simple/\n",
            "Collecting dendropy\n",
            "  Downloading DendroPy-4.5.2.tar.gz (15.2 MB)\n",
            "\u001b[K     |████████████████████████████████| 15.2 MB 7.3 MB/s \n",
            "\u001b[?25hRequirement already satisfied: setuptools in /usr/local/lib/python3.7/dist-packages (from dendropy) (57.4.0)\n",
            "Building wheels for collected packages: dendropy\n",
            "  Building wheel for dendropy (setup.py) ... \u001b[?25l\u001b[?25hdone\n",
            "  Created wheel for dendropy: filename=DendroPy-4.5.2-py3-none-any.whl size=453171 sha256=f60f5f68a8b13febcafa3fc260a5334253fea92d1b9739fbf4b7b191d2067660\n",
            "  Stored in directory: /root/.cache/pip/wheels/9b/c9/0e/1955707a41b3995e9d64768cf8b9b41c74a75f2d6e8d16a61f\n",
            "Successfully built dendropy\n",
            "Installing collected packages: dendropy\n",
            "Successfully installed dendropy-4.5.2\n"
          ]
        }
      ],
      "source": [
        "pip install  dendropy"
      ]
    },
    {
      "cell_type": "markdown",
      "source": [
        "First, let’s start by specifying our data sources using DendroPy, as follows:"
      ],
      "metadata": {
        "id": "ZnJNVIjNdgp3"
      }
    },
    {
      "cell_type": "code",
      "source": [
        "import dendropy\n",
        "from dendropy.interop import genbank\n",
        "\n",
        "\n",
        "# Here, we have three functions: one to retrieve data from the most recent EBOV outbreak,\n",
        "# another to retrieve data from the previous EBOV outbreaks, and one to retrieve data from the\n",
        "# outbreaks of other species.\n",
        "\n",
        "# Note that the DendroPy GenBank interface provides several different ways to specify lists or\n",
        "# ranges of records to retrieve. Some lines are commented out. These include the code to download\n",
        "# more genomes. For our purpose, the subset that we will download is enough.\n",
        "\n",
        "def get_ebov_2014_sources():\n",
        "    #EBOV_2014\n",
        "    #yield 'EBOV_2014', genbank.GenBankDna(id_range=(233036, 233118), prefix='KM')\n",
        "    yield 'EBOV_2014', genbank.GenBankDna(id_range=(34549, 34563), prefix='KM0')\n",
        "    \n",
        "def get_other_ebov_sources():\n",
        "    #EBOV other\n",
        "    yield 'EBOV_1976', genbank.GenBankDna(ids=['AF272001', 'KC242801'])\n",
        "    yield 'EBOV_1995', genbank.GenBankDna(ids=['KC242796', 'KC242799'])\n",
        "    yield 'EBOV_2007', genbank.GenBankDna(id_range=(84, 90), prefix='KC2427')\n",
        "    \n",
        "def get_other_ebolavirus_sources():\n",
        "    #BDBV\n",
        "    yield 'BDBV', genbank.GenBankDna(id_range=(3, 6), prefix='KC54539')\n",
        "    yield 'BDBV', genbank.GenBankDna(ids=['FJ217161'])\n",
        "\n",
        "    #RESTV\n",
        "    yield 'RESTV', genbank.GenBankDna(ids=['AB050936', 'JX477165', 'JX477166', 'FJ621583', 'FJ621584', 'FJ621585']) \n",
        "\n",
        "    #SUDV\n",
        "    yield 'SUDV', genbank.GenBankDna(ids=['KC242783', 'AY729654', 'EU338380',\n",
        "                                          'JN638998', 'FJ968794', 'KC589025', 'JN638998'])\n",
        "    #yield 'SUDV', genbank.GenBankDna(id_range=(89, 92), prefix='KC5453')    \n",
        "\n",
        "    #TAFV\n",
        "    yield 'TAFV', genbank.GenBankDna(ids=['FJ217162'])"
      ],
      "metadata": {
        "id": "BrgXH3g6dgIx"
      },
      "execution_count": 3,
      "outputs": []
    },
    {
      "cell_type": "markdown",
      "source": [
        "Now, we will create a set of FASTA files; we will use these files here and in future recipes:"
      ],
      "metadata": {
        "id": "RlImHN-3eBrY"
      }
    },
    {
      "cell_type": "markdown",
      "source": [
        "We will generate several different FASTA files, which include either all genomes, just EBOV, or\n",
        "just EBOV samples from the 2014 outbreak.</br> In this chapter, we will mostly use the sample.\n",
        "fasta file with all genomes."
      ],
      "metadata": {
        "id": "XCq6VvUHePJy"
      }
    },
    {
      "cell_type": "markdown",
      "source": [
        "Note the use of the dendropy functions to create FASTA files that are retrieved from GenBank\n",
        "records through conversion. The ID of each sequence in the FASTA file is produced by a lambda\n",
        "function that uses the species and the year, alongside the GenBank accession number."
      ],
      "metadata": {
        "id": "FUdX0_O8eX8L"
      }
    },
    {
      "cell_type": "code",
      "source": [
        "other = open('other.fasta', 'w')\n",
        "sampled = open('sample.fasta', 'w')\n",
        "\n",
        "for species, recs in get_other_ebolavirus_sources():\n",
        "    tn = dendropy.TaxonNamespace()\n",
        "    char_mat = recs.generate_char_matrix(taxon_namespace=tn,\n",
        "        gb_to_taxon_fn=lambda gb: tn.require_taxon(label='%s_%s' % (species, gb.accession)))\n",
        "    char_mat.write_to_stream(other, 'fasta')\n",
        "    char_mat.write_to_stream(sampled, 'fasta')\n",
        "other.close()\n",
        "ebov_2014 = open('ebov_2014.fasta', 'w')\n",
        "ebov = open('ebov.fasta', 'w')\n",
        "for species, recs in get_ebov_2014_sources():\n",
        "    tn = dendropy.TaxonNamespace()\n",
        "    char_mat = recs.generate_char_matrix(taxon_namespace=tn,\n",
        "        gb_to_taxon_fn=lambda gb: tn.require_taxon(label='EBOV_2014_%s' % gb.accession))\n",
        "    char_mat.write_to_stream(ebov_2014, 'fasta')\n",
        "    char_mat.write_to_stream(sampled, 'fasta')\n",
        "    char_mat.write_to_stream(ebov, 'fasta')\n",
        "ebov_2014.close()\n",
        "\n",
        "ebov_2007 = open('ebov_2007.fasta', 'w')\n",
        "for species, recs in get_other_ebov_sources():\n",
        "    tn = dendropy.TaxonNamespace()\n",
        "    char_mat = recs.generate_char_matrix(taxon_namespace=tn,\n",
        "        gb_to_taxon_fn=lambda gb: tn.require_taxon(label='%s_%s' % (species, gb.accession)))\n",
        "    char_mat.write_to_stream(ebov, 'fasta')\n",
        "    char_mat.write_to_stream(sampled, 'fasta')\n",
        "    if species == 'EBOV_2007':\n",
        "        char_mat.write_to_stream(ebov_2007, 'fasta')\n",
        "\n",
        "ebov.close()\n",
        "ebov_2007.close()\n",
        "sampled.close()"
      ],
      "metadata": {
        "id": "xmbvv7lqeCj_"
      },
      "execution_count": 4,
      "outputs": []
    },
    {
      "cell_type": "markdown",
      "source": [
        "Let’s extract four (of the total seven) genes in the virus, as follows:"
      ],
      "metadata": {
        "id": "kI4nIcAgeeqS"
      }
    },
    {
      "cell_type": "markdown",
      "source": [
        "We start by searching the first GenBank record for all gene features and write to the FASTA files in order to extract the genes. We put\n",
        "each gene into a different file and only take two virus species. We also get translated proteins,\n",
        "which are available in the records for each gene."
      ],
      "metadata": {
        "id": "vc2SP3XJevRt"
      }
    },
    {
      "cell_type": "code",
      "source": [
        "my_genes = ['NP', 'L', 'VP35', 'VP40']\n",
        "\n",
        "def dump_genes(species, recs, g_dls, p_hdls):\n",
        "    for rec in recs:\n",
        "\n",
        "        for feature in rec.feature_table:\n",
        "                    if feature.key == 'CDS':\n",
        "                        gene_name = None\n",
        "                        for qual in feature.qualifiers:\n",
        "                            if qual.name == 'gene':\n",
        "                                if qual.value in my_genes:\n",
        "                                    gene_name = qual.value\n",
        "                            elif qual.name == 'translation':\n",
        "                                protein_translation = qual.value\n",
        "                        if gene_name is not None:\n",
        "                            locs = feature.location.split('.')\n",
        "                            start, end = int(locs[0]), int(locs[-1])\n",
        "                            g_hdls[gene_name].write('>%s_%s\\n' % (species, rec.accession))\n",
        "                            p_hdls[gene_name].write('>%s_%s\\n' % (species, rec.accession))\n",
        "                            g_hdls[gene_name].write('%s\\n' % rec.sequence_text[start - 1 : end])\n",
        "                            p_hdls[gene_name].write('%s\\n' % protein_translation)\n",
        "\n",
        "g_hdls = {}\n",
        "p_hdls = {}\n",
        "for gene in my_genes:\n",
        "    g_hdls[gene] = open('%s.fasta' % gene, 'w')\n",
        "    p_hdls[gene] = open('%s_P.fasta' % gene, 'w')\n",
        "for species, recs in get_other_ebolavirus_sources():\n",
        "    if species in ['RESTV', 'SUDV']:\n",
        "        dump_genes(species, recs, g_hdls, p_hdls)\n",
        "for gene in my_genes:\n",
        "    g_hdls[gene].close()\n",
        "    p_hdls[gene].close()\n"
      ],
      "metadata": {
        "id": "vF2kO5DQejt7"
      },
      "execution_count": 5,
      "outputs": []
    },
    {
      "cell_type": "markdown",
      "source": [
        "Let’s create a function to get the basic statistical information from the alignment, as follows:"
      ],
      "metadata": {
        "id": "3KbLVeYbe8u0"
      }
    },
    {
      "cell_type": "code",
      "source": [
        "def describe_seqs(seqs):\n",
        "    print('Number of sequences: %d' % len(seqs.taxon_namespace))\n",
        "    print('First 10 taxon sets: %s' % ' '.join([taxon.label for taxon in seqs.taxon_namespace[:10]]))\n",
        "    lens = []\n",
        "    for tax, seq in seqs.items():\n",
        "        lens.append(len([x for x in seq.symbols_as_list() if x != '-']))\n",
        "    print('Genome length: min %d, mean %.1f, max %d' % (min(lens), sum(lens) / len(lens), max(lens)))"
      ],
      "metadata": {
        "id": "L0wynYD4e9f1"
      },
      "execution_count": 6,
      "outputs": []
    },
    {
      "cell_type": "markdown",
      "source": [
        "Our function takes a DnaCharacterMatrix DendroPy class and counts the number of\n",
        "taxons. Then, we extract all the amino acids per sequence (we exclude gaps identified by -) to\n",
        "compute the length and report the minimum, mean, and maximum sizes."
      ],
      "metadata": {
        "id": "uCNgt90efK8N"
      }
    },
    {
      "cell_type": "markdown",
      "source": [
        "Let’s inspect the sequence of the EBOV genome and compute the basic statistics, as shown earlier:"
      ],
      "metadata": {
        "id": "36qAN1pbfTGy"
      }
    },
    {
      "cell_type": "markdown",
      "source": [
        "We then call a function and get 25 sequences with a minimum size of 18,700, a mean size of 18,925.2, and a maximum size of 18,959. This is a small genome when compared to eukaryotes.</br>\n",
        "Note that at the very end, the memory structure has been deleted. This is because the memory\n",
        "footprint is still quite big (DendroPy is a pure Python library and has some costs in terms of\n",
        "speed and memory). "
      ],
      "metadata": {
        "id": "ujoBQi7Kfd4c"
      }
    },
    {
      "cell_type": "code",
      "source": [
        "ebov_seqs = dendropy.DnaCharacterMatrix.get_from_path('ebov.fasta', schema='fasta', data_type='dna')\n",
        "print('EBOV')\n",
        "describe_seqs(ebov_seqs)\n",
        "del ebov_seqs"
      ],
      "metadata": {
        "colab": {
          "base_uri": "https://localhost:8080/"
        },
        "id": "XRSi5SE8fSGb",
        "outputId": "2f6b9f1c-d2aa-4264-edd1-9fcac0be01e8"
      },
      "execution_count": 7,
      "outputs": [
        {
          "output_type": "stream",
          "name": "stdout",
          "text": [
            "EBOV\n",
            "Number of sequences: 26\n",
            "First 10 taxon sets: EBOV_2014_KM034549 EBOV_2014_KM034550 EBOV_2014_KM034551 EBOV_2014_KM034552 EBOV_2014_KM034553 EBOV_2014_KM034554 EBOV_2014_KM034555 EBOV_2014_KM034556 EBOV_2014_KM034557 EBOV_2014_KM034558\n",
            "Genome length: min 18700, mean 18925.2, max 18959\n"
          ]
        }
      ]
    },
    {
      "cell_type": "markdown",
      "source": [
        "Now, let’s inspect the other Ebola virus genome file and count the number of different species:"
      ],
      "metadata": {
        "id": "_Q2_EjQUfrHo"
      }
    },
    {
      "cell_type": "code",
      "source": [
        "print('ebolavirus sequences')\n",
        "ebolav_seqs = dendropy.DnaCharacterMatrix.get_from_path('other.fasta', schema='fasta', data_type='dna')\n",
        "describe_seqs(ebolav_seqs)\n",
        "from collections import defaultdict\n",
        "species = defaultdict(int)\n",
        "for taxon in ebolav_seqs.taxon_namespace:\n",
        "    toks = taxon.label.split('_')\n",
        "    my_species = toks[0]\n",
        "    if my_species == 'EBOV':\n",
        "        ident = '%s (%s)' % (my_species, toks[1])\n",
        "    else:\n",
        "        ident = my_species\n",
        "    species[ident] += 1\n",
        "for my_species, cnt in species.items():\n",
        "    print(\"%20s: %d\" % (my_species, cnt))\n",
        "del ebolav_seqs"
      ],
      "metadata": {
        "colab": {
          "base_uri": "https://localhost:8080/"
        },
        "id": "z-iwh5nKfu9W",
        "outputId": "ce6f832e-74b2-42c0-e011-72fdd49e7586"
      },
      "execution_count": 8,
      "outputs": [
        {
          "output_type": "stream",
          "name": "stdout",
          "text": [
            "ebolavirus sequences\n",
            "Number of sequences: 18\n",
            "First 10 taxon sets: BDBV_KC545393 BDBV_KC545394 BDBV_KC545395 BDBV_KC545396 BDBV_FJ217161 RESTV_AB050936 RESTV_JX477165 RESTV_JX477166 RESTV_FJ621583 RESTV_FJ621584\n",
            "Genome length: min 18796, mean 18892.7, max 18940\n",
            "                BDBV: 5\n",
            "               RESTV: 6\n",
            "                SUDV: 6\n",
            "                TAFV: 1\n"
          ]
        }
      ]
    },
    {
      "cell_type": "markdown",
      "source": [
        "The name prefix of each taxon is indicative of the species, and we leverage that to fill a dictionary\n",
        "of counts.</br>\n",
        "The output for the species and the EBOV breakdown is detailed next (with the legend as\n",
        "Bundibugyo virus=BDBV, Tai Forest virus=TAFV, Sudan virus=SUDV, and Reston virus=RESTV;\n",
        "we have 1 TAFV, 6 SUDV, 6 RESTV, and 5 BDBV)."
      ],
      "metadata": {
        "id": "R2yVz4Whf0rG"
      }
    },
    {
      "cell_type": "markdown",
      "source": [
        "Let’s extract the basic statistics of a gene in the virus:"
      ],
      "metadata": {
        "id": "KrY730A9f84T"
      }
    },
    {
      "cell_type": "code",
      "source": [
        "import os\n",
        "gene_length = {}\n",
        "my_genes = ['NP', 'L', 'VP35', 'VP40']\n",
        "\n",
        "for name in my_genes:\n",
        "    gene_name = name.split('.')[0]\n",
        "    seqs = dendropy.DnaCharacterMatrix.get_from_path('%s.fasta' % name, schema='fasta', data_type='dna')\n",
        "    gene_length[gene_name] = []\n",
        "    for tax, seq in seqs.items():\n",
        "        gene_length[gene_name].append(len([x for x in seq.symbols_as_list() if x != '-']))\n",
        "for gene, lens in gene_length.items():\n",
        "    print ('%6s: %d' % (gene, sum(lens) / len(lens)))"
      ],
      "metadata": {
        "colab": {
          "base_uri": "https://localhost:8080/"
        },
        "id": "HghDyAN_f9hZ",
        "outputId": "4a4126d8-62a3-42a5-a59f-384983085d22"
      },
      "execution_count": 9,
      "outputs": [
        {
          "output_type": "stream",
          "name": "stdout",
          "text": [
            "    NP: 2218\n",
            "     L: 6636\n",
            "  VP35: 990\n",
            "  VP40: 988\n"
          ]
        }
      ]
    }
  ]
}