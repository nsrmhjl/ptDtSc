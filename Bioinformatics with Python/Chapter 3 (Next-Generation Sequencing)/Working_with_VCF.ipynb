{
  "cells": [
    {
      "cell_type": "markdown",
      "metadata": {
        "id": "pnyUCI1S4fGU"
      },
      "source": [
        "NGS files are all about big data. Fortunately, the bioinformatics community has developed tools to allow for the partial download of data. As part of the SAMtools/htslib package (http://www.htslib.org/),\n",
        "you can download tabix and bgzip, which will take care of data management. On the command line, perform the following operation:\n",
        "</br>\n",
        "command:\n",
        "</br>\n",
        "`apt-get install tabix`"
      ]
    },
    {
      "cell_type": "code",
      "execution_count": null,
      "metadata": {},
      "outputs": [],
      "source": [
        "!apt-get install tabix"
      ]
    },
    {
      "cell_type": "markdown",
      "metadata": {
        "id": "IrBoYxUy5dF-"
      },
      "source": [
        "The bellow line will partially download the VCF file for chromosome 22 (up to 17 Mbp) of the 1,000 Genomes Project. Then, bgzip will compress it."
      ]
    },
    {
      "cell_type": "code",
      "execution_count": 9,
      "metadata": {
        "id": "6t7gbA0w2rwL"
      },
      "outputs": [],
      "source": [
        "!tabix -fh https://ftp.ncbi.nlm.nih.gov/1000genomes/ftp/release/20130502/supporting/vcf_with_sample_level_annotation/ALL.chr22.phase3_shapeit2_mvncall_integrated_v5_extra_anno.20130502.genotypes.vcf.gz 22:1-17000000|bgzip -c > genotypes.vcf.gz"
      ]
    },
    {
      "cell_type": "markdown",
      "metadata": {
        "id": "2zNwT61B5k-P"
      },
      "source": [
        "Then, We should create an index, which we will need for direct access to a section of the genome."
      ]
    },
    {
      "cell_type": "code",
      "execution_count": 10,
      "metadata": {
        "id": "LQzb8YJQ3iF8"
      },
      "outputs": [],
      "source": [
        "!tabix -p vcf genotypes.vcf.gz"
      ]
    },
    {
      "cell_type": "markdown",
      "metadata": {
        "id": "mVLUB5Nv6RjI"
      },
      "source": [
        "**Let’s start by inspecting the information that we can get per record:**"
      ]
    },
    {
      "cell_type": "markdown",
      "metadata": {
        "id": "hvdEta9t7-7I"
      },
      "source": [
        "We start by inspecting the annotations that are available for each record (remember that each record encodes a variant, such as SNP, CNV, INDELs, and so on, and the state of that variant per sample). \n",
        "</br>\n",
        "At the variant (record) level, we find AC—the total number of ALT alleles in called genotypes, AF—the estimated allele frequency, NS—the number of samples with data, AN—the total number of alleles in called genotypes, and DP—the total read depth. \n",
        "</br>\n",
        "There are others,\n",
        "but they are mostly specific to the 1,000 Genomes Project (here, we will try to be as general as\n",
        "possible). Your own dataset may have more annotations (or none of these).\n",
        "At the sample level, there are only two annotations in this file: GT—genotype, and DP—the\n",
        "per-sample read depth. You have the per-variant (total) read depth and the per-sample read\n",
        "depth; be sure not to confuse both."
      ]
    },
    {
      "cell_type": "code",
      "execution_count": null,
      "metadata": {},
      "outputs": [],
      "source": [
        "pip install cyvcf2"
      ]
    },
    {
      "cell_type": "code",
      "execution_count": 18,
      "metadata": {
        "colab": {
          "base_uri": "https://localhost:8080/"
        },
        "id": "7Q5i5gm85-Dt",
        "outputId": "788e6862-8fdb-48ac-890c-440c21e15588"
      },
      "outputs": [
        {
          "name": "stdout",
          "output_type": "stream",
          "text": [
            "Variant Level information\n",
            "('AC', 1)\n",
            "('AF', 0.000199681002413854)\n",
            "('AN', 5008)\n",
            "('NS', 2504)\n",
            "('DP', 8012)\n",
            "('ASN_AF', 0.0)\n",
            "('AMR_AF', 0.0)\n",
            "('SAS_AF', '0.0010')\n",
            "('EUR_AF', 0.0)\n",
            "('EAS_AF', '')\n",
            "('AFR_AF', 0.0)\n",
            "('SAN_AF', 0.0)\n",
            "Sample Level information\n",
            "GT\n",
            "DP\n"
          ]
        }
      ],
      "source": [
        "# required package\n",
        "from cyvcf2 import VCF\n",
        "\n",
        "from cyvcf2 import VCF\n",
        "v = VCF('genotypes.vcf.gz')\n",
        "rec = next(v)\n",
        "print('Variant Level information')\n",
        "info = rec.INFO\n",
        "for info in rec.INFO:\n",
        "  print(info)\n",
        "print('Sample Level information')\n",
        "for fmt in rec.FORMAT:\n",
        "  print(fmt)"
      ]
    },
    {
      "cell_type": "markdown",
      "metadata": {
        "id": "hM46pI8m7hXg"
      },
      "source": [
        "**Now that we know what information is available, let’s inspect a single VCF record:**"
      ]
    },
    {
      "cell_type": "markdown",
      "metadata": {
        "id": "OxOxi21576ah"
      },
      "source": [
        "We will start by retrieving the standard information: the chromosome, position, ID, reference base\n",
        "(typically just one) and alternative bases (you can have more than one, but it’s not uncommon\n",
        "as a first filtering approach to only accept a single ALT, for example, only accept biallelic\n",
        "SNPs), quality (as you might expect, Phred-scaled), and filter status. Regarding the filter status,\n",
        "remember that whatever the VCF file says, you may still want to apply extra filters (as in the\n",
        "next recipe, Studying genome accessibility and filtering SNP data).\n",
        "We then print the additional variant-level information (AC, AS, AF, AN, DP, and so on),\n",
        "followed by the sample format (in this case, DP and GT). Finally, we count the number of\n",
        "samples and inspect a single sample to check whether it was called for this variant. Also, the\n",
        "reported alleles, heterozygosity, and phasing status (this dataset happens to be phased, which\n",
        "is not that common) are included."
      ]
    },
    {
      "cell_type": "code",
      "execution_count": 19,
      "metadata": {
        "colab": {
          "base_uri": "https://localhost:8080/"
        },
        "id": "aS1xqzny7k4S",
        "outputId": "46cf645a-91db-47ee-952d-36c7760e07c8"
      },
      "outputs": [
        {
          "name": "stdout",
          "output_type": "stream",
          "text": [
            "2504\n",
            "22 16050075 None A ['G'] 100.0 None\n",
            "<cyvcf2.cyvcf2.INFO object at 0x7f8f0bb43ed0>\n",
            "['GT', 'DP']\n",
            "True\n",
            "A|A [0, 0] True\n",
            "1\n"
          ]
        }
      ],
      "source": [
        "v = VCF('genotypes.vcf.gz')\n",
        "samples = v.samples\n",
        "print(len(samples))\n",
        "variant = next(v)\n",
        "print(variant.CHROM, variant.POS, variant.ID, variant.\n",
        "REF, variant.ALT, variant.QUAL, variant.FILTER)\n",
        "print(variant.INFO)\n",
        "print(variant.FORMAT)\n",
        "print(variant.is_snp)\n",
        "str_alleles = variant.gt_bases[0]\n",
        "alleles = variant.genotypes[0][0:2]\n",
        "is_phased = variant.genotypes[0][2]\n",
        "print(str_alleles, alleles, is_phased)\n",
        "print(variant.format('DP')[0])"
      ]
    },
    {
      "cell_type": "markdown",
      "metadata": {
        "id": "eS5_QUyo7zOI"
      },
      "source": [
        "**Let’s check the type of variant and the number of nonbiallelic SNPs in a single pass:**"
      ]
    },
    {
      "cell_type": "markdown",
      "metadata": {
        "id": "OdND2Y-d8JKV"
      },
      "source": [
        "We will now use the now-common Python default dictionary. We find that this dataset has\n",
        "INDELs, CNVs, and—of course—SNPs (roughly two-thirds being transitions with one-third\n",
        "transversions). There is a residual number (79) of triallelic SNPs."
      ]
    },
    {
      "cell_type": "code",
      "execution_count": 20,
      "metadata": {
        "colab": {
          "base_uri": "https://localhost:8080/"
        },
        "id": "cZsOLSSI8U0o",
        "outputId": "1f63cd28-f33d-4b8d-b330-32b73c9bcc44"
      },
      "outputs": [
        {
          "name": "stdout",
          "output_type": "stream",
          "text": [
            "defaultdict(<class 'int'>, {('snp', 'ts'): 10054, ('snp', 'tv'): 5917, ('sv', 'CNV'): 2, ('indel', 'del'): 273, ('snp', 'unknown'): 79, ('indel', 'ins'): 127, ('indel', 'unknown'): 13, ('sv', 'DEL'): 6, ('sv', 'SVA'): 1})\n"
          ]
        }
      ],
      "source": [
        "from collections import defaultdict\n",
        "f = VCF('genotypes.vcf.gz')\n",
        "my_type = defaultdict(int)\n",
        "num_alts = defaultdict(int)\n",
        "for variant in f:\n",
        "  my_type[variant.var_type, variant.var_subtype] += 1\n",
        "  if variant.var_type == 'snp':\n",
        "    num_alts[len(variant.ALT)] += 1\n",
        "print(my_type)"
      ]
    }
  ],
  "metadata": {
    "colab": {
      "provenance": []
    },
    "kernelspec": {
      "display_name": "Python 3",
      "name": "python3"
    },
    "language_info": {
      "name": "python"
    }
  },
  "nbformat": 4,
  "nbformat_minor": 0
}
